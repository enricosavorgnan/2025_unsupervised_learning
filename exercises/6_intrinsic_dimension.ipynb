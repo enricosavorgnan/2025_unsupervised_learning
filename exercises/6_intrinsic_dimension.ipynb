{
 "cells": [
  {
   "metadata": {},
   "cell_type": "markdown",
   "source": "# Intrinsic Dimension and Density Estimation",
   "id": "f4437b5e267b9ca5"
  },
  {
   "metadata": {},
   "cell_type": "markdown",
   "source": [
    "You can use external libraries for linear algebra operations but you are expected to write your\n",
    "own algorithms."
   ],
   "id": "eae3acd1dcb6ca29"
  },
  {
   "metadata": {
    "ExecuteTime": {
     "end_time": "2025-10-31T14:36:02.500908Z",
     "start_time": "2025-10-31T14:36:00.400857Z"
    }
   },
   "cell_type": "code",
   "source": [
    "import pandas as pd\n",
    "import numpy as np\n",
    "import plotly.express as px\n",
    "\n",
    "from sklearn.preprocessing import OrdinalEncoder\n",
    "\n",
    "from algorithms import my_two_nn, my_pca, my_histogram_density_estimation, my_kernel_density_estimation"
   ],
   "id": "eca43c99f7996ec9",
   "outputs": [],
   "execution_count": 1
  },
  {
   "metadata": {},
   "cell_type": "markdown",
   "source": [
    "## Exercise 1\n",
    "Using the `dry_beans_dataset` as we did in previous laboratories (ie. follow the same preprocessing steps but do not perform a train-test split), program your own implementation of the two-NN estimate for the Intrinsic Dimension.\n",
    "\n",
    "Is the result compatible with what you would expect from an analysis of PCA’s spectrum?"
   ],
   "id": "aa435f44adbff374"
  },
  {
   "metadata": {
    "ExecuteTime": {
     "end_time": "2025-10-31T14:35:17.608555Z",
     "start_time": "2025-10-31T14:35:15.381849Z"
    }
   },
   "cell_type": "code",
   "source": [
    "df = pd.read_excel(\"../Datasets/Dry_Bean_Dataset.xlsx\")\n",
    "\n",
    "y = df['Class']\n",
    "X = df.drop('Class', axis=1)"
   ],
   "id": "8c89334620068b57",
   "outputs": [],
   "execution_count": 13
  },
  {
   "metadata": {
    "ExecuteTime": {
     "end_time": "2025-10-31T14:35:17.625617Z",
     "start_time": "2025-10-31T14:35:17.617113Z"
    }
   },
   "cell_type": "code",
   "source": [
    "y = np.array(y)\n",
    "\n",
    "encoder = OrdinalEncoder()\n",
    "encoder.fit(y.reshape(-1, 1))\n",
    "\n",
    "y = encoder.transform(y.reshape(-1, 1))"
   ],
   "id": "843e58f39d2cfa90",
   "outputs": [],
   "execution_count": 14
  },
  {
   "metadata": {
    "ExecuteTime": {
     "end_time": "2025-10-31T14:35:17.819342Z",
     "start_time": "2025-10-31T14:35:17.633180Z"
    }
   },
   "cell_type": "code",
   "source": [
    "d = my_two_nn(X)\n",
    "print(d)"
   ],
   "id": "5f8ec888c792da63",
   "outputs": [
    {
     "name": "stdout",
     "output_type": "stream",
     "text": [
      "(13611, 3)\n",
      "[    0 10926 10918]\n",
      "1.9102908936513991\n"
     ]
    }
   ],
   "execution_count": 15
  },
  {
   "metadata": {
    "ExecuteTime": {
     "end_time": "2025-10-31T14:35:35.349604Z",
     "start_time": "2025-10-31T14:35:17.826353Z"
    }
   },
   "cell_type": "code",
   "source": "x_pca, dim, selected_eigenvecs = my_pca(X)",
   "id": "a8fbed4a4630cdd6",
   "outputs": [
    {
     "data": {
      "application/vnd.plotly.v1+json": {
       "data": [
        {
         "hovertemplate": "Index=%{x}<br>Eigenvalue=%{y}<extra></extra>",
         "legendgroup": "",
         "marker": {
          "color": "#636efa",
          "symbol": "circle"
         },
         "mode": "markers",
         "name": "",
         "orientation": "v",
         "showlegend": false,
         "x": {
          "dtype": "i1",
          "bdata": "AQIDBAUGBwgJCgsMDQ4PEA=="
         },
         "xaxis": "x",
         "y": {
          "dtype": "f8",
          "bdata": "9FsL1+VHNUBhNs5lHsYlQF4aKBWPPCBAqD+t1w35F0DQH/axhR0OQJmO15O/L96/GLfWG67HGMAKb1O75pAawMqWeokw9CDATc1P4K+VI8DJMjNci48mwBHxFSdVJyrAJ/LVjpSzLcBCALQeAFgywOS3rT8rpjLACWFhNfYSNsA="
         },
         "yaxis": "y",
         "type": "scatter"
        }
       ],
       "layout": {
        "template": {
         "data": {
          "histogram2dcontour": [
           {
            "type": "histogram2dcontour",
            "colorbar": {
             "outlinewidth": 0,
             "ticks": ""
            },
            "colorscale": [
             [
              0.0,
              "#0d0887"
             ],
             [
              0.1111111111111111,
              "#46039f"
             ],
             [
              0.2222222222222222,
              "#7201a8"
             ],
             [
              0.3333333333333333,
              "#9c179e"
             ],
             [
              0.4444444444444444,
              "#bd3786"
             ],
             [
              0.5555555555555556,
              "#d8576b"
             ],
             [
              0.6666666666666666,
              "#ed7953"
             ],
             [
              0.7777777777777778,
              "#fb9f3a"
             ],
             [
              0.8888888888888888,
              "#fdca26"
             ],
             [
              1.0,
              "#f0f921"
             ]
            ]
           }
          ],
          "choropleth": [
           {
            "type": "choropleth",
            "colorbar": {
             "outlinewidth": 0,
             "ticks": ""
            }
           }
          ],
          "histogram2d": [
           {
            "type": "histogram2d",
            "colorbar": {
             "outlinewidth": 0,
             "ticks": ""
            },
            "colorscale": [
             [
              0.0,
              "#0d0887"
             ],
             [
              0.1111111111111111,
              "#46039f"
             ],
             [
              0.2222222222222222,
              "#7201a8"
             ],
             [
              0.3333333333333333,
              "#9c179e"
             ],
             [
              0.4444444444444444,
              "#bd3786"
             ],
             [
              0.5555555555555556,
              "#d8576b"
             ],
             [
              0.6666666666666666,
              "#ed7953"
             ],
             [
              0.7777777777777778,
              "#fb9f3a"
             ],
             [
              0.8888888888888888,
              "#fdca26"
             ],
             [
              1.0,
              "#f0f921"
             ]
            ]
           }
          ],
          "heatmap": [
           {
            "type": "heatmap",
            "colorbar": {
             "outlinewidth": 0,
             "ticks": ""
            },
            "colorscale": [
             [
              0.0,
              "#0d0887"
             ],
             [
              0.1111111111111111,
              "#46039f"
             ],
             [
              0.2222222222222222,
              "#7201a8"
             ],
             [
              0.3333333333333333,
              "#9c179e"
             ],
             [
              0.4444444444444444,
              "#bd3786"
             ],
             [
              0.5555555555555556,
              "#d8576b"
             ],
             [
              0.6666666666666666,
              "#ed7953"
             ],
             [
              0.7777777777777778,
              "#fb9f3a"
             ],
             [
              0.8888888888888888,
              "#fdca26"
             ],
             [
              1.0,
              "#f0f921"
             ]
            ]
           }
          ],
          "contourcarpet": [
           {
            "type": "contourcarpet",
            "colorbar": {
             "outlinewidth": 0,
             "ticks": ""
            }
           }
          ],
          "contour": [
           {
            "type": "contour",
            "colorbar": {
             "outlinewidth": 0,
             "ticks": ""
            },
            "colorscale": [
             [
              0.0,
              "#0d0887"
             ],
             [
              0.1111111111111111,
              "#46039f"
             ],
             [
              0.2222222222222222,
              "#7201a8"
             ],
             [
              0.3333333333333333,
              "#9c179e"
             ],
             [
              0.4444444444444444,
              "#bd3786"
             ],
             [
              0.5555555555555556,
              "#d8576b"
             ],
             [
              0.6666666666666666,
              "#ed7953"
             ],
             [
              0.7777777777777778,
              "#fb9f3a"
             ],
             [
              0.8888888888888888,
              "#fdca26"
             ],
             [
              1.0,
              "#f0f921"
             ]
            ]
           }
          ],
          "surface": [
           {
            "type": "surface",
            "colorbar": {
             "outlinewidth": 0,
             "ticks": ""
            },
            "colorscale": [
             [
              0.0,
              "#0d0887"
             ],
             [
              0.1111111111111111,
              "#46039f"
             ],
             [
              0.2222222222222222,
              "#7201a8"
             ],
             [
              0.3333333333333333,
              "#9c179e"
             ],
             [
              0.4444444444444444,
              "#bd3786"
             ],
             [
              0.5555555555555556,
              "#d8576b"
             ],
             [
              0.6666666666666666,
              "#ed7953"
             ],
             [
              0.7777777777777778,
              "#fb9f3a"
             ],
             [
              0.8888888888888888,
              "#fdca26"
             ],
             [
              1.0,
              "#f0f921"
             ]
            ]
           }
          ],
          "mesh3d": [
           {
            "type": "mesh3d",
            "colorbar": {
             "outlinewidth": 0,
             "ticks": ""
            }
           }
          ],
          "scatter": [
           {
            "marker": {
             "line": {
              "color": "#283442"
             }
            },
            "type": "scatter"
           }
          ],
          "parcoords": [
           {
            "type": "parcoords",
            "line": {
             "colorbar": {
              "outlinewidth": 0,
              "ticks": ""
             }
            }
           }
          ],
          "scatterpolargl": [
           {
            "type": "scatterpolargl",
            "marker": {
             "colorbar": {
              "outlinewidth": 0,
              "ticks": ""
             }
            }
           }
          ],
          "bar": [
           {
            "error_x": {
             "color": "#f2f5fa"
            },
            "error_y": {
             "color": "#f2f5fa"
            },
            "marker": {
             "line": {
              "color": "rgb(17,17,17)",
              "width": 0.5
             },
             "pattern": {
              "fillmode": "overlay",
              "size": 10,
              "solidity": 0.2
             }
            },
            "type": "bar"
           }
          ],
          "scattergeo": [
           {
            "type": "scattergeo",
            "marker": {
             "colorbar": {
              "outlinewidth": 0,
              "ticks": ""
             }
            }
           }
          ],
          "scatterpolar": [
           {
            "type": "scatterpolar",
            "marker": {
             "colorbar": {
              "outlinewidth": 0,
              "ticks": ""
             }
            }
           }
          ],
          "histogram": [
           {
            "marker": {
             "pattern": {
              "fillmode": "overlay",
              "size": 10,
              "solidity": 0.2
             }
            },
            "type": "histogram"
           }
          ],
          "scattergl": [
           {
            "marker": {
             "line": {
              "color": "#283442"
             }
            },
            "type": "scattergl"
           }
          ],
          "scatter3d": [
           {
            "type": "scatter3d",
            "line": {
             "colorbar": {
              "outlinewidth": 0,
              "ticks": ""
             }
            },
            "marker": {
             "colorbar": {
              "outlinewidth": 0,
              "ticks": ""
             }
            }
           }
          ],
          "scattermap": [
           {
            "type": "scattermap",
            "marker": {
             "colorbar": {
              "outlinewidth": 0,
              "ticks": ""
             }
            }
           }
          ],
          "scattermapbox": [
           {
            "type": "scattermapbox",
            "marker": {
             "colorbar": {
              "outlinewidth": 0,
              "ticks": ""
             }
            }
           }
          ],
          "scatterternary": [
           {
            "type": "scatterternary",
            "marker": {
             "colorbar": {
              "outlinewidth": 0,
              "ticks": ""
             }
            }
           }
          ],
          "scattercarpet": [
           {
            "type": "scattercarpet",
            "marker": {
             "colorbar": {
              "outlinewidth": 0,
              "ticks": ""
             }
            }
           }
          ],
          "carpet": [
           {
            "aaxis": {
             "endlinecolor": "#A2B1C6",
             "gridcolor": "#506784",
             "linecolor": "#506784",
             "minorgridcolor": "#506784",
             "startlinecolor": "#A2B1C6"
            },
            "baxis": {
             "endlinecolor": "#A2B1C6",
             "gridcolor": "#506784",
             "linecolor": "#506784",
             "minorgridcolor": "#506784",
             "startlinecolor": "#A2B1C6"
            },
            "type": "carpet"
           }
          ],
          "table": [
           {
            "cells": {
             "fill": {
              "color": "#506784"
             },
             "line": {
              "color": "rgb(17,17,17)"
             }
            },
            "header": {
             "fill": {
              "color": "#2a3f5f"
             },
             "line": {
              "color": "rgb(17,17,17)"
             }
            },
            "type": "table"
           }
          ],
          "barpolar": [
           {
            "marker": {
             "line": {
              "color": "rgb(17,17,17)",
              "width": 0.5
             },
             "pattern": {
              "fillmode": "overlay",
              "size": 10,
              "solidity": 0.2
             }
            },
            "type": "barpolar"
           }
          ],
          "pie": [
           {
            "automargin": true,
            "type": "pie"
           }
          ]
         },
         "layout": {
          "autotypenumbers": "strict",
          "colorway": [
           "#636efa",
           "#EF553B",
           "#00cc96",
           "#ab63fa",
           "#FFA15A",
           "#19d3f3",
           "#FF6692",
           "#B6E880",
           "#FF97FF",
           "#FECB52"
          ],
          "font": {
           "color": "#f2f5fa"
          },
          "hovermode": "closest",
          "hoverlabel": {
           "align": "left"
          },
          "paper_bgcolor": "rgb(17,17,17)",
          "plot_bgcolor": "rgb(17,17,17)",
          "polar": {
           "bgcolor": "rgb(17,17,17)",
           "angularaxis": {
            "gridcolor": "#506784",
            "linecolor": "#506784",
            "ticks": ""
           },
           "radialaxis": {
            "gridcolor": "#506784",
            "linecolor": "#506784",
            "ticks": ""
           }
          },
          "ternary": {
           "bgcolor": "rgb(17,17,17)",
           "aaxis": {
            "gridcolor": "#506784",
            "linecolor": "#506784",
            "ticks": ""
           },
           "baxis": {
            "gridcolor": "#506784",
            "linecolor": "#506784",
            "ticks": ""
           },
           "caxis": {
            "gridcolor": "#506784",
            "linecolor": "#506784",
            "ticks": ""
           }
          },
          "coloraxis": {
           "colorbar": {
            "outlinewidth": 0,
            "ticks": ""
           }
          },
          "colorscale": {
           "sequential": [
            [
             0.0,
             "#0d0887"
            ],
            [
             0.1111111111111111,
             "#46039f"
            ],
            [
             0.2222222222222222,
             "#7201a8"
            ],
            [
             0.3333333333333333,
             "#9c179e"
            ],
            [
             0.4444444444444444,
             "#bd3786"
            ],
            [
             0.5555555555555556,
             "#d8576b"
            ],
            [
             0.6666666666666666,
             "#ed7953"
            ],
            [
             0.7777777777777778,
             "#fb9f3a"
            ],
            [
             0.8888888888888888,
             "#fdca26"
            ],
            [
             1.0,
             "#f0f921"
            ]
           ],
           "sequentialminus": [
            [
             0.0,
             "#0d0887"
            ],
            [
             0.1111111111111111,
             "#46039f"
            ],
            [
             0.2222222222222222,
             "#7201a8"
            ],
            [
             0.3333333333333333,
             "#9c179e"
            ],
            [
             0.4444444444444444,
             "#bd3786"
            ],
            [
             0.5555555555555556,
             "#d8576b"
            ],
            [
             0.6666666666666666,
             "#ed7953"
            ],
            [
             0.7777777777777778,
             "#fb9f3a"
            ],
            [
             0.8888888888888888,
             "#fdca26"
            ],
            [
             1.0,
             "#f0f921"
            ]
           ],
           "diverging": [
            [
             0,
             "#8e0152"
            ],
            [
             0.1,
             "#c51b7d"
            ],
            [
             0.2,
             "#de77ae"
            ],
            [
             0.3,
             "#f1b6da"
            ],
            [
             0.4,
             "#fde0ef"
            ],
            [
             0.5,
             "#f7f7f7"
            ],
            [
             0.6,
             "#e6f5d0"
            ],
            [
             0.7,
             "#b8e186"
            ],
            [
             0.8,
             "#7fbc41"
            ],
            [
             0.9,
             "#4d9221"
            ],
            [
             1,
             "#276419"
            ]
           ]
          },
          "xaxis": {
           "gridcolor": "#283442",
           "linecolor": "#506784",
           "ticks": "",
           "title": {
            "standoff": 15
           },
           "zerolinecolor": "#283442",
           "automargin": true,
           "zerolinewidth": 2
          },
          "yaxis": {
           "gridcolor": "#283442",
           "linecolor": "#506784",
           "ticks": "",
           "title": {
            "standoff": 15
           },
           "zerolinecolor": "#283442",
           "automargin": true,
           "zerolinewidth": 2
          },
          "scene": {
           "xaxis": {
            "backgroundcolor": "rgb(17,17,17)",
            "gridcolor": "#506784",
            "linecolor": "#506784",
            "showbackground": true,
            "ticks": "",
            "zerolinecolor": "#C8D4E3",
            "gridwidth": 2
           },
           "yaxis": {
            "backgroundcolor": "rgb(17,17,17)",
            "gridcolor": "#506784",
            "linecolor": "#506784",
            "showbackground": true,
            "ticks": "",
            "zerolinecolor": "#C8D4E3",
            "gridwidth": 2
           },
           "zaxis": {
            "backgroundcolor": "rgb(17,17,17)",
            "gridcolor": "#506784",
            "linecolor": "#506784",
            "showbackground": true,
            "ticks": "",
            "zerolinecolor": "#C8D4E3",
            "gridwidth": 2
           }
          },
          "shapedefaults": {
           "line": {
            "color": "#f2f5fa"
           }
          },
          "annotationdefaults": {
           "arrowcolor": "#f2f5fa",
           "arrowhead": 0,
           "arrowwidth": 1
          },
          "geo": {
           "bgcolor": "rgb(17,17,17)",
           "landcolor": "rgb(17,17,17)",
           "subunitcolor": "#506784",
           "showland": true,
           "showlakes": true,
           "lakecolor": "rgb(17,17,17)"
          },
          "title": {
           "x": 0.05
          },
          "updatemenudefaults": {
           "bgcolor": "#506784",
           "borderwidth": 0
          },
          "sliderdefaults": {
           "bgcolor": "#C8D4E3",
           "borderwidth": 1,
           "bordercolor": "rgb(17,17,17)",
           "tickwidth": 0
          },
          "mapbox": {
           "style": "dark"
          }
         }
        },
        "xaxis": {
         "anchor": "y",
         "domain": [
          0.0,
          1.0
         ],
         "title": {
          "text": "Index"
         }
        },
        "yaxis": {
         "anchor": "x",
         "domain": [
          0.0,
          1.0
         ],
         "title": {
          "text": "Eigenvalue"
         }
        },
        "legend": {
         "tracegroupgap": 0
        },
        "title": {
         "text": "Eigenvalues"
        },
        "height": 800,
        "width": 800
       },
       "config": {
        "plotlyServerURL": "https://plot.ly"
       }
      }
     },
     "metadata": {},
     "output_type": "display_data",
     "jetTransient": {
      "display_id": null
     }
    }
   ],
   "execution_count": 16
  },
  {
   "metadata": {},
   "cell_type": "markdown",
   "source": "## Exercise 2",
   "id": "baa9ad28e00e3a49"
  },
  {
   "metadata": {},
   "cell_type": "markdown",
   "source": [
    "Using the following code, create a one-dimensional dataset of size N = 100.\n",
    "```\n",
    "X = np.concatenate(\n",
    "(np.random.standard_t(1, int(0.04*N))-3.5,\n",
    "np.random.normal(5, 1, int(0.48 * N)),\n",
    "np.random.normal(7.5, 1, int(0.48 * N))\n",
    "))[:, np.newaxis]\n",
    "```\n",
    "\n",
    "Compute the density estimation with your implementations of: \\\n",
    "• Histogram Density Estimation (Freedman Diaconis rule) \\\n",
    "• Kernel Density Estimation (KDE) - Gaussian kernel (Silverman’s rule)"
   ],
   "id": "1c36dbbce160000f"
  },
  {
   "metadata": {
    "ExecuteTime": {
     "end_time": "2025-10-31T14:37:11.382528Z",
     "start_time": "2025-10-31T14:37:11.375991Z"
    }
   },
   "cell_type": "code",
   "source": [
    "# set seed\n",
    "np.random.seed(42)\n",
    "\n",
    "N = 10000\n",
    "X = np.concatenate(\n",
    "(np.random.standard_t(1, int(0.04*N))-3.5,\n",
    "np.random.normal(5, 1, int(0.48 * N)),\n",
    "np.random.normal(7.5, 1, int(0.48 * N))\n",
    "))[:, np.newaxis]"
   ],
   "id": "e48057a84e3449a0",
   "outputs": [],
   "execution_count": 14
  },
  {
   "metadata": {
    "ExecuteTime": {
     "end_time": "2025-10-31T14:37:11.860989Z",
     "start_time": "2025-10-31T14:37:11.761741Z"
    }
   },
   "cell_type": "code",
   "source": "px.histogram(X[:, 0], nbins=10, title=\"Dataset Histogram\", labels={\"value\": \"X\"}, width=600, height=400).show()",
   "id": "2493c575967de55d",
   "outputs": [
    {
     "data": {
      "application/vnd.plotly.v1+json": {
       "data": [
        {
         "bingroup": "x",
         "hovertemplate": "variable=0<br>X=%{x}<br>count=%{y}<extra></extra>",
         "legendgroup": "0",
         "marker": {
          "color": "#636efa",
          "pattern": {
           "shape": ""
          }
         },
         "name": "0",
         "nbinsx": 10,
         "orientation": "v",
         "showlegend": true,
         "x": {
          "dtype": "f8",
          "bdata": "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"
         },
         "xaxis": "x",
         "yaxis": "y",
         "type": "histogram"
        }
       ],
       "layout": {
        "template": {
         "data": {
          "histogram2dcontour": [
           {
            "type": "histogram2dcontour",
            "colorbar": {
             "outlinewidth": 0,
             "ticks": ""
            },
            "colorscale": [
             [
              0.0,
              "#0d0887"
             ],
             [
              0.1111111111111111,
              "#46039f"
             ],
             [
              0.2222222222222222,
              "#7201a8"
             ],
             [
              0.3333333333333333,
              "#9c179e"
             ],
             [
              0.4444444444444444,
              "#bd3786"
             ],
             [
              0.5555555555555556,
              "#d8576b"
             ],
             [
              0.6666666666666666,
              "#ed7953"
             ],
             [
              0.7777777777777778,
              "#fb9f3a"
             ],
             [
              0.8888888888888888,
              "#fdca26"
             ],
             [
              1.0,
              "#f0f921"
             ]
            ]
           }
          ],
          "choropleth": [
           {
            "type": "choropleth",
            "colorbar": {
             "outlinewidth": 0,
             "ticks": ""
            }
           }
          ],
          "histogram2d": [
           {
            "type": "histogram2d",
            "colorbar": {
             "outlinewidth": 0,
             "ticks": ""
            },
            "colorscale": [
             [
              0.0,
              "#0d0887"
             ],
             [
              0.1111111111111111,
              "#46039f"
             ],
             [
              0.2222222222222222,
              "#7201a8"
             ],
             [
              0.3333333333333333,
              "#9c179e"
             ],
             [
              0.4444444444444444,
              "#bd3786"
             ],
             [
              0.5555555555555556,
              "#d8576b"
             ],
             [
              0.6666666666666666,
              "#ed7953"
             ],
             [
              0.7777777777777778,
              "#fb9f3a"
             ],
             [
              0.8888888888888888,
              "#fdca26"
             ],
             [
              1.0,
              "#f0f921"
             ]
            ]
           }
          ],
          "heatmap": [
           {
            "type": "heatmap",
            "colorbar": {
             "outlinewidth": 0,
             "ticks": ""
            },
            "colorscale": [
             [
              0.0,
              "#0d0887"
             ],
             [
              0.1111111111111111,
              "#46039f"
             ],
             [
              0.2222222222222222,
              "#7201a8"
             ],
             [
              0.3333333333333333,
              "#9c179e"
             ],
             [
              0.4444444444444444,
              "#bd3786"
             ],
             [
              0.5555555555555556,
              "#d8576b"
             ],
             [
              0.6666666666666666,
              "#ed7953"
             ],
             [
              0.7777777777777778,
              "#fb9f3a"
             ],
             [
              0.8888888888888888,
              "#fdca26"
             ],
             [
              1.0,
              "#f0f921"
             ]
            ]
           }
          ],
          "contourcarpet": [
           {
            "type": "contourcarpet",
            "colorbar": {
             "outlinewidth": 0,
             "ticks": ""
            }
           }
          ],
          "contour": [
           {
            "type": "contour",
            "colorbar": {
             "outlinewidth": 0,
             "ticks": ""
            },
            "colorscale": [
             [
              0.0,
              "#0d0887"
             ],
             [
              0.1111111111111111,
              "#46039f"
             ],
             [
              0.2222222222222222,
              "#7201a8"
             ],
             [
              0.3333333333333333,
              "#9c179e"
             ],
             [
              0.4444444444444444,
              "#bd3786"
             ],
             [
              0.5555555555555556,
              "#d8576b"
             ],
             [
              0.6666666666666666,
              "#ed7953"
             ],
             [
              0.7777777777777778,
              "#fb9f3a"
             ],
             [
              0.8888888888888888,
              "#fdca26"
             ],
             [
              1.0,
              "#f0f921"
             ]
            ]
           }
          ],
          "surface": [
           {
            "type": "surface",
            "colorbar": {
             "outlinewidth": 0,
             "ticks": ""
            },
            "colorscale": [
             [
              0.0,
              "#0d0887"
             ],
             [
              0.1111111111111111,
              "#46039f"
             ],
             [
              0.2222222222222222,
              "#7201a8"
             ],
             [
              0.3333333333333333,
              "#9c179e"
             ],
             [
              0.4444444444444444,
              "#bd3786"
             ],
             [
              0.5555555555555556,
              "#d8576b"
             ],
             [
              0.6666666666666666,
              "#ed7953"
             ],
             [
              0.7777777777777778,
              "#fb9f3a"
             ],
             [
              0.8888888888888888,
              "#fdca26"
             ],
             [
              1.0,
              "#f0f921"
             ]
            ]
           }
          ],
          "mesh3d": [
           {
            "type": "mesh3d",
            "colorbar": {
             "outlinewidth": 0,
             "ticks": ""
            }
           }
          ],
          "scatter": [
           {
            "marker": {
             "line": {
              "color": "#283442"
             }
            },
            "type": "scatter"
           }
          ],
          "parcoords": [
           {
            "type": "parcoords",
            "line": {
             "colorbar": {
              "outlinewidth": 0,
              "ticks": ""
             }
            }
           }
          ],
          "scatterpolargl": [
           {
            "type": "scatterpolargl",
            "marker": {
             "colorbar": {
              "outlinewidth": 0,
              "ticks": ""
             }
            }
           }
          ],
          "bar": [
           {
            "error_x": {
             "color": "#f2f5fa"
            },
            "error_y": {
             "color": "#f2f5fa"
            },
            "marker": {
             "line": {
              "color": "rgb(17,17,17)",
              "width": 0.5
             },
             "pattern": {
              "fillmode": "overlay",
              "size": 10,
              "solidity": 0.2
             }
            },
            "type": "bar"
           }
          ],
          "scattergeo": [
           {
            "type": "scattergeo",
            "marker": {
             "colorbar": {
              "outlinewidth": 0,
              "ticks": ""
             }
            }
           }
          ],
          "scatterpolar": [
           {
            "type": "scatterpolar",
            "marker": {
             "colorbar": {
              "outlinewidth": 0,
              "ticks": ""
             }
            }
           }
          ],
          "histogram": [
           {
            "marker": {
             "pattern": {
              "fillmode": "overlay",
              "size": 10,
              "solidity": 0.2
             }
            },
            "type": "histogram"
           }
          ],
          "scattergl": [
           {
            "marker": {
             "line": {
              "color": "#283442"
             }
            },
            "type": "scattergl"
           }
          ],
          "scatter3d": [
           {
            "type": "scatter3d",
            "line": {
             "colorbar": {
              "outlinewidth": 0,
              "ticks": ""
             }
            },
            "marker": {
             "colorbar": {
              "outlinewidth": 0,
              "ticks": ""
             }
            }
           }
          ],
          "scattermap": [
           {
            "type": "scattermap",
            "marker": {
             "colorbar": {
              "outlinewidth": 0,
              "ticks": ""
             }
            }
           }
          ],
          "scattermapbox": [
           {
            "type": "scattermapbox",
            "marker": {
             "colorbar": {
              "outlinewidth": 0,
              "ticks": ""
             }
            }
           }
          ],
          "scatterternary": [
           {
            "type": "scatterternary",
            "marker": {
             "colorbar": {
              "outlinewidth": 0,
              "ticks": ""
             }
            }
           }
          ],
          "scattercarpet": [
           {
            "type": "scattercarpet",
            "marker": {
             "colorbar": {
              "outlinewidth": 0,
              "ticks": ""
             }
            }
           }
          ],
          "carpet": [
           {
            "aaxis": {
             "endlinecolor": "#A2B1C6",
             "gridcolor": "#506784",
             "linecolor": "#506784",
             "minorgridcolor": "#506784",
             "startlinecolor": "#A2B1C6"
            },
            "baxis": {
             "endlinecolor": "#A2B1C6",
             "gridcolor": "#506784",
             "linecolor": "#506784",
             "minorgridcolor": "#506784",
             "startlinecolor": "#A2B1C6"
            },
            "type": "carpet"
           }
          ],
          "table": [
           {
            "cells": {
             "fill": {
              "color": "#506784"
             },
             "line": {
              "color": "rgb(17,17,17)"
             }
            },
            "header": {
             "fill": {
              "color": "#2a3f5f"
             },
             "line": {
              "color": "rgb(17,17,17)"
             }
            },
            "type": "table"
           }
          ],
          "barpolar": [
           {
            "marker": {
             "line": {
              "color": "rgb(17,17,17)",
              "width": 0.5
             },
             "pattern": {
              "fillmode": "overlay",
              "size": 10,
              "solidity": 0.2
             }
            },
            "type": "barpolar"
           }
          ],
          "pie": [
           {
            "automargin": true,
            "type": "pie"
           }
          ]
         },
         "layout": {
          "autotypenumbers": "strict",
          "colorway": [
           "#636efa",
           "#EF553B",
           "#00cc96",
           "#ab63fa",
           "#FFA15A",
           "#19d3f3",
           "#FF6692",
           "#B6E880",
           "#FF97FF",
           "#FECB52"
          ],
          "font": {
           "color": "#f2f5fa"
          },
          "hovermode": "closest",
          "hoverlabel": {
           "align": "left"
          },
          "paper_bgcolor": "rgb(17,17,17)",
          "plot_bgcolor": "rgb(17,17,17)",
          "polar": {
           "bgcolor": "rgb(17,17,17)",
           "angularaxis": {
            "gridcolor": "#506784",
            "linecolor": "#506784",
            "ticks": ""
           },
           "radialaxis": {
            "gridcolor": "#506784",
            "linecolor": "#506784",
            "ticks": ""
           }
          },
          "ternary": {
           "bgcolor": "rgb(17,17,17)",
           "aaxis": {
            "gridcolor": "#506784",
            "linecolor": "#506784",
            "ticks": ""
           },
           "baxis": {
            "gridcolor": "#506784",
            "linecolor": "#506784",
            "ticks": ""
           },
           "caxis": {
            "gridcolor": "#506784",
            "linecolor": "#506784",
            "ticks": ""
           }
          },
          "coloraxis": {
           "colorbar": {
            "outlinewidth": 0,
            "ticks": ""
           }
          },
          "colorscale": {
           "sequential": [
            [
             0.0,
             "#0d0887"
            ],
            [
             0.1111111111111111,
             "#46039f"
            ],
            [
             0.2222222222222222,
             "#7201a8"
            ],
            [
             0.3333333333333333,
             "#9c179e"
            ],
            [
             0.4444444444444444,
             "#bd3786"
            ],
            [
             0.5555555555555556,
             "#d8576b"
            ],
            [
             0.6666666666666666,
             "#ed7953"
            ],
            [
             0.7777777777777778,
             "#fb9f3a"
            ],
            [
             0.8888888888888888,
             "#fdca26"
            ],
            [
             1.0,
             "#f0f921"
            ]
           ],
           "sequentialminus": [
            [
             0.0,
             "#0d0887"
            ],
            [
             0.1111111111111111,
             "#46039f"
            ],
            [
             0.2222222222222222,
             "#7201a8"
            ],
            [
             0.3333333333333333,
             "#9c179e"
            ],
            [
             0.4444444444444444,
             "#bd3786"
            ],
            [
             0.5555555555555556,
             "#d8576b"
            ],
            [
             0.6666666666666666,
             "#ed7953"
            ],
            [
             0.7777777777777778,
             "#fb9f3a"
            ],
            [
             0.8888888888888888,
             "#fdca26"
            ],
            [
             1.0,
             "#f0f921"
            ]
           ],
           "diverging": [
            [
             0,
             "#8e0152"
            ],
            [
             0.1,
             "#c51b7d"
            ],
            [
             0.2,
             "#de77ae"
            ],
            [
             0.3,
             "#f1b6da"
            ],
            [
             0.4,
             "#fde0ef"
            ],
            [
             0.5,
             "#f7f7f7"
            ],
            [
             0.6,
             "#e6f5d0"
            ],
            [
             0.7,
             "#b8e186"
            ],
            [
             0.8,
             "#7fbc41"
            ],
            [
             0.9,
             "#4d9221"
            ],
            [
             1,
             "#276419"
            ]
           ]
          },
          "xaxis": {
           "gridcolor": "#283442",
           "linecolor": "#506784",
           "ticks": "",
           "title": {
            "standoff": 15
           },
           "zerolinecolor": "#283442",
           "automargin": true,
           "zerolinewidth": 2
          },
          "yaxis": {
           "gridcolor": "#283442",
           "linecolor": "#506784",
           "ticks": "",
           "title": {
            "standoff": 15
           },
           "zerolinecolor": "#283442",
           "automargin": true,
           "zerolinewidth": 2
          },
          "scene": {
           "xaxis": {
            "backgroundcolor": "rgb(17,17,17)",
            "gridcolor": "#506784",
            "linecolor": "#506784",
            "showbackground": true,
            "ticks": "",
            "zerolinecolor": "#C8D4E3",
            "gridwidth": 2
           },
           "yaxis": {
            "backgroundcolor": "rgb(17,17,17)",
            "gridcolor": "#506784",
            "linecolor": "#506784",
            "showbackground": true,
            "ticks": "",
            "zerolinecolor": "#C8D4E3",
            "gridwidth": 2
           },
           "zaxis": {
            "backgroundcolor": "rgb(17,17,17)",
            "gridcolor": "#506784",
            "linecolor": "#506784",
            "showbackground": true,
            "ticks": "",
            "zerolinecolor": "#C8D4E3",
            "gridwidth": 2
           }
          },
          "shapedefaults": {
           "line": {
            "color": "#f2f5fa"
           }
          },
          "annotationdefaults": {
           "arrowcolor": "#f2f5fa",
           "arrowhead": 0,
           "arrowwidth": 1
          },
          "geo": {
           "bgcolor": "rgb(17,17,17)",
           "landcolor": "rgb(17,17,17)",
           "subunitcolor": "#506784",
           "showland": true,
           "showlakes": true,
           "lakecolor": "rgb(17,17,17)"
          },
          "title": {
           "x": 0.05
          },
          "updatemenudefaults": {
           "bgcolor": "#506784",
           "borderwidth": 0
          },
          "sliderdefaults": {
           "bgcolor": "#C8D4E3",
           "borderwidth": 1,
           "bordercolor": "rgb(17,17,17)",
           "tickwidth": 0
          },
          "mapbox": {
           "style": "dark"
          }
         }
        },
        "xaxis": {
         "anchor": "y",
         "domain": [
          0.0,
          1.0
         ],
         "title": {
          "text": "X"
         }
        },
        "yaxis": {
         "anchor": "x",
         "domain": [
          0.0,
          1.0
         ],
         "title": {
          "text": "count"
         }
        },
        "legend": {
         "title": {
          "text": "variable"
         },
         "tracegroupgap": 0
        },
        "title": {
         "text": "Dataset Histogram"
        },
        "barmode": "relative",
        "height": 400,
        "width": 600
       },
       "config": {
        "plotlyServerURL": "https://plot.ly"
       }
      }
     },
     "metadata": {},
     "output_type": "display_data",
     "jetTransient": {
      "display_id": null
     }
    }
   ],
   "execution_count": 15
  },
  {
   "metadata": {
    "ExecuteTime": {
     "end_time": "2025-10-31T14:37:21.740773Z",
     "start_time": "2025-10-31T14:37:12.566447Z"
    }
   },
   "cell_type": "code",
   "source": [
    "prob_hist, x0, x1, h = my_histogram_density_estimation(X)\n",
    "print(prob_hist)"
   ],
   "id": "d93a7376b83f1ec9",
   "outputs": [
    {
     "name": "stdout",
     "output_type": "stream",
     "text": [
      "10000 0.24492320139268245 -43.211996600775606 91.99366406194864 553\n",
      "[  1   0   0   0   0   0   0   0   0   0   0   0   0   0   0   0   0   0\n",
      "   0   0   0   0   0   0   0   0   0   0   0   0   0   0   0   0   0   0\n",
      "   0   0   0   0   0   0   0   0   0   0   0   0   0   0   0   0   0   0\n",
      "   0   0   0   0   0   0   0   0   0   0   0   0   0   0   0   0   0   0\n",
      "   0   1   0   0   0   0   0   0   0   0   0   0   0   0   0   0   0   0\n",
      "   0   0   1   0   0   0   0   0   1   1   0   0   0   0   0   0   1   0\n",
      "   0   0   1   1   1   1   1   0   0   1   0   0   0   3   1   1   0   0\n",
      "   0   0   0   0   1   2   0   1   1   1   1   0   0   1   0   1   0   0\n",
      "   2   0   2   2   1   3   2   4   7   7   5   6  14  13  13  18  24  31\n",
      "  35  25  24  23   8   9  11   9   9   5   3   5   2   4   4   4   4   2\n",
      "   1   0   1   5   9  13  24  35  64  94 136 206 280 324 416 438 507 472\n",
      " 511 475 417 444 417 476 416 515 469 483 453 371 317 275 204 147  78  60\n",
      "  29  21  11   6   1   1   0   0   0   1   0   0   0   1   0   0   0   0\n",
      "   0   0   0   1   0   0   0   0   0   1   0   0   0   0   0   0   0   0\n",
      "   0   0   0   0   0   0   0   0   0   1   0   0   0   0   0   0   0   1\n",
      "   0   0   0   0   0   0   0   0   0   1   0   0   0   0   0   0   0   0\n",
      "   0   0   1   0   0   1   0   0   0   0   0   0   0   0   0   0   0   0\n",
      "   0   0   0   0   0   0   0   0   0   0   0   0   0   0   0   0   0   0\n",
      "   0   0   0   0   0   0   0   0   0   0   0   0   0   0   0   1   0   0\n",
      "   0   0   0   0   0   0   0   0   0   0   0   0   0   0   0   0   0   0\n",
      "   0   0   0   0   0   0   0   0   0   0   0   0   0   0   0   0   0   0\n",
      "   0   0   0   0   0   1   0   0   0   0   0   0   0   0   0   0   0   0\n",
      "   0   0   0   0   0   0   0   0   0   0   0   0   0   0   0   0   0   0\n",
      "   0   0   0   0   0   0   0   0   0   0   0   0   0   0   0   0   0   0\n",
      "   0   0   0   0   0   0   0   0   0   0   0   0   0   0   0   0   0   0\n",
      "   0   0   0   0   0   0   0   0   0   0   0   0   0   0   0   0   0   0\n",
      "   0   0   0   0   0   0   0   0   0   0   0   0   0   0   0   0   0   0\n",
      "   0   0   0   0   0   0   0   0   0   0   0   0   0   0   0   0   0   0\n",
      "   0   0   0   0   0   0   0   0   0   0   0   0   0   0   0   0   0   0\n",
      "   0   0   0   0   0   0   0   0   0   0   0   0   0   0   0   0   0   0\n",
      "   0   0   0   0   0   0   0   0   0   0   0   0   1]\n",
      "[0.0001 0.     0.     0.     0.     0.     0.     0.     0.     0.\n",
      " 0.     0.     0.     0.     0.     0.     0.     0.     0.     0.\n",
      " 0.     0.     0.     0.     0.     0.     0.     0.     0.     0.\n",
      " 0.     0.     0.     0.     0.     0.     0.     0.     0.     0.\n",
      " 0.     0.     0.     0.     0.     0.     0.     0.     0.     0.\n",
      " 0.     0.     0.     0.     0.     0.     0.     0.     0.     0.\n",
      " 0.     0.     0.     0.     0.     0.     0.     0.     0.     0.\n",
      " 0.     0.     0.     0.0001 0.     0.     0.     0.     0.     0.\n",
      " 0.     0.     0.     0.     0.     0.     0.     0.     0.     0.\n",
      " 0.     0.     0.0001 0.     0.     0.     0.     0.     0.0001 0.0001\n",
      " 0.     0.     0.     0.     0.     0.     0.0001 0.     0.     0.\n",
      " 0.0001 0.0001 0.0001 0.0001 0.0001 0.     0.     0.0001 0.     0.\n",
      " 0.     0.0003 0.0001 0.0001 0.     0.     0.     0.     0.     0.\n",
      " 0.0001 0.0002 0.     0.0001 0.0001 0.0001 0.0001 0.     0.     0.0001\n",
      " 0.     0.0001 0.     0.     0.0002 0.     0.0002 0.0002 0.0001 0.0003\n",
      " 0.0002 0.0004 0.0007 0.0007 0.0005 0.0006 0.0014 0.0013 0.0013 0.0018\n",
      " 0.0024 0.0031 0.0035 0.0025 0.0024 0.0023 0.0008 0.0009 0.0011 0.0009\n",
      " 0.0009 0.0005 0.0003 0.0005 0.0002 0.0004 0.0004 0.0004 0.0004 0.0002\n",
      " 0.0001 0.     0.0001 0.0005 0.0009 0.0013 0.0024 0.0035 0.0064 0.0094\n",
      " 0.0136 0.0206 0.028  0.0324 0.0416 0.0438 0.0507 0.0472 0.0511 0.0475\n",
      " 0.0417 0.0444 0.0417 0.0476 0.0416 0.0515 0.0469 0.0483 0.0453 0.0371\n",
      " 0.0317 0.0275 0.0204 0.0147 0.0078 0.006  0.0029 0.0021 0.0011 0.0006\n",
      " 0.0001 0.0001 0.     0.     0.     0.0001 0.     0.     0.     0.0001\n",
      " 0.     0.     0.     0.     0.     0.     0.     0.0001 0.     0.\n",
      " 0.     0.     0.     0.0001 0.     0.     0.     0.     0.     0.\n",
      " 0.     0.     0.     0.     0.     0.     0.     0.     0.     0.\n",
      " 0.     0.0001 0.     0.     0.     0.     0.     0.     0.     0.0001\n",
      " 0.     0.     0.     0.     0.     0.     0.     0.     0.     0.0001\n",
      " 0.     0.     0.     0.     0.     0.     0.     0.     0.     0.\n",
      " 0.0001 0.     0.     0.0001 0.     0.     0.     0.     0.     0.\n",
      " 0.     0.     0.     0.     0.     0.     0.     0.     0.     0.\n",
      " 0.     0.     0.     0.     0.     0.     0.     0.     0.     0.\n",
      " 0.     0.     0.     0.     0.     0.     0.     0.     0.     0.\n",
      " 0.     0.     0.     0.     0.     0.     0.     0.     0.     0.0001\n",
      " 0.     0.     0.     0.     0.     0.     0.     0.     0.     0.\n",
      " 0.     0.     0.     0.     0.     0.     0.     0.     0.     0.\n",
      " 0.     0.     0.     0.     0.     0.     0.     0.     0.     0.\n",
      " 0.     0.     0.     0.     0.     0.     0.     0.     0.     0.\n",
      " 0.     0.     0.     0.0001 0.     0.     0.     0.     0.     0.\n",
      " 0.     0.     0.     0.     0.     0.     0.     0.     0.     0.\n",
      " 0.     0.     0.     0.     0.     0.     0.     0.     0.     0.\n",
      " 0.     0.     0.     0.     0.     0.     0.     0.     0.     0.\n",
      " 0.     0.     0.     0.     0.     0.     0.     0.     0.     0.\n",
      " 0.     0.     0.     0.     0.     0.     0.     0.     0.     0.\n",
      " 0.     0.     0.     0.     0.     0.     0.     0.     0.     0.\n",
      " 0.     0.     0.     0.     0.     0.     0.     0.     0.     0.\n",
      " 0.     0.     0.     0.     0.     0.     0.     0.     0.     0.\n",
      " 0.     0.     0.     0.     0.     0.     0.     0.     0.     0.\n",
      " 0.     0.     0.     0.     0.     0.     0.     0.     0.     0.\n",
      " 0.     0.     0.     0.     0.     0.     0.     0.     0.     0.\n",
      " 0.     0.     0.     0.     0.     0.     0.     0.     0.     0.\n",
      " 0.     0.     0.     0.     0.     0.     0.     0.     0.     0.\n",
      " 0.     0.     0.     0.     0.     0.     0.     0.     0.     0.\n",
      " 0.     0.     0.     0.     0.     0.     0.     0.     0.     0.\n",
      " 0.     0.     0.     0.     0.     0.     0.     0.     0.     0.\n",
      " 0.     0.     0.0001]\n"
     ]
    }
   ],
   "execution_count": 16
  },
  {
   "metadata": {
    "ExecuteTime": {
     "end_time": "2025-10-31T14:36:52.826865Z",
     "start_time": "2025-10-31T14:36:52.758038Z"
    }
   },
   "cell_type": "code",
   "source": [
    "# plot histogram density estimation\n",
    "bins = np.arange(x0, x1 + h, h)\n",
    "\n",
    "centers = bins[:-1] + h/2  # centri dei bin\n",
    "\n",
    "fig = px.bar(x=centers, y=prob_hist,\n",
    "             title=\"Histogram Density Estimation\",\n",
    "             labels={\"x\": \"X\", \"y\": \"Probability\"},\n",
    "             width=700, height=400)\n",
    "fig.show()"
   ],
   "id": "e9d9af714d7aeff1",
   "outputs": [
    {
     "data": {
      "application/vnd.plotly.v1+json": {
       "data": [
        {
         "hovertemplate": "X=%{x}<br>Probability=%{y}<extra></extra>",
         "legendgroup": "",
         "marker": {
          "color": "#636efa",
          "pattern": {
           "shape": ""
          }
         },
         "name": "",
         "orientation": "v",
         "showlegend": false,
         "textposition": "auto",
         "x": {
          "dtype": "f8",
          "bdata": "82COxbq3MsATQlUo4i0ywDMjHIsJpDHAUwTj7TAaMcBz5alQWJAwwJPGcLN/BjDAZk9vLE75LsCmEf3xnOUtwObTirfr0SzAJpYYfTq+K8BmWKZCiaoqwKYaNAjYlinA5tzBzSaDKMAmn0+TdW8nwGZh3VjEWybApiNrHhNIJcDm5fjjYTQkwCaohqmwICPAZmoUb/8MIsCmLKI0TvkgwMvdX/Q5yx/AS2J7f9ejHcDL5pYKdXwbwEtrspUSVRnAy+/NILAtF8BLdOmrTQYVwMv4BDfr3hLAS30gwoi3EMCXA3iaTCANwJcMr7CH0QjAlxXmxsKCBMCXHh3d/TMAwC5PqOZxyve/W8IsJtBZ7r+2zBH+eD3av5TWa6BcccA/pdE+z2pX5T/SVjE7P0nzP9JEww7J5vs/aZkqcSlCAkBpkPNa7pAGQGmHvESz3wpAaX6FLnguD0C1OieMnr4RQDW2CwEB5hNAtTHwdWMNFkA1rdTqxTQYQLUouV8oXBpANaSd1IqDHEC1H4JJ7aoeQJpNM98naSBAWoulGdl8IUAayRdUipAiQNoGio47pCNAmkT8yOy3JEBagm4DnsslQBrA4D1P3yZA2v1SeADzJ0CaO8WysQYpQFp5N+1iGipAGrepJxQuK0Da9BtixUEsQJoyjpx2VS1AWnAA1ydpLkAarnIR2XwvQO118iVFSDBAzZQrwx3SMECts2Rg9lsxQI3Snf3O5TFAbfHWmqdvMkBNEBA4gPkyQC0vSdVYgzNADU6CcjENNEDtbLsPCpc0QM2L9KziIDVAraotSruqNUCNyWbnkzQ2QG3on4RsvjZATQfZIUVIN0AtJhK/HdI3QA1FS1z2WzhA7WOE+c7lOEDNgr2Wp285QK2h9jOA+TlAjcAv0ViDOkBt32huMQ07QE3+oQsKlztALR3bqOIgPEANPBRGu6o8QO1aTeOTND1AzXmGgGy+PUCtmL8dRUg+QI23+Lod0j5AbdYxWPZbP0BN9Wr1zuU/QBYKUsnTN0BAhpnuF8B8QED2KItmrMFAQGa4J7WYBkFA1kfEA4VLQUBG12BScZBBQLZm/aBd1UFAJvaZ70kaQkCWhTY+Nl9CQAYV04wipEJAdqRv2w7pQkDmMwwq+y1DQFbDqHjnckNAxlJFx9O3Q0A24uEVwPxDQKZxfmSsQURAFgEbs5iGRECGkLcBhctEQPYfVFBxEEVAZq/wnl1VRUDWPo3tSZpFQEbOKTw230VAtl3GiiIkRkAm7WLZDmlGQJZ8/yf7rUZABgycdufyRkB2mzjF0zdHQOYq1RPAfEdAVrpxYqzBR0DGSQ6xmAZIQDbZqv+ES0hApmhHTnGQSEAW+OOcXdVIQIaHgOtJGklA9hYdOjZfSUA="
         },
         "xaxis": "x",
         "y": {
          "dtype": "f8",
          "bdata": "/Knx0k1iUD8AAAAAAAAAAAAAAAAAAAAAAAAAAAAAAAAAAAAAAAAAAAAAAAAAAAAAAAAAAAAAAAAAAAAAAAAAAAAAAAAAAAAAAAAAAAAAAAAAAAAAAAAAAAAAAAAAAAAAAAAAAAAAAAAAAAAAAAAAAAAAAAAAAAAAAAAAAAAAAAAAAAAAAAAAAAAAAAAAAAAAAAAAAAAAAAAAAAAAAAAAAAAAAAAAAAAAAAAAAAAAAAAAAAAAAAAAAAAAAAAAAAAA/Knx0k1iYD/6fmq8dJNoP3sUrkfhenQ//Knx0k1icD/8qfHSTWKAP/p+arx0k3g//Knx0k1icD8AAAAAAAAAAPyp8dJNYlA//Knx0k1iUD/8qfHSTWJQPwAAAAAAAAAAAAAAAAAAAAD8qfHSTWJQP/yp8dJNYlA//Knx0k1iYD8730+Nl26CPxkEVg4tsp0/GQRWDi2yrT+6SQwCK4e2P+kmMQisHLo/iUFg5dAiuz8CK4cW2c63P4PAyqFFtrM/KVyPwvUovD8hsHJoke28P9NNYhBYObQ/KVyPwvUorD8ZBFYOLbKdPzvfT42XboI//Knx0k1iUD8AAAAAAAAAAAAAAAAAAAAAAAAAAAAAAAAAAAAAAAAAAAAAAAAAAAAAAAAAAAAAAAAAAAAAAAAAAAAAAAAAAAAAAAAAAAAAAAAAAAAAAAAAAAAAAAAAAAAAAAAAAAAAAAAAAAAAAAAAAAAAAAAAAAAAAAAAAAAAAAAAAAAAAAAAAAAAAAAAAAAAAAAAAAAAAAAAAAAAAAAAAAAAAAAAAAAAAAAAAAAAAAAAAAAAAAAAAAAAAAAAAAAAAAAAAAAAAAAAAAAAAAAAAAAAAAAAAAAAAAAAAAAAAAAAAAAAAAAAAAAAAAAAAAAAAAAAAAAAAAAAAAAAAAAAAAAAAAAAAAAAAAAAAAAAAAAAAAAAAAAAAAAAAAAAAAAAAAAAAAAAAAAAAAAAAAAAAAAAAAAAAAAAAAAAAAAAAAAAAAAAAAAAAAAAAAAAAAAAAAAAAAAAAAAAAAAAAAAAAAAAAAAAAAAAAAAAAAAAAAAAAAAAAAAAAAAAAAAAAAAAAAAAAAAAAAAAAAAAAAAAAAAAAAAAAAAAAAAAAAAAAAAAAAAAAAAAAAAAAAAAAAAAAAAAAAAAAAD8qfHSTWJQPwAAAAAAAAAAAAAAAAAAAAAAAAAAAAAAAAAAAAAAAAAAAAAAAAAAAAAAAAAAAAAAAAAAAAAAAAAAAAAAAAAAAAAAAAAAAAAAAAAAAAAAAAAAAAAAAAAAAAAAAAAAAAAAAAAAAAAAAAAAAAAAAAAAAAAAAAAAAAAAAAAAAAAAAAAAAAAAAAAAAAAAAAAAAAAAAAAAAAAAAAAA/Knx0k1iUD8="
         },
         "yaxis": "y",
         "type": "bar"
        }
       ],
       "layout": {
        "template": {
         "data": {
          "histogram2dcontour": [
           {
            "type": "histogram2dcontour",
            "colorbar": {
             "outlinewidth": 0,
             "ticks": ""
            },
            "colorscale": [
             [
              0.0,
              "#0d0887"
             ],
             [
              0.1111111111111111,
              "#46039f"
             ],
             [
              0.2222222222222222,
              "#7201a8"
             ],
             [
              0.3333333333333333,
              "#9c179e"
             ],
             [
              0.4444444444444444,
              "#bd3786"
             ],
             [
              0.5555555555555556,
              "#d8576b"
             ],
             [
              0.6666666666666666,
              "#ed7953"
             ],
             [
              0.7777777777777778,
              "#fb9f3a"
             ],
             [
              0.8888888888888888,
              "#fdca26"
             ],
             [
              1.0,
              "#f0f921"
             ]
            ]
           }
          ],
          "choropleth": [
           {
            "type": "choropleth",
            "colorbar": {
             "outlinewidth": 0,
             "ticks": ""
            }
           }
          ],
          "histogram2d": [
           {
            "type": "histogram2d",
            "colorbar": {
             "outlinewidth": 0,
             "ticks": ""
            },
            "colorscale": [
             [
              0.0,
              "#0d0887"
             ],
             [
              0.1111111111111111,
              "#46039f"
             ],
             [
              0.2222222222222222,
              "#7201a8"
             ],
             [
              0.3333333333333333,
              "#9c179e"
             ],
             [
              0.4444444444444444,
              "#bd3786"
             ],
             [
              0.5555555555555556,
              "#d8576b"
             ],
             [
              0.6666666666666666,
              "#ed7953"
             ],
             [
              0.7777777777777778,
              "#fb9f3a"
             ],
             [
              0.8888888888888888,
              "#fdca26"
             ],
             [
              1.0,
              "#f0f921"
             ]
            ]
           }
          ],
          "heatmap": [
           {
            "type": "heatmap",
            "colorbar": {
             "outlinewidth": 0,
             "ticks": ""
            },
            "colorscale": [
             [
              0.0,
              "#0d0887"
             ],
             [
              0.1111111111111111,
              "#46039f"
             ],
             [
              0.2222222222222222,
              "#7201a8"
             ],
             [
              0.3333333333333333,
              "#9c179e"
             ],
             [
              0.4444444444444444,
              "#bd3786"
             ],
             [
              0.5555555555555556,
              "#d8576b"
             ],
             [
              0.6666666666666666,
              "#ed7953"
             ],
             [
              0.7777777777777778,
              "#fb9f3a"
             ],
             [
              0.8888888888888888,
              "#fdca26"
             ],
             [
              1.0,
              "#f0f921"
             ]
            ]
           }
          ],
          "contourcarpet": [
           {
            "type": "contourcarpet",
            "colorbar": {
             "outlinewidth": 0,
             "ticks": ""
            }
           }
          ],
          "contour": [
           {
            "type": "contour",
            "colorbar": {
             "outlinewidth": 0,
             "ticks": ""
            },
            "colorscale": [
             [
              0.0,
              "#0d0887"
             ],
             [
              0.1111111111111111,
              "#46039f"
             ],
             [
              0.2222222222222222,
              "#7201a8"
             ],
             [
              0.3333333333333333,
              "#9c179e"
             ],
             [
              0.4444444444444444,
              "#bd3786"
             ],
             [
              0.5555555555555556,
              "#d8576b"
             ],
             [
              0.6666666666666666,
              "#ed7953"
             ],
             [
              0.7777777777777778,
              "#fb9f3a"
             ],
             [
              0.8888888888888888,
              "#fdca26"
             ],
             [
              1.0,
              "#f0f921"
             ]
            ]
           }
          ],
          "surface": [
           {
            "type": "surface",
            "colorbar": {
             "outlinewidth": 0,
             "ticks": ""
            },
            "colorscale": [
             [
              0.0,
              "#0d0887"
             ],
             [
              0.1111111111111111,
              "#46039f"
             ],
             [
              0.2222222222222222,
              "#7201a8"
             ],
             [
              0.3333333333333333,
              "#9c179e"
             ],
             [
              0.4444444444444444,
              "#bd3786"
             ],
             [
              0.5555555555555556,
              "#d8576b"
             ],
             [
              0.6666666666666666,
              "#ed7953"
             ],
             [
              0.7777777777777778,
              "#fb9f3a"
             ],
             [
              0.8888888888888888,
              "#fdca26"
             ],
             [
              1.0,
              "#f0f921"
             ]
            ]
           }
          ],
          "mesh3d": [
           {
            "type": "mesh3d",
            "colorbar": {
             "outlinewidth": 0,
             "ticks": ""
            }
           }
          ],
          "scatter": [
           {
            "marker": {
             "line": {
              "color": "#283442"
             }
            },
            "type": "scatter"
           }
          ],
          "parcoords": [
           {
            "type": "parcoords",
            "line": {
             "colorbar": {
              "outlinewidth": 0,
              "ticks": ""
             }
            }
           }
          ],
          "scatterpolargl": [
           {
            "type": "scatterpolargl",
            "marker": {
             "colorbar": {
              "outlinewidth": 0,
              "ticks": ""
             }
            }
           }
          ],
          "bar": [
           {
            "error_x": {
             "color": "#f2f5fa"
            },
            "error_y": {
             "color": "#f2f5fa"
            },
            "marker": {
             "line": {
              "color": "rgb(17,17,17)",
              "width": 0.5
             },
             "pattern": {
              "fillmode": "overlay",
              "size": 10,
              "solidity": 0.2
             }
            },
            "type": "bar"
           }
          ],
          "scattergeo": [
           {
            "type": "scattergeo",
            "marker": {
             "colorbar": {
              "outlinewidth": 0,
              "ticks": ""
             }
            }
           }
          ],
          "scatterpolar": [
           {
            "type": "scatterpolar",
            "marker": {
             "colorbar": {
              "outlinewidth": 0,
              "ticks": ""
             }
            }
           }
          ],
          "histogram": [
           {
            "marker": {
             "pattern": {
              "fillmode": "overlay",
              "size": 10,
              "solidity": 0.2
             }
            },
            "type": "histogram"
           }
          ],
          "scattergl": [
           {
            "marker": {
             "line": {
              "color": "#283442"
             }
            },
            "type": "scattergl"
           }
          ],
          "scatter3d": [
           {
            "type": "scatter3d",
            "line": {
             "colorbar": {
              "outlinewidth": 0,
              "ticks": ""
             }
            },
            "marker": {
             "colorbar": {
              "outlinewidth": 0,
              "ticks": ""
             }
            }
           }
          ],
          "scattermap": [
           {
            "type": "scattermap",
            "marker": {
             "colorbar": {
              "outlinewidth": 0,
              "ticks": ""
             }
            }
           }
          ],
          "scattermapbox": [
           {
            "type": "scattermapbox",
            "marker": {
             "colorbar": {
              "outlinewidth": 0,
              "ticks": ""
             }
            }
           }
          ],
          "scatterternary": [
           {
            "type": "scatterternary",
            "marker": {
             "colorbar": {
              "outlinewidth": 0,
              "ticks": ""
             }
            }
           }
          ],
          "scattercarpet": [
           {
            "type": "scattercarpet",
            "marker": {
             "colorbar": {
              "outlinewidth": 0,
              "ticks": ""
             }
            }
           }
          ],
          "carpet": [
           {
            "aaxis": {
             "endlinecolor": "#A2B1C6",
             "gridcolor": "#506784",
             "linecolor": "#506784",
             "minorgridcolor": "#506784",
             "startlinecolor": "#A2B1C6"
            },
            "baxis": {
             "endlinecolor": "#A2B1C6",
             "gridcolor": "#506784",
             "linecolor": "#506784",
             "minorgridcolor": "#506784",
             "startlinecolor": "#A2B1C6"
            },
            "type": "carpet"
           }
          ],
          "table": [
           {
            "cells": {
             "fill": {
              "color": "#506784"
             },
             "line": {
              "color": "rgb(17,17,17)"
             }
            },
            "header": {
             "fill": {
              "color": "#2a3f5f"
             },
             "line": {
              "color": "rgb(17,17,17)"
             }
            },
            "type": "table"
           }
          ],
          "barpolar": [
           {
            "marker": {
             "line": {
              "color": "rgb(17,17,17)",
              "width": 0.5
             },
             "pattern": {
              "fillmode": "overlay",
              "size": 10,
              "solidity": 0.2
             }
            },
            "type": "barpolar"
           }
          ],
          "pie": [
           {
            "automargin": true,
            "type": "pie"
           }
          ]
         },
         "layout": {
          "autotypenumbers": "strict",
          "colorway": [
           "#636efa",
           "#EF553B",
           "#00cc96",
           "#ab63fa",
           "#FFA15A",
           "#19d3f3",
           "#FF6692",
           "#B6E880",
           "#FF97FF",
           "#FECB52"
          ],
          "font": {
           "color": "#f2f5fa"
          },
          "hovermode": "closest",
          "hoverlabel": {
           "align": "left"
          },
          "paper_bgcolor": "rgb(17,17,17)",
          "plot_bgcolor": "rgb(17,17,17)",
          "polar": {
           "bgcolor": "rgb(17,17,17)",
           "angularaxis": {
            "gridcolor": "#506784",
            "linecolor": "#506784",
            "ticks": ""
           },
           "radialaxis": {
            "gridcolor": "#506784",
            "linecolor": "#506784",
            "ticks": ""
           }
          },
          "ternary": {
           "bgcolor": "rgb(17,17,17)",
           "aaxis": {
            "gridcolor": "#506784",
            "linecolor": "#506784",
            "ticks": ""
           },
           "baxis": {
            "gridcolor": "#506784",
            "linecolor": "#506784",
            "ticks": ""
           },
           "caxis": {
            "gridcolor": "#506784",
            "linecolor": "#506784",
            "ticks": ""
           }
          },
          "coloraxis": {
           "colorbar": {
            "outlinewidth": 0,
            "ticks": ""
           }
          },
          "colorscale": {
           "sequential": [
            [
             0.0,
             "#0d0887"
            ],
            [
             0.1111111111111111,
             "#46039f"
            ],
            [
             0.2222222222222222,
             "#7201a8"
            ],
            [
             0.3333333333333333,
             "#9c179e"
            ],
            [
             0.4444444444444444,
             "#bd3786"
            ],
            [
             0.5555555555555556,
             "#d8576b"
            ],
            [
             0.6666666666666666,
             "#ed7953"
            ],
            [
             0.7777777777777778,
             "#fb9f3a"
            ],
            [
             0.8888888888888888,
             "#fdca26"
            ],
            [
             1.0,
             "#f0f921"
            ]
           ],
           "sequentialminus": [
            [
             0.0,
             "#0d0887"
            ],
            [
             0.1111111111111111,
             "#46039f"
            ],
            [
             0.2222222222222222,
             "#7201a8"
            ],
            [
             0.3333333333333333,
             "#9c179e"
            ],
            [
             0.4444444444444444,
             "#bd3786"
            ],
            [
             0.5555555555555556,
             "#d8576b"
            ],
            [
             0.6666666666666666,
             "#ed7953"
            ],
            [
             0.7777777777777778,
             "#fb9f3a"
            ],
            [
             0.8888888888888888,
             "#fdca26"
            ],
            [
             1.0,
             "#f0f921"
            ]
           ],
           "diverging": [
            [
             0,
             "#8e0152"
            ],
            [
             0.1,
             "#c51b7d"
            ],
            [
             0.2,
             "#de77ae"
            ],
            [
             0.3,
             "#f1b6da"
            ],
            [
             0.4,
             "#fde0ef"
            ],
            [
             0.5,
             "#f7f7f7"
            ],
            [
             0.6,
             "#e6f5d0"
            ],
            [
             0.7,
             "#b8e186"
            ],
            [
             0.8,
             "#7fbc41"
            ],
            [
             0.9,
             "#4d9221"
            ],
            [
             1,
             "#276419"
            ]
           ]
          },
          "xaxis": {
           "gridcolor": "#283442",
           "linecolor": "#506784",
           "ticks": "",
           "title": {
            "standoff": 15
           },
           "zerolinecolor": "#283442",
           "automargin": true,
           "zerolinewidth": 2
          },
          "yaxis": {
           "gridcolor": "#283442",
           "linecolor": "#506784",
           "ticks": "",
           "title": {
            "standoff": 15
           },
           "zerolinecolor": "#283442",
           "automargin": true,
           "zerolinewidth": 2
          },
          "scene": {
           "xaxis": {
            "backgroundcolor": "rgb(17,17,17)",
            "gridcolor": "#506784",
            "linecolor": "#506784",
            "showbackground": true,
            "ticks": "",
            "zerolinecolor": "#C8D4E3",
            "gridwidth": 2
           },
           "yaxis": {
            "backgroundcolor": "rgb(17,17,17)",
            "gridcolor": "#506784",
            "linecolor": "#506784",
            "showbackground": true,
            "ticks": "",
            "zerolinecolor": "#C8D4E3",
            "gridwidth": 2
           },
           "zaxis": {
            "backgroundcolor": "rgb(17,17,17)",
            "gridcolor": "#506784",
            "linecolor": "#506784",
            "showbackground": true,
            "ticks": "",
            "zerolinecolor": "#C8D4E3",
            "gridwidth": 2
           }
          },
          "shapedefaults": {
           "line": {
            "color": "#f2f5fa"
           }
          },
          "annotationdefaults": {
           "arrowcolor": "#f2f5fa",
           "arrowhead": 0,
           "arrowwidth": 1
          },
          "geo": {
           "bgcolor": "rgb(17,17,17)",
           "landcolor": "rgb(17,17,17)",
           "subunitcolor": "#506784",
           "showland": true,
           "showlakes": true,
           "lakecolor": "rgb(17,17,17)"
          },
          "title": {
           "x": 0.05
          },
          "updatemenudefaults": {
           "bgcolor": "#506784",
           "borderwidth": 0
          },
          "sliderdefaults": {
           "bgcolor": "#C8D4E3",
           "borderwidth": 1,
           "bordercolor": "rgb(17,17,17)",
           "tickwidth": 0
          },
          "mapbox": {
           "style": "dark"
          }
         }
        },
        "xaxis": {
         "anchor": "y",
         "domain": [
          0.0,
          1.0
         ],
         "title": {
          "text": "X"
         }
        },
        "yaxis": {
         "anchor": "x",
         "domain": [
          0.0,
          1.0
         ],
         "title": {
          "text": "Probability"
         }
        },
        "legend": {
         "tracegroupgap": 0
        },
        "title": {
         "text": "Histogram Density Estimation"
        },
        "barmode": "relative",
        "height": 400,
        "width": 700
       },
       "config": {
        "plotlyServerURL": "https://plot.ly"
       }
      }
     },
     "metadata": {},
     "output_type": "display_data",
     "jetTransient": {
      "display_id": null
     }
    }
   ],
   "execution_count": 11
  },
  {
   "metadata": {
    "ExecuteTime": {
     "end_time": "2025-10-31T14:36:54.847031Z",
     "start_time": "2025-10-31T14:36:54.807986Z"
    }
   },
   "cell_type": "code",
   "source": "probs, h, x_grid = my_kernel_density_estimation(X, grid_points=1000)",
   "id": "aec5f598f89ee0c0",
   "outputs": [
    {
     "name": "stdout",
     "output_type": "stream",
     "text": [
      "1000 0.4542159576960844\n"
     ]
    }
   ],
   "execution_count": 12
  },
  {
   "metadata": {
    "ExecuteTime": {
     "end_time": "2025-10-31T14:36:55.668407Z",
     "start_time": "2025-10-31T14:36:55.594779Z"
    }
   },
   "cell_type": "code",
   "source": [
    "fig = px.line(x=x_grid, y=probs, title=f\"Kernel Density Estimation (h={h:.3f})\",\n",
    "              labels={\"x\": \"X\", \"y\": \"Density\"}, width=700, height=400)\n",
    "fig.show()"
   ],
   "id": "a78c4c6a5040318a",
   "outputs": [
    {
     "data": {
      "application/vnd.plotly.v1+json": {
       "data": [
        {
         "hovertemplate": "X=%{x}<br>Density=%{y}<extra></extra>",
         "legendgroup": "",
         "line": {
          "color": "#636efa",
          "dash": "solid"
         },
         "marker": {
          "symbol": "circle"
         },
         "mode": "lines",
         "name": "",
         "orientation": "v",
         "showlegend": false,
         "x": {
          "dtype": "f8",
          "bdata": "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"
         },
         "xaxis": "x",
         "y": {
          "dtype": "f8",
          "bdata": "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"
         },
         "yaxis": "y",
         "type": "scatter"
        }
       ],
       "layout": {
        "template": {
         "data": {
          "histogram2dcontour": [
           {
            "type": "histogram2dcontour",
            "colorbar": {
             "outlinewidth": 0,
             "ticks": ""
            },
            "colorscale": [
             [
              0.0,
              "#0d0887"
             ],
             [
              0.1111111111111111,
              "#46039f"
             ],
             [
              0.2222222222222222,
              "#7201a8"
             ],
             [
              0.3333333333333333,
              "#9c179e"
             ],
             [
              0.4444444444444444,
              "#bd3786"
             ],
             [
              0.5555555555555556,
              "#d8576b"
             ],
             [
              0.6666666666666666,
              "#ed7953"
             ],
             [
              0.7777777777777778,
              "#fb9f3a"
             ],
             [
              0.8888888888888888,
              "#fdca26"
             ],
             [
              1.0,
              "#f0f921"
             ]
            ]
           }
          ],
          "choropleth": [
           {
            "type": "choropleth",
            "colorbar": {
             "outlinewidth": 0,
             "ticks": ""
            }
           }
          ],
          "histogram2d": [
           {
            "type": "histogram2d",
            "colorbar": {
             "outlinewidth": 0,
             "ticks": ""
            },
            "colorscale": [
             [
              0.0,
              "#0d0887"
             ],
             [
              0.1111111111111111,
              "#46039f"
             ],
             [
              0.2222222222222222,
              "#7201a8"
             ],
             [
              0.3333333333333333,
              "#9c179e"
             ],
             [
              0.4444444444444444,
              "#bd3786"
             ],
             [
              0.5555555555555556,
              "#d8576b"
             ],
             [
              0.6666666666666666,
              "#ed7953"
             ],
             [
              0.7777777777777778,
              "#fb9f3a"
             ],
             [
              0.8888888888888888,
              "#fdca26"
             ],
             [
              1.0,
              "#f0f921"
             ]
            ]
           }
          ],
          "heatmap": [
           {
            "type": "heatmap",
            "colorbar": {
             "outlinewidth": 0,
             "ticks": ""
            },
            "colorscale": [
             [
              0.0,
              "#0d0887"
             ],
             [
              0.1111111111111111,
              "#46039f"
             ],
             [
              0.2222222222222222,
              "#7201a8"
             ],
             [
              0.3333333333333333,
              "#9c179e"
             ],
             [
              0.4444444444444444,
              "#bd3786"
             ],
             [
              0.5555555555555556,
              "#d8576b"
             ],
             [
              0.6666666666666666,
              "#ed7953"
             ],
             [
              0.7777777777777778,
              "#fb9f3a"
             ],
             [
              0.8888888888888888,
              "#fdca26"
             ],
             [
              1.0,
              "#f0f921"
             ]
            ]
           }
          ],
          "contourcarpet": [
           {
            "type": "contourcarpet",
            "colorbar": {
             "outlinewidth": 0,
             "ticks": ""
            }
           }
          ],
          "contour": [
           {
            "type": "contour",
            "colorbar": {
             "outlinewidth": 0,
             "ticks": ""
            },
            "colorscale": [
             [
              0.0,
              "#0d0887"
             ],
             [
              0.1111111111111111,
              "#46039f"
             ],
             [
              0.2222222222222222,
              "#7201a8"
             ],
             [
              0.3333333333333333,
              "#9c179e"
             ],
             [
              0.4444444444444444,
              "#bd3786"
             ],
             [
              0.5555555555555556,
              "#d8576b"
             ],
             [
              0.6666666666666666,
              "#ed7953"
             ],
             [
              0.7777777777777778,
              "#fb9f3a"
             ],
             [
              0.8888888888888888,
              "#fdca26"
             ],
             [
              1.0,
              "#f0f921"
             ]
            ]
           }
          ],
          "surface": [
           {
            "type": "surface",
            "colorbar": {
             "outlinewidth": 0,
             "ticks": ""
            },
            "colorscale": [
             [
              0.0,
              "#0d0887"
             ],
             [
              0.1111111111111111,
              "#46039f"
             ],
             [
              0.2222222222222222,
              "#7201a8"
             ],
             [
              0.3333333333333333,
              "#9c179e"
             ],
             [
              0.4444444444444444,
              "#bd3786"
             ],
             [
              0.5555555555555556,
              "#d8576b"
             ],
             [
              0.6666666666666666,
              "#ed7953"
             ],
             [
              0.7777777777777778,
              "#fb9f3a"
             ],
             [
              0.8888888888888888,
              "#fdca26"
             ],
             [
              1.0,
              "#f0f921"
             ]
            ]
           }
          ],
          "mesh3d": [
           {
            "type": "mesh3d",
            "colorbar": {
             "outlinewidth": 0,
             "ticks": ""
            }
           }
          ],
          "scatter": [
           {
            "marker": {
             "line": {
              "color": "#283442"
             }
            },
            "type": "scatter"
           }
          ],
          "parcoords": [
           {
            "type": "parcoords",
            "line": {
             "colorbar": {
              "outlinewidth": 0,
              "ticks": ""
             }
            }
           }
          ],
          "scatterpolargl": [
           {
            "type": "scatterpolargl",
            "marker": {
             "colorbar": {
              "outlinewidth": 0,
              "ticks": ""
             }
            }
           }
          ],
          "bar": [
           {
            "error_x": {
             "color": "#f2f5fa"
            },
            "error_y": {
             "color": "#f2f5fa"
            },
            "marker": {
             "line": {
              "color": "rgb(17,17,17)",
              "width": 0.5
             },
             "pattern": {
              "fillmode": "overlay",
              "size": 10,
              "solidity": 0.2
             }
            },
            "type": "bar"
           }
          ],
          "scattergeo": [
           {
            "type": "scattergeo",
            "marker": {
             "colorbar": {
              "outlinewidth": 0,
              "ticks": ""
             }
            }
           }
          ],
          "scatterpolar": [
           {
            "type": "scatterpolar",
            "marker": {
             "colorbar": {
              "outlinewidth": 0,
              "ticks": ""
             }
            }
           }
          ],
          "histogram": [
           {
            "marker": {
             "pattern": {
              "fillmode": "overlay",
              "size": 10,
              "solidity": 0.2
             }
            },
            "type": "histogram"
           }
          ],
          "scattergl": [
           {
            "marker": {
             "line": {
              "color": "#283442"
             }
            },
            "type": "scattergl"
           }
          ],
          "scatter3d": [
           {
            "type": "scatter3d",
            "line": {
             "colorbar": {
              "outlinewidth": 0,
              "ticks": ""
             }
            },
            "marker": {
             "colorbar": {
              "outlinewidth": 0,
              "ticks": ""
             }
            }
           }
          ],
          "scattermap": [
           {
            "type": "scattermap",
            "marker": {
             "colorbar": {
              "outlinewidth": 0,
              "ticks": ""
             }
            }
           }
          ],
          "scattermapbox": [
           {
            "type": "scattermapbox",
            "marker": {
             "colorbar": {
              "outlinewidth": 0,
              "ticks": ""
             }
            }
           }
          ],
          "scatterternary": [
           {
            "type": "scatterternary",
            "marker": {
             "colorbar": {
              "outlinewidth": 0,
              "ticks": ""
             }
            }
           }
          ],
          "scattercarpet": [
           {
            "type": "scattercarpet",
            "marker": {
             "colorbar": {
              "outlinewidth": 0,
              "ticks": ""
             }
            }
           }
          ],
          "carpet": [
           {
            "aaxis": {
             "endlinecolor": "#A2B1C6",
             "gridcolor": "#506784",
             "linecolor": "#506784",
             "minorgridcolor": "#506784",
             "startlinecolor": "#A2B1C6"
            },
            "baxis": {
             "endlinecolor": "#A2B1C6",
             "gridcolor": "#506784",
             "linecolor": "#506784",
             "minorgridcolor": "#506784",
             "startlinecolor": "#A2B1C6"
            },
            "type": "carpet"
           }
          ],
          "table": [
           {
            "cells": {
             "fill": {
              "color": "#506784"
             },
             "line": {
              "color": "rgb(17,17,17)"
             }
            },
            "header": {
             "fill": {
              "color": "#2a3f5f"
             },
             "line": {
              "color": "rgb(17,17,17)"
             }
            },
            "type": "table"
           }
          ],
          "barpolar": [
           {
            "marker": {
             "line": {
              "color": "rgb(17,17,17)",
              "width": 0.5
             },
             "pattern": {
              "fillmode": "overlay",
              "size": 10,
              "solidity": 0.2
             }
            },
            "type": "barpolar"
           }
          ],
          "pie": [
           {
            "automargin": true,
            "type": "pie"
           }
          ]
         },
         "layout": {
          "autotypenumbers": "strict",
          "colorway": [
           "#636efa",
           "#EF553B",
           "#00cc96",
           "#ab63fa",
           "#FFA15A",
           "#19d3f3",
           "#FF6692",
           "#B6E880",
           "#FF97FF",
           "#FECB52"
          ],
          "font": {
           "color": "#f2f5fa"
          },
          "hovermode": "closest",
          "hoverlabel": {
           "align": "left"
          },
          "paper_bgcolor": "rgb(17,17,17)",
          "plot_bgcolor": "rgb(17,17,17)",
          "polar": {
           "bgcolor": "rgb(17,17,17)",
           "angularaxis": {
            "gridcolor": "#506784",
            "linecolor": "#506784",
            "ticks": ""
           },
           "radialaxis": {
            "gridcolor": "#506784",
            "linecolor": "#506784",
            "ticks": ""
           }
          },
          "ternary": {
           "bgcolor": "rgb(17,17,17)",
           "aaxis": {
            "gridcolor": "#506784",
            "linecolor": "#506784",
            "ticks": ""
           },
           "baxis": {
            "gridcolor": "#506784",
            "linecolor": "#506784",
            "ticks": ""
           },
           "caxis": {
            "gridcolor": "#506784",
            "linecolor": "#506784",
            "ticks": ""
           }
          },
          "coloraxis": {
           "colorbar": {
            "outlinewidth": 0,
            "ticks": ""
           }
          },
          "colorscale": {
           "sequential": [
            [
             0.0,
             "#0d0887"
            ],
            [
             0.1111111111111111,
             "#46039f"
            ],
            [
             0.2222222222222222,
             "#7201a8"
            ],
            [
             0.3333333333333333,
             "#9c179e"
            ],
            [
             0.4444444444444444,
             "#bd3786"
            ],
            [
             0.5555555555555556,
             "#d8576b"
            ],
            [
             0.6666666666666666,
             "#ed7953"
            ],
            [
             0.7777777777777778,
             "#fb9f3a"
            ],
            [
             0.8888888888888888,
             "#fdca26"
            ],
            [
             1.0,
             "#f0f921"
            ]
           ],
           "sequentialminus": [
            [
             0.0,
             "#0d0887"
            ],
            [
             0.1111111111111111,
             "#46039f"
            ],
            [
             0.2222222222222222,
             "#7201a8"
            ],
            [
             0.3333333333333333,
             "#9c179e"
            ],
            [
             0.4444444444444444,
             "#bd3786"
            ],
            [
             0.5555555555555556,
             "#d8576b"
            ],
            [
             0.6666666666666666,
             "#ed7953"
            ],
            [
             0.7777777777777778,
             "#fb9f3a"
            ],
            [
             0.8888888888888888,
             "#fdca26"
            ],
            [
             1.0,
             "#f0f921"
            ]
           ],
           "diverging": [
            [
             0,
             "#8e0152"
            ],
            [
             0.1,
             "#c51b7d"
            ],
            [
             0.2,
             "#de77ae"
            ],
            [
             0.3,
             "#f1b6da"
            ],
            [
             0.4,
             "#fde0ef"
            ],
            [
             0.5,
             "#f7f7f7"
            ],
            [
             0.6,
             "#e6f5d0"
            ],
            [
             0.7,
             "#b8e186"
            ],
            [
             0.8,
             "#7fbc41"
            ],
            [
             0.9,
             "#4d9221"
            ],
            [
             1,
             "#276419"
            ]
           ]
          },
          "xaxis": {
           "gridcolor": "#283442",
           "linecolor": "#506784",
           "ticks": "",
           "title": {
            "standoff": 15
           },
           "zerolinecolor": "#283442",
           "automargin": true,
           "zerolinewidth": 2
          },
          "yaxis": {
           "gridcolor": "#283442",
           "linecolor": "#506784",
           "ticks": "",
           "title": {
            "standoff": 15
           },
           "zerolinecolor": "#283442",
           "automargin": true,
           "zerolinewidth": 2
          },
          "scene": {
           "xaxis": {
            "backgroundcolor": "rgb(17,17,17)",
            "gridcolor": "#506784",
            "linecolor": "#506784",
            "showbackground": true,
            "ticks": "",
            "zerolinecolor": "#C8D4E3",
            "gridwidth": 2
           },
           "yaxis": {
            "backgroundcolor": "rgb(17,17,17)",
            "gridcolor": "#506784",
            "linecolor": "#506784",
            "showbackground": true,
            "ticks": "",
            "zerolinecolor": "#C8D4E3",
            "gridwidth": 2
           },
           "zaxis": {
            "backgroundcolor": "rgb(17,17,17)",
            "gridcolor": "#506784",
            "linecolor": "#506784",
            "showbackground": true,
            "ticks": "",
            "zerolinecolor": "#C8D4E3",
            "gridwidth": 2
           }
          },
          "shapedefaults": {
           "line": {
            "color": "#f2f5fa"
           }
          },
          "annotationdefaults": {
           "arrowcolor": "#f2f5fa",
           "arrowhead": 0,
           "arrowwidth": 1
          },
          "geo": {
           "bgcolor": "rgb(17,17,17)",
           "landcolor": "rgb(17,17,17)",
           "subunitcolor": "#506784",
           "showland": true,
           "showlakes": true,
           "lakecolor": "rgb(17,17,17)"
          },
          "title": {
           "x": 0.05
          },
          "updatemenudefaults": {
           "bgcolor": "#506784",
           "borderwidth": 0
          },
          "sliderdefaults": {
           "bgcolor": "#C8D4E3",
           "borderwidth": 1,
           "bordercolor": "rgb(17,17,17)",
           "tickwidth": 0
          },
          "mapbox": {
           "style": "dark"
          }
         }
        },
        "xaxis": {
         "anchor": "y",
         "domain": [
          0.0,
          1.0
         ],
         "title": {
          "text": "X"
         }
        },
        "yaxis": {
         "anchor": "x",
         "domain": [
          0.0,
          1.0
         ],
         "title": {
          "text": "Density"
         }
        },
        "legend": {
         "tracegroupgap": 0
        },
        "title": {
         "text": "Kernel Density Estimation (h=0.454)"
        },
        "height": 400,
        "width": 700
       },
       "config": {
        "plotlyServerURL": "https://plot.ly"
       }
      }
     },
     "metadata": {},
     "output_type": "display_data",
     "jetTransient": {
      "display_id": null
     }
    }
   ],
   "execution_count": 13
  },
  {
   "metadata": {},
   "cell_type": "code",
   "outputs": [],
   "execution_count": null,
   "source": "",
   "id": "f902a7b9e13d32c5"
  }
 ],
 "metadata": {
  "kernelspec": {
   "display_name": "Python 3",
   "language": "python",
   "name": "python3"
  },
  "language_info": {
   "codemirror_mode": {
    "name": "ipython",
    "version": 2
   },
   "file_extension": ".py",
   "mimetype": "text/x-python",
   "name": "python",
   "nbconvert_exporter": "python",
   "pygments_lexer": "ipython2",
   "version": "2.7.6"
  }
 },
 "nbformat": 4,
 "nbformat_minor": 5
}
