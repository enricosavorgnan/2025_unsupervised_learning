{
 "cells": [
  {
   "metadata": {
    "collapsed": true
   },
   "cell_type": "markdown",
   "source": "### ISOMAP",
   "id": "83a034727cd1fdf9"
  },
  {
   "metadata": {
    "ExecuteTime": {
     "end_time": "2025-10-10T12:19:50.687141Z",
     "start_time": "2025-10-10T12:19:50.677355Z"
    }
   },
   "cell_type": "code",
   "source": [
    "import time\n",
    "import pandas as pd\n",
    "import numpy as np\n",
    "import plotly.express as px\n",
    "\n",
    "from sklearn.neighbors import NearestNeighbors"
   ],
   "id": "25d3250082e38a89",
   "outputs": [],
   "execution_count": 4
  },
  {
   "metadata": {
    "ExecuteTime": {
     "end_time": "2025-10-10T12:28:44.461484Z",
     "start_time": "2025-10-10T12:28:44.452387Z"
    }
   },
   "cell_type": "code",
   "source": [
    "def run_floyd_warshall(graph, data):\n",
    "    n = graph.shape[0]\n",
    "    dist = np.full((n, n), np.inf)\n",
    "\n",
    "    for i in range(n):\n",
    "        for j in range(n):\n",
    "            if i == j:\n",
    "                    dist[i, j] = 0\n",
    "\n",
    "            if graph[i, j] == 1:\n",
    "                dist[i, j] = np.linalg.norm(data.iloc[i].values - data.iloc[j].values)\n",
    "\n",
    "    for k in range(n):\n",
    "        for i in range(n):\n",
    "            for j in range(n):\n",
    "                if dist[i, j] > dist[i, k] + dist[k, j]:\n",
    "                    dist[i, j] = dist[i, k] + dist[k, j]\n",
    "\n",
    "    return dist"
   ],
   "id": "e177898d36746ad6",
   "outputs": [],
   "execution_count": 23
  },
  {
   "metadata": {
    "ExecuteTime": {
     "end_time": "2025-10-10T13:06:21.535752Z",
     "start_time": "2025-10-10T13:06:21.521221Z"
    }
   },
   "cell_type": "code",
   "source": [
    "def my_ISOMAP(data, dim=None, k=10):\n",
    "    nn = NearestNeighbors(n_neighbors=k).fit(data)\n",
    "    nn_graph = nn.kneighbors_graph(data).toarray()\n",
    "    print(nn_graph)\n",
    "\n",
    "    print(1)\n",
    "\n",
    "    dist = run_floyd_warshall(nn_graph, data)\n",
    "\n",
    "    print(2)\n",
    "\n",
    "    D2 = dist ** 2\n",
    "    n = D2.shape[0]\n",
    "    H = np.eye(n) - np.ones((n, n)) / n\n",
    "    G = -0.5 * H @ D2 @ H\n",
    "\n",
    "\n",
    "    print(3)\n",
    "\n",
    "    eigenvals, eigenvecs = np.linalg.eig(G)\n",
    "    eigenvals = np.real(eigenvals)\n",
    "\n",
    "    # sort eigenvalues and eigenvectors\n",
    "    sorted_indices = np.argsort(eigenvals)[::-1]\n",
    "    sorted_eigenvals = eigenvals[sorted_indices]\n",
    "    sorted_eigenvecs = eigenvecs[:, sorted_indices]\n",
    "\n",
    "    if dim is None:\n",
    "        px.scatter(x=np.arange(1, len(sorted_eigenvals)+1), y=sorted_eigenvals, title=\"Eigenvalues\", labels={\"x\": \"Index\", \"y\": \"Eigenvalue\"}, width=800, height=800).show()\n",
    "\n",
    "        time.sleep(2)\n",
    "        dim = int(float(input(\"Enter the number of dimensions to reduce to: \")))\n",
    "\n",
    "    # select the top d eigenvectors\n",
    "    selected_eigenvecs =  sorted_eigenvecs[:, :dim]\n",
    "\n",
    "    # project into the d dimension\n",
    "    data_iso = np.real(selected_eigenvecs * np.sqrt(sorted_eigenvals[:dim]))\n",
    "\n",
    "    return data_iso, dim, selected_eigenvecs"
   ],
   "id": "542b32abfb98d514",
   "outputs": [],
   "execution_count": 100
  },
  {
   "metadata": {
    "ExecuteTime": {
     "end_time": "2025-10-10T13:10:52.188690Z",
     "start_time": "2025-10-10T13:10:52.078558Z"
    }
   },
   "cell_type": "code",
   "source": [
    "# Swiss roll dataset\n",
    "def swiss_roll_noised(n):\n",
    "    \"\"\"\n",
    "    Parameters:\n",
    "    n: int\n",
    "        Number of points to generate\"\"\"\n",
    "\n",
    "    data = np.zeros((n,3))\n",
    "    phi = np.random.uniform(low=1.5*np.pi, high=4.5*np.pi, size=n)\n",
    "    psi = np.random.uniform(0,10,n)\n",
    "\n",
    "    data[:,0]=phi*np.cos(phi)+np.random.normal(0, .5) #x coordinate\n",
    "    data[:,1]=phi*np.sin(phi)+np.random.normal(0, .5) #y coordinate\n",
    "    data[:,2]=psi+np.random.normal(0, .5) #z coordinate\n",
    "    return data\n",
    "\n",
    "data = swiss_roll_noised(300)\n",
    "data = pd.DataFrame(data, columns=[\"X1\", \"X2\", \"X3\"])\n",
    "\n",
    "colors = np.linalg.norm(data[[\"X1\", \"X2\", \"X3\"]].values, axis=1)\n",
    "fig = px.scatter_3d(x=data[\"X1\"], y=data[\"X2\"], z=data[\"X3\"], title=\"Swiss Roll Dataset\", color=colors, opacity=0.7, width=600, height=600)\n",
    "fig.update_traces(marker=dict(size=2))\n",
    "fig.show()"
   ],
   "id": "6a5e7c309ca92dd4",
   "outputs": [
    {
     "data": {
      "application/vnd.plotly.v1+json": {
       "data": [
        {
         "hovertemplate": "x=%{x}<br>y=%{y}<br>z=%{z}<br>color=%{marker.color}<extra></extra>",
         "legendgroup": "",
         "marker": {
          "color": {
           "dtype": "f8",
           "bdata": "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"
          },
          "coloraxis": "coloraxis",
          "opacity": 0.7,
          "symbol": "circle",
          "size": 2
         },
         "mode": "markers",
         "name": "",
         "scene": "scene",
         "showlegend": false,
         "x": {
          "dtype": "f8",
          "bdata": "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"
         },
         "y": {
          "dtype": "f8",
          "bdata": "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"
         },
         "z": {
          "dtype": "f8",
          "bdata": "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"
         },
         "type": "scatter3d"
        }
       ],
       "layout": {
        "template": {
         "data": {
          "histogram2dcontour": [
           {
            "type": "histogram2dcontour",
            "colorbar": {
             "outlinewidth": 0,
             "ticks": ""
            },
            "colorscale": [
             [
              0.0,
              "#0d0887"
             ],
             [
              0.1111111111111111,
              "#46039f"
             ],
             [
              0.2222222222222222,
              "#7201a8"
             ],
             [
              0.3333333333333333,
              "#9c179e"
             ],
             [
              0.4444444444444444,
              "#bd3786"
             ],
             [
              0.5555555555555556,
              "#d8576b"
             ],
             [
              0.6666666666666666,
              "#ed7953"
             ],
             [
              0.7777777777777778,
              "#fb9f3a"
             ],
             [
              0.8888888888888888,
              "#fdca26"
             ],
             [
              1.0,
              "#f0f921"
             ]
            ]
           }
          ],
          "choropleth": [
           {
            "type": "choropleth",
            "colorbar": {
             "outlinewidth": 0,
             "ticks": ""
            }
           }
          ],
          "histogram2d": [
           {
            "type": "histogram2d",
            "colorbar": {
             "outlinewidth": 0,
             "ticks": ""
            },
            "colorscale": [
             [
              0.0,
              "#0d0887"
             ],
             [
              0.1111111111111111,
              "#46039f"
             ],
             [
              0.2222222222222222,
              "#7201a8"
             ],
             [
              0.3333333333333333,
              "#9c179e"
             ],
             [
              0.4444444444444444,
              "#bd3786"
             ],
             [
              0.5555555555555556,
              "#d8576b"
             ],
             [
              0.6666666666666666,
              "#ed7953"
             ],
             [
              0.7777777777777778,
              "#fb9f3a"
             ],
             [
              0.8888888888888888,
              "#fdca26"
             ],
             [
              1.0,
              "#f0f921"
             ]
            ]
           }
          ],
          "heatmap": [
           {
            "type": "heatmap",
            "colorbar": {
             "outlinewidth": 0,
             "ticks": ""
            },
            "colorscale": [
             [
              0.0,
              "#0d0887"
             ],
             [
              0.1111111111111111,
              "#46039f"
             ],
             [
              0.2222222222222222,
              "#7201a8"
             ],
             [
              0.3333333333333333,
              "#9c179e"
             ],
             [
              0.4444444444444444,
              "#bd3786"
             ],
             [
              0.5555555555555556,
              "#d8576b"
             ],
             [
              0.6666666666666666,
              "#ed7953"
             ],
             [
              0.7777777777777778,
              "#fb9f3a"
             ],
             [
              0.8888888888888888,
              "#fdca26"
             ],
             [
              1.0,
              "#f0f921"
             ]
            ]
           }
          ],
          "contourcarpet": [
           {
            "type": "contourcarpet",
            "colorbar": {
             "outlinewidth": 0,
             "ticks": ""
            }
           }
          ],
          "contour": [
           {
            "type": "contour",
            "colorbar": {
             "outlinewidth": 0,
             "ticks": ""
            },
            "colorscale": [
             [
              0.0,
              "#0d0887"
             ],
             [
              0.1111111111111111,
              "#46039f"
             ],
             [
              0.2222222222222222,
              "#7201a8"
             ],
             [
              0.3333333333333333,
              "#9c179e"
             ],
             [
              0.4444444444444444,
              "#bd3786"
             ],
             [
              0.5555555555555556,
              "#d8576b"
             ],
             [
              0.6666666666666666,
              "#ed7953"
             ],
             [
              0.7777777777777778,
              "#fb9f3a"
             ],
             [
              0.8888888888888888,
              "#fdca26"
             ],
             [
              1.0,
              "#f0f921"
             ]
            ]
           }
          ],
          "surface": [
           {
            "type": "surface",
            "colorbar": {
             "outlinewidth": 0,
             "ticks": ""
            },
            "colorscale": [
             [
              0.0,
              "#0d0887"
             ],
             [
              0.1111111111111111,
              "#46039f"
             ],
             [
              0.2222222222222222,
              "#7201a8"
             ],
             [
              0.3333333333333333,
              "#9c179e"
             ],
             [
              0.4444444444444444,
              "#bd3786"
             ],
             [
              0.5555555555555556,
              "#d8576b"
             ],
             [
              0.6666666666666666,
              "#ed7953"
             ],
             [
              0.7777777777777778,
              "#fb9f3a"
             ],
             [
              0.8888888888888888,
              "#fdca26"
             ],
             [
              1.0,
              "#f0f921"
             ]
            ]
           }
          ],
          "mesh3d": [
           {
            "type": "mesh3d",
            "colorbar": {
             "outlinewidth": 0,
             "ticks": ""
            }
           }
          ],
          "scatter": [
           {
            "fillpattern": {
             "fillmode": "overlay",
             "size": 10,
             "solidity": 0.2
            },
            "type": "scatter"
           }
          ],
          "parcoords": [
           {
            "type": "parcoords",
            "line": {
             "colorbar": {
              "outlinewidth": 0,
              "ticks": ""
             }
            }
           }
          ],
          "scatterpolargl": [
           {
            "type": "scatterpolargl",
            "marker": {
             "colorbar": {
              "outlinewidth": 0,
              "ticks": ""
             }
            }
           }
          ],
          "bar": [
           {
            "error_x": {
             "color": "#2a3f5f"
            },
            "error_y": {
             "color": "#2a3f5f"
            },
            "marker": {
             "line": {
              "color": "#E5ECF6",
              "width": 0.5
             },
             "pattern": {
              "fillmode": "overlay",
              "size": 10,
              "solidity": 0.2
             }
            },
            "type": "bar"
           }
          ],
          "scattergeo": [
           {
            "type": "scattergeo",
            "marker": {
             "colorbar": {
              "outlinewidth": 0,
              "ticks": ""
             }
            }
           }
          ],
          "scatterpolar": [
           {
            "type": "scatterpolar",
            "marker": {
             "colorbar": {
              "outlinewidth": 0,
              "ticks": ""
             }
            }
           }
          ],
          "histogram": [
           {
            "marker": {
             "pattern": {
              "fillmode": "overlay",
              "size": 10,
              "solidity": 0.2
             }
            },
            "type": "histogram"
           }
          ],
          "scattergl": [
           {
            "type": "scattergl",
            "marker": {
             "colorbar": {
              "outlinewidth": 0,
              "ticks": ""
             }
            }
           }
          ],
          "scatter3d": [
           {
            "type": "scatter3d",
            "line": {
             "colorbar": {
              "outlinewidth": 0,
              "ticks": ""
             }
            },
            "marker": {
             "colorbar": {
              "outlinewidth": 0,
              "ticks": ""
             }
            }
           }
          ],
          "scattermap": [
           {
            "type": "scattermap",
            "marker": {
             "colorbar": {
              "outlinewidth": 0,
              "ticks": ""
             }
            }
           }
          ],
          "scattermapbox": [
           {
            "type": "scattermapbox",
            "marker": {
             "colorbar": {
              "outlinewidth": 0,
              "ticks": ""
             }
            }
           }
          ],
          "scatterternary": [
           {
            "type": "scatterternary",
            "marker": {
             "colorbar": {
              "outlinewidth": 0,
              "ticks": ""
             }
            }
           }
          ],
          "scattercarpet": [
           {
            "type": "scattercarpet",
            "marker": {
             "colorbar": {
              "outlinewidth": 0,
              "ticks": ""
             }
            }
           }
          ],
          "carpet": [
           {
            "aaxis": {
             "endlinecolor": "#2a3f5f",
             "gridcolor": "white",
             "linecolor": "white",
             "minorgridcolor": "white",
             "startlinecolor": "#2a3f5f"
            },
            "baxis": {
             "endlinecolor": "#2a3f5f",
             "gridcolor": "white",
             "linecolor": "white",
             "minorgridcolor": "white",
             "startlinecolor": "#2a3f5f"
            },
            "type": "carpet"
           }
          ],
          "table": [
           {
            "cells": {
             "fill": {
              "color": "#EBF0F8"
             },
             "line": {
              "color": "white"
             }
            },
            "header": {
             "fill": {
              "color": "#C8D4E3"
             },
             "line": {
              "color": "white"
             }
            },
            "type": "table"
           }
          ],
          "barpolar": [
           {
            "marker": {
             "line": {
              "color": "#E5ECF6",
              "width": 0.5
             },
             "pattern": {
              "fillmode": "overlay",
              "size": 10,
              "solidity": 0.2
             }
            },
            "type": "barpolar"
           }
          ],
          "pie": [
           {
            "automargin": true,
            "type": "pie"
           }
          ]
         },
         "layout": {
          "autotypenumbers": "strict",
          "colorway": [
           "#636efa",
           "#EF553B",
           "#00cc96",
           "#ab63fa",
           "#FFA15A",
           "#19d3f3",
           "#FF6692",
           "#B6E880",
           "#FF97FF",
           "#FECB52"
          ],
          "font": {
           "color": "#2a3f5f"
          },
          "hovermode": "closest",
          "hoverlabel": {
           "align": "left"
          },
          "paper_bgcolor": "white",
          "plot_bgcolor": "#E5ECF6",
          "polar": {
           "bgcolor": "#E5ECF6",
           "angularaxis": {
            "gridcolor": "white",
            "linecolor": "white",
            "ticks": ""
           },
           "radialaxis": {
            "gridcolor": "white",
            "linecolor": "white",
            "ticks": ""
           }
          },
          "ternary": {
           "bgcolor": "#E5ECF6",
           "aaxis": {
            "gridcolor": "white",
            "linecolor": "white",
            "ticks": ""
           },
           "baxis": {
            "gridcolor": "white",
            "linecolor": "white",
            "ticks": ""
           },
           "caxis": {
            "gridcolor": "white",
            "linecolor": "white",
            "ticks": ""
           }
          },
          "coloraxis": {
           "colorbar": {
            "outlinewidth": 0,
            "ticks": ""
           }
          },
          "colorscale": {
           "sequential": [
            [
             0.0,
             "#0d0887"
            ],
            [
             0.1111111111111111,
             "#46039f"
            ],
            [
             0.2222222222222222,
             "#7201a8"
            ],
            [
             0.3333333333333333,
             "#9c179e"
            ],
            [
             0.4444444444444444,
             "#bd3786"
            ],
            [
             0.5555555555555556,
             "#d8576b"
            ],
            [
             0.6666666666666666,
             "#ed7953"
            ],
            [
             0.7777777777777778,
             "#fb9f3a"
            ],
            [
             0.8888888888888888,
             "#fdca26"
            ],
            [
             1.0,
             "#f0f921"
            ]
           ],
           "sequentialminus": [
            [
             0.0,
             "#0d0887"
            ],
            [
             0.1111111111111111,
             "#46039f"
            ],
            [
             0.2222222222222222,
             "#7201a8"
            ],
            [
             0.3333333333333333,
             "#9c179e"
            ],
            [
             0.4444444444444444,
             "#bd3786"
            ],
            [
             0.5555555555555556,
             "#d8576b"
            ],
            [
             0.6666666666666666,
             "#ed7953"
            ],
            [
             0.7777777777777778,
             "#fb9f3a"
            ],
            [
             0.8888888888888888,
             "#fdca26"
            ],
            [
             1.0,
             "#f0f921"
            ]
           ],
           "diverging": [
            [
             0,
             "#8e0152"
            ],
            [
             0.1,
             "#c51b7d"
            ],
            [
             0.2,
             "#de77ae"
            ],
            [
             0.3,
             "#f1b6da"
            ],
            [
             0.4,
             "#fde0ef"
            ],
            [
             0.5,
             "#f7f7f7"
            ],
            [
             0.6,
             "#e6f5d0"
            ],
            [
             0.7,
             "#b8e186"
            ],
            [
             0.8,
             "#7fbc41"
            ],
            [
             0.9,
             "#4d9221"
            ],
            [
             1,
             "#276419"
            ]
           ]
          },
          "xaxis": {
           "gridcolor": "white",
           "linecolor": "white",
           "ticks": "",
           "title": {
            "standoff": 15
           },
           "zerolinecolor": "white",
           "automargin": true,
           "zerolinewidth": 2
          },
          "yaxis": {
           "gridcolor": "white",
           "linecolor": "white",
           "ticks": "",
           "title": {
            "standoff": 15
           },
           "zerolinecolor": "white",
           "automargin": true,
           "zerolinewidth": 2
          },
          "scene": {
           "xaxis": {
            "backgroundcolor": "#E5ECF6",
            "gridcolor": "white",
            "linecolor": "white",
            "showbackground": true,
            "ticks": "",
            "zerolinecolor": "white",
            "gridwidth": 2
           },
           "yaxis": {
            "backgroundcolor": "#E5ECF6",
            "gridcolor": "white",
            "linecolor": "white",
            "showbackground": true,
            "ticks": "",
            "zerolinecolor": "white",
            "gridwidth": 2
           },
           "zaxis": {
            "backgroundcolor": "#E5ECF6",
            "gridcolor": "white",
            "linecolor": "white",
            "showbackground": true,
            "ticks": "",
            "zerolinecolor": "white",
            "gridwidth": 2
           }
          },
          "shapedefaults": {
           "line": {
            "color": "#2a3f5f"
           }
          },
          "annotationdefaults": {
           "arrowcolor": "#2a3f5f",
           "arrowhead": 0,
           "arrowwidth": 1
          },
          "geo": {
           "bgcolor": "white",
           "landcolor": "#E5ECF6",
           "subunitcolor": "white",
           "showland": true,
           "showlakes": true,
           "lakecolor": "white"
          },
          "title": {
           "x": 0.05
          },
          "mapbox": {
           "style": "light"
          }
         }
        },
        "scene": {
         "domain": {
          "x": [
           0.0,
           1.0
          ],
          "y": [
           0.0,
           1.0
          ]
         },
         "xaxis": {
          "title": {
           "text": "x"
          }
         },
         "yaxis": {
          "title": {
           "text": "y"
          }
         },
         "zaxis": {
          "title": {
           "text": "z"
          }
         }
        },
        "coloraxis": {
         "colorbar": {
          "title": {
           "text": "color"
          }
         },
         "colorscale": [
          [
           0.0,
           "#0d0887"
          ],
          [
           0.1111111111111111,
           "#46039f"
          ],
          [
           0.2222222222222222,
           "#7201a8"
          ],
          [
           0.3333333333333333,
           "#9c179e"
          ],
          [
           0.4444444444444444,
           "#bd3786"
          ],
          [
           0.5555555555555556,
           "#d8576b"
          ],
          [
           0.6666666666666666,
           "#ed7953"
          ],
          [
           0.7777777777777778,
           "#fb9f3a"
          ],
          [
           0.8888888888888888,
           "#fdca26"
          ],
          [
           1.0,
           "#f0f921"
          ]
         ]
        },
        "legend": {
         "tracegroupgap": 0
        },
        "title": {
         "text": "Swiss Roll Dataset"
        },
        "height": 600,
        "width": 600
       },
       "config": {
        "plotlyServerURL": "https://plot.ly"
       }
      }
     },
     "metadata": {},
     "output_type": "display_data",
     "jetTransient": {
      "display_id": null
     }
    }
   ],
   "execution_count": 108
  },
  {
   "metadata": {
    "ExecuteTime": {
     "end_time": "2025-10-10T13:06:34.134221Z",
     "start_time": "2025-10-10T13:06:22.276463Z"
    }
   },
   "cell_type": "code",
   "source": "data_isomap, dim, eigenvecs = my_ISOMAP(data, dim=2)",
   "id": "e863789be8ab35ea",
   "outputs": [
    {
     "name": "stdout",
     "output_type": "stream",
     "text": [
      "[[1. 0. 0. ... 0. 0. 0.]\n",
      " [0. 1. 0. ... 0. 0. 0.]\n",
      " [0. 0. 1. ... 0. 0. 0.]\n",
      " ...\n",
      " [0. 0. 0. ... 1. 0. 0.]\n",
      " [0. 0. 0. ... 0. 1. 0.]\n",
      " [0. 0. 0. ... 0. 0. 1.]]\n",
      "1\n",
      "2\n",
      "3\n"
     ]
    }
   ],
   "execution_count": 102
  },
  {
   "metadata": {
    "ExecuteTime": {
     "end_time": "2025-10-10T12:53:43.435680Z",
     "start_time": "2025-10-10T12:53:43.371140Z"
    }
   },
   "cell_type": "code",
   "source": "px.scatter(x=data_isomap[:, 0], y=data_isomap[:, 1], title=f\"ISOMAP with {dim} dimensions\", width=600, height=600).show()",
   "id": "a3777bbf3fafeb47",
   "outputs": [
    {
     "data": {
      "application/vnd.plotly.v1+json": {
       "data": [
        {
         "hovertemplate": "x=%{x}<br>y=%{y}<extra></extra>",
         "legendgroup": "",
         "marker": {
          "color": "#636efa",
          "symbol": "circle"
         },
         "mode": "markers",
         "name": "",
         "orientation": "v",
         "showlegend": false,
         "x": {
          "dtype": "f8",
          "bdata": "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"
         },
         "xaxis": "x",
         "y": {
          "dtype": "f8",
          "bdata": "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"
         },
         "yaxis": "y",
         "type": "scatter"
        }
       ],
       "layout": {
        "template": {
         "data": {
          "histogram2dcontour": [
           {
            "type": "histogram2dcontour",
            "colorbar": {
             "outlinewidth": 0,
             "ticks": ""
            },
            "colorscale": [
             [
              0.0,
              "#0d0887"
             ],
             [
              0.1111111111111111,
              "#46039f"
             ],
             [
              0.2222222222222222,
              "#7201a8"
             ],
             [
              0.3333333333333333,
              "#9c179e"
             ],
             [
              0.4444444444444444,
              "#bd3786"
             ],
             [
              0.5555555555555556,
              "#d8576b"
             ],
             [
              0.6666666666666666,
              "#ed7953"
             ],
             [
              0.7777777777777778,
              "#fb9f3a"
             ],
             [
              0.8888888888888888,
              "#fdca26"
             ],
             [
              1.0,
              "#f0f921"
             ]
            ]
           }
          ],
          "choropleth": [
           {
            "type": "choropleth",
            "colorbar": {
             "outlinewidth": 0,
             "ticks": ""
            }
           }
          ],
          "histogram2d": [
           {
            "type": "histogram2d",
            "colorbar": {
             "outlinewidth": 0,
             "ticks": ""
            },
            "colorscale": [
             [
              0.0,
              "#0d0887"
             ],
             [
              0.1111111111111111,
              "#46039f"
             ],
             [
              0.2222222222222222,
              "#7201a8"
             ],
             [
              0.3333333333333333,
              "#9c179e"
             ],
             [
              0.4444444444444444,
              "#bd3786"
             ],
             [
              0.5555555555555556,
              "#d8576b"
             ],
             [
              0.6666666666666666,
              "#ed7953"
             ],
             [
              0.7777777777777778,
              "#fb9f3a"
             ],
             [
              0.8888888888888888,
              "#fdca26"
             ],
             [
              1.0,
              "#f0f921"
             ]
            ]
           }
          ],
          "heatmap": [
           {
            "type": "heatmap",
            "colorbar": {
             "outlinewidth": 0,
             "ticks": ""
            },
            "colorscale": [
             [
              0.0,
              "#0d0887"
             ],
             [
              0.1111111111111111,
              "#46039f"
             ],
             [
              0.2222222222222222,
              "#7201a8"
             ],
             [
              0.3333333333333333,
              "#9c179e"
             ],
             [
              0.4444444444444444,
              "#bd3786"
             ],
             [
              0.5555555555555556,
              "#d8576b"
             ],
             [
              0.6666666666666666,
              "#ed7953"
             ],
             [
              0.7777777777777778,
              "#fb9f3a"
             ],
             [
              0.8888888888888888,
              "#fdca26"
             ],
             [
              1.0,
              "#f0f921"
             ]
            ]
           }
          ],
          "contourcarpet": [
           {
            "type": "contourcarpet",
            "colorbar": {
             "outlinewidth": 0,
             "ticks": ""
            }
           }
          ],
          "contour": [
           {
            "type": "contour",
            "colorbar": {
             "outlinewidth": 0,
             "ticks": ""
            },
            "colorscale": [
             [
              0.0,
              "#0d0887"
             ],
             [
              0.1111111111111111,
              "#46039f"
             ],
             [
              0.2222222222222222,
              "#7201a8"
             ],
             [
              0.3333333333333333,
              "#9c179e"
             ],
             [
              0.4444444444444444,
              "#bd3786"
             ],
             [
              0.5555555555555556,
              "#d8576b"
             ],
             [
              0.6666666666666666,
              "#ed7953"
             ],
             [
              0.7777777777777778,
              "#fb9f3a"
             ],
             [
              0.8888888888888888,
              "#fdca26"
             ],
             [
              1.0,
              "#f0f921"
             ]
            ]
           }
          ],
          "surface": [
           {
            "type": "surface",
            "colorbar": {
             "outlinewidth": 0,
             "ticks": ""
            },
            "colorscale": [
             [
              0.0,
              "#0d0887"
             ],
             [
              0.1111111111111111,
              "#46039f"
             ],
             [
              0.2222222222222222,
              "#7201a8"
             ],
             [
              0.3333333333333333,
              "#9c179e"
             ],
             [
              0.4444444444444444,
              "#bd3786"
             ],
             [
              0.5555555555555556,
              "#d8576b"
             ],
             [
              0.6666666666666666,
              "#ed7953"
             ],
             [
              0.7777777777777778,
              "#fb9f3a"
             ],
             [
              0.8888888888888888,
              "#fdca26"
             ],
             [
              1.0,
              "#f0f921"
             ]
            ]
           }
          ],
          "mesh3d": [
           {
            "type": "mesh3d",
            "colorbar": {
             "outlinewidth": 0,
             "ticks": ""
            }
           }
          ],
          "scatter": [
           {
            "fillpattern": {
             "fillmode": "overlay",
             "size": 10,
             "solidity": 0.2
            },
            "type": "scatter"
           }
          ],
          "parcoords": [
           {
            "type": "parcoords",
            "line": {
             "colorbar": {
              "outlinewidth": 0,
              "ticks": ""
             }
            }
           }
          ],
          "scatterpolargl": [
           {
            "type": "scatterpolargl",
            "marker": {
             "colorbar": {
              "outlinewidth": 0,
              "ticks": ""
             }
            }
           }
          ],
          "bar": [
           {
            "error_x": {
             "color": "#2a3f5f"
            },
            "error_y": {
             "color": "#2a3f5f"
            },
            "marker": {
             "line": {
              "color": "#E5ECF6",
              "width": 0.5
             },
             "pattern": {
              "fillmode": "overlay",
              "size": 10,
              "solidity": 0.2
             }
            },
            "type": "bar"
           }
          ],
          "scattergeo": [
           {
            "type": "scattergeo",
            "marker": {
             "colorbar": {
              "outlinewidth": 0,
              "ticks": ""
             }
            }
           }
          ],
          "scatterpolar": [
           {
            "type": "scatterpolar",
            "marker": {
             "colorbar": {
              "outlinewidth": 0,
              "ticks": ""
             }
            }
           }
          ],
          "histogram": [
           {
            "marker": {
             "pattern": {
              "fillmode": "overlay",
              "size": 10,
              "solidity": 0.2
             }
            },
            "type": "histogram"
           }
          ],
          "scattergl": [
           {
            "type": "scattergl",
            "marker": {
             "colorbar": {
              "outlinewidth": 0,
              "ticks": ""
             }
            }
           }
          ],
          "scatter3d": [
           {
            "type": "scatter3d",
            "line": {
             "colorbar": {
              "outlinewidth": 0,
              "ticks": ""
             }
            },
            "marker": {
             "colorbar": {
              "outlinewidth": 0,
              "ticks": ""
             }
            }
           }
          ],
          "scattermap": [
           {
            "type": "scattermap",
            "marker": {
             "colorbar": {
              "outlinewidth": 0,
              "ticks": ""
             }
            }
           }
          ],
          "scattermapbox": [
           {
            "type": "scattermapbox",
            "marker": {
             "colorbar": {
              "outlinewidth": 0,
              "ticks": ""
             }
            }
           }
          ],
          "scatterternary": [
           {
            "type": "scatterternary",
            "marker": {
             "colorbar": {
              "outlinewidth": 0,
              "ticks": ""
             }
            }
           }
          ],
          "scattercarpet": [
           {
            "type": "scattercarpet",
            "marker": {
             "colorbar": {
              "outlinewidth": 0,
              "ticks": ""
             }
            }
           }
          ],
          "carpet": [
           {
            "aaxis": {
             "endlinecolor": "#2a3f5f",
             "gridcolor": "white",
             "linecolor": "white",
             "minorgridcolor": "white",
             "startlinecolor": "#2a3f5f"
            },
            "baxis": {
             "endlinecolor": "#2a3f5f",
             "gridcolor": "white",
             "linecolor": "white",
             "minorgridcolor": "white",
             "startlinecolor": "#2a3f5f"
            },
            "type": "carpet"
           }
          ],
          "table": [
           {
            "cells": {
             "fill": {
              "color": "#EBF0F8"
             },
             "line": {
              "color": "white"
             }
            },
            "header": {
             "fill": {
              "color": "#C8D4E3"
             },
             "line": {
              "color": "white"
             }
            },
            "type": "table"
           }
          ],
          "barpolar": [
           {
            "marker": {
             "line": {
              "color": "#E5ECF6",
              "width": 0.5
             },
             "pattern": {
              "fillmode": "overlay",
              "size": 10,
              "solidity": 0.2
             }
            },
            "type": "barpolar"
           }
          ],
          "pie": [
           {
            "automargin": true,
            "type": "pie"
           }
          ]
         },
         "layout": {
          "autotypenumbers": "strict",
          "colorway": [
           "#636efa",
           "#EF553B",
           "#00cc96",
           "#ab63fa",
           "#FFA15A",
           "#19d3f3",
           "#FF6692",
           "#B6E880",
           "#FF97FF",
           "#FECB52"
          ],
          "font": {
           "color": "#2a3f5f"
          },
          "hovermode": "closest",
          "hoverlabel": {
           "align": "left"
          },
          "paper_bgcolor": "white",
          "plot_bgcolor": "#E5ECF6",
          "polar": {
           "bgcolor": "#E5ECF6",
           "angularaxis": {
            "gridcolor": "white",
            "linecolor": "white",
            "ticks": ""
           },
           "radialaxis": {
            "gridcolor": "white",
            "linecolor": "white",
            "ticks": ""
           }
          },
          "ternary": {
           "bgcolor": "#E5ECF6",
           "aaxis": {
            "gridcolor": "white",
            "linecolor": "white",
            "ticks": ""
           },
           "baxis": {
            "gridcolor": "white",
            "linecolor": "white",
            "ticks": ""
           },
           "caxis": {
            "gridcolor": "white",
            "linecolor": "white",
            "ticks": ""
           }
          },
          "coloraxis": {
           "colorbar": {
            "outlinewidth": 0,
            "ticks": ""
           }
          },
          "colorscale": {
           "sequential": [
            [
             0.0,
             "#0d0887"
            ],
            [
             0.1111111111111111,
             "#46039f"
            ],
            [
             0.2222222222222222,
             "#7201a8"
            ],
            [
             0.3333333333333333,
             "#9c179e"
            ],
            [
             0.4444444444444444,
             "#bd3786"
            ],
            [
             0.5555555555555556,
             "#d8576b"
            ],
            [
             0.6666666666666666,
             "#ed7953"
            ],
            [
             0.7777777777777778,
             "#fb9f3a"
            ],
            [
             0.8888888888888888,
             "#fdca26"
            ],
            [
             1.0,
             "#f0f921"
            ]
           ],
           "sequentialminus": [
            [
             0.0,
             "#0d0887"
            ],
            [
             0.1111111111111111,
             "#46039f"
            ],
            [
             0.2222222222222222,
             "#7201a8"
            ],
            [
             0.3333333333333333,
             "#9c179e"
            ],
            [
             0.4444444444444444,
             "#bd3786"
            ],
            [
             0.5555555555555556,
             "#d8576b"
            ],
            [
             0.6666666666666666,
             "#ed7953"
            ],
            [
             0.7777777777777778,
             "#fb9f3a"
            ],
            [
             0.8888888888888888,
             "#fdca26"
            ],
            [
             1.0,
             "#f0f921"
            ]
           ],
           "diverging": [
            [
             0,
             "#8e0152"
            ],
            [
             0.1,
             "#c51b7d"
            ],
            [
             0.2,
             "#de77ae"
            ],
            [
             0.3,
             "#f1b6da"
            ],
            [
             0.4,
             "#fde0ef"
            ],
            [
             0.5,
             "#f7f7f7"
            ],
            [
             0.6,
             "#e6f5d0"
            ],
            [
             0.7,
             "#b8e186"
            ],
            [
             0.8,
             "#7fbc41"
            ],
            [
             0.9,
             "#4d9221"
            ],
            [
             1,
             "#276419"
            ]
           ]
          },
          "xaxis": {
           "gridcolor": "white",
           "linecolor": "white",
           "ticks": "",
           "title": {
            "standoff": 15
           },
           "zerolinecolor": "white",
           "automargin": true,
           "zerolinewidth": 2
          },
          "yaxis": {
           "gridcolor": "white",
           "linecolor": "white",
           "ticks": "",
           "title": {
            "standoff": 15
           },
           "zerolinecolor": "white",
           "automargin": true,
           "zerolinewidth": 2
          },
          "scene": {
           "xaxis": {
            "backgroundcolor": "#E5ECF6",
            "gridcolor": "white",
            "linecolor": "white",
            "showbackground": true,
            "ticks": "",
            "zerolinecolor": "white",
            "gridwidth": 2
           },
           "yaxis": {
            "backgroundcolor": "#E5ECF6",
            "gridcolor": "white",
            "linecolor": "white",
            "showbackground": true,
            "ticks": "",
            "zerolinecolor": "white",
            "gridwidth": 2
           },
           "zaxis": {
            "backgroundcolor": "#E5ECF6",
            "gridcolor": "white",
            "linecolor": "white",
            "showbackground": true,
            "ticks": "",
            "zerolinecolor": "white",
            "gridwidth": 2
           }
          },
          "shapedefaults": {
           "line": {
            "color": "#2a3f5f"
           }
          },
          "annotationdefaults": {
           "arrowcolor": "#2a3f5f",
           "arrowhead": 0,
           "arrowwidth": 1
          },
          "geo": {
           "bgcolor": "white",
           "landcolor": "#E5ECF6",
           "subunitcolor": "white",
           "showland": true,
           "showlakes": true,
           "lakecolor": "white"
          },
          "title": {
           "x": 0.05
          },
          "mapbox": {
           "style": "light"
          }
         }
        },
        "xaxis": {
         "anchor": "y",
         "domain": [
          0.0,
          1.0
         ],
         "title": {
          "text": "x"
         }
        },
        "yaxis": {
         "anchor": "x",
         "domain": [
          0.0,
          1.0
         ],
         "title": {
          "text": "y"
         }
        },
        "legend": {
         "tracegroupgap": 0
        },
        "title": {
         "text": "ISOMAP with 2 dimensions"
        },
        "height": 600,
        "width": 600
       },
       "config": {
        "plotlyServerURL": "https://plot.ly"
       }
      }
     },
     "metadata": {},
     "output_type": "display_data",
     "jetTransient": {
      "display_id": null
     }
    }
   ],
   "execution_count": 88
  },
  {
   "metadata": {
    "ExecuteTime": {
     "end_time": "2025-10-10T13:13:14.396710Z",
     "start_time": "2025-10-10T13:13:14.342224Z"
    }
   },
   "cell_type": "code",
   "source": [
    "from sklearn.manifold import Isomap\n",
    "\n",
    "model = Isomap(n_neighbors=10, n_components=2)\n",
    "data_sklearn = model.fit_transform(data)\n",
    "colors_iso = np.linalg.norm(data_sklearn, axis=1)"
   ],
   "id": "79d23778ba849b5c",
   "outputs": [],
   "execution_count": 113
  },
  {
   "metadata": {
    "ExecuteTime": {
     "end_time": "2025-10-10T13:14:36.738541Z",
     "start_time": "2025-10-10T13:14:36.670403Z"
    }
   },
   "cell_type": "code",
   "source": [
    "fig = px.scatter(x=data_sklearn[:, 0], y=data_sklearn[:, 1], title=f\"ISOMAP with {dim} dimensions (sklearn)\", color=colors_iso, width=1000, height=1000)\n",
    "fig.update_traces(marker=dict(size=1))\n",
    "# add the starting data points\n",
    "fig.add_scatter(\n",
    "    x=data_isomap[:, 0],\n",
    "    y=data_isomap[:, 1],\n",
    "    mode='markers',\n",
    "    marker=dict(color=colors, size=5),\n",
    "    name='My ISOMAP'\n",
    ")\n",
    "\n",
    "fig.show()"
   ],
   "id": "567850030bfafa6e",
   "outputs": [
    {
     "data": {
      "application/vnd.plotly.v1+json": {
       "data": [
        {
         "hovertemplate": "x=%{x}<br>y=%{y}<br>color=%{marker.color}<extra></extra>",
         "legendgroup": "",
         "marker": {
          "color": {
           "dtype": "f8",
           "bdata": "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"
          },
          "coloraxis": "coloraxis",
          "symbol": "circle",
          "size": 1
         },
         "mode": "markers",
         "name": "",
         "orientation": "v",
         "showlegend": false,
         "x": {
          "dtype": "f8",
          "bdata": "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"
         },
         "xaxis": "x",
         "y": {
          "dtype": "f8",
          "bdata": "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"
         },
         "yaxis": "y",
         "type": "scatter"
        },
        {
         "marker": {
          "color": {
           "dtype": "f8",
           "bdata": "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"
          },
          "size": 5
         },
         "mode": "markers",
         "name": "My ISOMAP",
         "x": {
          "dtype": "f8",
          "bdata": "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"
         },
         "y": {
          "dtype": "f8",
          "bdata": "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"
         },
         "type": "scatter"
        }
       ],
       "layout": {
        "template": {
         "data": {
          "histogram2dcontour": [
           {
            "type": "histogram2dcontour",
            "colorbar": {
             "outlinewidth": 0,
             "ticks": ""
            },
            "colorscale": [
             [
              0.0,
              "#0d0887"
             ],
             [
              0.1111111111111111,
              "#46039f"
             ],
             [
              0.2222222222222222,
              "#7201a8"
             ],
             [
              0.3333333333333333,
              "#9c179e"
             ],
             [
              0.4444444444444444,
              "#bd3786"
             ],
             [
              0.5555555555555556,
              "#d8576b"
             ],
             [
              0.6666666666666666,
              "#ed7953"
             ],
             [
              0.7777777777777778,
              "#fb9f3a"
             ],
             [
              0.8888888888888888,
              "#fdca26"
             ],
             [
              1.0,
              "#f0f921"
             ]
            ]
           }
          ],
          "choropleth": [
           {
            "type": "choropleth",
            "colorbar": {
             "outlinewidth": 0,
             "ticks": ""
            }
           }
          ],
          "histogram2d": [
           {
            "type": "histogram2d",
            "colorbar": {
             "outlinewidth": 0,
             "ticks": ""
            },
            "colorscale": [
             [
              0.0,
              "#0d0887"
             ],
             [
              0.1111111111111111,
              "#46039f"
             ],
             [
              0.2222222222222222,
              "#7201a8"
             ],
             [
              0.3333333333333333,
              "#9c179e"
             ],
             [
              0.4444444444444444,
              "#bd3786"
             ],
             [
              0.5555555555555556,
              "#d8576b"
             ],
             [
              0.6666666666666666,
              "#ed7953"
             ],
             [
              0.7777777777777778,
              "#fb9f3a"
             ],
             [
              0.8888888888888888,
              "#fdca26"
             ],
             [
              1.0,
              "#f0f921"
             ]
            ]
           }
          ],
          "heatmap": [
           {
            "type": "heatmap",
            "colorbar": {
             "outlinewidth": 0,
             "ticks": ""
            },
            "colorscale": [
             [
              0.0,
              "#0d0887"
             ],
             [
              0.1111111111111111,
              "#46039f"
             ],
             [
              0.2222222222222222,
              "#7201a8"
             ],
             [
              0.3333333333333333,
              "#9c179e"
             ],
             [
              0.4444444444444444,
              "#bd3786"
             ],
             [
              0.5555555555555556,
              "#d8576b"
             ],
             [
              0.6666666666666666,
              "#ed7953"
             ],
             [
              0.7777777777777778,
              "#fb9f3a"
             ],
             [
              0.8888888888888888,
              "#fdca26"
             ],
             [
              1.0,
              "#f0f921"
             ]
            ]
           }
          ],
          "contourcarpet": [
           {
            "type": "contourcarpet",
            "colorbar": {
             "outlinewidth": 0,
             "ticks": ""
            }
           }
          ],
          "contour": [
           {
            "type": "contour",
            "colorbar": {
             "outlinewidth": 0,
             "ticks": ""
            },
            "colorscale": [
             [
              0.0,
              "#0d0887"
             ],
             [
              0.1111111111111111,
              "#46039f"
             ],
             [
              0.2222222222222222,
              "#7201a8"
             ],
             [
              0.3333333333333333,
              "#9c179e"
             ],
             [
              0.4444444444444444,
              "#bd3786"
             ],
             [
              0.5555555555555556,
              "#d8576b"
             ],
             [
              0.6666666666666666,
              "#ed7953"
             ],
             [
              0.7777777777777778,
              "#fb9f3a"
             ],
             [
              0.8888888888888888,
              "#fdca26"
             ],
             [
              1.0,
              "#f0f921"
             ]
            ]
           }
          ],
          "surface": [
           {
            "type": "surface",
            "colorbar": {
             "outlinewidth": 0,
             "ticks": ""
            },
            "colorscale": [
             [
              0.0,
              "#0d0887"
             ],
             [
              0.1111111111111111,
              "#46039f"
             ],
             [
              0.2222222222222222,
              "#7201a8"
             ],
             [
              0.3333333333333333,
              "#9c179e"
             ],
             [
              0.4444444444444444,
              "#bd3786"
             ],
             [
              0.5555555555555556,
              "#d8576b"
             ],
             [
              0.6666666666666666,
              "#ed7953"
             ],
             [
              0.7777777777777778,
              "#fb9f3a"
             ],
             [
              0.8888888888888888,
              "#fdca26"
             ],
             [
              1.0,
              "#f0f921"
             ]
            ]
           }
          ],
          "mesh3d": [
           {
            "type": "mesh3d",
            "colorbar": {
             "outlinewidth": 0,
             "ticks": ""
            }
           }
          ],
          "scatter": [
           {
            "fillpattern": {
             "fillmode": "overlay",
             "size": 10,
             "solidity": 0.2
            },
            "type": "scatter"
           }
          ],
          "parcoords": [
           {
            "type": "parcoords",
            "line": {
             "colorbar": {
              "outlinewidth": 0,
              "ticks": ""
             }
            }
           }
          ],
          "scatterpolargl": [
           {
            "type": "scatterpolargl",
            "marker": {
             "colorbar": {
              "outlinewidth": 0,
              "ticks": ""
             }
            }
           }
          ],
          "bar": [
           {
            "error_x": {
             "color": "#2a3f5f"
            },
            "error_y": {
             "color": "#2a3f5f"
            },
            "marker": {
             "line": {
              "color": "#E5ECF6",
              "width": 0.5
             },
             "pattern": {
              "fillmode": "overlay",
              "size": 10,
              "solidity": 0.2
             }
            },
            "type": "bar"
           }
          ],
          "scattergeo": [
           {
            "type": "scattergeo",
            "marker": {
             "colorbar": {
              "outlinewidth": 0,
              "ticks": ""
             }
            }
           }
          ],
          "scatterpolar": [
           {
            "type": "scatterpolar",
            "marker": {
             "colorbar": {
              "outlinewidth": 0,
              "ticks": ""
             }
            }
           }
          ],
          "histogram": [
           {
            "marker": {
             "pattern": {
              "fillmode": "overlay",
              "size": 10,
              "solidity": 0.2
             }
            },
            "type": "histogram"
           }
          ],
          "scattergl": [
           {
            "type": "scattergl",
            "marker": {
             "colorbar": {
              "outlinewidth": 0,
              "ticks": ""
             }
            }
           }
          ],
          "scatter3d": [
           {
            "type": "scatter3d",
            "line": {
             "colorbar": {
              "outlinewidth": 0,
              "ticks": ""
             }
            },
            "marker": {
             "colorbar": {
              "outlinewidth": 0,
              "ticks": ""
             }
            }
           }
          ],
          "scattermap": [
           {
            "type": "scattermap",
            "marker": {
             "colorbar": {
              "outlinewidth": 0,
              "ticks": ""
             }
            }
           }
          ],
          "scattermapbox": [
           {
            "type": "scattermapbox",
            "marker": {
             "colorbar": {
              "outlinewidth": 0,
              "ticks": ""
             }
            }
           }
          ],
          "scatterternary": [
           {
            "type": "scatterternary",
            "marker": {
             "colorbar": {
              "outlinewidth": 0,
              "ticks": ""
             }
            }
           }
          ],
          "scattercarpet": [
           {
            "type": "scattercarpet",
            "marker": {
             "colorbar": {
              "outlinewidth": 0,
              "ticks": ""
             }
            }
           }
          ],
          "carpet": [
           {
            "aaxis": {
             "endlinecolor": "#2a3f5f",
             "gridcolor": "white",
             "linecolor": "white",
             "minorgridcolor": "white",
             "startlinecolor": "#2a3f5f"
            },
            "baxis": {
             "endlinecolor": "#2a3f5f",
             "gridcolor": "white",
             "linecolor": "white",
             "minorgridcolor": "white",
             "startlinecolor": "#2a3f5f"
            },
            "type": "carpet"
           }
          ],
          "table": [
           {
            "cells": {
             "fill": {
              "color": "#EBF0F8"
             },
             "line": {
              "color": "white"
             }
            },
            "header": {
             "fill": {
              "color": "#C8D4E3"
             },
             "line": {
              "color": "white"
             }
            },
            "type": "table"
           }
          ],
          "barpolar": [
           {
            "marker": {
             "line": {
              "color": "#E5ECF6",
              "width": 0.5
             },
             "pattern": {
              "fillmode": "overlay",
              "size": 10,
              "solidity": 0.2
             }
            },
            "type": "barpolar"
           }
          ],
          "pie": [
           {
            "automargin": true,
            "type": "pie"
           }
          ]
         },
         "layout": {
          "autotypenumbers": "strict",
          "colorway": [
           "#636efa",
           "#EF553B",
           "#00cc96",
           "#ab63fa",
           "#FFA15A",
           "#19d3f3",
           "#FF6692",
           "#B6E880",
           "#FF97FF",
           "#FECB52"
          ],
          "font": {
           "color": "#2a3f5f"
          },
          "hovermode": "closest",
          "hoverlabel": {
           "align": "left"
          },
          "paper_bgcolor": "white",
          "plot_bgcolor": "#E5ECF6",
          "polar": {
           "bgcolor": "#E5ECF6",
           "angularaxis": {
            "gridcolor": "white",
            "linecolor": "white",
            "ticks": ""
           },
           "radialaxis": {
            "gridcolor": "white",
            "linecolor": "white",
            "ticks": ""
           }
          },
          "ternary": {
           "bgcolor": "#E5ECF6",
           "aaxis": {
            "gridcolor": "white",
            "linecolor": "white",
            "ticks": ""
           },
           "baxis": {
            "gridcolor": "white",
            "linecolor": "white",
            "ticks": ""
           },
           "caxis": {
            "gridcolor": "white",
            "linecolor": "white",
            "ticks": ""
           }
          },
          "coloraxis": {
           "colorbar": {
            "outlinewidth": 0,
            "ticks": ""
           }
          },
          "colorscale": {
           "sequential": [
            [
             0.0,
             "#0d0887"
            ],
            [
             0.1111111111111111,
             "#46039f"
            ],
            [
             0.2222222222222222,
             "#7201a8"
            ],
            [
             0.3333333333333333,
             "#9c179e"
            ],
            [
             0.4444444444444444,
             "#bd3786"
            ],
            [
             0.5555555555555556,
             "#d8576b"
            ],
            [
             0.6666666666666666,
             "#ed7953"
            ],
            [
             0.7777777777777778,
             "#fb9f3a"
            ],
            [
             0.8888888888888888,
             "#fdca26"
            ],
            [
             1.0,
             "#f0f921"
            ]
           ],
           "sequentialminus": [
            [
             0.0,
             "#0d0887"
            ],
            [
             0.1111111111111111,
             "#46039f"
            ],
            [
             0.2222222222222222,
             "#7201a8"
            ],
            [
             0.3333333333333333,
             "#9c179e"
            ],
            [
             0.4444444444444444,
             "#bd3786"
            ],
            [
             0.5555555555555556,
             "#d8576b"
            ],
            [
             0.6666666666666666,
             "#ed7953"
            ],
            [
             0.7777777777777778,
             "#fb9f3a"
            ],
            [
             0.8888888888888888,
             "#fdca26"
            ],
            [
             1.0,
             "#f0f921"
            ]
           ],
           "diverging": [
            [
             0,
             "#8e0152"
            ],
            [
             0.1,
             "#c51b7d"
            ],
            [
             0.2,
             "#de77ae"
            ],
            [
             0.3,
             "#f1b6da"
            ],
            [
             0.4,
             "#fde0ef"
            ],
            [
             0.5,
             "#f7f7f7"
            ],
            [
             0.6,
             "#e6f5d0"
            ],
            [
             0.7,
             "#b8e186"
            ],
            [
             0.8,
             "#7fbc41"
            ],
            [
             0.9,
             "#4d9221"
            ],
            [
             1,
             "#276419"
            ]
           ]
          },
          "xaxis": {
           "gridcolor": "white",
           "linecolor": "white",
           "ticks": "",
           "title": {
            "standoff": 15
           },
           "zerolinecolor": "white",
           "automargin": true,
           "zerolinewidth": 2
          },
          "yaxis": {
           "gridcolor": "white",
           "linecolor": "white",
           "ticks": "",
           "title": {
            "standoff": 15
           },
           "zerolinecolor": "white",
           "automargin": true,
           "zerolinewidth": 2
          },
          "scene": {
           "xaxis": {
            "backgroundcolor": "#E5ECF6",
            "gridcolor": "white",
            "linecolor": "white",
            "showbackground": true,
            "ticks": "",
            "zerolinecolor": "white",
            "gridwidth": 2
           },
           "yaxis": {
            "backgroundcolor": "#E5ECF6",
            "gridcolor": "white",
            "linecolor": "white",
            "showbackground": true,
            "ticks": "",
            "zerolinecolor": "white",
            "gridwidth": 2
           },
           "zaxis": {
            "backgroundcolor": "#E5ECF6",
            "gridcolor": "white",
            "linecolor": "white",
            "showbackground": true,
            "ticks": "",
            "zerolinecolor": "white",
            "gridwidth": 2
           }
          },
          "shapedefaults": {
           "line": {
            "color": "#2a3f5f"
           }
          },
          "annotationdefaults": {
           "arrowcolor": "#2a3f5f",
           "arrowhead": 0,
           "arrowwidth": 1
          },
          "geo": {
           "bgcolor": "white",
           "landcolor": "#E5ECF6",
           "subunitcolor": "white",
           "showland": true,
           "showlakes": true,
           "lakecolor": "white"
          },
          "title": {
           "x": 0.05
          },
          "mapbox": {
           "style": "light"
          }
         }
        },
        "xaxis": {
         "anchor": "y",
         "domain": [
          0.0,
          1.0
         ],
         "title": {
          "text": "x"
         }
        },
        "yaxis": {
         "anchor": "x",
         "domain": [
          0.0,
          1.0
         ],
         "title": {
          "text": "y"
         }
        },
        "coloraxis": {
         "colorbar": {
          "title": {
           "text": "color"
          }
         },
         "colorscale": [
          [
           0.0,
           "#0d0887"
          ],
          [
           0.1111111111111111,
           "#46039f"
          ],
          [
           0.2222222222222222,
           "#7201a8"
          ],
          [
           0.3333333333333333,
           "#9c179e"
          ],
          [
           0.4444444444444444,
           "#bd3786"
          ],
          [
           0.5555555555555556,
           "#d8576b"
          ],
          [
           0.6666666666666666,
           "#ed7953"
          ],
          [
           0.7777777777777778,
           "#fb9f3a"
          ],
          [
           0.8888888888888888,
           "#fdca26"
          ],
          [
           1.0,
           "#f0f921"
          ]
         ]
        },
        "legend": {
         "tracegroupgap": 0
        },
        "title": {
         "text": "ISOMAP with 2 dimensions (sklearn)"
        },
        "height": 1000,
        "width": 1000
       },
       "config": {
        "plotlyServerURL": "https://plot.ly"
       }
      }
     },
     "metadata": {},
     "output_type": "display_data",
     "jetTransient": {
      "display_id": null
     }
    }
   ],
   "execution_count": 118
  },
  {
   "metadata": {},
   "cell_type": "code",
   "outputs": [],
   "execution_count": null,
   "source": "",
   "id": "48b442d08185d010"
  }
 ],
 "metadata": {
  "kernelspec": {
   "display_name": "Python 3",
   "language": "python",
   "name": "python3"
  },
  "language_info": {
   "codemirror_mode": {
    "name": "ipython",
    "version": 2
   },
   "file_extension": ".py",
   "mimetype": "text/x-python",
   "name": "python",
   "nbconvert_exporter": "python",
   "pygments_lexer": "ipython2",
   "version": "2.7.6"
  }
 },
 "nbformat": 4,
 "nbformat_minor": 5
}
