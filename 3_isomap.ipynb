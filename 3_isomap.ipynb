{
 "cells": [
  {
   "metadata": {
    "collapsed": true
   },
   "cell_type": "markdown",
   "source": "### ISOMAP",
   "id": "83a034727cd1fdf9"
  },
  {
   "metadata": {
    "ExecuteTime": {
     "end_time": "2025-10-10T12:19:50.687141Z",
     "start_time": "2025-10-10T12:19:50.677355Z"
    }
   },
   "cell_type": "code",
   "source": [
    "import time\n",
    "import pandas as pd\n",
    "import numpy as np\n",
    "import plotly.express as px\n",
    "\n",
    "from sklearn.neighbors import NearestNeighbors"
   ],
   "id": "25d3250082e38a89",
   "outputs": [],
   "execution_count": 4
  },
  {
   "metadata": {
    "ExecuteTime": {
     "end_time": "2025-10-10T12:28:44.461484Z",
     "start_time": "2025-10-10T12:28:44.452387Z"
    }
   },
   "cell_type": "code",
   "source": [
    "def run_floyd_warshall(graph, data):\n",
    "    n = graph.shape[0]\n",
    "    dist = np.full((n, n), np.inf)\n",
    "\n",
    "    for i in range(n):\n",
    "        for j in range(n):\n",
    "            if i == j:\n",
    "                    dist[i, j] = 0\n",
    "\n",
    "            if graph[i, j] == 1:\n",
    "                dist[i, j] = np.linalg.norm(data.iloc[i].values - data.iloc[j].values)\n",
    "\n",
    "    for k in range(n):\n",
    "        for i in range(n):\n",
    "            for j in range(n):\n",
    "                if dist[i, j] > dist[i, k] + dist[k, j]:\n",
    "                    dist[i, j] = dist[i, k] + dist[k, j]\n",
    "\n",
    "    return dist"
   ],
   "id": "e177898d36746ad6",
   "outputs": [],
   "execution_count": 23
  },
  {
   "metadata": {
    "ExecuteTime": {
     "end_time": "2025-10-10T12:54:45.916808Z",
     "start_time": "2025-10-10T12:54:45.908534Z"
    }
   },
   "cell_type": "code",
   "source": [
    "def my_ISOMAP(data, dim=None):\n",
    "    nn = NearestNeighbors(n_neighbors=3).fit(data)\n",
    "    nn_graph = nn.kneighbors_graph(data).toarray()\n",
    "    print(nn_graph)\n",
    "\n",
    "    print(1)\n",
    "\n",
    "    dist = run_floyd_warshall(nn_graph, data)\n",
    "\n",
    "    print(2)\n",
    "\n",
    "    D2 = dist ** 2\n",
    "    n = D2.shape[0]\n",
    "    H = np.eye(n) - np.ones((n, n)) / n\n",
    "    G = -0.5 * H @ D2 @ H\n",
    "\n",
    "\n",
    "    print(3)\n",
    "\n",
    "    eigenvals, eigenvecs = np.linalg.eig(G)\n",
    "    eigenvals = np.real(eigenvals)\n",
    "\n",
    "    # sort eigenvalues and eigenvectors\n",
    "    sorted_indices = np.argsort(eigenvals)[::-1]\n",
    "    sorted_eigenvals = eigenvals[sorted_indices]\n",
    "    sorted_eigenvecs = eigenvecs[:, sorted_indices]\n",
    "\n",
    "    if dim is None:\n",
    "        px.scatter(x=np.arange(1, len(sorted_eigenvals)+1), y=sorted_eigenvals, title=\"Eigenvalues\", labels={\"x\": \"Index\", \"y\": \"Eigenvalue\"}, width=800, height=800).show()\n",
    "\n",
    "        time.sleep(2)\n",
    "        dim = int(float(input(\"Enter the number of dimensions to reduce to: \")))\n",
    "\n",
    "    # select the top d eigenvectors\n",
    "    selected_eigenvecs =  sorted_eigenvecs[:, :dim]\n",
    "\n",
    "    # project into the d dimension\n",
    "    data_iso = np.real(selected_eigenvecs * np.sqrt(sorted_eigenvals[:dim]))\n",
    "\n",
    "    return data_iso, dim, selected_eigenvecs"
   ],
   "id": "542b32abfb98d514",
   "outputs": [],
   "execution_count": 94
  },
  {
   "metadata": {
    "ExecuteTime": {
     "end_time": "2025-10-10T12:54:46.957920Z",
     "start_time": "2025-10-10T12:54:46.876613Z"
    }
   },
   "cell_type": "code",
   "source": [
    "# Swiss roll dataset\n",
    "def swiss_roll_noised(n):\n",
    "    \"\"\"\n",
    "    Parameters:\n",
    "    n: int\n",
    "        Number of points to generate\"\"\"\n",
    "\n",
    "    data = np.zeros((n,3))\n",
    "    phi = np.random.uniform(low=1.5*np.pi, high=4.5*np.pi, size=n)\n",
    "    psi = np.random.uniform(0,10,n)\n",
    "\n",
    "    data[:,0]=phi*np.cos(phi)+np.random.normal(0, .5) #x coordinate\n",
    "    data[:,1]=phi*np.sin(phi)+np.random.normal(0, .5) #y coordinate\n",
    "    data[:,2]=psi+np.random.normal(0, .5) #z coordinate\n",
    "    return data\n",
    "\n",
    "data = swiss_roll_noised(300)\n",
    "data = pd.DataFrame(data, columns=[\"X1\", \"X2\", \"X3\"])\n",
    "fig = px.scatter_3d(x=data[\"X1\"], y=data[\"X2\"], z=data[\"X3\"], title=\"Swiss Roll Dataset\", opacity=0.7, width=600, height=600)\n",
    "fig.update_traces(marker=dict(size=2))\n",
    "fig.show()"
   ],
   "id": "6a5e7c309ca92dd4",
   "outputs": [
    {
     "data": {
      "application/vnd.plotly.v1+json": {
       "data": [
        {
         "hovertemplate": "x=%{x}<br>y=%{y}<br>z=%{z}<extra></extra>",
         "legendgroup": "",
         "marker": {
          "color": "#636efa",
          "opacity": 0.7,
          "symbol": "circle",
          "size": 2
         },
         "mode": "markers",
         "name": "",
         "scene": "scene",
         "showlegend": false,
         "x": {
          "dtype": "f8",
          "bdata": "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"
         },
         "y": {
          "dtype": "f8",
          "bdata": "7VEOxRBPEEDoO2gH/0YjwOv75ri2NRhAY6DgdtAWJMCbJ9bwNf4kwGlmi7KHThHA5pS17M8WJcB3/t0zK44qQDwGZ1UuCfQ/yKPvihdV+T8+441oXCclwAydoep6gSDAFIotjXo8H8CBmmbzE0cDwIjjQl3CzeE/y2c6nb+JCsBeDD5RAEEQwMLPeCRtPhHAH2yUkwz9JMAkFkZynTIQwDjcuGZ8OAFANSRm3PrpGsAqux42aRogQMUBxcNmNypAb99w2paNI8BhNnz3g/0MwK/VE+JvPgVAMlAVa4IiLEDV+1drmiclwByt2NpLYxHA378vWm1aEcCFCm5dc0QfQN72j04owiBA+EpMLbsW9L+IHRnsvasQQNa7pvpA8uQ/vkeCMrbf/z+yCeL9gjvoPyNE4hVUKQzAACXPq+Bj87+5uHJSLxwlwAZfMmQ3cxJAJqu2hgM/EcCMO8VbUy0TQJpg0bV0RCtAoY0mKEezIEDtJHl3++EPwBVRNzkFRwDAxJWFekPH+L+VBAShre8qQEXC0buKwR1AUKDonCcwEcAR7iwcxzIPwAPUElusrghA/kFQfmKVFkDOsKSPsVERwD1OQrZJLwXAUIlMdSjCIEC76nLs29ojwF9zFMjiliBAN2XNsUptGMCnNIQcR2gRwFviMCzaHQ3A3L2s0i0GKUCz2+5zmM0IQIklOFX7JB3ASpfBomJKF8DpUK9MtcUUQFx2xff+thdAU3JAI0AaEcCHkUN6zFcWwBC9NnJy9wXAji4PpFQREcAmx4bCNucaQM0db52GYRHAQVPuAIeTGEBALK35Qk/6v9SM00aD7x5Ay4R/ApCUIEBDmJMxTmATQNAco59IKyBAY+7rTdeiHEDEHsqbH5UYwI7SvU2nYt2/tBnQuKEHIcBkSH/WwdwgwBfyFDWHUei/e4sTD1LOHEC07I1Fyz8bQN0JnTLdJyXASYjX5NEiGMBsgG5EH64JQJCZ97esXx1ALww5HNsTIcDbsUXtEyElwLfsAVjAxB5AaFu5iRQOH0BNyRo46ekeQA5DJ/5wgCxAsKxzKnRwI8DgN3iZQRehv0C+x7D0Mn4/Ys82UEfgEMDhFcBuaWooQJ3mKNucVRpAS4DEV6dOIcDyXbwA22cJwEiZ7KfY8KC/Isr77YNkHECI+7K6LMIgQJKJ00YOwA9Ax50qnjdaEEAZ8wlH5wwjwMKDQMnwGvg/QuAhXmLzCsBYaI0X6SktQAATU8HpmyxAJmajYBBU8L8GXypYnkjzv69QNrwk5iPAkQ+QO0N1JMAhL2lBl88OQH15sY/pZh5AK+A6bgtiFsA4CcPoCTsXQB01S0gJIiPAxn8ym3T6BkAJuOnLCqgXQGaRs7UcGwDAdcFAuWMpG0ACYxF0Udzxv+inDDsztiBA81y3DO9QHcBsBU63728LwLjWECPHpCtAsHNuTMj1JMDhFMNMrussQK/XcAUAsSBAL/5z5tguHMBFXLGzB4IZwGLEp8uA4BZAviZnor6X4L8Q+cmwvlsJwBIYnKhhJwpAlHwvLg89FcBxG4t9j68jwNmVSvb88Om/TxlaTAb4JMAYJXcxmeD4P4C1N3B7DeU/E9ZfL/+uK0DQi4PpW8UIQBkpOnuUrCBArwbUmkdf8T9ayypKlr8gQFrLB/dFfyPAp1BqxMIAKkBoukne1tQlQAdkZxrv4yTA8d/mSIzx7b+zFOCQ9BEOwC4+s7+JtxpAbVTXww8lIEAqZb1yS3XxPzcqB/UVPAzAMBbAhzGnGkAeLCO0LxARwN9at005Ki1AfneJcXxEIsBYVA+nlPckwN5vLisseiLAbG3vZ2QJHEBp+IJhoMEgQPQhWx0d/hBAZoQnbQwTEsBQUp5R9vkEwBdoI78RZRHAWA+WpyLHJMApI5sH47knQD9fBFOLbSFAC1mUzfnyFcAsn705RW3Wv/FeybP25BxAFVnmIAdF4b86Bvlo7dghwCpc8a2lLSTA4ip1p4ItIEAOpFMrXq/0v8b26gnGlxhAzyNWBAbEF8Adh073kAcaQL+aKayMTBHAmrc8vgiEF8AaDzqDtkIjwNWYGT+pGgDAzCwTyHgxHECTMbln0c8LQEMrnZ5vFQfAyf1gL0naJ0C/QrGVacsUwCU56HFhDyDAz0LqM0ppK0AxrzVm108sQOcW9tJdzRlAWctBGMYKIMApq29CsCYbQJTjWBpwgAtAnTp/MvIsIECx/45nmpYhwCeaD/6D7ytAOx3j5lF04L8EUwz2xXYWQD6j4nuljhFA7ysXp81bIED5hDd2O+orQCQPZgJwf9K/gerSZZ++LEDEQkLAHCsgQIYoEw4dQOg/0jY5dXh5GkDEw2+kevfpP/Ei0bytBADAHtGhfVTRBUBx5/QFrTsEwCLHYTys3OQ/rax5XY2sE8BCD3FyvmEnQGdcAYMcKBdAQNYACiwCG8D3Pu1aJfIhwOl7I2B55AZAj/fxnTF5EsC6aGzlPGL6v3i1wgo5Cv4/MDJDDvbAG0B2KPeUeXogwHtdFtp8nRtAfaI4JFzizT8atIELVDkRQA2yK4y++yTA+9AAhCofLUABkzyeY28iQMT20f7EvSBAiQLyl6tNEsC9Nu7HTjggQPKvahLKue8/FZCoMdE+FUBlIS10AmgRwPLZZBas+ilAXZrLE4kdDcCx8VWAN40OwBp16gCkSB/ASewR7OZyB8Bj+6hgV6ckwBmjRzC0ZhRA5kKG6nOYHUALg4KbQiElwFOxd3tLggzA6wWaXc8BEcB4c5wIlQYlQJwOeG4nNxdADI91Ry0wFMBgqKTFG+3Xv7agpDe1SRVAftS5cQzJI8COdThenDzzP0LSBLPYChHA8ua/6XgXEkDmaBPxSlwRwN338Jo+2x1AUBjP0HP7JkD4xxki/uQjwEaiev0/TCHAQL8L4+4mEcCeVW7OFochwDlU6O1IBCTAOszhj8a0I8CjXOvQsQYNwMuKg8Oo4R9AMQaUPt3GEMDLvjvVFmMsQB1f+K1yIRNA/5TndhHMK0BL9ebuUaAdwFLlO3mE7hJA6hgNll2E0D8oj0btxLihP/0KhH1FgyTAXUjLm0oZGcDXZoHTJY4gQHqDHaxfWR/AYpEyTN3VIcD0ifSmflYTwCm62ze2Bw/ADyvAxclBCMAmTIU9QGURwNT3rWIPchhAcq5WcZO3G0A85677S9kXwI2taIKPlyBA"
         },
         "z": {
          "dtype": "f8",
          "bdata": "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"
         },
         "type": "scatter3d"
        }
       ],
       "layout": {
        "template": {
         "data": {
          "histogram2dcontour": [
           {
            "type": "histogram2dcontour",
            "colorbar": {
             "outlinewidth": 0,
             "ticks": ""
            },
            "colorscale": [
             [
              0.0,
              "#0d0887"
             ],
             [
              0.1111111111111111,
              "#46039f"
             ],
             [
              0.2222222222222222,
              "#7201a8"
             ],
             [
              0.3333333333333333,
              "#9c179e"
             ],
             [
              0.4444444444444444,
              "#bd3786"
             ],
             [
              0.5555555555555556,
              "#d8576b"
             ],
             [
              0.6666666666666666,
              "#ed7953"
             ],
             [
              0.7777777777777778,
              "#fb9f3a"
             ],
             [
              0.8888888888888888,
              "#fdca26"
             ],
             [
              1.0,
              "#f0f921"
             ]
            ]
           }
          ],
          "choropleth": [
           {
            "type": "choropleth",
            "colorbar": {
             "outlinewidth": 0,
             "ticks": ""
            }
           }
          ],
          "histogram2d": [
           {
            "type": "histogram2d",
            "colorbar": {
             "outlinewidth": 0,
             "ticks": ""
            },
            "colorscale": [
             [
              0.0,
              "#0d0887"
             ],
             [
              0.1111111111111111,
              "#46039f"
             ],
             [
              0.2222222222222222,
              "#7201a8"
             ],
             [
              0.3333333333333333,
              "#9c179e"
             ],
             [
              0.4444444444444444,
              "#bd3786"
             ],
             [
              0.5555555555555556,
              "#d8576b"
             ],
             [
              0.6666666666666666,
              "#ed7953"
             ],
             [
              0.7777777777777778,
              "#fb9f3a"
             ],
             [
              0.8888888888888888,
              "#fdca26"
             ],
             [
              1.0,
              "#f0f921"
             ]
            ]
           }
          ],
          "heatmap": [
           {
            "type": "heatmap",
            "colorbar": {
             "outlinewidth": 0,
             "ticks": ""
            },
            "colorscale": [
             [
              0.0,
              "#0d0887"
             ],
             [
              0.1111111111111111,
              "#46039f"
             ],
             [
              0.2222222222222222,
              "#7201a8"
             ],
             [
              0.3333333333333333,
              "#9c179e"
             ],
             [
              0.4444444444444444,
              "#bd3786"
             ],
             [
              0.5555555555555556,
              "#d8576b"
             ],
             [
              0.6666666666666666,
              "#ed7953"
             ],
             [
              0.7777777777777778,
              "#fb9f3a"
             ],
             [
              0.8888888888888888,
              "#fdca26"
             ],
             [
              1.0,
              "#f0f921"
             ]
            ]
           }
          ],
          "contourcarpet": [
           {
            "type": "contourcarpet",
            "colorbar": {
             "outlinewidth": 0,
             "ticks": ""
            }
           }
          ],
          "contour": [
           {
            "type": "contour",
            "colorbar": {
             "outlinewidth": 0,
             "ticks": ""
            },
            "colorscale": [
             [
              0.0,
              "#0d0887"
             ],
             [
              0.1111111111111111,
              "#46039f"
             ],
             [
              0.2222222222222222,
              "#7201a8"
             ],
             [
              0.3333333333333333,
              "#9c179e"
             ],
             [
              0.4444444444444444,
              "#bd3786"
             ],
             [
              0.5555555555555556,
              "#d8576b"
             ],
             [
              0.6666666666666666,
              "#ed7953"
             ],
             [
              0.7777777777777778,
              "#fb9f3a"
             ],
             [
              0.8888888888888888,
              "#fdca26"
             ],
             [
              1.0,
              "#f0f921"
             ]
            ]
           }
          ],
          "surface": [
           {
            "type": "surface",
            "colorbar": {
             "outlinewidth": 0,
             "ticks": ""
            },
            "colorscale": [
             [
              0.0,
              "#0d0887"
             ],
             [
              0.1111111111111111,
              "#46039f"
             ],
             [
              0.2222222222222222,
              "#7201a8"
             ],
             [
              0.3333333333333333,
              "#9c179e"
             ],
             [
              0.4444444444444444,
              "#bd3786"
             ],
             [
              0.5555555555555556,
              "#d8576b"
             ],
             [
              0.6666666666666666,
              "#ed7953"
             ],
             [
              0.7777777777777778,
              "#fb9f3a"
             ],
             [
              0.8888888888888888,
              "#fdca26"
             ],
             [
              1.0,
              "#f0f921"
             ]
            ]
           }
          ],
          "mesh3d": [
           {
            "type": "mesh3d",
            "colorbar": {
             "outlinewidth": 0,
             "ticks": ""
            }
           }
          ],
          "scatter": [
           {
            "fillpattern": {
             "fillmode": "overlay",
             "size": 10,
             "solidity": 0.2
            },
            "type": "scatter"
           }
          ],
          "parcoords": [
           {
            "type": "parcoords",
            "line": {
             "colorbar": {
              "outlinewidth": 0,
              "ticks": ""
             }
            }
           }
          ],
          "scatterpolargl": [
           {
            "type": "scatterpolargl",
            "marker": {
             "colorbar": {
              "outlinewidth": 0,
              "ticks": ""
             }
            }
           }
          ],
          "bar": [
           {
            "error_x": {
             "color": "#2a3f5f"
            },
            "error_y": {
             "color": "#2a3f5f"
            },
            "marker": {
             "line": {
              "color": "#E5ECF6",
              "width": 0.5
             },
             "pattern": {
              "fillmode": "overlay",
              "size": 10,
              "solidity": 0.2
             }
            },
            "type": "bar"
           }
          ],
          "scattergeo": [
           {
            "type": "scattergeo",
            "marker": {
             "colorbar": {
              "outlinewidth": 0,
              "ticks": ""
             }
            }
           }
          ],
          "scatterpolar": [
           {
            "type": "scatterpolar",
            "marker": {
             "colorbar": {
              "outlinewidth": 0,
              "ticks": ""
             }
            }
           }
          ],
          "histogram": [
           {
            "marker": {
             "pattern": {
              "fillmode": "overlay",
              "size": 10,
              "solidity": 0.2
             }
            },
            "type": "histogram"
           }
          ],
          "scattergl": [
           {
            "type": "scattergl",
            "marker": {
             "colorbar": {
              "outlinewidth": 0,
              "ticks": ""
             }
            }
           }
          ],
          "scatter3d": [
           {
            "type": "scatter3d",
            "line": {
             "colorbar": {
              "outlinewidth": 0,
              "ticks": ""
             }
            },
            "marker": {
             "colorbar": {
              "outlinewidth": 0,
              "ticks": ""
             }
            }
           }
          ],
          "scattermap": [
           {
            "type": "scattermap",
            "marker": {
             "colorbar": {
              "outlinewidth": 0,
              "ticks": ""
             }
            }
           }
          ],
          "scattermapbox": [
           {
            "type": "scattermapbox",
            "marker": {
             "colorbar": {
              "outlinewidth": 0,
              "ticks": ""
             }
            }
           }
          ],
          "scatterternary": [
           {
            "type": "scatterternary",
            "marker": {
             "colorbar": {
              "outlinewidth": 0,
              "ticks": ""
             }
            }
           }
          ],
          "scattercarpet": [
           {
            "type": "scattercarpet",
            "marker": {
             "colorbar": {
              "outlinewidth": 0,
              "ticks": ""
             }
            }
           }
          ],
          "carpet": [
           {
            "aaxis": {
             "endlinecolor": "#2a3f5f",
             "gridcolor": "white",
             "linecolor": "white",
             "minorgridcolor": "white",
             "startlinecolor": "#2a3f5f"
            },
            "baxis": {
             "endlinecolor": "#2a3f5f",
             "gridcolor": "white",
             "linecolor": "white",
             "minorgridcolor": "white",
             "startlinecolor": "#2a3f5f"
            },
            "type": "carpet"
           }
          ],
          "table": [
           {
            "cells": {
             "fill": {
              "color": "#EBF0F8"
             },
             "line": {
              "color": "white"
             }
            },
            "header": {
             "fill": {
              "color": "#C8D4E3"
             },
             "line": {
              "color": "white"
             }
            },
            "type": "table"
           }
          ],
          "barpolar": [
           {
            "marker": {
             "line": {
              "color": "#E5ECF6",
              "width": 0.5
             },
             "pattern": {
              "fillmode": "overlay",
              "size": 10,
              "solidity": 0.2
             }
            },
            "type": "barpolar"
           }
          ],
          "pie": [
           {
            "automargin": true,
            "type": "pie"
           }
          ]
         },
         "layout": {
          "autotypenumbers": "strict",
          "colorway": [
           "#636efa",
           "#EF553B",
           "#00cc96",
           "#ab63fa",
           "#FFA15A",
           "#19d3f3",
           "#FF6692",
           "#B6E880",
           "#FF97FF",
           "#FECB52"
          ],
          "font": {
           "color": "#2a3f5f"
          },
          "hovermode": "closest",
          "hoverlabel": {
           "align": "left"
          },
          "paper_bgcolor": "white",
          "plot_bgcolor": "#E5ECF6",
          "polar": {
           "bgcolor": "#E5ECF6",
           "angularaxis": {
            "gridcolor": "white",
            "linecolor": "white",
            "ticks": ""
           },
           "radialaxis": {
            "gridcolor": "white",
            "linecolor": "white",
            "ticks": ""
           }
          },
          "ternary": {
           "bgcolor": "#E5ECF6",
           "aaxis": {
            "gridcolor": "white",
            "linecolor": "white",
            "ticks": ""
           },
           "baxis": {
            "gridcolor": "white",
            "linecolor": "white",
            "ticks": ""
           },
           "caxis": {
            "gridcolor": "white",
            "linecolor": "white",
            "ticks": ""
           }
          },
          "coloraxis": {
           "colorbar": {
            "outlinewidth": 0,
            "ticks": ""
           }
          },
          "colorscale": {
           "sequential": [
            [
             0.0,
             "#0d0887"
            ],
            [
             0.1111111111111111,
             "#46039f"
            ],
            [
             0.2222222222222222,
             "#7201a8"
            ],
            [
             0.3333333333333333,
             "#9c179e"
            ],
            [
             0.4444444444444444,
             "#bd3786"
            ],
            [
             0.5555555555555556,
             "#d8576b"
            ],
            [
             0.6666666666666666,
             "#ed7953"
            ],
            [
             0.7777777777777778,
             "#fb9f3a"
            ],
            [
             0.8888888888888888,
             "#fdca26"
            ],
            [
             1.0,
             "#f0f921"
            ]
           ],
           "sequentialminus": [
            [
             0.0,
             "#0d0887"
            ],
            [
             0.1111111111111111,
             "#46039f"
            ],
            [
             0.2222222222222222,
             "#7201a8"
            ],
            [
             0.3333333333333333,
             "#9c179e"
            ],
            [
             0.4444444444444444,
             "#bd3786"
            ],
            [
             0.5555555555555556,
             "#d8576b"
            ],
            [
             0.6666666666666666,
             "#ed7953"
            ],
            [
             0.7777777777777778,
             "#fb9f3a"
            ],
            [
             0.8888888888888888,
             "#fdca26"
            ],
            [
             1.0,
             "#f0f921"
            ]
           ],
           "diverging": [
            [
             0,
             "#8e0152"
            ],
            [
             0.1,
             "#c51b7d"
            ],
            [
             0.2,
             "#de77ae"
            ],
            [
             0.3,
             "#f1b6da"
            ],
            [
             0.4,
             "#fde0ef"
            ],
            [
             0.5,
             "#f7f7f7"
            ],
            [
             0.6,
             "#e6f5d0"
            ],
            [
             0.7,
             "#b8e186"
            ],
            [
             0.8,
             "#7fbc41"
            ],
            [
             0.9,
             "#4d9221"
            ],
            [
             1,
             "#276419"
            ]
           ]
          },
          "xaxis": {
           "gridcolor": "white",
           "linecolor": "white",
           "ticks": "",
           "title": {
            "standoff": 15
           },
           "zerolinecolor": "white",
           "automargin": true,
           "zerolinewidth": 2
          },
          "yaxis": {
           "gridcolor": "white",
           "linecolor": "white",
           "ticks": "",
           "title": {
            "standoff": 15
           },
           "zerolinecolor": "white",
           "automargin": true,
           "zerolinewidth": 2
          },
          "scene": {
           "xaxis": {
            "backgroundcolor": "#E5ECF6",
            "gridcolor": "white",
            "linecolor": "white",
            "showbackground": true,
            "ticks": "",
            "zerolinecolor": "white",
            "gridwidth": 2
           },
           "yaxis": {
            "backgroundcolor": "#E5ECF6",
            "gridcolor": "white",
            "linecolor": "white",
            "showbackground": true,
            "ticks": "",
            "zerolinecolor": "white",
            "gridwidth": 2
           },
           "zaxis": {
            "backgroundcolor": "#E5ECF6",
            "gridcolor": "white",
            "linecolor": "white",
            "showbackground": true,
            "ticks": "",
            "zerolinecolor": "white",
            "gridwidth": 2
           }
          },
          "shapedefaults": {
           "line": {
            "color": "#2a3f5f"
           }
          },
          "annotationdefaults": {
           "arrowcolor": "#2a3f5f",
           "arrowhead": 0,
           "arrowwidth": 1
          },
          "geo": {
           "bgcolor": "white",
           "landcolor": "#E5ECF6",
           "subunitcolor": "white",
           "showland": true,
           "showlakes": true,
           "lakecolor": "white"
          },
          "title": {
           "x": 0.05
          },
          "mapbox": {
           "style": "light"
          }
         }
        },
        "scene": {
         "domain": {
          "x": [
           0.0,
           1.0
          ],
          "y": [
           0.0,
           1.0
          ]
         },
         "xaxis": {
          "title": {
           "text": "x"
          }
         },
         "yaxis": {
          "title": {
           "text": "y"
          }
         },
         "zaxis": {
          "title": {
           "text": "z"
          }
         }
        },
        "legend": {
         "tracegroupgap": 0
        },
        "title": {
         "text": "Swiss Roll Dataset"
        },
        "height": 600,
        "width": 600
       },
       "config": {
        "plotlyServerURL": "https://plot.ly"
       }
      }
     },
     "metadata": {},
     "output_type": "display_data",
     "jetTransient": {
      "display_id": null
     }
    }
   ],
   "execution_count": 95
  },
  {
   "metadata": {
    "ExecuteTime": {
     "end_time": "2025-10-10T12:54:58.716346Z",
     "start_time": "2025-10-10T12:54:47.906691Z"
    }
   },
   "cell_type": "code",
   "source": "data_isomap, dim, eigenvecs = my_ISOMAP(data, dim=2)",
   "id": "e863789be8ab35ea",
   "outputs": [
    {
     "name": "stdout",
     "output_type": "stream",
     "text": [
      "[[1. 0. 0. ... 0. 0. 0.]\n",
      " [0. 1. 0. ... 0. 0. 0.]\n",
      " [0. 0. 1. ... 0. 0. 0.]\n",
      " ...\n",
      " [0. 0. 0. ... 1. 0. 0.]\n",
      " [0. 0. 0. ... 0. 1. 0.]\n",
      " [0. 0. 0. ... 0. 0. 1.]]\n",
      "1\n",
      "2\n",
      "3\n"
     ]
    },
    {
     "name": "stderr",
     "output_type": "stream",
     "text": [
      "C:\\Users\\enric\\AppData\\Local\\Temp\\ipykernel_10652\\3844585763.py:15: RuntimeWarning:\n",
      "\n",
      "invalid value encountered in matmul\n",
      "\n"
     ]
    },
    {
     "ename": "LinAlgError",
     "evalue": "Array must not contain infs or NaNs",
     "output_type": "error",
     "traceback": [
      "\u001B[31m---------------------------------------------------------------------------\u001B[39m",
      "\u001B[31mLinAlgError\u001B[39m                               Traceback (most recent call last)",
      "\u001B[36mCell\u001B[39m\u001B[36m \u001B[39m\u001B[32mIn[96]\u001B[39m\u001B[32m, line 1\u001B[39m\n\u001B[32m----> \u001B[39m\u001B[32m1\u001B[39m data_isomap, dim, eigenvecs = \u001B[43mmy_ISOMAP\u001B[49m\u001B[43m(\u001B[49m\u001B[43mdata\u001B[49m\u001B[43m,\u001B[49m\u001B[43m \u001B[49m\u001B[43mdim\u001B[49m\u001B[43m=\u001B[49m\u001B[32;43m2\u001B[39;49m\u001B[43m)\u001B[49m\n",
      "\u001B[36mCell\u001B[39m\u001B[36m \u001B[39m\u001B[32mIn[94]\u001B[39m\u001B[32m, line 20\u001B[39m, in \u001B[36mmy_ISOMAP\u001B[39m\u001B[34m(data, dim)\u001B[39m\n\u001B[32m     15\u001B[39m G = -\u001B[32m0.5\u001B[39m * H @ D2 @ H\n\u001B[32m     18\u001B[39m \u001B[38;5;28mprint\u001B[39m(\u001B[32m3\u001B[39m)\n\u001B[32m---> \u001B[39m\u001B[32m20\u001B[39m eigenvals, eigenvecs = \u001B[43mnp\u001B[49m\u001B[43m.\u001B[49m\u001B[43mlinalg\u001B[49m\u001B[43m.\u001B[49m\u001B[43meig\u001B[49m\u001B[43m(\u001B[49m\u001B[43mG\u001B[49m\u001B[43m)\u001B[49m\n\u001B[32m     21\u001B[39m eigenvals = np.real(eigenvals)\n\u001B[32m     23\u001B[39m \u001B[38;5;66;03m# sort eigenvalues and eigenvectors\u001B[39;00m\n",
      "\u001B[36mFile \u001B[39m\u001B[32m~\\AppData\\Local\\Packages\\PythonSoftwareFoundation.Python.3.12_qbz5n2kfra8p0\\LocalCache\\local-packages\\Python312\\site-packages\\numpy\\linalg\\_linalg.py:1465\u001B[39m, in \u001B[36meig\u001B[39m\u001B[34m(a)\u001B[39m\n\u001B[32m   1463\u001B[39m _assert_stacked_2d(a)\n\u001B[32m   1464\u001B[39m _assert_stacked_square(a)\n\u001B[32m-> \u001B[39m\u001B[32m1465\u001B[39m \u001B[43m_assert_finite\u001B[49m\u001B[43m(\u001B[49m\u001B[43ma\u001B[49m\u001B[43m)\u001B[49m\n\u001B[32m   1466\u001B[39m t, result_t = _commonType(a)\n\u001B[32m   1468\u001B[39m signature = \u001B[33m'\u001B[39m\u001B[33mD->DD\u001B[39m\u001B[33m'\u001B[39m \u001B[38;5;28;01mif\u001B[39;00m isComplexType(t) \u001B[38;5;28;01melse\u001B[39;00m \u001B[33m'\u001B[39m\u001B[33md->DD\u001B[39m\u001B[33m'\u001B[39m\n",
      "\u001B[36mFile \u001B[39m\u001B[32m~\\AppData\\Local\\Packages\\PythonSoftwareFoundation.Python.3.12_qbz5n2kfra8p0\\LocalCache\\local-packages\\Python312\\site-packages\\numpy\\linalg\\_linalg.py:207\u001B[39m, in \u001B[36m_assert_finite\u001B[39m\u001B[34m(*arrays)\u001B[39m\n\u001B[32m    205\u001B[39m \u001B[38;5;28;01mfor\u001B[39;00m a \u001B[38;5;129;01min\u001B[39;00m arrays:\n\u001B[32m    206\u001B[39m     \u001B[38;5;28;01mif\u001B[39;00m \u001B[38;5;129;01mnot\u001B[39;00m isfinite(a).all():\n\u001B[32m--> \u001B[39m\u001B[32m207\u001B[39m         \u001B[38;5;28;01mraise\u001B[39;00m LinAlgError(\u001B[33m\"\u001B[39m\u001B[33mArray must not contain infs or NaNs\u001B[39m\u001B[33m\"\u001B[39m)\n",
      "\u001B[31mLinAlgError\u001B[39m: Array must not contain infs or NaNs"
     ]
    }
   ],
   "execution_count": 96
  },
  {
   "metadata": {
    "ExecuteTime": {
     "end_time": "2025-10-10T12:53:43.435680Z",
     "start_time": "2025-10-10T12:53:43.371140Z"
    }
   },
   "cell_type": "code",
   "source": "px.scatter(x=data_isomap[:, 0], y=data_isomap[:, 1], title=f\"ISOMAP with {dim} dimensions\", width=600, height=600).show()",
   "id": "a3777bbf3fafeb47",
   "outputs": [
    {
     "data": {
      "application/vnd.plotly.v1+json": {
       "data": [
        {
         "hovertemplate": "x=%{x}<br>y=%{y}<extra></extra>",
         "legendgroup": "",
         "marker": {
          "color": "#636efa",
          "symbol": "circle"
         },
         "mode": "markers",
         "name": "",
         "orientation": "v",
         "showlegend": false,
         "x": {
          "dtype": "f8",
          "bdata": "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"
         },
         "xaxis": "x",
         "y": {
          "dtype": "f8",
          "bdata": "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"
         },
         "yaxis": "y",
         "type": "scatter"
        }
       ],
       "layout": {
        "template": {
         "data": {
          "histogram2dcontour": [
           {
            "type": "histogram2dcontour",
            "colorbar": {
             "outlinewidth": 0,
             "ticks": ""
            },
            "colorscale": [
             [
              0.0,
              "#0d0887"
             ],
             [
              0.1111111111111111,
              "#46039f"
             ],
             [
              0.2222222222222222,
              "#7201a8"
             ],
             [
              0.3333333333333333,
              "#9c179e"
             ],
             [
              0.4444444444444444,
              "#bd3786"
             ],
             [
              0.5555555555555556,
              "#d8576b"
             ],
             [
              0.6666666666666666,
              "#ed7953"
             ],
             [
              0.7777777777777778,
              "#fb9f3a"
             ],
             [
              0.8888888888888888,
              "#fdca26"
             ],
             [
              1.0,
              "#f0f921"
             ]
            ]
           }
          ],
          "choropleth": [
           {
            "type": "choropleth",
            "colorbar": {
             "outlinewidth": 0,
             "ticks": ""
            }
           }
          ],
          "histogram2d": [
           {
            "type": "histogram2d",
            "colorbar": {
             "outlinewidth": 0,
             "ticks": ""
            },
            "colorscale": [
             [
              0.0,
              "#0d0887"
             ],
             [
              0.1111111111111111,
              "#46039f"
             ],
             [
              0.2222222222222222,
              "#7201a8"
             ],
             [
              0.3333333333333333,
              "#9c179e"
             ],
             [
              0.4444444444444444,
              "#bd3786"
             ],
             [
              0.5555555555555556,
              "#d8576b"
             ],
             [
              0.6666666666666666,
              "#ed7953"
             ],
             [
              0.7777777777777778,
              "#fb9f3a"
             ],
             [
              0.8888888888888888,
              "#fdca26"
             ],
             [
              1.0,
              "#f0f921"
             ]
            ]
           }
          ],
          "heatmap": [
           {
            "type": "heatmap",
            "colorbar": {
             "outlinewidth": 0,
             "ticks": ""
            },
            "colorscale": [
             [
              0.0,
              "#0d0887"
             ],
             [
              0.1111111111111111,
              "#46039f"
             ],
             [
              0.2222222222222222,
              "#7201a8"
             ],
             [
              0.3333333333333333,
              "#9c179e"
             ],
             [
              0.4444444444444444,
              "#bd3786"
             ],
             [
              0.5555555555555556,
              "#d8576b"
             ],
             [
              0.6666666666666666,
              "#ed7953"
             ],
             [
              0.7777777777777778,
              "#fb9f3a"
             ],
             [
              0.8888888888888888,
              "#fdca26"
             ],
             [
              1.0,
              "#f0f921"
             ]
            ]
           }
          ],
          "contourcarpet": [
           {
            "type": "contourcarpet",
            "colorbar": {
             "outlinewidth": 0,
             "ticks": ""
            }
           }
          ],
          "contour": [
           {
            "type": "contour",
            "colorbar": {
             "outlinewidth": 0,
             "ticks": ""
            },
            "colorscale": [
             [
              0.0,
              "#0d0887"
             ],
             [
              0.1111111111111111,
              "#46039f"
             ],
             [
              0.2222222222222222,
              "#7201a8"
             ],
             [
              0.3333333333333333,
              "#9c179e"
             ],
             [
              0.4444444444444444,
              "#bd3786"
             ],
             [
              0.5555555555555556,
              "#d8576b"
             ],
             [
              0.6666666666666666,
              "#ed7953"
             ],
             [
              0.7777777777777778,
              "#fb9f3a"
             ],
             [
              0.8888888888888888,
              "#fdca26"
             ],
             [
              1.0,
              "#f0f921"
             ]
            ]
           }
          ],
          "surface": [
           {
            "type": "surface",
            "colorbar": {
             "outlinewidth": 0,
             "ticks": ""
            },
            "colorscale": [
             [
              0.0,
              "#0d0887"
             ],
             [
              0.1111111111111111,
              "#46039f"
             ],
             [
              0.2222222222222222,
              "#7201a8"
             ],
             [
              0.3333333333333333,
              "#9c179e"
             ],
             [
              0.4444444444444444,
              "#bd3786"
             ],
             [
              0.5555555555555556,
              "#d8576b"
             ],
             [
              0.6666666666666666,
              "#ed7953"
             ],
             [
              0.7777777777777778,
              "#fb9f3a"
             ],
             [
              0.8888888888888888,
              "#fdca26"
             ],
             [
              1.0,
              "#f0f921"
             ]
            ]
           }
          ],
          "mesh3d": [
           {
            "type": "mesh3d",
            "colorbar": {
             "outlinewidth": 0,
             "ticks": ""
            }
           }
          ],
          "scatter": [
           {
            "fillpattern": {
             "fillmode": "overlay",
             "size": 10,
             "solidity": 0.2
            },
            "type": "scatter"
           }
          ],
          "parcoords": [
           {
            "type": "parcoords",
            "line": {
             "colorbar": {
              "outlinewidth": 0,
              "ticks": ""
             }
            }
           }
          ],
          "scatterpolargl": [
           {
            "type": "scatterpolargl",
            "marker": {
             "colorbar": {
              "outlinewidth": 0,
              "ticks": ""
             }
            }
           }
          ],
          "bar": [
           {
            "error_x": {
             "color": "#2a3f5f"
            },
            "error_y": {
             "color": "#2a3f5f"
            },
            "marker": {
             "line": {
              "color": "#E5ECF6",
              "width": 0.5
             },
             "pattern": {
              "fillmode": "overlay",
              "size": 10,
              "solidity": 0.2
             }
            },
            "type": "bar"
           }
          ],
          "scattergeo": [
           {
            "type": "scattergeo",
            "marker": {
             "colorbar": {
              "outlinewidth": 0,
              "ticks": ""
             }
            }
           }
          ],
          "scatterpolar": [
           {
            "type": "scatterpolar",
            "marker": {
             "colorbar": {
              "outlinewidth": 0,
              "ticks": ""
             }
            }
           }
          ],
          "histogram": [
           {
            "marker": {
             "pattern": {
              "fillmode": "overlay",
              "size": 10,
              "solidity": 0.2
             }
            },
            "type": "histogram"
           }
          ],
          "scattergl": [
           {
            "type": "scattergl",
            "marker": {
             "colorbar": {
              "outlinewidth": 0,
              "ticks": ""
             }
            }
           }
          ],
          "scatter3d": [
           {
            "type": "scatter3d",
            "line": {
             "colorbar": {
              "outlinewidth": 0,
              "ticks": ""
             }
            },
            "marker": {
             "colorbar": {
              "outlinewidth": 0,
              "ticks": ""
             }
            }
           }
          ],
          "scattermap": [
           {
            "type": "scattermap",
            "marker": {
             "colorbar": {
              "outlinewidth": 0,
              "ticks": ""
             }
            }
           }
          ],
          "scattermapbox": [
           {
            "type": "scattermapbox",
            "marker": {
             "colorbar": {
              "outlinewidth": 0,
              "ticks": ""
             }
            }
           }
          ],
          "scatterternary": [
           {
            "type": "scatterternary",
            "marker": {
             "colorbar": {
              "outlinewidth": 0,
              "ticks": ""
             }
            }
           }
          ],
          "scattercarpet": [
           {
            "type": "scattercarpet",
            "marker": {
             "colorbar": {
              "outlinewidth": 0,
              "ticks": ""
             }
            }
           }
          ],
          "carpet": [
           {
            "aaxis": {
             "endlinecolor": "#2a3f5f",
             "gridcolor": "white",
             "linecolor": "white",
             "minorgridcolor": "white",
             "startlinecolor": "#2a3f5f"
            },
            "baxis": {
             "endlinecolor": "#2a3f5f",
             "gridcolor": "white",
             "linecolor": "white",
             "minorgridcolor": "white",
             "startlinecolor": "#2a3f5f"
            },
            "type": "carpet"
           }
          ],
          "table": [
           {
            "cells": {
             "fill": {
              "color": "#EBF0F8"
             },
             "line": {
              "color": "white"
             }
            },
            "header": {
             "fill": {
              "color": "#C8D4E3"
             },
             "line": {
              "color": "white"
             }
            },
            "type": "table"
           }
          ],
          "barpolar": [
           {
            "marker": {
             "line": {
              "color": "#E5ECF6",
              "width": 0.5
             },
             "pattern": {
              "fillmode": "overlay",
              "size": 10,
              "solidity": 0.2
             }
            },
            "type": "barpolar"
           }
          ],
          "pie": [
           {
            "automargin": true,
            "type": "pie"
           }
          ]
         },
         "layout": {
          "autotypenumbers": "strict",
          "colorway": [
           "#636efa",
           "#EF553B",
           "#00cc96",
           "#ab63fa",
           "#FFA15A",
           "#19d3f3",
           "#FF6692",
           "#B6E880",
           "#FF97FF",
           "#FECB52"
          ],
          "font": {
           "color": "#2a3f5f"
          },
          "hovermode": "closest",
          "hoverlabel": {
           "align": "left"
          },
          "paper_bgcolor": "white",
          "plot_bgcolor": "#E5ECF6",
          "polar": {
           "bgcolor": "#E5ECF6",
           "angularaxis": {
            "gridcolor": "white",
            "linecolor": "white",
            "ticks": ""
           },
           "radialaxis": {
            "gridcolor": "white",
            "linecolor": "white",
            "ticks": ""
           }
          },
          "ternary": {
           "bgcolor": "#E5ECF6",
           "aaxis": {
            "gridcolor": "white",
            "linecolor": "white",
            "ticks": ""
           },
           "baxis": {
            "gridcolor": "white",
            "linecolor": "white",
            "ticks": ""
           },
           "caxis": {
            "gridcolor": "white",
            "linecolor": "white",
            "ticks": ""
           }
          },
          "coloraxis": {
           "colorbar": {
            "outlinewidth": 0,
            "ticks": ""
           }
          },
          "colorscale": {
           "sequential": [
            [
             0.0,
             "#0d0887"
            ],
            [
             0.1111111111111111,
             "#46039f"
            ],
            [
             0.2222222222222222,
             "#7201a8"
            ],
            [
             0.3333333333333333,
             "#9c179e"
            ],
            [
             0.4444444444444444,
             "#bd3786"
            ],
            [
             0.5555555555555556,
             "#d8576b"
            ],
            [
             0.6666666666666666,
             "#ed7953"
            ],
            [
             0.7777777777777778,
             "#fb9f3a"
            ],
            [
             0.8888888888888888,
             "#fdca26"
            ],
            [
             1.0,
             "#f0f921"
            ]
           ],
           "sequentialminus": [
            [
             0.0,
             "#0d0887"
            ],
            [
             0.1111111111111111,
             "#46039f"
            ],
            [
             0.2222222222222222,
             "#7201a8"
            ],
            [
             0.3333333333333333,
             "#9c179e"
            ],
            [
             0.4444444444444444,
             "#bd3786"
            ],
            [
             0.5555555555555556,
             "#d8576b"
            ],
            [
             0.6666666666666666,
             "#ed7953"
            ],
            [
             0.7777777777777778,
             "#fb9f3a"
            ],
            [
             0.8888888888888888,
             "#fdca26"
            ],
            [
             1.0,
             "#f0f921"
            ]
           ],
           "diverging": [
            [
             0,
             "#8e0152"
            ],
            [
             0.1,
             "#c51b7d"
            ],
            [
             0.2,
             "#de77ae"
            ],
            [
             0.3,
             "#f1b6da"
            ],
            [
             0.4,
             "#fde0ef"
            ],
            [
             0.5,
             "#f7f7f7"
            ],
            [
             0.6,
             "#e6f5d0"
            ],
            [
             0.7,
             "#b8e186"
            ],
            [
             0.8,
             "#7fbc41"
            ],
            [
             0.9,
             "#4d9221"
            ],
            [
             1,
             "#276419"
            ]
           ]
          },
          "xaxis": {
           "gridcolor": "white",
           "linecolor": "white",
           "ticks": "",
           "title": {
            "standoff": 15
           },
           "zerolinecolor": "white",
           "automargin": true,
           "zerolinewidth": 2
          },
          "yaxis": {
           "gridcolor": "white",
           "linecolor": "white",
           "ticks": "",
           "title": {
            "standoff": 15
           },
           "zerolinecolor": "white",
           "automargin": true,
           "zerolinewidth": 2
          },
          "scene": {
           "xaxis": {
            "backgroundcolor": "#E5ECF6",
            "gridcolor": "white",
            "linecolor": "white",
            "showbackground": true,
            "ticks": "",
            "zerolinecolor": "white",
            "gridwidth": 2
           },
           "yaxis": {
            "backgroundcolor": "#E5ECF6",
            "gridcolor": "white",
            "linecolor": "white",
            "showbackground": true,
            "ticks": "",
            "zerolinecolor": "white",
            "gridwidth": 2
           },
           "zaxis": {
            "backgroundcolor": "#E5ECF6",
            "gridcolor": "white",
            "linecolor": "white",
            "showbackground": true,
            "ticks": "",
            "zerolinecolor": "white",
            "gridwidth": 2
           }
          },
          "shapedefaults": {
           "line": {
            "color": "#2a3f5f"
           }
          },
          "annotationdefaults": {
           "arrowcolor": "#2a3f5f",
           "arrowhead": 0,
           "arrowwidth": 1
          },
          "geo": {
           "bgcolor": "white",
           "landcolor": "#E5ECF6",
           "subunitcolor": "white",
           "showland": true,
           "showlakes": true,
           "lakecolor": "white"
          },
          "title": {
           "x": 0.05
          },
          "mapbox": {
           "style": "light"
          }
         }
        },
        "xaxis": {
         "anchor": "y",
         "domain": [
          0.0,
          1.0
         ],
         "title": {
          "text": "x"
         }
        },
        "yaxis": {
         "anchor": "x",
         "domain": [
          0.0,
          1.0
         ],
         "title": {
          "text": "y"
         }
        },
        "legend": {
         "tracegroupgap": 0
        },
        "title": {
         "text": "ISOMAP with 2 dimensions"
        },
        "height": 600,
        "width": 600
       },
       "config": {
        "plotlyServerURL": "https://plot.ly"
       }
      }
     },
     "metadata": {},
     "output_type": "display_data",
     "jetTransient": {
      "display_id": null
     }
    }
   ],
   "execution_count": 88
  },
  {
   "metadata": {
    "ExecuteTime": {
     "end_time": "2025-10-10T12:54:13.499058Z",
     "start_time": "2025-10-10T12:54:13.476393Z"
    }
   },
   "cell_type": "code",
   "source": [
    "from sklearn.manifold import Isomap\n",
    "\n",
    "model = Isomap(n_neighbors=3, n_components=2)\n",
    "data_sklearn = model.fit_transform(data)"
   ],
   "id": "79d23778ba849b5c",
   "outputs": [],
   "execution_count": 92
  },
  {
   "metadata": {
    "ExecuteTime": {
     "end_time": "2025-10-10T12:54:15.351373Z",
     "start_time": "2025-10-10T12:54:15.291046Z"
    }
   },
   "cell_type": "code",
   "source": [
    "fig = px.scatter(x=data_sklearn[:, 0], y=data_sklearn[:, 1], title=f\"ISOMAP with {dim} dimensions (sklearn)\", width=600, height=600)\n",
    "# add the starting data points\n",
    "fig.add_scatter(x=data_isomap[:, 0], y=data_isomap[:, 1], mode='markers', marker=dict(color='red', size=3), name='My ISOMAP')\n",
    "fig.show()"
   ],
   "id": "567850030bfafa6e",
   "outputs": [
    {
     "data": {
      "application/vnd.plotly.v1+json": {
       "data": [
        {
         "hovertemplate": "x=%{x}<br>y=%{y}<extra></extra>",
         "legendgroup": "",
         "marker": {
          "color": "#636efa",
          "symbol": "circle"
         },
         "mode": "markers",
         "name": "",
         "orientation": "v",
         "showlegend": false,
         "x": {
          "dtype": "f8",
          "bdata": "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"
         },
         "xaxis": "x",
         "y": {
          "dtype": "f8",
          "bdata": "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"
         },
         "yaxis": "y",
         "type": "scatter"
        },
        {
         "marker": {
          "color": "red",
          "size": 3
         },
         "mode": "markers",
         "name": "My ISOMAP",
         "x": {
          "dtype": "f8",
          "bdata": "OG9RLE6MKUAcbj63eYwyQNTGGJ8ZETtAAQna8XADN0AZB3ujhvs4wHDaGULh0zhA7zAyecu2MkB2pcH04SA3wCl9lCuisSjAInJU0F7TJkDKXF3eRYU2QMcMxKyuAC9AJe35rNlnKkDAcHTgVwkuQLw2d4hYQTpABRxkW2YDIcCCXbeN7sQ/wNQybwj6SClAQ37u7jWiP8A1nxUSgOAMwGEYYz8lLEHAxv1Qd37wFsCM84y5AsAwQPY56doHbCtAN5O8/DP7IUDq8KRNsIrXv2Rg5awqUzlACF1Gj53xQcCZMLO+W4UYwFmAEHRPIgDAqmivc4RCB8A0ed17Hfs7wKsDmgjQfjFAB/lJWXdXFMCGlxCk3CkQQGG3p5cSljNAbsSlNaHnHUCDNBfzgGkywCWo4W3nSjdA3KM1Fob0FkB1TTlD4aQRQAjHNqz8UTNAMR8bNVj5F0AhE6/18MY7wHH1w3N4xva/xvGbv3rsIUC74FhgQX0CQDjJUAp9MRjAHV2iQj+dEUAKeg29FJUqwKkhpTVwWxrAADRZbtfZNMDsOXkhqvYkwMHM21lvyRfAta6bRn0kOcBSaeiqTYI4QEvlcqmTATDA1iLs6LyP+T+NNtMplc46QCGEQJRESS5AfDgDRFzzNkAdeqvWWY0qQFK3/37NhD3Ap4/o4rEAQMDDCDnjySk3QL45b31SRz7Akwl4hJWJJEAJNY0Q4/o6QOxOpyy/vTVAtdpNgG8mJsD/FLK2b6UvQBUVqKgu0zbAEG+axaav4z98muFCRp0oQHAl/fXOUifAqBNuPXGlOkDmyJ49yGImwNSwxsCfpfO/Pno/S0JMJ0DI1Gj7bqMzQFG/jSq6pTVAvqv1mgrpM0BxvzJ+rFkxQGMAGQZ+1zZA+873Rm/WCcCNV2rquWg5wLaWrVRzyec/NWMuE8SHK0DLsaJWU+g2QLEmfxFwLzTAS9fN4lSoEEDNLwCVlef/Pxp1/Cbx0DhArc3hTPDl3D/SMHEJfsY1wAMvKurv8SDARLblmnIZCMAFcg1gIA0zQEzDymCH9DpASQMo0GLEMkBPRc02LVMzwMT5FhM/XULA6iuot7MZMUBfd5irTngSQMljlL8b0jhA/Uj2ryBzN0B5uqyq8FEjQNF/Ha136OG/g4G0/Aa/OUCsnrAIowIvQMrXyqyxIBxAFcTtf9sMOsArMo7yCooyQNwd/QAKkyxANtIVs8INOkC4o+CP42svQAgPO+C5rTJAlpwVmvraPsDB4XDzeUwVwGffnbi6TxdAH5K5DIP4NsD8goJzGZ09wDBahPIKGiPACU3b/1kjQcC8J/u6zME5QH3HHE01miTA+2OaaP9m/T+r25SqbG4hQEif+D9NbeK/ZpSyoD6iM8C7rQaZByIvQIOtPjd/JDNAk5eOmKM5PcBWY0gUZhgwwK3iU8toQCrAUfaPVU1QP8AvgUwBc739P0Vb7cNGK0LAlM+LyNbdK0DCk1ZyeYY5QP2HFBcN6BTAEAC4JLTFM0Cb7QPG+20wwCDyDtSbEStAf6/kNlOVOkBYBMN2+g07wLI0/RD+azRAoaPcxPamE0B5jMeZHJX+v8YNfX+4TiHAxkOVmKzsOUD0xnI2uFkLwIz+h4So3AVAm3XyTFQBMUBQc1BWGA8jQOosS8mPLwDAk1OI2UBzN0BlzVUZb+gsQMM/QYlGjSrAUzuT1F+OIUAa0qQoznobwPDxwTpNuSHAz/TuUnunE8DYfQx3x+QowBrGAWD25kDAfh7K0SK3KEAONDwRsRg8wMtiDOTYqCxAyHGn26SjMcCkPaBz21QOwOJhYqd4CjxA8gQ6klLBQMC2PFHl6eUxwORBrS0ThjBAZpGkGlPbOsBmJt4yxXw8wMM824C/JDlAwRuiXKaEFUCafhxPl9IkQA9MzLveKztAVHmWKAOfHsBPgX21+1YpQHD4Z0s39jlAmm5559gyNMCqACif+Ug0wKL2jRyD+UDAFji6f6yVO8Dy9elc+XA7wLyuCNnlyCtAfjrwNtC4KkBGyji5hSwwwOc540b0HSVA3Yp9qA6TMcAytJpTjRo1QA760bs92iLANKHEX9BwLED71STAsV4wwBzcpvpcPDtAKK1G2Hf2AECDNNEV7ogxQFnAzSPtUjbA8N6L9HUVI8AlL2ASmvguQDjdPC2qXkHA6A6LEQINLMBwF1ldAnE8wPYR1u2fnhXAJNl9F+7TJkD3p4RBtnYWQOqQH7MCFBNA8fwltlBbBcAxXsAuouchQPBjBFmV+A7AfzZQ6lsdKUBTYa3YPFM4QN7T45S/pCfADpOqPfhlIUDOIejFALobQHevgenGEy1AwJSqjDnQGEAmKnEtYhsTwM16GebGUzjAKsjdrxkRO8D/1nuyvBsIwDXiJfNizzBAKOHdHevpC8DGpC/2JnNCwA0Hw0aHdzlA+CS5LONgM8And0h6I5sywCz1YniW6zbAVSs5mbf6JkCeM9V/6K4hQP3amAo0GyNAthLyvZiIMMBckG86MmsnwKLZgMJ0sTnAHuoBK5chKEByzdbjHkIvwAXNYRmkYy9AvusBORK9IEAlsZoMmKgxQLYENaWs7sI/zTV/oUJrK0CL8n3brBEZQJbpUHfTDjDAMsB7wxAnNMDa21noo0YXQOgEfh8lrEHAt8jGKf5XJEBfpUU68N0/wBMLqV3GGzrAvTParKZ/NUBbFuO/0cgMQGaKcebtaTjAJv+ahsTUMcCEd7ILEEkYQPXk6eVecDjAMRNmCiy0OsDOZpp2euozQFKfnl8jARlAuuCWqGJOLEAPFh1p5lEowGPoy7QQ2BFAfaz5ieiA8D/bqVSFzvorwNAuPa3DFznANhEGb63KLUB2q0zKCtoVQAz0qBLgETjAy+SHfbey/D9fNxWiOMM2QH1Frs61CT3ASq8HCslkQMDkx9tSjRM2QPkKOhtKgzvA7voN9xWGF8BqRL8z3pU1QLWaOKuflxVAZ9tI0Sn2O0Bsb68HkT8wwARjUs3lvSlA7u/JvxDmMMCZi8REbos0QJeo8tz5bEHARWroD2+/J8BvFPHcXmo7QLEwvIjzBipAdayuOZaUNcC0ee5DxpU5QFqH2Mg6sC1A8+T+UedGGUCqrCwqqeYqwDKFhnq5cBxAwXPSlZhNFUAHY20OEb8sQEfBct6mVD7AgUw+eQ3wOkBsDvSc0pcmwEckEFLTvjlA"
         },
         "y": {
          "dtype": "f8",
          "bdata": "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"
         },
         "type": "scatter"
        }
       ],
       "layout": {
        "template": {
         "data": {
          "histogram2dcontour": [
           {
            "type": "histogram2dcontour",
            "colorbar": {
             "outlinewidth": 0,
             "ticks": ""
            },
            "colorscale": [
             [
              0.0,
              "#0d0887"
             ],
             [
              0.1111111111111111,
              "#46039f"
             ],
             [
              0.2222222222222222,
              "#7201a8"
             ],
             [
              0.3333333333333333,
              "#9c179e"
             ],
             [
              0.4444444444444444,
              "#bd3786"
             ],
             [
              0.5555555555555556,
              "#d8576b"
             ],
             [
              0.6666666666666666,
              "#ed7953"
             ],
             [
              0.7777777777777778,
              "#fb9f3a"
             ],
             [
              0.8888888888888888,
              "#fdca26"
             ],
             [
              1.0,
              "#f0f921"
             ]
            ]
           }
          ],
          "choropleth": [
           {
            "type": "choropleth",
            "colorbar": {
             "outlinewidth": 0,
             "ticks": ""
            }
           }
          ],
          "histogram2d": [
           {
            "type": "histogram2d",
            "colorbar": {
             "outlinewidth": 0,
             "ticks": ""
            },
            "colorscale": [
             [
              0.0,
              "#0d0887"
             ],
             [
              0.1111111111111111,
              "#46039f"
             ],
             [
              0.2222222222222222,
              "#7201a8"
             ],
             [
              0.3333333333333333,
              "#9c179e"
             ],
             [
              0.4444444444444444,
              "#bd3786"
             ],
             [
              0.5555555555555556,
              "#d8576b"
             ],
             [
              0.6666666666666666,
              "#ed7953"
             ],
             [
              0.7777777777777778,
              "#fb9f3a"
             ],
             [
              0.8888888888888888,
              "#fdca26"
             ],
             [
              1.0,
              "#f0f921"
             ]
            ]
           }
          ],
          "heatmap": [
           {
            "type": "heatmap",
            "colorbar": {
             "outlinewidth": 0,
             "ticks": ""
            },
            "colorscale": [
             [
              0.0,
              "#0d0887"
             ],
             [
              0.1111111111111111,
              "#46039f"
             ],
             [
              0.2222222222222222,
              "#7201a8"
             ],
             [
              0.3333333333333333,
              "#9c179e"
             ],
             [
              0.4444444444444444,
              "#bd3786"
             ],
             [
              0.5555555555555556,
              "#d8576b"
             ],
             [
              0.6666666666666666,
              "#ed7953"
             ],
             [
              0.7777777777777778,
              "#fb9f3a"
             ],
             [
              0.8888888888888888,
              "#fdca26"
             ],
             [
              1.0,
              "#f0f921"
             ]
            ]
           }
          ],
          "contourcarpet": [
           {
            "type": "contourcarpet",
            "colorbar": {
             "outlinewidth": 0,
             "ticks": ""
            }
           }
          ],
          "contour": [
           {
            "type": "contour",
            "colorbar": {
             "outlinewidth": 0,
             "ticks": ""
            },
            "colorscale": [
             [
              0.0,
              "#0d0887"
             ],
             [
              0.1111111111111111,
              "#46039f"
             ],
             [
              0.2222222222222222,
              "#7201a8"
             ],
             [
              0.3333333333333333,
              "#9c179e"
             ],
             [
              0.4444444444444444,
              "#bd3786"
             ],
             [
              0.5555555555555556,
              "#d8576b"
             ],
             [
              0.6666666666666666,
              "#ed7953"
             ],
             [
              0.7777777777777778,
              "#fb9f3a"
             ],
             [
              0.8888888888888888,
              "#fdca26"
             ],
             [
              1.0,
              "#f0f921"
             ]
            ]
           }
          ],
          "surface": [
           {
            "type": "surface",
            "colorbar": {
             "outlinewidth": 0,
             "ticks": ""
            },
            "colorscale": [
             [
              0.0,
              "#0d0887"
             ],
             [
              0.1111111111111111,
              "#46039f"
             ],
             [
              0.2222222222222222,
              "#7201a8"
             ],
             [
              0.3333333333333333,
              "#9c179e"
             ],
             [
              0.4444444444444444,
              "#bd3786"
             ],
             [
              0.5555555555555556,
              "#d8576b"
             ],
             [
              0.6666666666666666,
              "#ed7953"
             ],
             [
              0.7777777777777778,
              "#fb9f3a"
             ],
             [
              0.8888888888888888,
              "#fdca26"
             ],
             [
              1.0,
              "#f0f921"
             ]
            ]
           }
          ],
          "mesh3d": [
           {
            "type": "mesh3d",
            "colorbar": {
             "outlinewidth": 0,
             "ticks": ""
            }
           }
          ],
          "scatter": [
           {
            "fillpattern": {
             "fillmode": "overlay",
             "size": 10,
             "solidity": 0.2
            },
            "type": "scatter"
           }
          ],
          "parcoords": [
           {
            "type": "parcoords",
            "line": {
             "colorbar": {
              "outlinewidth": 0,
              "ticks": ""
             }
            }
           }
          ],
          "scatterpolargl": [
           {
            "type": "scatterpolargl",
            "marker": {
             "colorbar": {
              "outlinewidth": 0,
              "ticks": ""
             }
            }
           }
          ],
          "bar": [
           {
            "error_x": {
             "color": "#2a3f5f"
            },
            "error_y": {
             "color": "#2a3f5f"
            },
            "marker": {
             "line": {
              "color": "#E5ECF6",
              "width": 0.5
             },
             "pattern": {
              "fillmode": "overlay",
              "size": 10,
              "solidity": 0.2
             }
            },
            "type": "bar"
           }
          ],
          "scattergeo": [
           {
            "type": "scattergeo",
            "marker": {
             "colorbar": {
              "outlinewidth": 0,
              "ticks": ""
             }
            }
           }
          ],
          "scatterpolar": [
           {
            "type": "scatterpolar",
            "marker": {
             "colorbar": {
              "outlinewidth": 0,
              "ticks": ""
             }
            }
           }
          ],
          "histogram": [
           {
            "marker": {
             "pattern": {
              "fillmode": "overlay",
              "size": 10,
              "solidity": 0.2
             }
            },
            "type": "histogram"
           }
          ],
          "scattergl": [
           {
            "type": "scattergl",
            "marker": {
             "colorbar": {
              "outlinewidth": 0,
              "ticks": ""
             }
            }
           }
          ],
          "scatter3d": [
           {
            "type": "scatter3d",
            "line": {
             "colorbar": {
              "outlinewidth": 0,
              "ticks": ""
             }
            },
            "marker": {
             "colorbar": {
              "outlinewidth": 0,
              "ticks": ""
             }
            }
           }
          ],
          "scattermap": [
           {
            "type": "scattermap",
            "marker": {
             "colorbar": {
              "outlinewidth": 0,
              "ticks": ""
             }
            }
           }
          ],
          "scattermapbox": [
           {
            "type": "scattermapbox",
            "marker": {
             "colorbar": {
              "outlinewidth": 0,
              "ticks": ""
             }
            }
           }
          ],
          "scatterternary": [
           {
            "type": "scatterternary",
            "marker": {
             "colorbar": {
              "outlinewidth": 0,
              "ticks": ""
             }
            }
           }
          ],
          "scattercarpet": [
           {
            "type": "scattercarpet",
            "marker": {
             "colorbar": {
              "outlinewidth": 0,
              "ticks": ""
             }
            }
           }
          ],
          "carpet": [
           {
            "aaxis": {
             "endlinecolor": "#2a3f5f",
             "gridcolor": "white",
             "linecolor": "white",
             "minorgridcolor": "white",
             "startlinecolor": "#2a3f5f"
            },
            "baxis": {
             "endlinecolor": "#2a3f5f",
             "gridcolor": "white",
             "linecolor": "white",
             "minorgridcolor": "white",
             "startlinecolor": "#2a3f5f"
            },
            "type": "carpet"
           }
          ],
          "table": [
           {
            "cells": {
             "fill": {
              "color": "#EBF0F8"
             },
             "line": {
              "color": "white"
             }
            },
            "header": {
             "fill": {
              "color": "#C8D4E3"
             },
             "line": {
              "color": "white"
             }
            },
            "type": "table"
           }
          ],
          "barpolar": [
           {
            "marker": {
             "line": {
              "color": "#E5ECF6",
              "width": 0.5
             },
             "pattern": {
              "fillmode": "overlay",
              "size": 10,
              "solidity": 0.2
             }
            },
            "type": "barpolar"
           }
          ],
          "pie": [
           {
            "automargin": true,
            "type": "pie"
           }
          ]
         },
         "layout": {
          "autotypenumbers": "strict",
          "colorway": [
           "#636efa",
           "#EF553B",
           "#00cc96",
           "#ab63fa",
           "#FFA15A",
           "#19d3f3",
           "#FF6692",
           "#B6E880",
           "#FF97FF",
           "#FECB52"
          ],
          "font": {
           "color": "#2a3f5f"
          },
          "hovermode": "closest",
          "hoverlabel": {
           "align": "left"
          },
          "paper_bgcolor": "white",
          "plot_bgcolor": "#E5ECF6",
          "polar": {
           "bgcolor": "#E5ECF6",
           "angularaxis": {
            "gridcolor": "white",
            "linecolor": "white",
            "ticks": ""
           },
           "radialaxis": {
            "gridcolor": "white",
            "linecolor": "white",
            "ticks": ""
           }
          },
          "ternary": {
           "bgcolor": "#E5ECF6",
           "aaxis": {
            "gridcolor": "white",
            "linecolor": "white",
            "ticks": ""
           },
           "baxis": {
            "gridcolor": "white",
            "linecolor": "white",
            "ticks": ""
           },
           "caxis": {
            "gridcolor": "white",
            "linecolor": "white",
            "ticks": ""
           }
          },
          "coloraxis": {
           "colorbar": {
            "outlinewidth": 0,
            "ticks": ""
           }
          },
          "colorscale": {
           "sequential": [
            [
             0.0,
             "#0d0887"
            ],
            [
             0.1111111111111111,
             "#46039f"
            ],
            [
             0.2222222222222222,
             "#7201a8"
            ],
            [
             0.3333333333333333,
             "#9c179e"
            ],
            [
             0.4444444444444444,
             "#bd3786"
            ],
            [
             0.5555555555555556,
             "#d8576b"
            ],
            [
             0.6666666666666666,
             "#ed7953"
            ],
            [
             0.7777777777777778,
             "#fb9f3a"
            ],
            [
             0.8888888888888888,
             "#fdca26"
            ],
            [
             1.0,
             "#f0f921"
            ]
           ],
           "sequentialminus": [
            [
             0.0,
             "#0d0887"
            ],
            [
             0.1111111111111111,
             "#46039f"
            ],
            [
             0.2222222222222222,
             "#7201a8"
            ],
            [
             0.3333333333333333,
             "#9c179e"
            ],
            [
             0.4444444444444444,
             "#bd3786"
            ],
            [
             0.5555555555555556,
             "#d8576b"
            ],
            [
             0.6666666666666666,
             "#ed7953"
            ],
            [
             0.7777777777777778,
             "#fb9f3a"
            ],
            [
             0.8888888888888888,
             "#fdca26"
            ],
            [
             1.0,
             "#f0f921"
            ]
           ],
           "diverging": [
            [
             0,
             "#8e0152"
            ],
            [
             0.1,
             "#c51b7d"
            ],
            [
             0.2,
             "#de77ae"
            ],
            [
             0.3,
             "#f1b6da"
            ],
            [
             0.4,
             "#fde0ef"
            ],
            [
             0.5,
             "#f7f7f7"
            ],
            [
             0.6,
             "#e6f5d0"
            ],
            [
             0.7,
             "#b8e186"
            ],
            [
             0.8,
             "#7fbc41"
            ],
            [
             0.9,
             "#4d9221"
            ],
            [
             1,
             "#276419"
            ]
           ]
          },
          "xaxis": {
           "gridcolor": "white",
           "linecolor": "white",
           "ticks": "",
           "title": {
            "standoff": 15
           },
           "zerolinecolor": "white",
           "automargin": true,
           "zerolinewidth": 2
          },
          "yaxis": {
           "gridcolor": "white",
           "linecolor": "white",
           "ticks": "",
           "title": {
            "standoff": 15
           },
           "zerolinecolor": "white",
           "automargin": true,
           "zerolinewidth": 2
          },
          "scene": {
           "xaxis": {
            "backgroundcolor": "#E5ECF6",
            "gridcolor": "white",
            "linecolor": "white",
            "showbackground": true,
            "ticks": "",
            "zerolinecolor": "white",
            "gridwidth": 2
           },
           "yaxis": {
            "backgroundcolor": "#E5ECF6",
            "gridcolor": "white",
            "linecolor": "white",
            "showbackground": true,
            "ticks": "",
            "zerolinecolor": "white",
            "gridwidth": 2
           },
           "zaxis": {
            "backgroundcolor": "#E5ECF6",
            "gridcolor": "white",
            "linecolor": "white",
            "showbackground": true,
            "ticks": "",
            "zerolinecolor": "white",
            "gridwidth": 2
           }
          },
          "shapedefaults": {
           "line": {
            "color": "#2a3f5f"
           }
          },
          "annotationdefaults": {
           "arrowcolor": "#2a3f5f",
           "arrowhead": 0,
           "arrowwidth": 1
          },
          "geo": {
           "bgcolor": "white",
           "landcolor": "#E5ECF6",
           "subunitcolor": "white",
           "showland": true,
           "showlakes": true,
           "lakecolor": "white"
          },
          "title": {
           "x": 0.05
          },
          "mapbox": {
           "style": "light"
          }
         }
        },
        "xaxis": {
         "anchor": "y",
         "domain": [
          0.0,
          1.0
         ],
         "title": {
          "text": "x"
         }
        },
        "yaxis": {
         "anchor": "x",
         "domain": [
          0.0,
          1.0
         ],
         "title": {
          "text": "y"
         }
        },
        "legend": {
         "tracegroupgap": 0
        },
        "title": {
         "text": "ISOMAP with 2 dimensions (sklearn)"
        },
        "height": 600,
        "width": 600
       },
       "config": {
        "plotlyServerURL": "https://plot.ly"
       }
      }
     },
     "metadata": {},
     "output_type": "display_data",
     "jetTransient": {
      "display_id": null
     }
    }
   ],
   "execution_count": 93
  },
  {
   "metadata": {},
   "cell_type": "code",
   "outputs": [],
   "execution_count": null,
   "source": "",
   "id": "48b442d08185d010"
  }
 ],
 "metadata": {
  "kernelspec": {
   "display_name": "Python 3",
   "language": "python",
   "name": "python3"
  },
  "language_info": {
   "codemirror_mode": {
    "name": "ipython",
    "version": 2
   },
   "file_extension": ".py",
   "mimetype": "text/x-python",
   "name": "python",
   "nbconvert_exporter": "python",
   "pygments_lexer": "ipython2",
   "version": "2.7.6"
  }
 },
 "nbformat": 4,
 "nbformat_minor": 5
}
