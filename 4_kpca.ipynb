{
 "cells": [
  {
   "cell_type": "code",
   "id": "initial_id",
   "metadata": {
    "collapsed": true,
    "ExecuteTime": {
     "end_time": "2025-10-24T14:42:31.309765Z",
     "start_time": "2025-10-24T14:42:27.666909Z"
    }
   },
   "source": [
    "import numpy as np\n",
    "import pandas as pd\n",
    "import plotly.express as px\n",
    "\n",
    "from algorithms import my_pca, my_kpca"
   ],
   "outputs": [],
   "execution_count": 1
  },
  {
   "metadata": {},
   "cell_type": "markdown",
   "source": "# 1 Kernel PCA",
   "id": "60dd2526e4341309"
  },
  {
   "metadata": {},
   "cell_type": "markdown",
   "source": [
    "You can use external libraries for linear algebra operations but you are expected to write your\n",
    "own algorithms."
   ],
   "id": "af76af3beaa40525"
  },
  {
   "metadata": {},
   "cell_type": "markdown",
   "source": "## 1.1 Exercise 1",
   "id": "1a69516878af6209"
  },
  {
   "metadata": {},
   "cell_type": "markdown",
   "source": [
    "Use the `kPCA_data_2024.txt` and `kPCA_labels_2024.txt` uploaded in the Datasets folder. \\\n",
    "The first file contains the variables describing the data, while the second one contains the labels\n",
    "of the classes associated to it.\n",
    "\n",
    "1. Visualize and explore the data, how many dimensions it has? If you plot the first two dimensions what you see?\n",
    "2. Apply your own implementation of PCA to the dataset and plot the eigenvalue spectrum.\n",
    "3. Project the data in the first two principal components and color by class.\n",
    "4. Implement your own version of Kernel PCA.\n",
    "5. Apply Kernel PCA to the dataset. Test both a Gaussian kernel with width $\\sigma \\in [0.05, 2.0]$ and\n",
    "a polynomial kernel varying the value of $\\delta \\in \\mathbb{N}$.\n",
    "6. Plot the transformed data in 2d and 3d for the different kernels.\n",
    "\n",
    "---\n",
    "\n",
    "**Notes** \\\n",
    "Use the second version of the polynomial kernel introduced in class (the one with ”1 + . . .” ).\n"
   ],
   "id": "b7c57fbe6e55db0e"
  },
  {
   "metadata": {
    "ExecuteTime": {
     "end_time": "2025-10-24T14:42:31.474775Z",
     "start_time": "2025-10-24T14:42:31.343773Z"
    }
   },
   "cell_type": "code",
   "source": [
    "data = pd.read_table(\"./Datasets/kPCA_data_2024.txt\", sep=' ' )\n",
    "labels = pd.read_table(\"./Datasets/kPCA_labels_2024.txt\")\n",
    "data.head(10)"
   ],
   "id": "68c11a1db8c30ff0",
   "outputs": [
    {
     "data": {
      "text/plain": [
       "   4.844007303819926336e-02  -6.057277237340876752e-01  \\\n",
       "0                 -0.295462                  -0.022271   \n",
       "1                  0.907188                  -0.641413   \n",
       "2                  0.780795                   0.290714   \n",
       "3                  0.441323                  -0.433679   \n",
       "4                 -0.065164                  -0.040561   \n",
       "5                  0.056646                   0.410302   \n",
       "6                 -0.736735                  -0.148512   \n",
       "7                 -0.481976                  -0.025659   \n",
       "8                 -0.607208                  -0.522803   \n",
       "9                 -0.325590                   0.250750   \n",
       "\n",
       "   -8.064553150260835856e-01  -8.903855782271943853e-02  \\\n",
       "0                  -0.156778                  -0.186206   \n",
       "1                   0.376778                  -0.059500   \n",
       "2                   0.536952                   0.029201   \n",
       "3                   0.067781                  -0.621546   \n",
       "4                  -0.669958                  -0.040982   \n",
       "5                   0.056863                  -0.323346   \n",
       "6                  -0.075388                   0.572474   \n",
       "7                   0.150840                   0.813668   \n",
       "8                   0.308843                   0.358578   \n",
       "9                  -0.154506                   0.472070   \n",
       "\n",
       "   -1.737847493837963719e-01  2.076300575834306272e+00  \\\n",
       "0                   1.065956                 -0.109448   \n",
       "1                   0.579425                 -0.771757   \n",
       "2                  -0.072487                  0.435681   \n",
       "3                   0.419723                 -0.957915   \n",
       "4                  -0.699678                 -0.325913   \n",
       "5                  -0.261563                  1.724000   \n",
       "6                   0.675302                  0.642757   \n",
       "7                   0.171317                  0.663545   \n",
       "8                   0.836118                 -0.107347   \n",
       "9                  -0.108509                  0.198018   \n",
       "\n",
       "   3.136215346121585812e-01  -6.046344739416281699e-02  \\\n",
       "0                  0.660369                  -0.337726   \n",
       "1                  0.400979                   0.096620   \n",
       "2                 -0.570775                   0.804292   \n",
       "3                  0.338285                   0.014053   \n",
       "4                 -0.128257                   0.097608   \n",
       "5                  0.264337                   0.119102   \n",
       "6                 -0.311563                  -0.224402   \n",
       "7                  0.501602                   0.258359   \n",
       "8                  0.073622                   0.398357   \n",
       "9                 -1.281368                  -0.663286   \n",
       "\n",
       "   5.887963774585065063e-02  2.217365288367019460e-01  \\\n",
       "0                  1.062067                 -0.201562   \n",
       "1                  0.000697                  1.569824   \n",
       "2                 -0.429733                 -1.330242   \n",
       "3                 -0.010859                  0.756259   \n",
       "4                  0.686576                  1.120796   \n",
       "5                 -0.454987                  1.114121   \n",
       "6                  0.622451                  0.200635   \n",
       "7                  0.597251                  0.329638   \n",
       "8                 -0.216316                  0.694409   \n",
       "9                 -0.734061                 -0.843500   \n",
       "\n",
       "   1.393039464461545140e-01  3.023198473065739911e-02  \\\n",
       "0                  0.512837                 -1.074720   \n",
       "1                 -0.628336                  0.094161   \n",
       "2                  0.408977                  0.434869   \n",
       "3                 -0.514746                 -0.027585   \n",
       "4                 -0.020707                  0.011008   \n",
       "5                  0.938400                 -0.772304   \n",
       "6                 -1.189875                  0.048083   \n",
       "7                 -1.222861                 -0.457942   \n",
       "8                  0.899109                 -0.444841   \n",
       "9                  0.357441                 -0.329136   \n",
       "\n",
       "   7.705470842646063023e-02  9.108284679853901888e-01  \\\n",
       "0                  0.499960                 -0.328338   \n",
       "1                  0.959419                  0.047134   \n",
       "2                  0.020344                 -0.692591   \n",
       "3                  0.959982                  0.001654   \n",
       "4                 -0.267033                 -0.944402   \n",
       "5                 -0.388000                  1.100194   \n",
       "6                  0.031853                  0.103544   \n",
       "7                 -0.365414                  1.002387   \n",
       "8                  0.200321                  0.315959   \n",
       "9                 -0.115886                  0.182965   \n",
       "\n",
       "   -5.462696605763599396e-03  -7.489078223921445954e-01  \\\n",
       "0                  -0.046867                  -0.322455   \n",
       "1                  -0.527203                  -0.117238   \n",
       "2                  -0.448373                   0.550437   \n",
       "3                  -0.548821                  -0.119099   \n",
       "4                   0.905137                  -1.111122   \n",
       "5                   0.081941                   0.235535   \n",
       "6                  -0.372252                   1.179770   \n",
       "7                  -0.727236                   1.126941   \n",
       "8                  -0.316035                   0.724769   \n",
       "9                   0.490656                   0.280728   \n",
       "\n",
       "   -4.726946847934275220e-01  -3.725548172923394685e-01  \\\n",
       "0                  -0.268781                  -0.601436   \n",
       "1                  -0.699726                   0.442404   \n",
       "2                   0.655933                   0.739303   \n",
       "3                  -0.802109                   1.094712   \n",
       "4                  -0.213749                   1.222356   \n",
       "5                  -0.466863                  -0.224178   \n",
       "6                  -0.446190                   0.742163   \n",
       "7                  -0.217852                   0.798470   \n",
       "8                   0.450792                   1.453086   \n",
       "9                   0.544659                   0.034985   \n",
       "\n",
       "   2.654501526956469792e-01  4.954478209400864364e-01  \n",
       "0                  1.261508                 -0.976030  \n",
       "1                  0.395835                 -0.600845  \n",
       "2                 -0.415398                 -0.784031  \n",
       "3                 -1.142502                  0.702591  \n",
       "4                  0.202653                 -0.307991  \n",
       "5                 -0.000573                  0.096640  \n",
       "6                 -0.646883                  0.107995  \n",
       "7                  0.201119                 -0.024589  \n",
       "8                 -0.416107                 -1.342363  \n",
       "9                  0.470550                  0.474415  "
      ],
      "text/html": [
       "<div>\n",
       "<style scoped>\n",
       "    .dataframe tbody tr th:only-of-type {\n",
       "        vertical-align: middle;\n",
       "    }\n",
       "\n",
       "    .dataframe tbody tr th {\n",
       "        vertical-align: top;\n",
       "    }\n",
       "\n",
       "    .dataframe thead th {\n",
       "        text-align: right;\n",
       "    }\n",
       "</style>\n",
       "<table border=\"1\" class=\"dataframe\">\n",
       "  <thead>\n",
       "    <tr style=\"text-align: right;\">\n",
       "      <th></th>\n",
       "      <th>4.844007303819926336e-02</th>\n",
       "      <th>-6.057277237340876752e-01</th>\n",
       "      <th>-8.064553150260835856e-01</th>\n",
       "      <th>-8.903855782271943853e-02</th>\n",
       "      <th>-1.737847493837963719e-01</th>\n",
       "      <th>2.076300575834306272e+00</th>\n",
       "      <th>3.136215346121585812e-01</th>\n",
       "      <th>-6.046344739416281699e-02</th>\n",
       "      <th>5.887963774585065063e-02</th>\n",
       "      <th>2.217365288367019460e-01</th>\n",
       "      <th>1.393039464461545140e-01</th>\n",
       "      <th>3.023198473065739911e-02</th>\n",
       "      <th>7.705470842646063023e-02</th>\n",
       "      <th>9.108284679853901888e-01</th>\n",
       "      <th>-5.462696605763599396e-03</th>\n",
       "      <th>-7.489078223921445954e-01</th>\n",
       "      <th>-4.726946847934275220e-01</th>\n",
       "      <th>-3.725548172923394685e-01</th>\n",
       "      <th>2.654501526956469792e-01</th>\n",
       "      <th>4.954478209400864364e-01</th>\n",
       "    </tr>\n",
       "  </thead>\n",
       "  <tbody>\n",
       "    <tr>\n",
       "      <th>0</th>\n",
       "      <td>-0.295462</td>\n",
       "      <td>-0.022271</td>\n",
       "      <td>-0.156778</td>\n",
       "      <td>-0.186206</td>\n",
       "      <td>1.065956</td>\n",
       "      <td>-0.109448</td>\n",
       "      <td>0.660369</td>\n",
       "      <td>-0.337726</td>\n",
       "      <td>1.062067</td>\n",
       "      <td>-0.201562</td>\n",
       "      <td>0.512837</td>\n",
       "      <td>-1.074720</td>\n",
       "      <td>0.499960</td>\n",
       "      <td>-0.328338</td>\n",
       "      <td>-0.046867</td>\n",
       "      <td>-0.322455</td>\n",
       "      <td>-0.268781</td>\n",
       "      <td>-0.601436</td>\n",
       "      <td>1.261508</td>\n",
       "      <td>-0.976030</td>\n",
       "    </tr>\n",
       "    <tr>\n",
       "      <th>1</th>\n",
       "      <td>0.907188</td>\n",
       "      <td>-0.641413</td>\n",
       "      <td>0.376778</td>\n",
       "      <td>-0.059500</td>\n",
       "      <td>0.579425</td>\n",
       "      <td>-0.771757</td>\n",
       "      <td>0.400979</td>\n",
       "      <td>0.096620</td>\n",
       "      <td>0.000697</td>\n",
       "      <td>1.569824</td>\n",
       "      <td>-0.628336</td>\n",
       "      <td>0.094161</td>\n",
       "      <td>0.959419</td>\n",
       "      <td>0.047134</td>\n",
       "      <td>-0.527203</td>\n",
       "      <td>-0.117238</td>\n",
       "      <td>-0.699726</td>\n",
       "      <td>0.442404</td>\n",
       "      <td>0.395835</td>\n",
       "      <td>-0.600845</td>\n",
       "    </tr>\n",
       "    <tr>\n",
       "      <th>2</th>\n",
       "      <td>0.780795</td>\n",
       "      <td>0.290714</td>\n",
       "      <td>0.536952</td>\n",
       "      <td>0.029201</td>\n",
       "      <td>-0.072487</td>\n",
       "      <td>0.435681</td>\n",
       "      <td>-0.570775</td>\n",
       "      <td>0.804292</td>\n",
       "      <td>-0.429733</td>\n",
       "      <td>-1.330242</td>\n",
       "      <td>0.408977</td>\n",
       "      <td>0.434869</td>\n",
       "      <td>0.020344</td>\n",
       "      <td>-0.692591</td>\n",
       "      <td>-0.448373</td>\n",
       "      <td>0.550437</td>\n",
       "      <td>0.655933</td>\n",
       "      <td>0.739303</td>\n",
       "      <td>-0.415398</td>\n",
       "      <td>-0.784031</td>\n",
       "    </tr>\n",
       "    <tr>\n",
       "      <th>3</th>\n",
       "      <td>0.441323</td>\n",
       "      <td>-0.433679</td>\n",
       "      <td>0.067781</td>\n",
       "      <td>-0.621546</td>\n",
       "      <td>0.419723</td>\n",
       "      <td>-0.957915</td>\n",
       "      <td>0.338285</td>\n",
       "      <td>0.014053</td>\n",
       "      <td>-0.010859</td>\n",
       "      <td>0.756259</td>\n",
       "      <td>-0.514746</td>\n",
       "      <td>-0.027585</td>\n",
       "      <td>0.959982</td>\n",
       "      <td>0.001654</td>\n",
       "      <td>-0.548821</td>\n",
       "      <td>-0.119099</td>\n",
       "      <td>-0.802109</td>\n",
       "      <td>1.094712</td>\n",
       "      <td>-1.142502</td>\n",
       "      <td>0.702591</td>\n",
       "    </tr>\n",
       "    <tr>\n",
       "      <th>4</th>\n",
       "      <td>-0.065164</td>\n",
       "      <td>-0.040561</td>\n",
       "      <td>-0.669958</td>\n",
       "      <td>-0.040982</td>\n",
       "      <td>-0.699678</td>\n",
       "      <td>-0.325913</td>\n",
       "      <td>-0.128257</td>\n",
       "      <td>0.097608</td>\n",
       "      <td>0.686576</td>\n",
       "      <td>1.120796</td>\n",
       "      <td>-0.020707</td>\n",
       "      <td>0.011008</td>\n",
       "      <td>-0.267033</td>\n",
       "      <td>-0.944402</td>\n",
       "      <td>0.905137</td>\n",
       "      <td>-1.111122</td>\n",
       "      <td>-0.213749</td>\n",
       "      <td>1.222356</td>\n",
       "      <td>0.202653</td>\n",
       "      <td>-0.307991</td>\n",
       "    </tr>\n",
       "    <tr>\n",
       "      <th>5</th>\n",
       "      <td>0.056646</td>\n",
       "      <td>0.410302</td>\n",
       "      <td>0.056863</td>\n",
       "      <td>-0.323346</td>\n",
       "      <td>-0.261563</td>\n",
       "      <td>1.724000</td>\n",
       "      <td>0.264337</td>\n",
       "      <td>0.119102</td>\n",
       "      <td>-0.454987</td>\n",
       "      <td>1.114121</td>\n",
       "      <td>0.938400</td>\n",
       "      <td>-0.772304</td>\n",
       "      <td>-0.388000</td>\n",
       "      <td>1.100194</td>\n",
       "      <td>0.081941</td>\n",
       "      <td>0.235535</td>\n",
       "      <td>-0.466863</td>\n",
       "      <td>-0.224178</td>\n",
       "      <td>-0.000573</td>\n",
       "      <td>0.096640</td>\n",
       "    </tr>\n",
       "    <tr>\n",
       "      <th>6</th>\n",
       "      <td>-0.736735</td>\n",
       "      <td>-0.148512</td>\n",
       "      <td>-0.075388</td>\n",
       "      <td>0.572474</td>\n",
       "      <td>0.675302</td>\n",
       "      <td>0.642757</td>\n",
       "      <td>-0.311563</td>\n",
       "      <td>-0.224402</td>\n",
       "      <td>0.622451</td>\n",
       "      <td>0.200635</td>\n",
       "      <td>-1.189875</td>\n",
       "      <td>0.048083</td>\n",
       "      <td>0.031853</td>\n",
       "      <td>0.103544</td>\n",
       "      <td>-0.372252</td>\n",
       "      <td>1.179770</td>\n",
       "      <td>-0.446190</td>\n",
       "      <td>0.742163</td>\n",
       "      <td>-0.646883</td>\n",
       "      <td>0.107995</td>\n",
       "    </tr>\n",
       "    <tr>\n",
       "      <th>7</th>\n",
       "      <td>-0.481976</td>\n",
       "      <td>-0.025659</td>\n",
       "      <td>0.150840</td>\n",
       "      <td>0.813668</td>\n",
       "      <td>0.171317</td>\n",
       "      <td>0.663545</td>\n",
       "      <td>0.501602</td>\n",
       "      <td>0.258359</td>\n",
       "      <td>0.597251</td>\n",
       "      <td>0.329638</td>\n",
       "      <td>-1.222861</td>\n",
       "      <td>-0.457942</td>\n",
       "      <td>-0.365414</td>\n",
       "      <td>1.002387</td>\n",
       "      <td>-0.727236</td>\n",
       "      <td>1.126941</td>\n",
       "      <td>-0.217852</td>\n",
       "      <td>0.798470</td>\n",
       "      <td>0.201119</td>\n",
       "      <td>-0.024589</td>\n",
       "    </tr>\n",
       "    <tr>\n",
       "      <th>8</th>\n",
       "      <td>-0.607208</td>\n",
       "      <td>-0.522803</td>\n",
       "      <td>0.308843</td>\n",
       "      <td>0.358578</td>\n",
       "      <td>0.836118</td>\n",
       "      <td>-0.107347</td>\n",
       "      <td>0.073622</td>\n",
       "      <td>0.398357</td>\n",
       "      <td>-0.216316</td>\n",
       "      <td>0.694409</td>\n",
       "      <td>0.899109</td>\n",
       "      <td>-0.444841</td>\n",
       "      <td>0.200321</td>\n",
       "      <td>0.315959</td>\n",
       "      <td>-0.316035</td>\n",
       "      <td>0.724769</td>\n",
       "      <td>0.450792</td>\n",
       "      <td>1.453086</td>\n",
       "      <td>-0.416107</td>\n",
       "      <td>-1.342363</td>\n",
       "    </tr>\n",
       "    <tr>\n",
       "      <th>9</th>\n",
       "      <td>-0.325590</td>\n",
       "      <td>0.250750</td>\n",
       "      <td>-0.154506</td>\n",
       "      <td>0.472070</td>\n",
       "      <td>-0.108509</td>\n",
       "      <td>0.198018</td>\n",
       "      <td>-1.281368</td>\n",
       "      <td>-0.663286</td>\n",
       "      <td>-0.734061</td>\n",
       "      <td>-0.843500</td>\n",
       "      <td>0.357441</td>\n",
       "      <td>-0.329136</td>\n",
       "      <td>-0.115886</td>\n",
       "      <td>0.182965</td>\n",
       "      <td>0.490656</td>\n",
       "      <td>0.280728</td>\n",
       "      <td>0.544659</td>\n",
       "      <td>0.034985</td>\n",
       "      <td>0.470550</td>\n",
       "      <td>0.474415</td>\n",
       "    </tr>\n",
       "  </tbody>\n",
       "</table>\n",
       "</div>"
      ]
     },
     "execution_count": 2,
     "metadata": {},
     "output_type": "execute_result"
    }
   ],
   "execution_count": 2
  },
  {
   "metadata": {
    "ExecuteTime": {
     "end_time": "2025-10-24T14:42:31.532312Z",
     "start_time": "2025-10-24T14:42:31.519360Z"
    }
   },
   "cell_type": "code",
   "source": "data.shape",
   "id": "18e339a935f0cd66",
   "outputs": [
    {
     "data": {
      "text/plain": [
       "(6631, 20)"
      ]
     },
     "execution_count": 3,
     "metadata": {},
     "output_type": "execute_result"
    }
   ],
   "execution_count": 3
  },
  {
   "metadata": {
    "ExecuteTime": {
     "end_time": "2025-10-24T14:42:34.249265Z",
     "start_time": "2025-10-24T14:42:31.656429Z"
    }
   },
   "cell_type": "code",
   "source": "px.scatter(x=data.iloc[:, 2], y=data.iloc[:, 1], color=labels.iloc[:, 0]).show()",
   "id": "48cfedf034483ff2",
   "outputs": [
    {
     "data": {
      "application/vnd.plotly.v1+json": {
       "data": [
        {
         "hovertemplate": "x=%{x}<br>y=%{y}<br>color=%{marker.color}<extra></extra>",
         "legendgroup": "",
         "marker": {
          "color": {
           "dtype": "i1",
           "bdata": "AAAAAAABAAAAAQABAAEAAAAAAAAAAAAAAQABAQAAAAEBAAAAAQAAAQAAAQEBAQAAAAAAAAAAAQAAAQAAAAABAAABAQAAAAEBAAAAAQAAAAABAAEBAQAAAAAAAAAAAAAAAAAAAAAAAAAAAAAAAAEAAAABAQAAAAAAAAAAAAAAAAABAAABAAEAAAAAAAAAAAAAAQAAAAAAAQAAAAAAAAAAAAAAAAAAAQAAAAAAAAEAAAAAAAAAAAAAAAABAQABAAAAAAAAAQEAAAAAAAEAAAAAAAAAAQAAAAEAAAAAAQAAAAABAQAAAAAAAAEBAAABAAAAAQAAAAAAAAEBAAAAAAAAAAAAAAAAAAEBAAEAAAAAAAEAAAABAAAAAAAAAAABAQAAAAAAAAAAAQAAAAABAQEAAAABAAAAAAAAAAABAAABAAAAAAAAAQAAAQAAAAAAAAABAAAAAAAAAAAAAAAAAQAAAAAAAAAAAAEAAAAAAAAAAQAAAAEBAAAAAAAAAAABAQEAAAEBAAAAAAABAAAAAAAAAAEAAAABAAAAAQAAAQABAQAAAAAAAAAAAAAAAAABAQAAAQAAAAEAAAEAAQABAAAAAQAAAAAAAAEBAAAAAAAAAAAAAAAAAQEAAAAAAAAAAAAAAQABAAEAAQEBAAAAAQEBAAABAAAAAAABAQAAAQAAAQAAAAEBAAAAAAEAAAAAAAAAAAEAAAEAAQAAAQAAAAAAAAAAAAAAAAABAAAAAQAAAAABAAEBAAAAAQAAAAAAAAAAAAABAAAAAAEAAAEAAQAAAAAAAAAAAAABAAEBAAABAAABAQAAAAEAAAAAAQAAAAAAAAEBAAEAAAAAAAAAAAAAAAAAAAAAAAAAAAAAAQAAAQEAAAABAAEAAQEAAAEAAAAAAAEAAAAAAAAAAAAAAAAAAAAAAAABAQAAAAAAAAAAAAABAAABAAEAAAAAAQABAAEAAAABAAAAAAEAAQEAAAAAAAAAAAAAAAABAQABAAAAAAAAAAABAQAAAAABAAEAAAAAAAEAAAAAAAAAAAAAAAAAAQEBAAAAAAAAAAABAAAAAQAAAAABAAEAAAAAAQAAAQAAAAEAAAEBAAAAAAAAAQAAAAAAAAAAAAAAAAAAAAAAAAAAAQABAAABAQEAAAAAAAAAAAABAQAAAAEAAAAAAQAAAAAAAQAAAQEAAAAAAAAAAAAAAQAAAAAAAAEBAAEAAQAAAQAAAAAAAQAAAQAAAAAAAAAAAAAAAAABAAAAAQAAAAAAAAAAAAAAAQEAAAAAAAAAAAEAAAEAAAAAAAEAAAAAAAAAAAABAAEAAAABAAAAAQAAAAABAAAAAQAAAAEAAQAAAAAAAQAAAAEAAAEAAQAAAQEBAAAAAQEBAAABAQAAAAAAAAABAAEBAAEAAAABAAAAAAAAAAEAAAEAAAAAAAAAAQAAAQEBAAEAAAEAAAEBAQAAAAAAAAAAAQAAAQAAAAAAAAEBAAEAAAAAAAAAAAAAAAAAAAAAAAAAAAAAAAABAQEAAQAAAAAAAQAAAAABAAEAAQAAAQEAAQAAAQAAAAABAAAAAQAAAAAAAAABAAAAAQEAAQAAAAAAAAABAAABAQAAAAEAAQAAAAAAAAAAAAAAAAAAAQAAAQABAAAAAAEAAAAAAAAAAAEAAAAAAAEAAAAAAAAAAQEAAAAAAAABAAAAAAEAAQABAAAAAAEAAAAAAAAAAAABAQAAAAAAAAABAAABAAAAAAAAAAAAAAAAAAAAAAEAAAABAAEAAQAAAAEBAAABAAAAAAAAAAAAAQAAAAAAAQAAAAAAAQAAAAABAAAAAAABAAAAAAEAAAAAAAAAAAEAAAABAAAAAAEAAAAAAAEAAAAAAAEAAQAAAAEAAAAAAAABAQAAAAAAAAABAAEAAAAAAAEAAAAAAAAAAQABAAAAAAEAAAAAAAABAAAAAQAAAAABAAAAAAABAAAAAAAAAAEAAAAAAAEAAQEBAAAAAAABAAAAAAABAAAAAAAAAAAAAQAAAQABAAAAAAAAAQAAAAABAAAAAAEBAAAAAAEAAAEBAQEAAAAAAAAAAAABAAAAAAAAAAAAAAAAAAAAAQAAAAEAAQEBAQAAAQABAAABAAABAAAAAAEAAAAAAAAAAAAAAAAAAAABAAEAAQAAAQEBAAABAAEAAAEBAAEAAAEAAAAAAQEAAAABAAAAAQABAAEAAQABAQAAAAAAAAEBAQEBAAABAQAAAAAAAAAAAQAAAAEAAAAAAAEAAAAAAAEAAAAAAQEAAQEAAAAAAQAAAQAAAAAAAAABAQAAAAEAAAEBAQEAAAABAQAAAAEBAAABAAEAAAAAAAEAAAEAAAAAAAEBAAAAAQAAAAEAAAAAAAAAAAAAAAAAAQAAAAABAAABAAAAAQAAAAEAAAAAAAAAAAAAAAAAAQAAAAABAAEBAAAAAAABAQAAAQAAAQEAAAAAAAABAAABAAABAAAAAAAAAAAAAAABAAAAAQAAAAAAAAAAAQEAAAAAAAAAAAAAAAAAAQAAAAABAAAAAAAAAAAAAAAAAAEAAAABAAAAAAAAAAABAAAAAAAAAAEAAAAAAAABAAABAAAAAAEBAAAAAQAAAAEAAQAAAAAAAAABAAAAAAABAAAAAAEAAAAAAAAAAAAAAQAAAAEAAAAAAAAAAAAAAQEAAAAAAQAAAAAAAAEAAAAAAAAAAAEBAAAAAAAAAAEAAAAAAAAAAQABAQEAAAEAAAAAAAAAAAEAAAEBAQAAAAAAAAAAAAAAAAAAAAAAAAEAAQABAAEAAAAAAAABAAAAAAEBAQEAAQAAAAEBAAEBAAAAAAAAAAAAAQABAAAAAAAAAAAAAAABAAEBAAABAAAAAAEAAQEAAAABAQAAAAAAAAAAAAABAAEAAAABAQAAAQEBAAABAAAAAAAAAAAAAAAAAAEAAAABAAEAAAAAAAAAAAAAAAAAAAABAQAAAAAAAAAAAAAAAQAAAQAAAQAAAAAAAAEAAQAAAAEAAAAAAAABAAAAAAAAAQEBAAEAAAAAAAABAAAAAAAAAAAAAAAAAQAAAAAAAAAAAQAAAQAAAAAAAAEBAQAAAQABAAAAAAAAAQABAAABAAAAAAABAAEBAAAAAAAAAAAAAAABAAAAAAAAAAAAAAAAAAAAAAABAAEAAAABAQABAAEAAAEAAQABAQAAAAAAAAAAAAAAAAAAAAAAAAAAAAAAAQAAAAAAAAABAQEBAAABAQAAAAAAAQAAAAABAAABAAABAAAAAAAAAAEAAQAAAAAAAAEAAAAAAAAAAAABAAEAAAAAAQAAAAEAAAAAAAAAAAAAAAEBAAAAAAAAAQEAAAABAAEBAAEAAAAAAAAAAAAAAAEAAQABAQEBAAAAAAABAAAAAAEAAAABAQEAAAAAAQEAAAABAAABAAAAAAABAAAAAQABAAEAAQEAAAAAAAAAAAEAAAAAAAAAAAAAAAAAAQABAAABAQEAAAAAAAAAAAAAAAAAAAAAAAAAAAAAAQAAAQABAAAAAAAAAAAAAAEAAAAAAAABAAAAAQABAAEAAQAAAAEAAAABAAAAAAABAAEAAAEAAAEAAAAAAAEBAAABAAEBAAEAAQEAAQABAAEAAAAAAAEAAAAAAAEAAAAAAAEAAAAAAAAAAAAAAAEAAAAAAAEAAAEBAAABAAAAAAABAAAAAAEAAQAAAAAAAAAAAQAAAAEAAAABAAEAAAAAAAAAAAAAAAEAAAAAAQEAAQEBAAABAAAAAAEAAAAAAAAAAAEAAAEAAQAAAQAAAAAAAQEAAQAAAQABAAAAAAAAAAAAAAAAAAAAAAAAAAAAAAAAAQEAAAAAAQEAAAABAAAAAAAAAQAAAAABAAAAAQABAAAAAAAAAAAAAAABAAAAAAAAAQAAAAEAAAAAAAAAAAAAAAAAAAAAAQABAAEAAQAAAAAAAAAAAQABAQEAAAABAAEAAAAAAAAAAAEAAQAAAAEAAAAAAAAAAAAAAAABAAABAQAAAQEAAAEAAQAAAAAAAAAAAAEAAAAAAAAAAAAAAAEAAAAAAQAAAQEAAAAAAAABAAAAAAEAAAEBAAABAAAAAAEAAQAAAAAAAAAAAAAAAAAAAQABAAAAAQEBAQAAAAAAAAAAAQEAAQEAAAAAAAABAAAAAAABAQABAAAAAAAAAQAAAAAAAQABAAAAAAAAAAABAAAAAAEAAAAAAAAAAAAAAQEBAAEBAQEBAAAAAAEAAAAAAAAAAAABAAEAAAAAAAEAAAEAAAEAAAAAAQABAAEAAAAAAAAAAAAAAAAAAQAAAAAAAAAAAAAAAAAAAAEBAAABAAAAAAAAAAAAAAEAAAAAAAAAAAAAAAAAAAABAAEAAAAAAAAAAAEBAAABAAAAAQAAAAEAAAEAAQEBAAAAAQAAAAEAAAAAAAAAAAAAAAAAAAEAAAAAAAAAAAEAAAABAAABAQAAAAABAQAAAAAAAAEAAAAAAQABAAAAAAAAAAEBAAEAAAABAAEAAAEBAAABAAAAAQEBAAABAAAAAAAAAAAAAAAAAAEAAAAAAAAAAQEAAAEAAQEAAQEAAAEAAAEBAAAAAQABAAEBAAEAAAAAAAEAAAEAAAEAAAEAAQAAAAAAAQAAAQEAAAAAAAEAAQAAAAEAAAAAAAABAAABAAAAAAEAAAABAAABAAEAAAABAAABAAAAAAEAAAABAQAAAAAAAAAAAAEBAAAAAQAAAAAAAAAAAAAAAAABAQAAAAAAAAAAAQABAAAAAAEBAAAAAAABAAAAAQAAAAABAAABAAEAAAAAAAAAAAAAAQEAAAAAAQEAAAAAAAABAAAAAAABAAAAAAABAAABAAAAAAAAAAEAAAAAAAAAAAABAAAAAAAAAQAAAAAAAAAAAAEAAQAAAAAAAAAAAAEAAAAAAAAAAAEAAAABAAAAAQAAAAEAAAAAAAAAAQEAAAEAAAAAAAABAQAAAQABAQABAAAAAAAAAAAAAQAAAAAAAAAAAAAAAQAAAAABAAABAAAAAAEAAAAAAQAAAAAAAAEAAAABAAEAAAAAAQAAAAEAAAAAAAAAAAAAAAAAAAAAAAABAAAAAAEAAAABAQEAAAAAAAABAQAAAAEAAQABAAAAAAAAAQAAAAAAAAABAAABAAABAAAAAAAAAAEAAQAAAAAAAAAAAAAAAAAAAAAAAAAAAAEAAAEBAAAAAAABAAABAQAAAAABAQAAAAEAAAEAAAABAAAAAAAAAQAAAAAAAAAAAQAAAAABAAAAAQAAAAAAAAABAAEAAQABAAEAAAAAAAAAAAEBAQABAQEAAAABAAABAAAAAAAAAAAAAAEAAAAAAQEAAAAAAAABAQABAAABAAABAQAAAAEAAAAAAQAAAAAAAAABAQAAAAAAAAAAAAAAAAAAAQAAAAAAAAEBAAAAAAAAAAEAAQEAAAABAAAAAQABAAEAAAABAQAAAAEAAQAAAAAAAAEBAAAAAAAAAQEAAAAAAQEBAQEAAAAAAQEAAQABAAAAAQAAAAAAAAABAAAAAAAAAAAAAQABAAAAAAAAAQAAAAABAAEAAAEBAAAAAAEAAQEAAQAAAAAAAAAAAQAAAAAAAAAAAAEAAAAAAAAAAAAAAAAAAAAAAAEBAAEAAQAAAAAAAAAAAAAAAAAAAAEBAAEAAQABAAEAAAAAAQAAAAAAAQABAQAAAAAAAAAAAQEAAAAAAAEAAAAAAAEAAAAAAAAAAAABAAAAAAABAQEAAAAAAAAAAAABAAAAAAAAAAAAAQABAAABAAABAQAAAQAAAAAAAAEAAQEAAAEBAAAAAQEBAAAAAAAAAQAAAAABAAAAAQABAAAAAAAAAQEAAAABAAABAAABAAAAAAAAAAAAAAEAAQEAAAEBAQAAAAEAAQAAAAABAAEAAAAAAAAAAAAAAQAAAQAAAAAAAAAAAAEBAAABAQAAAAAAAAABAAAAAAAAAAAAAAABAAAAAAEAAAABAQAAAAAAAAAAAAEAAQAAAAABAAEAAAEAAAEAAQABAQEAAAEAAAAAAQAAAAAAAQAAAAAAAQAAAAAAAAAAAAABAAAAAAEBAQEAAAABAAEAAQAAAAAAAAABAAAAAAAAAAAAAAEAAQAAAAEAAAAAAAAAAAAAAQAAAAAAAQABAAEAAAAAAAABAAAAAQAAAAABAAABAAABAAABAAEAAAABAAAAAQAAAAAAAAEAAAEAAQABAAAAAAABAQEAAAEAAAAAAAEAAAAAAAAAAAEAAQEBAAABAAABAAAAAAABAAEAAQABAAEAAQAAAAAAAQAAAAAAAAEAAQABAQEAAAAAAAAAAAABAAAAAAAAAAAAAAABAAEAAAAAAAEAAAAAAAABAQAAAAEAAAEAAAABAQAAAAABAAAAAAEBAQAAAAAAAQABAAEAAAEAAQAAAAAAAAABAQAAAAAAAAABAAEBAAEAAAAAAAAAAAAAAAEBAAAAAAABAAAAAAAAAAAAAAABAAEBAAEAAAABAQEBAAABAQABAAABAAAAAAAAAQAAAAAAAQAAAAAAAAAAAAAAAQEAAAABAAEAAAEAAQAAAQAAAAAAAAABAAAAAQAAAAAAAAEAAAABAQEAAAAAAAEBAAAAAQAAAAAAAAEAAAAAAAEAAAEAAAAAAAABAQAAAQAAAAAAAAEAAAAAAAAAAAAAAQAAAAAAAAAAAAEAAQAAAAAAAQAAAAAAAQAAAAAAAQEAAAEBAAAAAAEBAAAAAAEAAQAAAAEAAAAAAAAAAAAAAAAAAAAAAQAAAAAAAQEAAQEBAAAAAAEAAAEAAAABAAEBAQAAAAEAAAEAAAAAAQAAAAAAAQAAAAAAAAABAQAAAQAAAAAAAAAAAQABAAEBAAEAAAABAAAAAAAAAAAAAAAAAQAAAAAAAAABAAAAAAAAAQAAAAAAAAEAAAABAAAAAAAAAAABAAAAAQABAAAAAAAAAQAAAAAAAAABAAAAAQAAAAAAAAAAAAEBAAAAAQEAAAAAAAABAAAAAAAAAAAAAAAAAQAAAQABAAEAAQEAAQAAAAABAQEBAAAAAAABAAAAAAAAAAAAAAAAAAABAAAAAAAAAQABAAAAAAAAAQABAAAAAQEAAAEAAAAAAAEAAAAAAAAAAAABAAAAAAEAAAEBAAABAAAAAAAAAAEAAAAAAAEBAAAAAAABAAAAAAEAAAEAAAEBAAABAAAAAAAAAAEAAAAAAQAAAQAAAAAAAAEAAAEAAAEAAAAAAAAAAAEBAAABAQEBAQABAAEAAAABAAEAAAAAAAAAAAABAAABAAAAAAABAAEAAQAAAQAAAAABAAABAAEAAQAAAAAAAQAAAAAAAQEAAAAAAAAAAAAAAAAAAAEBAQAAAAAAAAABAAAAAAAAAAAAAQAAAQAAAAEAAAEAAAEAAAABAAABAQEBAQABAAAAAAEAAAABAQAAAAAAAAAAAQAAAAABAAAAAAAAAQAAAAAAAAAAAQEAAAAAAQABAAEAAAAAAQABAAAAAQEBAAABAAABAAEAAAABAAAAAAEAAQEBAAAAAAAAAAABAAABAAEAAAAAAAAAAAAAAAEAAAABAAEAAAAAAAAAAAEAAAAAAAABAAAAAQAAAQABAQAAAAEAAQAAAAABAAAAAAAAAAEAAAABAAABAAAAAAEAAAABAAAAAAAAAAAAAAEAAAABAAEAAAAAAAAAAQAAAAEAAAABAAAAAAAAAQEAAAAAAAABAAABAAAAAAAAAAAAAAEBAAAAAAAAAAAAAQEBAAEAAAAAAAABAAAAAAABAAEAAAABAAAAAQAAAAAAAAEBAAABAQABAAAAAAEAAQABAAEBAAABAAEAAQAAAAAAAAAAAAAAAQAAAQEBAAABAQAAAQAAAAAAAAAAAQEAAQAAAAEAAQAAAQABAAAAAAABAAAAAAAAAAAAAAAAAQABAAAAAAAAAAEAAQAAAAEAAQEBAAABAQAAAAAAAAAAAQAAAAAAAAABAQAAAAEAAAAAAAAAAAABAAABAAABAAAAAAAAAAEBAAAAAAABAAAAAAABAAEBAAEAAAAAAAABAQAAAAEAAQAAAAABAAAAAAEAAAABAAEBAAABAAAAAQAAAAEBAAAAAAAAAAEAAQEAAAABAAAAAQEAAAAAAAABAAAAAAAAAQABAAAAAAAAAAAAAQAAAQABAAAAAQAAAAAAAAAAAAAAAAAAAAAAAQABAAAAAAEBAAAAAAAAAAEAAAAAAAEAAQAAAQEAAQABAAEAAQABAAEAAAEAAAAAAAAAAAABAAEAAQAAAAAAAQEAAAABAAAAAQABAAAAAQAAAAAAAQAAAAEBAAAAAQAAAAABAQAAAAEAAQABAAAAAQAAAAAAAQAAAAAAAAAAAAAAAAABAAABAQAAAAAAAQEAAAEAAAAAAAAAAQAAAQAAAAAAAAAAAAEBAQAAAQAAAAEAAAEAAAAAAAAAAAAAAQEAAAAAAAAAAQAAAQABAAAAAAAAAAAAAAABAQABAAAAAAAAAAAAAAAAAAAAAAAAAAAAAAEAAAABAAAAAAAAAAAAAQAAAAAAAAAAAAABAQAAAAABAAEAAQABAAEAAAAAAAEBAQAAAAAAAAABAQEBAAABAAABAAAAAAABAQAAAAEBAAEAAAAAAAAAAAAAAAAAAQAAAAABAAABAAAAAAEAAAEAAQAAAAAAAAEAAAABAAEBAAAAAAAAAAAAAAAAAQEAAQEBAAAAAAABAAAAAQAAAQAAAAEAAQAAAAAAAAAAAQAAAAAAAAEAAAAAAQAAAAABAAABAAAAAQAAAAAAAAAAAAAAAAAAAQAAAAAAAQABAAEAAQAAAQAAAAABAQEAAAAAAAAAAAAAAQEAAAEBAQABAAABAAAAAAAAAAAAAAABAAABAAAAAAEAAAABAQAAAQ=="
          },
          "coloraxis": "coloraxis",
          "symbol": "circle"
         },
         "mode": "markers",
         "name": "",
         "showlegend": false,
         "x": {
          "dtype": "f8",
          "bdata": "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"
         },
         "xaxis": "x",
         "y": {
          "dtype": "f8",
          "bdata": "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"
         },
         "yaxis": "y",
         "type": "scattergl"
        }
       ],
       "layout": {
        "template": {
         "data": {
          "histogram2dcontour": [
           {
            "type": "histogram2dcontour",
            "colorbar": {
             "outlinewidth": 0,
             "ticks": ""
            },
            "colorscale": [
             [
              0.0,
              "#0d0887"
             ],
             [
              0.1111111111111111,
              "#46039f"
             ],
             [
              0.2222222222222222,
              "#7201a8"
             ],
             [
              0.3333333333333333,
              "#9c179e"
             ],
             [
              0.4444444444444444,
              "#bd3786"
             ],
             [
              0.5555555555555556,
              "#d8576b"
             ],
             [
              0.6666666666666666,
              "#ed7953"
             ],
             [
              0.7777777777777778,
              "#fb9f3a"
             ],
             [
              0.8888888888888888,
              "#fdca26"
             ],
             [
              1.0,
              "#f0f921"
             ]
            ]
           }
          ],
          "choropleth": [
           {
            "type": "choropleth",
            "colorbar": {
             "outlinewidth": 0,
             "ticks": ""
            }
           }
          ],
          "histogram2d": [
           {
            "type": "histogram2d",
            "colorbar": {
             "outlinewidth": 0,
             "ticks": ""
            },
            "colorscale": [
             [
              0.0,
              "#0d0887"
             ],
             [
              0.1111111111111111,
              "#46039f"
             ],
             [
              0.2222222222222222,
              "#7201a8"
             ],
             [
              0.3333333333333333,
              "#9c179e"
             ],
             [
              0.4444444444444444,
              "#bd3786"
             ],
             [
              0.5555555555555556,
              "#d8576b"
             ],
             [
              0.6666666666666666,
              "#ed7953"
             ],
             [
              0.7777777777777778,
              "#fb9f3a"
             ],
             [
              0.8888888888888888,
              "#fdca26"
             ],
             [
              1.0,
              "#f0f921"
             ]
            ]
           }
          ],
          "heatmap": [
           {
            "type": "heatmap",
            "colorbar": {
             "outlinewidth": 0,
             "ticks": ""
            },
            "colorscale": [
             [
              0.0,
              "#0d0887"
             ],
             [
              0.1111111111111111,
              "#46039f"
             ],
             [
              0.2222222222222222,
              "#7201a8"
             ],
             [
              0.3333333333333333,
              "#9c179e"
             ],
             [
              0.4444444444444444,
              "#bd3786"
             ],
             [
              0.5555555555555556,
              "#d8576b"
             ],
             [
              0.6666666666666666,
              "#ed7953"
             ],
             [
              0.7777777777777778,
              "#fb9f3a"
             ],
             [
              0.8888888888888888,
              "#fdca26"
             ],
             [
              1.0,
              "#f0f921"
             ]
            ]
           }
          ],
          "contourcarpet": [
           {
            "type": "contourcarpet",
            "colorbar": {
             "outlinewidth": 0,
             "ticks": ""
            }
           }
          ],
          "contour": [
           {
            "type": "contour",
            "colorbar": {
             "outlinewidth": 0,
             "ticks": ""
            },
            "colorscale": [
             [
              0.0,
              "#0d0887"
             ],
             [
              0.1111111111111111,
              "#46039f"
             ],
             [
              0.2222222222222222,
              "#7201a8"
             ],
             [
              0.3333333333333333,
              "#9c179e"
             ],
             [
              0.4444444444444444,
              "#bd3786"
             ],
             [
              0.5555555555555556,
              "#d8576b"
             ],
             [
              0.6666666666666666,
              "#ed7953"
             ],
             [
              0.7777777777777778,
              "#fb9f3a"
             ],
             [
              0.8888888888888888,
              "#fdca26"
             ],
             [
              1.0,
              "#f0f921"
             ]
            ]
           }
          ],
          "surface": [
           {
            "type": "surface",
            "colorbar": {
             "outlinewidth": 0,
             "ticks": ""
            },
            "colorscale": [
             [
              0.0,
              "#0d0887"
             ],
             [
              0.1111111111111111,
              "#46039f"
             ],
             [
              0.2222222222222222,
              "#7201a8"
             ],
             [
              0.3333333333333333,
              "#9c179e"
             ],
             [
              0.4444444444444444,
              "#bd3786"
             ],
             [
              0.5555555555555556,
              "#d8576b"
             ],
             [
              0.6666666666666666,
              "#ed7953"
             ],
             [
              0.7777777777777778,
              "#fb9f3a"
             ],
             [
              0.8888888888888888,
              "#fdca26"
             ],
             [
              1.0,
              "#f0f921"
             ]
            ]
           }
          ],
          "mesh3d": [
           {
            "type": "mesh3d",
            "colorbar": {
             "outlinewidth": 0,
             "ticks": ""
            }
           }
          ],
          "scatter": [
           {
            "marker": {
             "line": {
              "color": "#283442"
             }
            },
            "type": "scatter"
           }
          ],
          "parcoords": [
           {
            "type": "parcoords",
            "line": {
             "colorbar": {
              "outlinewidth": 0,
              "ticks": ""
             }
            }
           }
          ],
          "scatterpolargl": [
           {
            "type": "scatterpolargl",
            "marker": {
             "colorbar": {
              "outlinewidth": 0,
              "ticks": ""
             }
            }
           }
          ],
          "bar": [
           {
            "error_x": {
             "color": "#f2f5fa"
            },
            "error_y": {
             "color": "#f2f5fa"
            },
            "marker": {
             "line": {
              "color": "rgb(17,17,17)",
              "width": 0.5
             },
             "pattern": {
              "fillmode": "overlay",
              "size": 10,
              "solidity": 0.2
             }
            },
            "type": "bar"
           }
          ],
          "scattergeo": [
           {
            "type": "scattergeo",
            "marker": {
             "colorbar": {
              "outlinewidth": 0,
              "ticks": ""
             }
            }
           }
          ],
          "scatterpolar": [
           {
            "type": "scatterpolar",
            "marker": {
             "colorbar": {
              "outlinewidth": 0,
              "ticks": ""
             }
            }
           }
          ],
          "histogram": [
           {
            "marker": {
             "pattern": {
              "fillmode": "overlay",
              "size": 10,
              "solidity": 0.2
             }
            },
            "type": "histogram"
           }
          ],
          "scattergl": [
           {
            "marker": {
             "line": {
              "color": "#283442"
             }
            },
            "type": "scattergl"
           }
          ],
          "scatter3d": [
           {
            "type": "scatter3d",
            "line": {
             "colorbar": {
              "outlinewidth": 0,
              "ticks": ""
             }
            },
            "marker": {
             "colorbar": {
              "outlinewidth": 0,
              "ticks": ""
             }
            }
           }
          ],
          "scattermap": [
           {
            "type": "scattermap",
            "marker": {
             "colorbar": {
              "outlinewidth": 0,
              "ticks": ""
             }
            }
           }
          ],
          "scattermapbox": [
           {
            "type": "scattermapbox",
            "marker": {
             "colorbar": {
              "outlinewidth": 0,
              "ticks": ""
             }
            }
           }
          ],
          "scatterternary": [
           {
            "type": "scatterternary",
            "marker": {
             "colorbar": {
              "outlinewidth": 0,
              "ticks": ""
             }
            }
           }
          ],
          "scattercarpet": [
           {
            "type": "scattercarpet",
            "marker": {
             "colorbar": {
              "outlinewidth": 0,
              "ticks": ""
             }
            }
           }
          ],
          "carpet": [
           {
            "aaxis": {
             "endlinecolor": "#A2B1C6",
             "gridcolor": "#506784",
             "linecolor": "#506784",
             "minorgridcolor": "#506784",
             "startlinecolor": "#A2B1C6"
            },
            "baxis": {
             "endlinecolor": "#A2B1C6",
             "gridcolor": "#506784",
             "linecolor": "#506784",
             "minorgridcolor": "#506784",
             "startlinecolor": "#A2B1C6"
            },
            "type": "carpet"
           }
          ],
          "table": [
           {
            "cells": {
             "fill": {
              "color": "#506784"
             },
             "line": {
              "color": "rgb(17,17,17)"
             }
            },
            "header": {
             "fill": {
              "color": "#2a3f5f"
             },
             "line": {
              "color": "rgb(17,17,17)"
             }
            },
            "type": "table"
           }
          ],
          "barpolar": [
           {
            "marker": {
             "line": {
              "color": "rgb(17,17,17)",
              "width": 0.5
             },
             "pattern": {
              "fillmode": "overlay",
              "size": 10,
              "solidity": 0.2
             }
            },
            "type": "barpolar"
           }
          ],
          "pie": [
           {
            "automargin": true,
            "type": "pie"
           }
          ]
         },
         "layout": {
          "autotypenumbers": "strict",
          "colorway": [
           "#636efa",
           "#EF553B",
           "#00cc96",
           "#ab63fa",
           "#FFA15A",
           "#19d3f3",
           "#FF6692",
           "#B6E880",
           "#FF97FF",
           "#FECB52"
          ],
          "font": {
           "color": "#f2f5fa"
          },
          "hovermode": "closest",
          "hoverlabel": {
           "align": "left"
          },
          "paper_bgcolor": "rgb(17,17,17)",
          "plot_bgcolor": "rgb(17,17,17)",
          "polar": {
           "bgcolor": "rgb(17,17,17)",
           "angularaxis": {
            "gridcolor": "#506784",
            "linecolor": "#506784",
            "ticks": ""
           },
           "radialaxis": {
            "gridcolor": "#506784",
            "linecolor": "#506784",
            "ticks": ""
           }
          },
          "ternary": {
           "bgcolor": "rgb(17,17,17)",
           "aaxis": {
            "gridcolor": "#506784",
            "linecolor": "#506784",
            "ticks": ""
           },
           "baxis": {
            "gridcolor": "#506784",
            "linecolor": "#506784",
            "ticks": ""
           },
           "caxis": {
            "gridcolor": "#506784",
            "linecolor": "#506784",
            "ticks": ""
           }
          },
          "coloraxis": {
           "colorbar": {
            "outlinewidth": 0,
            "ticks": ""
           }
          },
          "colorscale": {
           "sequential": [
            [
             0.0,
             "#0d0887"
            ],
            [
             0.1111111111111111,
             "#46039f"
            ],
            [
             0.2222222222222222,
             "#7201a8"
            ],
            [
             0.3333333333333333,
             "#9c179e"
            ],
            [
             0.4444444444444444,
             "#bd3786"
            ],
            [
             0.5555555555555556,
             "#d8576b"
            ],
            [
             0.6666666666666666,
             "#ed7953"
            ],
            [
             0.7777777777777778,
             "#fb9f3a"
            ],
            [
             0.8888888888888888,
             "#fdca26"
            ],
            [
             1.0,
             "#f0f921"
            ]
           ],
           "sequentialminus": [
            [
             0.0,
             "#0d0887"
            ],
            [
             0.1111111111111111,
             "#46039f"
            ],
            [
             0.2222222222222222,
             "#7201a8"
            ],
            [
             0.3333333333333333,
             "#9c179e"
            ],
            [
             0.4444444444444444,
             "#bd3786"
            ],
            [
             0.5555555555555556,
             "#d8576b"
            ],
            [
             0.6666666666666666,
             "#ed7953"
            ],
            [
             0.7777777777777778,
             "#fb9f3a"
            ],
            [
             0.8888888888888888,
             "#fdca26"
            ],
            [
             1.0,
             "#f0f921"
            ]
           ],
           "diverging": [
            [
             0,
             "#8e0152"
            ],
            [
             0.1,
             "#c51b7d"
            ],
            [
             0.2,
             "#de77ae"
            ],
            [
             0.3,
             "#f1b6da"
            ],
            [
             0.4,
             "#fde0ef"
            ],
            [
             0.5,
             "#f7f7f7"
            ],
            [
             0.6,
             "#e6f5d0"
            ],
            [
             0.7,
             "#b8e186"
            ],
            [
             0.8,
             "#7fbc41"
            ],
            [
             0.9,
             "#4d9221"
            ],
            [
             1,
             "#276419"
            ]
           ]
          },
          "xaxis": {
           "gridcolor": "#283442",
           "linecolor": "#506784",
           "ticks": "",
           "title": {
            "standoff": 15
           },
           "zerolinecolor": "#283442",
           "automargin": true,
           "zerolinewidth": 2
          },
          "yaxis": {
           "gridcolor": "#283442",
           "linecolor": "#506784",
           "ticks": "",
           "title": {
            "standoff": 15
           },
           "zerolinecolor": "#283442",
           "automargin": true,
           "zerolinewidth": 2
          },
          "scene": {
           "xaxis": {
            "backgroundcolor": "rgb(17,17,17)",
            "gridcolor": "#506784",
            "linecolor": "#506784",
            "showbackground": true,
            "ticks": "",
            "zerolinecolor": "#C8D4E3",
            "gridwidth": 2
           },
           "yaxis": {
            "backgroundcolor": "rgb(17,17,17)",
            "gridcolor": "#506784",
            "linecolor": "#506784",
            "showbackground": true,
            "ticks": "",
            "zerolinecolor": "#C8D4E3",
            "gridwidth": 2
           },
           "zaxis": {
            "backgroundcolor": "rgb(17,17,17)",
            "gridcolor": "#506784",
            "linecolor": "#506784",
            "showbackground": true,
            "ticks": "",
            "zerolinecolor": "#C8D4E3",
            "gridwidth": 2
           }
          },
          "shapedefaults": {
           "line": {
            "color": "#f2f5fa"
           }
          },
          "annotationdefaults": {
           "arrowcolor": "#f2f5fa",
           "arrowhead": 0,
           "arrowwidth": 1
          },
          "geo": {
           "bgcolor": "rgb(17,17,17)",
           "landcolor": "rgb(17,17,17)",
           "subunitcolor": "#506784",
           "showland": true,
           "showlakes": true,
           "lakecolor": "rgb(17,17,17)"
          },
          "title": {
           "x": 0.05
          },
          "updatemenudefaults": {
           "bgcolor": "#506784",
           "borderwidth": 0
          },
          "sliderdefaults": {
           "bgcolor": "#C8D4E3",
           "borderwidth": 1,
           "bordercolor": "rgb(17,17,17)",
           "tickwidth": 0
          },
          "mapbox": {
           "style": "dark"
          }
         }
        },
        "xaxis": {
         "anchor": "y",
         "domain": [
          0.0,
          1.0
         ],
         "title": {
          "text": "x"
         }
        },
        "yaxis": {
         "anchor": "x",
         "domain": [
          0.0,
          1.0
         ],
         "title": {
          "text": "y"
         }
        },
        "coloraxis": {
         "colorbar": {
          "title": {
           "text": "color"
          }
         },
         "colorscale": [
          [
           0.0,
           "#0d0887"
          ],
          [
           0.1111111111111111,
           "#46039f"
          ],
          [
           0.2222222222222222,
           "#7201a8"
          ],
          [
           0.3333333333333333,
           "#9c179e"
          ],
          [
           0.4444444444444444,
           "#bd3786"
          ],
          [
           0.5555555555555556,
           "#d8576b"
          ],
          [
           0.6666666666666666,
           "#ed7953"
          ],
          [
           0.7777777777777778,
           "#fb9f3a"
          ],
          [
           0.8888888888888888,
           "#fdca26"
          ],
          [
           1.0,
           "#f0f921"
          ]
         ]
        },
        "legend": {
         "tracegroupgap": 0
        },
        "margin": {
         "t": 60
        }
       },
       "config": {
        "plotlyServerURL": "https://plot.ly"
       }
      }
     },
     "metadata": {},
     "output_type": "display_data",
     "jetTransient": {
      "display_id": null
     }
    }
   ],
   "execution_count": 4
  },
  {
   "metadata": {},
   "cell_type": "markdown",
   "source": "They is a complete mess here! So probably PCA will fail... No reason to see a linear relationship between data...",
   "id": "686adb52f61ca135"
  },
  {
   "metadata": {
    "ExecuteTime": {
     "end_time": "2025-10-24T14:42:46.313312Z",
     "start_time": "2025-10-24T14:42:46.210849Z"
    }
   },
   "cell_type": "code",
   "source": [
    "data_pca, dimension, eigenvectors = my_pca(data, dim=2)\n",
    "px.scatter(data_pca.iloc[:, 0], data_pca.iloc[:, 1], color=labels.iloc[:, 0], title=f\"Data with {dimension}d PCA\").show()"
   ],
   "id": "509999172ce2968c",
   "outputs": [
    {
     "data": {
      "application/vnd.plotly.v1+json": {
       "data": [
        {
         "hovertemplate": "x=%{x}<br>index=%{y}<br>color=%{marker.color}<extra></extra>",
         "legendgroup": "",
         "marker": {
          "color": {
           "dtype": "i1",
           "bdata": "AAAAAAABAAAAAQABAAEAAAAAAAAAAAAAAQABAQAAAAEBAAAAAQAAAQAAAQEBAQAAAAAAAAAAAQAAAQAAAAABAAABAQAAAAEBAAAAAQAAAAABAAEBAQAAAAAAAAAAAAAAAAAAAAAAAAAAAAAAAAEAAAABAQAAAAAAAAAAAAAAAAABAAABAAEAAAAAAAAAAAAAAQAAAAAAAQAAAAAAAAAAAAAAAAAAAQAAAAAAAAEAAAAAAAAAAAAAAAABAQABAAAAAAAAAQEAAAAAAAEAAAAAAAAAAQAAAAEAAAAAAQAAAAABAQAAAAAAAAEBAAABAAAAAQAAAAAAAAEBAAAAAAAAAAAAAAAAAAEBAAEAAAAAAAEAAAABAAAAAAAAAAABAQAAAAAAAAAAAQAAAAABAQEAAAABAAAAAAAAAAABAAABAAAAAAAAAQAAAQAAAAAAAAABAAAAAAAAAAAAAAAAAQAAAAAAAAAAAAEAAAAAAAAAAQAAAAEBAAAAAAAAAAABAQEAAAEBAAAAAAABAAAAAAAAAAEAAAABAAAAAQAAAQABAQAAAAAAAAAAAAAAAAABAQAAAQAAAAEAAAEAAQABAAAAAQAAAAAAAAEBAAAAAAAAAAAAAAAAAQEAAAAAAAAAAAAAAQABAAEAAQEBAAAAAQEBAAABAAAAAAABAQAAAQAAAQAAAAEBAAAAAAEAAAAAAAAAAAEAAAEAAQAAAQAAAAAAAAAAAAAAAAABAAAAAQAAAAABAAEBAAAAAQAAAAAAAAAAAAABAAAAAAEAAAEAAQAAAAAAAAAAAAABAAEBAAABAAABAQAAAAEAAAAAAQAAAAAAAAEBAAEAAAAAAAAAAAAAAAAAAAAAAAAAAAAAAQAAAQEAAAABAAEAAQEAAAEAAAAAAAEAAAAAAAAAAAAAAAAAAAAAAAABAQAAAAAAAAAAAAABAAABAAEAAAAAAQABAAEAAAABAAAAAAEAAQEAAAAAAAAAAAAAAAABAQABAAAAAAAAAAABAQAAAAABAAEAAAAAAAEAAAAAAAAAAAAAAAAAAQEBAAAAAAAAAAABAAAAAQAAAAABAAEAAAAAAQAAAQAAAAEAAAEBAAAAAAAAAQAAAAAAAAAAAAAAAAAAAAAAAAAAAQABAAABAQEAAAAAAAAAAAABAQAAAAEAAAAAAQAAAAAAAQAAAQEAAAAAAAAAAAAAAQAAAAAAAAEBAAEAAQAAAQAAAAAAAQAAAQAAAAAAAAAAAAAAAAABAAAAAQAAAAAAAAAAAAAAAQEAAAAAAAAAAAEAAAEAAAAAAAEAAAAAAAAAAAABAAEAAAABAAAAAQAAAAABAAAAAQAAAAEAAQAAAAAAAQAAAAEAAAEAAQAAAQEBAAAAAQEBAAABAQAAAAAAAAABAAEBAAEAAAABAAAAAAAAAAEAAAEAAAAAAAAAAQAAAQEBAAEAAAEAAAEBAQAAAAAAAAAAAQAAAQAAAAAAAAEBAAEAAAAAAAAAAAAAAAAAAAAAAAAAAAAAAAABAQEAAQAAAAAAAQAAAAABAAEAAQAAAQEAAQAAAQAAAAABAAAAAQAAAAAAAAABAAAAAQEAAQAAAAAAAAABAAABAQAAAAEAAQAAAAAAAAAAAAAAAAAAAQAAAQABAAAAAAEAAAAAAAAAAAEAAAAAAAEAAAAAAAAAAQEAAAAAAAABAAAAAAEAAQABAAAAAAEAAAAAAAAAAAABAQAAAAAAAAABAAABAAAAAAAAAAAAAAAAAAAAAAEAAAABAAEAAQAAAAEBAAABAAAAAAAAAAAAAQAAAAAAAQAAAAAAAQAAAAABAAAAAAABAAAAAAEAAAAAAAAAAAEAAAABAAAAAAEAAAAAAAEAAAAAAAEAAQAAAAEAAAAAAAABAQAAAAAAAAABAAEAAAAAAAEAAAAAAAAAAQABAAAAAAEAAAAAAAABAAAAAQAAAAABAAAAAAABAAAAAAAAAAEAAAAAAAEAAQEBAAAAAAABAAAAAAABAAAAAAAAAAAAAQAAAQABAAAAAAAAAQAAAAABAAAAAAEBAAAAAAEAAAEBAQEAAAAAAAAAAAABAAAAAAAAAAAAAAAAAAAAAQAAAAEAAQEBAQAAAQABAAABAAABAAAAAAEAAAAAAAAAAAAAAAAAAAABAAEAAQAAAQEBAAABAAEAAAEBAAEAAAEAAAAAAQEAAAABAAAAAQABAAEAAQABAQAAAAAAAAEBAQEBAAABAQAAAAAAAAAAAQAAAAEAAAAAAAEAAAAAAAEAAAAAAQEAAQEAAAAAAQAAAQAAAAAAAAABAQAAAAEAAAEBAQEAAAABAQAAAAEBAAABAAEAAAAAAAEAAAEAAAAAAAEBAAAAAQAAAAEAAAAAAAAAAAAAAAAAAQAAAAABAAABAAAAAQAAAAEAAAAAAAAAAAAAAAAAAQAAAAABAAEBAAAAAAABAQAAAQAAAQEAAAAAAAABAAABAAABAAAAAAAAAAAAAAABAAAAAQAAAAAAAAAAAQEAAAAAAAAAAAAAAAAAAQAAAAABAAAAAAAAAAAAAAAAAAEAAAABAAAAAAAAAAABAAAAAAAAAAEAAAAAAAABAAABAAAAAAEBAAAAAQAAAAEAAQAAAAAAAAABAAAAAAABAAAAAAEAAAAAAAAAAAAAAQAAAAEAAAAAAAAAAAAAAQEAAAAAAQAAAAAAAAEAAAAAAAAAAAEBAAAAAAAAAAEAAAAAAAAAAQABAQEAAAEAAAAAAAAAAAEAAAEBAQAAAAAAAAAAAAAAAAAAAAAAAAEAAQABAAEAAAAAAAABAAAAAAEBAQEAAQAAAAEBAAEBAAAAAAAAAAAAAQABAAAAAAAAAAAAAAABAAEBAAABAAAAAAEAAQEAAAABAQAAAAAAAAAAAAABAAEAAAABAQAAAQEBAAABAAAAAAAAAAAAAAAAAAEAAAABAAEAAAAAAAAAAAAAAAAAAAABAQAAAAAAAAAAAAAAAQAAAQAAAQAAAAAAAAEAAQAAAAEAAAAAAAABAAAAAAAAAQEBAAEAAAAAAAABAAAAAAAAAAAAAAAAAQAAAAAAAAAAAQAAAQAAAAAAAAEBAQAAAQABAAAAAAAAAQABAAABAAAAAAABAAEBAAAAAAAAAAAAAAABAAAAAAAAAAAAAAAAAAAAAAABAAEAAAABAQABAAEAAAEAAQABAQAAAAAAAAAAAAAAAAAAAAAAAAAAAAAAAQAAAAAAAAABAQEBAAABAQAAAAAAAQAAAAABAAABAAABAAAAAAAAAAEAAQAAAAAAAAEAAAAAAAAAAAABAAEAAAAAAQAAAAEAAAAAAAAAAAAAAAEBAAAAAAAAAQEAAAABAAEBAAEAAAAAAAAAAAAAAAEAAQABAQEBAAAAAAABAAAAAAEAAAABAQEAAAAAAQEAAAABAAABAAAAAAABAAAAAQABAAEAAQEAAAAAAAAAAAEAAAAAAAAAAAAAAAAAAQABAAABAQEAAAAAAAAAAAAAAAAAAAAAAAAAAAAAAQAAAQABAAAAAAAAAAAAAAEAAAAAAAABAAAAAQABAAEAAQAAAAEAAAABAAAAAAABAAEAAAEAAAEAAAAAAAEBAAABAAEBAAEAAQEAAQABAAEAAAAAAAEAAAAAAAEAAAAAAAEAAAAAAAAAAAAAAAEAAAAAAAEAAAEBAAABAAAAAAABAAAAAAEAAQAAAAAAAAAAAQAAAAEAAAABAAEAAAAAAAAAAAAAAAEAAAAAAQEAAQEBAAABAAAAAAEAAAAAAAAAAAEAAAEAAQAAAQAAAAAAAQEAAQAAAQABAAAAAAAAAAAAAAAAAAAAAAAAAAAAAAAAAQEAAAAAAQEAAAABAAAAAAAAAQAAAAABAAAAAQABAAAAAAAAAAAAAAABAAAAAAAAAQAAAAEAAAAAAAAAAAAAAAAAAAAAAQABAAEAAQAAAAAAAAAAAQABAQEAAAABAAEAAAAAAAAAAAEAAQAAAAEAAAAAAAAAAAAAAAABAAABAQAAAQEAAAEAAQAAAAAAAAAAAAEAAAAAAAAAAAAAAAEAAAAAAQAAAQEAAAAAAAABAAAAAAEAAAEBAAABAAAAAAEAAQAAAAAAAAAAAAAAAAAAAQABAAAAAQEBAQAAAAAAAAAAAQEAAQEAAAAAAAABAAAAAAABAQABAAAAAAAAAQAAAAAAAQABAAAAAAAAAAABAAAAAAEAAAAAAAAAAAAAAQEBAAEBAQEBAAAAAAEAAAAAAAAAAAABAAEAAAAAAAEAAAEAAAEAAAAAAQABAAEAAAAAAAAAAAAAAAAAAQAAAAAAAAAAAAAAAAAAAAEBAAABAAAAAAAAAAAAAAEAAAAAAAAAAAAAAAAAAAABAAEAAAAAAAAAAAEBAAABAAAAAQAAAAEAAAEAAQEBAAAAAQAAAAEAAAAAAAAAAAAAAAAAAAEAAAAAAAAAAAEAAAABAAABAQAAAAABAQAAAAAAAAEAAAAAAQABAAAAAAAAAAEBAAEAAAABAAEAAAEBAAABAAAAAQEBAAABAAAAAAAAAAAAAAAAAAEAAAAAAAAAAQEAAAEAAQEAAQEAAAEAAAEBAAAAAQABAAEBAAEAAAAAAAEAAAEAAAEAAAEAAQAAAAAAAQAAAQEAAAAAAAEAAQAAAAEAAAAAAAABAAABAAAAAAEAAAABAAABAAEAAAABAAABAAAAAAEAAAABAQAAAAAAAAAAAAEBAAAAAQAAAAAAAAAAAAAAAAABAQAAAAAAAAAAAQABAAAAAAEBAAAAAAABAAAAAQAAAAABAAABAAEAAAAAAAAAAAAAAQEAAAAAAQEAAAAAAAABAAAAAAABAAAAAAABAAABAAAAAAAAAAEAAAAAAAAAAAABAAAAAAAAAQAAAAAAAAAAAAEAAQAAAAAAAAAAAAEAAAAAAAAAAAEAAAABAAAAAQAAAAEAAAAAAAAAAQEAAAEAAAAAAAABAQAAAQABAQABAAAAAAAAAAAAAQAAAAAAAAAAAAAAAQAAAAABAAABAAAAAAEAAAAAAQAAAAAAAAEAAAABAAEAAAAAAQAAAAEAAAAAAAAAAAAAAAAAAAAAAAABAAAAAAEAAAABAQEAAAAAAAABAQAAAAEAAQABAAAAAAAAAQAAAAAAAAABAAABAAABAAAAAAAAAAEAAQAAAAAAAAAAAAAAAAAAAAAAAAAAAAEAAAEBAAAAAAABAAABAQAAAAABAQAAAAEAAAEAAAABAAAAAAAAAQAAAAAAAAAAAQAAAAABAAAAAQAAAAAAAAABAAEAAQABAAEAAAAAAAAAAAEBAQABAQEAAAABAAABAAAAAAAAAAAAAAEAAAAAAQEAAAAAAAABAQABAAABAAABAQAAAAEAAAAAAQAAAAAAAAABAQAAAAAAAAAAAAAAAAAAAQAAAAAAAAEBAAAAAAAAAAEAAQEAAAABAAAAAQABAAEAAAABAQAAAAEAAQAAAAAAAAEBAAAAAAAAAQEAAAAAAQEBAQEAAAAAAQEAAQABAAAAAQAAAAAAAAABAAAAAAAAAAAAAQABAAAAAAAAAQAAAAABAAEAAAEBAAAAAAEAAQEAAQAAAAAAAAAAAQAAAAAAAAAAAAEAAAAAAAAAAAAAAAAAAAAAAAEBAAEAAQAAAAAAAAAAAAAAAAAAAAEBAAEAAQABAAEAAAAAAQAAAAAAAQABAQAAAAAAAAAAAQEAAAAAAAEAAAAAAAEAAAAAAAAAAAABAAAAAAABAQEAAAAAAAAAAAABAAAAAAAAAAAAAQABAAABAAABAQAAAQAAAAAAAAEAAQEAAAEBAAAAAQEBAAAAAAAAAQAAAAABAAAAAQABAAAAAAAAAQEAAAABAAABAAABAAAAAAAAAAAAAAEAAQEAAAEBAQAAAAEAAQAAAAABAAEAAAAAAAAAAAAAAQAAAQAAAAAAAAAAAAEBAAABAQAAAAAAAAABAAAAAAAAAAAAAAABAAAAAAEAAAABAQAAAAAAAAAAAAEAAQAAAAABAAEAAAEAAAEAAQABAQEAAAEAAAAAAQAAAAAAAQAAAAAAAQAAAAAAAAAAAAABAAAAAAEBAQEAAAABAAEAAQAAAAAAAAABAAAAAAAAAAAAAAEAAQAAAAEAAAAAAAAAAAAAAQAAAAAAAQABAAEAAAAAAAABAAAAAQAAAAABAAABAAABAAABAAEAAAABAAAAAQAAAAAAAAEAAAEAAQABAAAAAAABAQEAAAEAAAAAAAEAAAAAAAAAAAEAAQEBAAABAAABAAAAAAABAAEAAQABAAEAAQAAAAAAAQAAAAAAAAEAAQABAQEAAAAAAAAAAAABAAAAAAAAAAAAAAABAAEAAAAAAAEAAAAAAAABAQAAAAEAAAEAAAABAQAAAAABAAAAAAEBAQAAAAAAAQABAAEAAAEAAQAAAAAAAAABAQAAAAAAAAABAAEBAAEAAAAAAAAAAAAAAAEBAAAAAAABAAAAAAAAAAAAAAABAAEBAAEAAAABAQEBAAABAQABAAABAAAAAAAAAQAAAAAAAQAAAAAAAAAAAAAAAQEAAAABAAEAAAEAAQAAAQAAAAAAAAABAAAAAQAAAAAAAAEAAAABAQEAAAAAAAEBAAAAAQAAAAAAAAEAAAAAAAEAAAEAAAAAAAABAQAAAQAAAAAAAAEAAAAAAAAAAAAAAQAAAAAAAAAAAAEAAQAAAAAAAQAAAAAAAQAAAAAAAQEAAAEBAAAAAAEBAAAAAAEAAQAAAAEAAAAAAAAAAAAAAAAAAAAAAQAAAAAAAQEAAQEBAAAAAAEAAAEAAAABAAEBAQAAAAEAAAEAAAAAAQAAAAAAAQAAAAAAAAABAQAAAQAAAAAAAAAAAQABAAEBAAEAAAABAAAAAAAAAAAAAAAAAQAAAAAAAAABAAAAAAAAAQAAAAAAAAEAAAABAAAAAAAAAAABAAAAAQABAAAAAAAAAQAAAAAAAAABAAAAAQAAAAAAAAAAAAEBAAAAAQEAAAAAAAABAAAAAAAAAAAAAAAAAQAAAQABAAEAAQEAAQAAAAABAQEBAAAAAAABAAAAAAAAAAAAAAAAAAABAAAAAAAAAQABAAAAAAAAAQABAAAAAQEAAAEAAAAAAAEAAAAAAAAAAAABAAAAAAEAAAEBAAABAAAAAAAAAAEAAAAAAAEBAAAAAAABAAAAAAEAAAEAAAEBAAABAAAAAAAAAAEAAAAAAQAAAQAAAAAAAAEAAAEAAAEAAAAAAAAAAAEBAAABAQEBAQABAAEAAAABAAEAAAAAAAAAAAABAAABAAAAAAABAAEAAQAAAQAAAAABAAABAAEAAQAAAAAAAQAAAAAAAQEAAAAAAAAAAAAAAAAAAAEBAQAAAAAAAAABAAAAAAAAAAAAAQAAAQAAAAEAAAEAAAEAAAABAAABAQEBAQABAAAAAAEAAAABAQAAAAAAAAAAAQAAAAABAAAAAAAAAQAAAAAAAAAAAQEAAAAAAQABAAEAAAAAAQABAAAAAQEBAAABAAABAAEAAAABAAAAAAEAAQEBAAAAAAAAAAABAAABAAEAAAAAAAAAAAAAAAEAAAABAAEAAAAAAAAAAAEAAAAAAAABAAAAAQAAAQABAQAAAAEAAQAAAAABAAAAAAAAAAEAAAABAAABAAAAAAEAAAABAAAAAAAAAAAAAAEAAAABAAEAAAAAAAAAAQAAAAEAAAABAAAAAAAAAQEAAAAAAAABAAABAAAAAAAAAAAAAAEBAAAAAAAAAAAAAQEBAAEAAAAAAAABAAAAAAABAAEAAAABAAAAAQAAAAAAAAEBAAABAQABAAAAAAEAAQABAAEBAAABAAEAAQAAAAAAAAAAAAAAAQAAAQEBAAABAQAAAQAAAAAAAAAAAQEAAQAAAAEAAQAAAQABAAAAAAABAAAAAAAAAAAAAAAAAQABAAAAAAAAAAEAAQAAAAEAAQEBAAABAQAAAAAAAAAAAQAAAAAAAAABAQAAAAEAAAAAAAAAAAABAAABAAABAAAAAAAAAAEBAAAAAAABAAAAAAABAAEBAAEAAAAAAAABAQAAAAEAAQAAAAABAAAAAAEAAAABAAEBAAABAAAAAQAAAAEBAAAAAAAAAAEAAQEAAAABAAAAAQEAAAAAAAABAAAAAAAAAQABAAAAAAAAAAAAAQAAAQABAAAAAQAAAAAAAAAAAAAAAAAAAAAAAQABAAAAAAEBAAAAAAAAAAEAAAAAAAEAAQAAAQEAAQABAAEAAQABAAEAAAEAAAAAAAAAAAABAAEAAQAAAAAAAQEAAAABAAAAAQABAAAAAQAAAAAAAQAAAAEBAAAAAQAAAAABAQAAAAEAAQABAAAAAQAAAAAAAQAAAAAAAAAAAAAAAAABAAABAQAAAAAAAQEAAAEAAAAAAAAAAQAAAQAAAAAAAAAAAAEBAQAAAQAAAAEAAAEAAAAAAAAAAAAAAQEAAAAAAAAAAQAAAQABAAAAAAAAAAAAAAABAQABAAAAAAAAAAAAAAAAAAAAAAAAAAAAAAEAAAABAAAAAAAAAAAAAQAAAAAAAAAAAAABAQAAAAABAAEAAQABAAEAAAAAAAEBAQAAAAAAAAABAQEBAAABAAABAAAAAAABAQAAAAEBAAEAAAAAAAAAAAAAAAAAAQAAAAABAAABAAAAAAEAAAEAAQAAAAAAAAEAAAABAAEBAAAAAAAAAAAAAAAAAQEAAQEBAAAAAAABAAAAAQAAAQAAAAEAAQAAAAAAAAAAAQAAAAAAAAEAAAAAAQAAAAABAAABAAAAAQAAAAAAAAAAAAAAAAAAAQAAAAAAAQABAAEAAQAAAQAAAAABAQEAAAAAAAAAAAAAAQEAAAEBAQABAAABAAAAAAAAAAAAAAABAAABAAAAAAEAAAABAQAAAQ=="
          },
          "coloraxis": "coloraxis",
          "symbol": "circle"
         },
         "mode": "markers",
         "name": "",
         "showlegend": false,
         "x": {
          "dtype": "f8",
          "bdata": "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"
         },
         "xaxis": "x",
         "y": {
          "dtype": "i2",
          "bdata": "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"
         },
         "yaxis": "y",
         "type": "scattergl"
        }
       ],
       "layout": {
        "template": {
         "data": {
          "histogram2dcontour": [
           {
            "type": "histogram2dcontour",
            "colorbar": {
             "outlinewidth": 0,
             "ticks": ""
            },
            "colorscale": [
             [
              0.0,
              "#0d0887"
             ],
             [
              0.1111111111111111,
              "#46039f"
             ],
             [
              0.2222222222222222,
              "#7201a8"
             ],
             [
              0.3333333333333333,
              "#9c179e"
             ],
             [
              0.4444444444444444,
              "#bd3786"
             ],
             [
              0.5555555555555556,
              "#d8576b"
             ],
             [
              0.6666666666666666,
              "#ed7953"
             ],
             [
              0.7777777777777778,
              "#fb9f3a"
             ],
             [
              0.8888888888888888,
              "#fdca26"
             ],
             [
              1.0,
              "#f0f921"
             ]
            ]
           }
          ],
          "choropleth": [
           {
            "type": "choropleth",
            "colorbar": {
             "outlinewidth": 0,
             "ticks": ""
            }
           }
          ],
          "histogram2d": [
           {
            "type": "histogram2d",
            "colorbar": {
             "outlinewidth": 0,
             "ticks": ""
            },
            "colorscale": [
             [
              0.0,
              "#0d0887"
             ],
             [
              0.1111111111111111,
              "#46039f"
             ],
             [
              0.2222222222222222,
              "#7201a8"
             ],
             [
              0.3333333333333333,
              "#9c179e"
             ],
             [
              0.4444444444444444,
              "#bd3786"
             ],
             [
              0.5555555555555556,
              "#d8576b"
             ],
             [
              0.6666666666666666,
              "#ed7953"
             ],
             [
              0.7777777777777778,
              "#fb9f3a"
             ],
             [
              0.8888888888888888,
              "#fdca26"
             ],
             [
              1.0,
              "#f0f921"
             ]
            ]
           }
          ],
          "heatmap": [
           {
            "type": "heatmap",
            "colorbar": {
             "outlinewidth": 0,
             "ticks": ""
            },
            "colorscale": [
             [
              0.0,
              "#0d0887"
             ],
             [
              0.1111111111111111,
              "#46039f"
             ],
             [
              0.2222222222222222,
              "#7201a8"
             ],
             [
              0.3333333333333333,
              "#9c179e"
             ],
             [
              0.4444444444444444,
              "#bd3786"
             ],
             [
              0.5555555555555556,
              "#d8576b"
             ],
             [
              0.6666666666666666,
              "#ed7953"
             ],
             [
              0.7777777777777778,
              "#fb9f3a"
             ],
             [
              0.8888888888888888,
              "#fdca26"
             ],
             [
              1.0,
              "#f0f921"
             ]
            ]
           }
          ],
          "contourcarpet": [
           {
            "type": "contourcarpet",
            "colorbar": {
             "outlinewidth": 0,
             "ticks": ""
            }
           }
          ],
          "contour": [
           {
            "type": "contour",
            "colorbar": {
             "outlinewidth": 0,
             "ticks": ""
            },
            "colorscale": [
             [
              0.0,
              "#0d0887"
             ],
             [
              0.1111111111111111,
              "#46039f"
             ],
             [
              0.2222222222222222,
              "#7201a8"
             ],
             [
              0.3333333333333333,
              "#9c179e"
             ],
             [
              0.4444444444444444,
              "#bd3786"
             ],
             [
              0.5555555555555556,
              "#d8576b"
             ],
             [
              0.6666666666666666,
              "#ed7953"
             ],
             [
              0.7777777777777778,
              "#fb9f3a"
             ],
             [
              0.8888888888888888,
              "#fdca26"
             ],
             [
              1.0,
              "#f0f921"
             ]
            ]
           }
          ],
          "surface": [
           {
            "type": "surface",
            "colorbar": {
             "outlinewidth": 0,
             "ticks": ""
            },
            "colorscale": [
             [
              0.0,
              "#0d0887"
             ],
             [
              0.1111111111111111,
              "#46039f"
             ],
             [
              0.2222222222222222,
              "#7201a8"
             ],
             [
              0.3333333333333333,
              "#9c179e"
             ],
             [
              0.4444444444444444,
              "#bd3786"
             ],
             [
              0.5555555555555556,
              "#d8576b"
             ],
             [
              0.6666666666666666,
              "#ed7953"
             ],
             [
              0.7777777777777778,
              "#fb9f3a"
             ],
             [
              0.8888888888888888,
              "#fdca26"
             ],
             [
              1.0,
              "#f0f921"
             ]
            ]
           }
          ],
          "mesh3d": [
           {
            "type": "mesh3d",
            "colorbar": {
             "outlinewidth": 0,
             "ticks": ""
            }
           }
          ],
          "scatter": [
           {
            "marker": {
             "line": {
              "color": "#283442"
             }
            },
            "type": "scatter"
           }
          ],
          "parcoords": [
           {
            "type": "parcoords",
            "line": {
             "colorbar": {
              "outlinewidth": 0,
              "ticks": ""
             }
            }
           }
          ],
          "scatterpolargl": [
           {
            "type": "scatterpolargl",
            "marker": {
             "colorbar": {
              "outlinewidth": 0,
              "ticks": ""
             }
            }
           }
          ],
          "bar": [
           {
            "error_x": {
             "color": "#f2f5fa"
            },
            "error_y": {
             "color": "#f2f5fa"
            },
            "marker": {
             "line": {
              "color": "rgb(17,17,17)",
              "width": 0.5
             },
             "pattern": {
              "fillmode": "overlay",
              "size": 10,
              "solidity": 0.2
             }
            },
            "type": "bar"
           }
          ],
          "scattergeo": [
           {
            "type": "scattergeo",
            "marker": {
             "colorbar": {
              "outlinewidth": 0,
              "ticks": ""
             }
            }
           }
          ],
          "scatterpolar": [
           {
            "type": "scatterpolar",
            "marker": {
             "colorbar": {
              "outlinewidth": 0,
              "ticks": ""
             }
            }
           }
          ],
          "histogram": [
           {
            "marker": {
             "pattern": {
              "fillmode": "overlay",
              "size": 10,
              "solidity": 0.2
             }
            },
            "type": "histogram"
           }
          ],
          "scattergl": [
           {
            "marker": {
             "line": {
              "color": "#283442"
             }
            },
            "type": "scattergl"
           }
          ],
          "scatter3d": [
           {
            "type": "scatter3d",
            "line": {
             "colorbar": {
              "outlinewidth": 0,
              "ticks": ""
             }
            },
            "marker": {
             "colorbar": {
              "outlinewidth": 0,
              "ticks": ""
             }
            }
           }
          ],
          "scattermap": [
           {
            "type": "scattermap",
            "marker": {
             "colorbar": {
              "outlinewidth": 0,
              "ticks": ""
             }
            }
           }
          ],
          "scattermapbox": [
           {
            "type": "scattermapbox",
            "marker": {
             "colorbar": {
              "outlinewidth": 0,
              "ticks": ""
             }
            }
           }
          ],
          "scatterternary": [
           {
            "type": "scatterternary",
            "marker": {
             "colorbar": {
              "outlinewidth": 0,
              "ticks": ""
             }
            }
           }
          ],
          "scattercarpet": [
           {
            "type": "scattercarpet",
            "marker": {
             "colorbar": {
              "outlinewidth": 0,
              "ticks": ""
             }
            }
           }
          ],
          "carpet": [
           {
            "aaxis": {
             "endlinecolor": "#A2B1C6",
             "gridcolor": "#506784",
             "linecolor": "#506784",
             "minorgridcolor": "#506784",
             "startlinecolor": "#A2B1C6"
            },
            "baxis": {
             "endlinecolor": "#A2B1C6",
             "gridcolor": "#506784",
             "linecolor": "#506784",
             "minorgridcolor": "#506784",
             "startlinecolor": "#A2B1C6"
            },
            "type": "carpet"
           }
          ],
          "table": [
           {
            "cells": {
             "fill": {
              "color": "#506784"
             },
             "line": {
              "color": "rgb(17,17,17)"
             }
            },
            "header": {
             "fill": {
              "color": "#2a3f5f"
             },
             "line": {
              "color": "rgb(17,17,17)"
             }
            },
            "type": "table"
           }
          ],
          "barpolar": [
           {
            "marker": {
             "line": {
              "color": "rgb(17,17,17)",
              "width": 0.5
             },
             "pattern": {
              "fillmode": "overlay",
              "size": 10,
              "solidity": 0.2
             }
            },
            "type": "barpolar"
           }
          ],
          "pie": [
           {
            "automargin": true,
            "type": "pie"
           }
          ]
         },
         "layout": {
          "autotypenumbers": "strict",
          "colorway": [
           "#636efa",
           "#EF553B",
           "#00cc96",
           "#ab63fa",
           "#FFA15A",
           "#19d3f3",
           "#FF6692",
           "#B6E880",
           "#FF97FF",
           "#FECB52"
          ],
          "font": {
           "color": "#f2f5fa"
          },
          "hovermode": "closest",
          "hoverlabel": {
           "align": "left"
          },
          "paper_bgcolor": "rgb(17,17,17)",
          "plot_bgcolor": "rgb(17,17,17)",
          "polar": {
           "bgcolor": "rgb(17,17,17)",
           "angularaxis": {
            "gridcolor": "#506784",
            "linecolor": "#506784",
            "ticks": ""
           },
           "radialaxis": {
            "gridcolor": "#506784",
            "linecolor": "#506784",
            "ticks": ""
           }
          },
          "ternary": {
           "bgcolor": "rgb(17,17,17)",
           "aaxis": {
            "gridcolor": "#506784",
            "linecolor": "#506784",
            "ticks": ""
           },
           "baxis": {
            "gridcolor": "#506784",
            "linecolor": "#506784",
            "ticks": ""
           },
           "caxis": {
            "gridcolor": "#506784",
            "linecolor": "#506784",
            "ticks": ""
           }
          },
          "coloraxis": {
           "colorbar": {
            "outlinewidth": 0,
            "ticks": ""
           }
          },
          "colorscale": {
           "sequential": [
            [
             0.0,
             "#0d0887"
            ],
            [
             0.1111111111111111,
             "#46039f"
            ],
            [
             0.2222222222222222,
             "#7201a8"
            ],
            [
             0.3333333333333333,
             "#9c179e"
            ],
            [
             0.4444444444444444,
             "#bd3786"
            ],
            [
             0.5555555555555556,
             "#d8576b"
            ],
            [
             0.6666666666666666,
             "#ed7953"
            ],
            [
             0.7777777777777778,
             "#fb9f3a"
            ],
            [
             0.8888888888888888,
             "#fdca26"
            ],
            [
             1.0,
             "#f0f921"
            ]
           ],
           "sequentialminus": [
            [
             0.0,
             "#0d0887"
            ],
            [
             0.1111111111111111,
             "#46039f"
            ],
            [
             0.2222222222222222,
             "#7201a8"
            ],
            [
             0.3333333333333333,
             "#9c179e"
            ],
            [
             0.4444444444444444,
             "#bd3786"
            ],
            [
             0.5555555555555556,
             "#d8576b"
            ],
            [
             0.6666666666666666,
             "#ed7953"
            ],
            [
             0.7777777777777778,
             "#fb9f3a"
            ],
            [
             0.8888888888888888,
             "#fdca26"
            ],
            [
             1.0,
             "#f0f921"
            ]
           ],
           "diverging": [
            [
             0,
             "#8e0152"
            ],
            [
             0.1,
             "#c51b7d"
            ],
            [
             0.2,
             "#de77ae"
            ],
            [
             0.3,
             "#f1b6da"
            ],
            [
             0.4,
             "#fde0ef"
            ],
            [
             0.5,
             "#f7f7f7"
            ],
            [
             0.6,
             "#e6f5d0"
            ],
            [
             0.7,
             "#b8e186"
            ],
            [
             0.8,
             "#7fbc41"
            ],
            [
             0.9,
             "#4d9221"
            ],
            [
             1,
             "#276419"
            ]
           ]
          },
          "xaxis": {
           "gridcolor": "#283442",
           "linecolor": "#506784",
           "ticks": "",
           "title": {
            "standoff": 15
           },
           "zerolinecolor": "#283442",
           "automargin": true,
           "zerolinewidth": 2
          },
          "yaxis": {
           "gridcolor": "#283442",
           "linecolor": "#506784",
           "ticks": "",
           "title": {
            "standoff": 15
           },
           "zerolinecolor": "#283442",
           "automargin": true,
           "zerolinewidth": 2
          },
          "scene": {
           "xaxis": {
            "backgroundcolor": "rgb(17,17,17)",
            "gridcolor": "#506784",
            "linecolor": "#506784",
            "showbackground": true,
            "ticks": "",
            "zerolinecolor": "#C8D4E3",
            "gridwidth": 2
           },
           "yaxis": {
            "backgroundcolor": "rgb(17,17,17)",
            "gridcolor": "#506784",
            "linecolor": "#506784",
            "showbackground": true,
            "ticks": "",
            "zerolinecolor": "#C8D4E3",
            "gridwidth": 2
           },
           "zaxis": {
            "backgroundcolor": "rgb(17,17,17)",
            "gridcolor": "#506784",
            "linecolor": "#506784",
            "showbackground": true,
            "ticks": "",
            "zerolinecolor": "#C8D4E3",
            "gridwidth": 2
           }
          },
          "shapedefaults": {
           "line": {
            "color": "#f2f5fa"
           }
          },
          "annotationdefaults": {
           "arrowcolor": "#f2f5fa",
           "arrowhead": 0,
           "arrowwidth": 1
          },
          "geo": {
           "bgcolor": "rgb(17,17,17)",
           "landcolor": "rgb(17,17,17)",
           "subunitcolor": "#506784",
           "showland": true,
           "showlakes": true,
           "lakecolor": "rgb(17,17,17)"
          },
          "title": {
           "x": 0.05
          },
          "updatemenudefaults": {
           "bgcolor": "#506784",
           "borderwidth": 0
          },
          "sliderdefaults": {
           "bgcolor": "#C8D4E3",
           "borderwidth": 1,
           "bordercolor": "rgb(17,17,17)",
           "tickwidth": 0
          },
          "mapbox": {
           "style": "dark"
          }
         }
        },
        "xaxis": {
         "anchor": "y",
         "domain": [
          0.0,
          1.0
         ],
         "title": {
          "text": "x"
         }
        },
        "yaxis": {
         "anchor": "x",
         "domain": [
          0.0,
          1.0
         ],
         "title": {
          "text": "index"
         }
        },
        "coloraxis": {
         "colorbar": {
          "title": {
           "text": "color"
          }
         },
         "colorscale": [
          [
           0.0,
           "#0d0887"
          ],
          [
           0.1111111111111111,
           "#46039f"
          ],
          [
           0.2222222222222222,
           "#7201a8"
          ],
          [
           0.3333333333333333,
           "#9c179e"
          ],
          [
           0.4444444444444444,
           "#bd3786"
          ],
          [
           0.5555555555555556,
           "#d8576b"
          ],
          [
           0.6666666666666666,
           "#ed7953"
          ],
          [
           0.7777777777777778,
           "#fb9f3a"
          ],
          [
           0.8888888888888888,
           "#fdca26"
          ],
          [
           1.0,
           "#f0f921"
          ]
         ]
        },
        "legend": {
         "tracegroupgap": 0
        },
        "title": {
         "text": "Data with 2d PCA"
        }
       },
       "config": {
        "plotlyServerURL": "https://plot.ly"
       }
      }
     },
     "metadata": {},
     "output_type": "display_data",
     "jetTransient": {
      "display_id": null
     }
    }
   ],
   "execution_count": 5
  },
  {
   "metadata": {
    "ExecuteTime": {
     "end_time": "2025-10-24T14:42:46.927712Z",
     "start_time": "2025-10-24T14:42:46.641996Z"
    }
   },
   "cell_type": "code",
   "source": [
    "data_pca, dimension, eigenvectors = my_pca(data, dim=3)\n",
    "fig = px.scatter_3d(x=data_pca.iloc[:, 0], y=data_pca.iloc[:, 1], z=data_pca.iloc[:, 2], color=labels.iloc[:, 0],  title=f\"Data with {dimension}d PCA\")\n",
    "fig.update_traces(marker=dict(size=1)).show()"
   ],
   "id": "2b9f88faa329eff9",
   "outputs": [
    {
     "data": {
      "application/vnd.plotly.v1+json": {
       "data": [
        {
         "hovertemplate": "x=%{x}<br>y=%{y}<br>z=%{z}<br>color=%{marker.color}<extra></extra>",
         "legendgroup": "",
         "marker": {
          "color": {
           "dtype": "i1",
           "bdata": "AAAAAAABAAAAAQABAAEAAAAAAAAAAAAAAQABAQAAAAEBAAAAAQAAAQAAAQEBAQAAAAAAAAAAAQAAAQAAAAABAAABAQAAAAEBAAAAAQAAAAABAAEBAQAAAAAAAAAAAAAAAAAAAAAAAAAAAAAAAAEAAAABAQAAAAAAAAAAAAAAAAABAAABAAEAAAAAAAAAAAAAAQAAAAAAAQAAAAAAAAAAAAAAAAAAAQAAAAAAAAEAAAAAAAAAAAAAAAABAQABAAAAAAAAAQEAAAAAAAEAAAAAAAAAAQAAAAEAAAAAAQAAAAABAQAAAAAAAAEBAAABAAAAAQAAAAAAAAEBAAAAAAAAAAAAAAAAAAEBAAEAAAAAAAEAAAABAAAAAAAAAAABAQAAAAAAAAAAAQAAAAABAQEAAAABAAAAAAAAAAABAAABAAAAAAAAAQAAAQAAAAAAAAABAAAAAAAAAAAAAAAAAQAAAAAAAAAAAAEAAAAAAAAAAQAAAAEBAAAAAAAAAAABAQEAAAEBAAAAAAABAAAAAAAAAAEAAAABAAAAAQAAAQABAQAAAAAAAAAAAAAAAAABAQAAAQAAAAEAAAEAAQABAAAAAQAAAAAAAAEBAAAAAAAAAAAAAAAAAQEAAAAAAAAAAAAAAQABAAEAAQEBAAAAAQEBAAABAAAAAAABAQAAAQAAAQAAAAEBAAAAAAEAAAAAAAAAAAEAAAEAAQAAAQAAAAAAAAAAAAAAAAABAAAAAQAAAAABAAEBAAAAAQAAAAAAAAAAAAABAAAAAAEAAAEAAQAAAAAAAAAAAAABAAEBAAABAAABAQAAAAEAAAAAAQAAAAAAAAEBAAEAAAAAAAAAAAAAAAAAAAAAAAAAAAAAAQAAAQEAAAABAAEAAQEAAAEAAAAAAAEAAAAAAAAAAAAAAAAAAAAAAAABAQAAAAAAAAAAAAABAAABAAEAAAAAAQABAAEAAAABAAAAAAEAAQEAAAAAAAAAAAAAAAABAQABAAAAAAAAAAABAQAAAAABAAEAAAAAAAEAAAAAAAAAAAAAAAAAAQEBAAAAAAAAAAABAAAAAQAAAAABAAEAAAAAAQAAAQAAAAEAAAEBAAAAAAAAAQAAAAAAAAAAAAAAAAAAAAAAAAAAAQABAAABAQEAAAAAAAAAAAABAQAAAAEAAAAAAQAAAAAAAQAAAQEAAAAAAAAAAAAAAQAAAAAAAAEBAAEAAQAAAQAAAAAAAQAAAQAAAAAAAAAAAAAAAAABAAAAAQAAAAAAAAAAAAAAAQEAAAAAAAAAAAEAAAEAAAAAAAEAAAAAAAAAAAABAAEAAAABAAAAAQAAAAABAAAAAQAAAAEAAQAAAAAAAQAAAAEAAAEAAQAAAQEBAAAAAQEBAAABAQAAAAAAAAABAAEBAAEAAAABAAAAAAAAAAEAAAEAAAAAAAAAAQAAAQEBAAEAAAEAAAEBAQAAAAAAAAAAAQAAAQAAAAAAAAEBAAEAAAAAAAAAAAAAAAAAAAAAAAAAAAAAAAABAQEAAQAAAAAAAQAAAAABAAEAAQAAAQEAAQAAAQAAAAABAAAAAQAAAAAAAAABAAAAAQEAAQAAAAAAAAABAAABAQAAAAEAAQAAAAAAAAAAAAAAAAAAAQAAAQABAAAAAAEAAAAAAAAAAAEAAAAAAAEAAAAAAAAAAQEAAAAAAAABAAAAAAEAAQABAAAAAAEAAAAAAAAAAAABAQAAAAAAAAABAAABAAAAAAAAAAAAAAAAAAAAAAEAAAABAAEAAQAAAAEBAAABAAAAAAAAAAAAAQAAAAAAAQAAAAAAAQAAAAABAAAAAAABAAAAAAEAAAAAAAAAAAEAAAABAAAAAAEAAAAAAAEAAAAAAAEAAQAAAAEAAAAAAAABAQAAAAAAAAABAAEAAAAAAAEAAAAAAAAAAQABAAAAAAEAAAAAAAABAAAAAQAAAAABAAAAAAABAAAAAAAAAAEAAAAAAAEAAQEBAAAAAAABAAAAAAABAAAAAAAAAAAAAQAAAQABAAAAAAAAAQAAAAABAAAAAAEBAAAAAAEAAAEBAQEAAAAAAAAAAAABAAAAAAAAAAAAAAAAAAAAAQAAAAEAAQEBAQAAAQABAAABAAABAAAAAAEAAAAAAAAAAAAAAAAAAAABAAEAAQAAAQEBAAABAAEAAAEBAAEAAAEAAAAAAQEAAAABAAAAAQABAAEAAQABAQAAAAAAAAEBAQEBAAABAQAAAAAAAAAAAQAAAAEAAAAAAAEAAAAAAAEAAAAAAQEAAQEAAAAAAQAAAQAAAAAAAAABAQAAAAEAAAEBAQEAAAABAQAAAAEBAAABAAEAAAAAAAEAAAEAAAAAAAEBAAAAAQAAAAEAAAAAAAAAAAAAAAAAAQAAAAABAAABAAAAAQAAAAEAAAAAAAAAAAAAAAAAAQAAAAABAAEBAAAAAAABAQAAAQAAAQEAAAAAAAABAAABAAABAAAAAAAAAAAAAAABAAAAAQAAAAAAAAAAAQEAAAAAAAAAAAAAAAAAAQAAAAABAAAAAAAAAAAAAAAAAAEAAAABAAAAAAAAAAABAAAAAAAAAAEAAAAAAAABAAABAAAAAAEBAAAAAQAAAAEAAQAAAAAAAAABAAAAAAABAAAAAAEAAAAAAAAAAAAAAQAAAAEAAAAAAAAAAAAAAQEAAAAAAQAAAAAAAAEAAAAAAAAAAAEBAAAAAAAAAAEAAAAAAAAAAQABAQEAAAEAAAAAAAAAAAEAAAEBAQAAAAAAAAAAAAAAAAAAAAAAAAEAAQABAAEAAAAAAAABAAAAAAEBAQEAAQAAAAEBAAEBAAAAAAAAAAAAAQABAAAAAAAAAAAAAAABAAEBAAABAAAAAAEAAQEAAAABAQAAAAAAAAAAAAABAAEAAAABAQAAAQEBAAABAAAAAAAAAAAAAAAAAAEAAAABAAEAAAAAAAAAAAAAAAAAAAABAQAAAAAAAAAAAAAAAQAAAQAAAQAAAAAAAAEAAQAAAAEAAAAAAAABAAAAAAAAAQEBAAEAAAAAAAABAAAAAAAAAAAAAAAAAQAAAAAAAAAAAQAAAQAAAAAAAAEBAQAAAQABAAAAAAAAAQABAAABAAAAAAABAAEBAAAAAAAAAAAAAAABAAAAAAAAAAAAAAAAAAAAAAABAAEAAAABAQABAAEAAAEAAQABAQAAAAAAAAAAAAAAAAAAAAAAAAAAAAAAAQAAAAAAAAABAQEBAAABAQAAAAAAAQAAAAABAAABAAABAAAAAAAAAAEAAQAAAAAAAAEAAAAAAAAAAAABAAEAAAAAAQAAAAEAAAAAAAAAAAAAAAEBAAAAAAAAAQEAAAABAAEBAAEAAAAAAAAAAAAAAAEAAQABAQEBAAAAAAABAAAAAAEAAAABAQEAAAAAAQEAAAABAAABAAAAAAABAAAAAQABAAEAAQEAAAAAAAAAAAEAAAAAAAAAAAAAAAAAAQABAAABAQEAAAAAAAAAAAAAAAAAAAAAAAAAAAAAAQAAAQABAAAAAAAAAAAAAAEAAAAAAAABAAAAAQABAAEAAQAAAAEAAAABAAAAAAABAAEAAAEAAAEAAAAAAAEBAAABAAEBAAEAAQEAAQABAAEAAAAAAAEAAAAAAAEAAAAAAAEAAAAAAAAAAAAAAAEAAAAAAAEAAAEBAAABAAAAAAABAAAAAAEAAQAAAAAAAAAAAQAAAAEAAAABAAEAAAAAAAAAAAAAAAEAAAAAAQEAAQEBAAABAAAAAAEAAAAAAAAAAAEAAAEAAQAAAQAAAAAAAQEAAQAAAQABAAAAAAAAAAAAAAAAAAAAAAAAAAAAAAAAAQEAAAAAAQEAAAABAAAAAAAAAQAAAAABAAAAAQABAAAAAAAAAAAAAAABAAAAAAAAAQAAAAEAAAAAAAAAAAAAAAAAAAAAAQABAAEAAQAAAAAAAAAAAQABAQEAAAABAAEAAAAAAAAAAAEAAQAAAAEAAAAAAAAAAAAAAAABAAABAQAAAQEAAAEAAQAAAAAAAAAAAAEAAAAAAAAAAAAAAAEAAAAAAQAAAQEAAAAAAAABAAAAAAEAAAEBAAABAAAAAAEAAQAAAAAAAAAAAAAAAAAAAQABAAAAAQEBAQAAAAAAAAAAAQEAAQEAAAAAAAABAAAAAAABAQABAAAAAAAAAQAAAAAAAQABAAAAAAAAAAABAAAAAAEAAAAAAAAAAAAAAQEBAAEBAQEBAAAAAAEAAAAAAAAAAAABAAEAAAAAAAEAAAEAAAEAAAAAAQABAAEAAAAAAAAAAAAAAAAAAQAAAAAAAAAAAAAAAAAAAAEBAAABAAAAAAAAAAAAAAEAAAAAAAAAAAAAAAAAAAABAAEAAAAAAAAAAAEBAAABAAAAAQAAAAEAAAEAAQEBAAAAAQAAAAEAAAAAAAAAAAAAAAAAAAEAAAAAAAAAAAEAAAABAAABAQAAAAABAQAAAAAAAAEAAAAAAQABAAAAAAAAAAEBAAEAAAABAAEAAAEBAAABAAAAAQEBAAABAAAAAAAAAAAAAAAAAAEAAAAAAAAAAQEAAAEAAQEAAQEAAAEAAAEBAAAAAQABAAEBAAEAAAAAAAEAAAEAAAEAAAEAAQAAAAAAAQAAAQEAAAAAAAEAAQAAAAEAAAAAAAABAAABAAAAAAEAAAABAAABAAEAAAABAAABAAAAAAEAAAABAQAAAAAAAAAAAAEBAAAAAQAAAAAAAAAAAAAAAAABAQAAAAAAAAAAAQABAAAAAAEBAAAAAAABAAAAAQAAAAABAAABAAEAAAAAAAAAAAAAAQEAAAAAAQEAAAAAAAABAAAAAAABAAAAAAABAAABAAAAAAAAAAEAAAAAAAAAAAABAAAAAAAAAQAAAAAAAAAAAAEAAQAAAAAAAAAAAAEAAAAAAAAAAAEAAAABAAAAAQAAAAEAAAAAAAAAAQEAAAEAAAAAAAABAQAAAQABAQABAAAAAAAAAAAAAQAAAAAAAAAAAAAAAQAAAAABAAABAAAAAAEAAAAAAQAAAAAAAAEAAAABAAEAAAAAAQAAAAEAAAAAAAAAAAAAAAAAAAAAAAABAAAAAAEAAAABAQEAAAAAAAABAQAAAAEAAQABAAAAAAAAAQAAAAAAAAABAAABAAABAAAAAAAAAAEAAQAAAAAAAAAAAAAAAAAAAAAAAAAAAAEAAAEBAAAAAAABAAABAQAAAAABAQAAAAEAAAEAAAABAAAAAAAAAQAAAAAAAAAAAQAAAAABAAAAAQAAAAAAAAABAAEAAQABAAEAAAAAAAAAAAEBAQABAQEAAAABAAABAAAAAAAAAAAAAAEAAAAAAQEAAAAAAAABAQABAAABAAABAQAAAAEAAAAAAQAAAAAAAAABAQAAAAAAAAAAAAAAAAAAAQAAAAAAAAEBAAAAAAAAAAEAAQEAAAABAAAAAQABAAEAAAABAQAAAAEAAQAAAAAAAAEBAAAAAAAAAQEAAAAAAQEBAQEAAAAAAQEAAQABAAAAAQAAAAAAAAABAAAAAAAAAAAAAQABAAAAAAAAAQAAAAABAAEAAAEBAAAAAAEAAQEAAQAAAAAAAAAAAQAAAAAAAAAAAAEAAAAAAAAAAAAAAAAAAAAAAAEBAAEAAQAAAAAAAAAAAAAAAAAAAAEBAAEAAQABAAEAAAAAAQAAAAAAAQABAQAAAAAAAAAAAQEAAAAAAAEAAAAAAAEAAAAAAAAAAAABAAAAAAABAQEAAAAAAAAAAAABAAAAAAAAAAAAAQABAAABAAABAQAAAQAAAAAAAAEAAQEAAAEBAAAAAQEBAAAAAAAAAQAAAAABAAAAAQABAAAAAAAAAQEAAAABAAABAAABAAAAAAAAAAAAAAEAAQEAAAEBAQAAAAEAAQAAAAABAAEAAAAAAAAAAAAAAQAAAQAAAAAAAAAAAAEBAAABAQAAAAAAAAABAAAAAAAAAAAAAAABAAAAAAEAAAABAQAAAAAAAAAAAAEAAQAAAAABAAEAAAEAAAEAAQABAQEAAAEAAAAAAQAAAAAAAQAAAAAAAQAAAAAAAAAAAAABAAAAAAEBAQEAAAABAAEAAQAAAAAAAAABAAAAAAAAAAAAAAEAAQAAAAEAAAAAAAAAAAAAAQAAAAAAAQABAAEAAAAAAAABAAAAAQAAAAABAAABAAABAAABAAEAAAABAAAAAQAAAAAAAAEAAAEAAQABAAAAAAABAQEAAAEAAAAAAAEAAAAAAAAAAAEAAQEBAAABAAABAAAAAAABAAEAAQABAAEAAQAAAAAAAQAAAAAAAAEAAQABAQEAAAAAAAAAAAABAAAAAAAAAAAAAAABAAEAAAAAAAEAAAAAAAABAQAAAAEAAAEAAAABAQAAAAABAAAAAAEBAQAAAAAAAQABAAEAAAEAAQAAAAAAAAABAQAAAAAAAAABAAEBAAEAAAAAAAAAAAAAAAEBAAAAAAABAAAAAAAAAAAAAAABAAEBAAEAAAABAQEBAAABAQABAAABAAAAAAAAAQAAAAAAAQAAAAAAAAAAAAAAAQEAAAABAAEAAAEAAQAAAQAAAAAAAAABAAAAAQAAAAAAAAEAAAABAQEAAAAAAAEBAAAAAQAAAAAAAAEAAAAAAAEAAAEAAAAAAAABAQAAAQAAAAAAAAEAAAAAAAAAAAAAAQAAAAAAAAAAAAEAAQAAAAAAAQAAAAAAAQAAAAAAAQEAAAEBAAAAAAEBAAAAAAEAAQAAAAEAAAAAAAAAAAAAAAAAAAAAAQAAAAAAAQEAAQEBAAAAAAEAAAEAAAABAAEBAQAAAAEAAAEAAAAAAQAAAAAAAQAAAAAAAAABAQAAAQAAAAAAAAAAAQABAAEBAAEAAAABAAAAAAAAAAAAAAAAAQAAAAAAAAABAAAAAAAAAQAAAAAAAAEAAAABAAAAAAAAAAABAAAAAQABAAAAAAAAAQAAAAAAAAABAAAAAQAAAAAAAAAAAAEBAAAAAQEAAAAAAAABAAAAAAAAAAAAAAAAAQAAAQABAAEAAQEAAQAAAAABAQEBAAAAAAABAAAAAAAAAAAAAAAAAAABAAAAAAAAAQABAAAAAAAAAQABAAAAAQEAAAEAAAAAAAEAAAAAAAAAAAABAAAAAAEAAAEBAAABAAAAAAAAAAEAAAAAAAEBAAAAAAABAAAAAAEAAAEAAAEBAAABAAAAAAAAAAEAAAAAAQAAAQAAAAAAAAEAAAEAAAEAAAAAAAAAAAEBAAABAQEBAQABAAEAAAABAAEAAAAAAAAAAAABAAABAAAAAAABAAEAAQAAAQAAAAABAAABAAEAAQAAAAAAAQAAAAAAAQEAAAAAAAAAAAAAAAAAAAEBAQAAAAAAAAABAAAAAAAAAAAAAQAAAQAAAAEAAAEAAAEAAAABAAABAQEBAQABAAAAAAEAAAABAQAAAAAAAAAAAQAAAAABAAAAAAAAAQAAAAAAAAAAAQEAAAAAAQABAAEAAAAAAQABAAAAAQEBAAABAAABAAEAAAABAAAAAAEAAQEBAAAAAAAAAAABAAABAAEAAAAAAAAAAAAAAAEAAAABAAEAAAAAAAAAAAEAAAAAAAABAAAAAQAAAQABAQAAAAEAAQAAAAABAAAAAAAAAAEAAAABAAABAAAAAAEAAAABAAAAAAAAAAAAAAEAAAABAAEAAAAAAAAAAQAAAAEAAAABAAAAAAAAAQEAAAAAAAABAAABAAAAAAAAAAAAAAEBAAAAAAAAAAAAAQEBAAEAAAAAAAABAAAAAAABAAEAAAABAAAAAQAAAAAAAAEBAAABAQABAAAAAAEAAQABAAEBAAABAAEAAQAAAAAAAAAAAAAAAQAAAQEBAAABAQAAAQAAAAAAAAAAAQEAAQAAAAEAAQAAAQABAAAAAAABAAAAAAAAAAAAAAAAAQABAAAAAAAAAAEAAQAAAAEAAQEBAAABAQAAAAAAAAAAAQAAAAAAAAABAQAAAAEAAAAAAAAAAAABAAABAAABAAAAAAAAAAEBAAAAAAABAAAAAAABAAEBAAEAAAAAAAABAQAAAAEAAQAAAAABAAAAAAEAAAABAAEBAAABAAAAAQAAAAEBAAAAAAAAAAEAAQEAAAABAAAAAQEAAAAAAAABAAAAAAAAAQABAAAAAAAAAAAAAQAAAQABAAAAAQAAAAAAAAAAAAAAAAAAAAAAAQABAAAAAAEBAAAAAAAAAAEAAAAAAAEAAQAAAQEAAQABAAEAAQABAAEAAAEAAAAAAAAAAAABAAEAAQAAAAAAAQEAAAABAAAAAQABAAAAAQAAAAAAAQAAAAEBAAAAAQAAAAABAQAAAAEAAQABAAAAAQAAAAAAAQAAAAAAAAAAAAAAAAABAAABAQAAAAAAAQEAAAEAAAAAAAAAAQAAAQAAAAAAAAAAAAEBAQAAAQAAAAEAAAEAAAAAAAAAAAAAAQEAAAAAAAAAAQAAAQABAAAAAAAAAAAAAAABAQABAAAAAAAAAAAAAAAAAAAAAAAAAAAAAAEAAAABAAAAAAAAAAAAAQAAAAAAAAAAAAABAQAAAAABAAEAAQABAAEAAAAAAAEBAQAAAAAAAAABAQEBAAABAAABAAAAAAABAQAAAAEBAAEAAAAAAAAAAAAAAAAAAQAAAAABAAABAAAAAAEAAAEAAQAAAAAAAAEAAAABAAEBAAAAAAAAAAAAAAAAAQEAAQEBAAAAAAABAAAAAQAAAQAAAAEAAQAAAAAAAAAAAQAAAAAAAAEAAAAAAQAAAAABAAABAAAAAQAAAAAAAAAAAAAAAAAAAQAAAAAAAQABAAEAAQAAAQAAAAABAQEAAAAAAAAAAAAAAQEAAAEBAQABAAABAAAAAAAAAAAAAAABAAABAAAAAAEAAAABAQAAAQ=="
          },
          "coloraxis": "coloraxis",
          "symbol": "circle",
          "size": 1
         },
         "mode": "markers",
         "name": "",
         "scene": "scene",
         "showlegend": false,
         "x": {
          "dtype": "f8",
          "bdata": "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"
         },
         "y": {
          "dtype": "f8",
          "bdata": "gw4PzyUz7T8PNtVXqVvpP0MBwwUUBPa/e+wZsl+t0j/biYQ0vyTTP0Pe60nPNvA/weGP40nGsz+xwve6TvGeP1tPoE2F6dO/1VganO9u27/gwwAZUZOzPxOIbIFcWsy/6FsEQ5/L6j+1+RFsSTfyv5o7/Yhm5ei/VVxeq7ZJtD8saFCD9tSSP7x6pqgY58S/6iFArO4h2D9zK04iu2jqPzWRzhxfK+y/3dqt9Gei9b9TUpFdmyrkP1XWBTV1xdq/iQ7Man1D9L8tJ7BSc0TbP+ZrBKMYz9U/jziHWoss9D/XZmrm2LP3PzI0HhVgE+i/OyXFxwZj97/Sxh5M9dnsP7J4YR006PK/05aYw+xw8b9UsqPcfne2P39j9a33Deq/lbt1KqyW2b+kQfewqHvGvwCa4FtRmPU/hsbRMtj55z8br/s+n33cP2gx03o59uG/haanehk48j/7DbZnjzvkP8q9hLpLuPg/b+yaT48S1j/+kM15EkvhP/5FOOz/vuc/VgmcGTCX2T9oQJ+cCLS/v26N3jhq444/+BnI5T104T+pfieMuSTqP1s6NZxb7e2/U2AHmqZP4b8QgKkHVs+iP5eE63bmx/G/rKIBXxvF8z+ZvFI2eXT1P3qra3tRArm/L8Tuf9Hq4j+RTFIuixzlv+hoYJNUEOE/82ubaMY+9r/3RT08uPflv9biucCzRe4/6DGudRdvib8IIANhh8u3PyNCfHtslvI/YwYWmGj42j9mIwqpIyDmv4iW2XXqCfW/R7FECd5B8D/TbmNG737tvz3pg9FLPeE/cAOkVyMk6r9/XWwAh/Hhvzo+rPzvp6Y/Bis0vXtJwj9dtESa5sfHP0cmbF5Juu0/9tB2jHCV9L+F+7GA9xfmv7QHyg0/DbO/rsjed+Nq+r9P+HYoibzlP/5mPPrXB9k/EKkqkMjH5D9oPcWBinf0v0nvW3jB8rS/1YXk7fMh6D/kHk+SdlquP/7YcJKn9am/NNYYQz38+787khNPbzfkv7z0+TqDZ+s/0/OCjRnD1b+BAbkHzKhxvw+/wmdiGMC/T+U4za9m6D8qbsDyaRLDvy3a3wsCTu6/ZTH74wpd8T+uuXe7FHC3PzRwX+itiNm/TnGGHTY44r+Cav1PDXHtPzAYIN5Sz8+/EYPfdbyWsD9A1mClli/2v/NaQRwYl8q/0PO5gyiP8D9s0vHuNF8AQHvkdtl5z+y/MIFHiQGF8T8D61Y6LqLav928r6Nt+cq/543zVW/l5T/H2iwsdFbzP9SiQDwCLLI/3l7gNge7+T+VeBSlKrz8P0t7ZyFOr50/oVAfpMHk+T8U10eubuGvP7MG5UWhduM/4vFbxH9+wT+UTso8fQjhP38RhvTohOI/rZ0Gxiwe3r+bRTtjOZLevxGaOCvywsG/CXsEeg1J4T90HnEq+/y8vzrbuuQ7KN8/UKAgbj+Gx7+V9z+1ocuyvzZPaafzAL8/s3t3zVOm97+x+hQC6K/yP1hf2W7BH+0/8UChUxcd878PuEnhIKbrvzB4KlztX52/Rkm/nVDc279pBW/M9k+wv9hWNwhKX8M/ecL9yajo/r8AtUo7lljdP0danAi9G+2/oob7/7up9j9haXZI7SL7Pxvbul4A19A/0U2v7UAfwb9ZzCPsxVLmv1SnwokoK9C/vQjObSXNxz+ECMjhC7Pyv0Vre/PHCfg/+ZzpELbf+T8T/UAmDbv1v0fBlbg/vPG/0t7HOSw60D8VsBU6+urzv/vATaaEvfO/KXT7Hhdv0b9+I/s9eIi+P6YrFWhjyto/Vy7PH8+Exr/eyoXPvUwBwIUioxdQ9/c/YaFkdzH/8L/iEmoIhYa9P4Z/nBMwmQBAE20N0ZmB+L/rMaTFBqPwP8d+YLskEqo/AzbIlw9W9D8ILVCE1HDlPxgujJt2C9m/KySyf+H5xj/WZGoLD5XOP9RN8X+2M92/zi7mLALQ8r8vdgqmD8riPwoAW4ozBO4/VbRokKrE8L9tvvV9K3nhv2Vlk17WV/S/dUG57kqK3791GiZEHCCeP6CG9lXkbeG/7dKK8M0c+b/+nYr3KYXxP35JUfVc8fC/K+KuVjXnwj8OxwrB+0L1PwDq4zWKQPI/FyL2Vskn3D9UeHQf3bnvv9kO/lZ7/fW/RLThQglg5T/Vtmh/Jubivw8cDqxNMAHA9VwpjMZTwT/4MmrClJTjv4kdDfo8fdu/NR9/P9O+4D+iB8E4da3Kv8YJWOeHCOQ/7unmcvEO0T+OMvPXROnNP4ybXP+g0eA/Mv4t9Wfy4j9+d5D/YmvqP3EC9Fkvifa/ljxHvqmJzz8FpYjXb03+P4kF/fs0nKO/4eBOjVy05L9aGehO5kHgvz2ojLXtVPS/NzFQ4QMr4L+Z3vQdHMC8vyjye6FI1+g/YTLSwkL55r/qQovW26bsPyx1QPmx9fO/DpmxU+Fy8r/Vm2tKDcryP6gDMHmRS/G/eY2Go6kP4L/tiGro4w3oP9V4KmLOJei/eiMOzLm14D+6MFhPjmrlv6wTOksFXcs/DCr73Wpgob9hCoqpZjfov0nUYJ+7zfM/1UmdvsTo7b9MWPEqTG73P17z4QMVc5+/SbKZcrqA1L/0HlqgBDPwv7hJNO7DpfW/ewbY+gzC2z+F/SD5lsG8P89zOpr05ea/+YkskUQasj/ig7MJ7burvzYC1x+sNtU/0uEWzzSltj9g0tf8ofKDPycN5YlZevy/+2say1Q5gL8Ge2pgukfpv/BYjkRmgPW/X3/QPfN6x7+y/IVzCXz0v4y5AJSyidM/KxNOsyKR5z/BJKkvmhf4v0g/ih+tF9I/lvQtEPe6wz9CH2Yo0DfxP3UsX8Slj7E/DmaBoawCwD+hYnTshcTNv8XiP/r/rwBA1rgoHHxu+78RDhOwWSnLv78BaKJbccc/4N8wIOi95j9KCwm5BbbDP5Svx6tkr+0/ueiVLfNa9z/EDjSbN9f0P7YgTsrFQeg/4e1igaZ43r+tDP1TXfGmv+GZRxaOnbO/mdDxhZD6vD969UAIgIX0P4Ege8sWbvW/x+pk9v0O17/ydeKzddXgP58i764UyfG/8gjtVyE24r8Dy5IlzbTGv6DXBrNY3Ji/K0L6SS8QsD9BiNmTsAuzv9RnMDfbUb8/DzpHxVoM6z+fmFPiWerRPxwoHZy0hvA/zEI5eJBl4z+iYPvDlczgvz0Ue2B/P/i/jl0Kd8aD8L//XtN0s8byP/hbNe9lkdc/4bclvdsRqj8A5dApYQ/9P2rqsGyk4b8/UhjerXVSuj96KE0/dNn3P2MJa4GQFfC/HJykXSup4z9Esv53ngHSvz4JE9VzzuE/chUnhBCS0j95DyOybgH7P6xDPL1O7cW/YGLmpxA//D8XSK0uzRTGPyftpWsWBPI/zRyGHzjU8z8HWc1XGsv+P7PIC+XXouq/kx1UbaCT5b/CFGDZPHPRv051FKWsFf+/nAoTCOcs5j+efPP6pp/5vydP8nqMhda/BrPlPL6a278GRagsp0zdvwTZXVNeW8E/ztQcrDge5L+sySoqTEf3Pwh7BKjBRsU/oz8IiWOTwT9VLcS/aqiGPxtAsDkw4N6/Sub0bll9+b99x94vQsTKv+vMcA4IILk/Xn/IXavMxT8qzCDZk5txv9+JC9v1PNC/NfVnT3aI1z9Ho+OOuh/XP1hYT1dYIve/bX9kKnMe9T9tPlo16XH0Py1VC8GO/vA/znE6fmZc1T8wRCQo4wH1v/ACseTuVPq/Q+BVqnJA1z/+2V0fVD/Fv6eaOuunjse/mVevmWMS1T9PaWNt/PHWvwMUvRPVuOe/OlxdX/A4478I1CyMD+zVP25Cv4ycKaO/lCK8RpDo8L/AsL963jbSP8FrQs7wjPo/N4ehp7ym2z97INAeHIOxv3A2iQomss0/N7jT2CGhxD/WaPoJzSvZP1bBZfxieei/TsfRS9D+1T/lDuT5O93ov9hsRYnc0cW/jDMMZcBd3b+iV4o0893DP7rtLcaVwQDArlvbVo1r1b/jMpM/tMHhvwQqOjC3bJ4/1QhzfjRneL9i0N4xfQf3v+6DYnjMBve/v5YW/Vez4b9jR7nMsfLov336qIjm+9g/Z2GsAqWb4T95B2LA6+73v0EF/Kh3Gu+/3zTWMNF0sD/CQWzq0tq4P6hiaCgdVvK/x77Fw1Qp+r9kQBeMmRD3v1lZ4Y3udOe/Km5cfYBH/D+1KRstT7H1PwK3Q9/QRrM/lBZMlWkp8r+6qVgKwPjuPwjHzGdypsq/Tx1jBSAx2D8E5X/Po2nrP13aESh/DKK//D40ukIs37+YNA+ak7WXv7c+5I6i8u+/4GDEReba4r8LM+mDvC7Ev2NBIk8p6PM/kLDkVvqP9j+PAvhDpqKzPxgFJsITm+I/kdvxcImE1b+7oWVKMnfGv2o3p7EgotU/T6SKCIdm9T9FjPiLm27gv4BkNROTwvC/Z6xkdyOg8j+HiFyN5k/fv6B/sNRHA6i/yJTmzKhe178SSvm7p1XgPyu+Jl58l9s/nZoQghPj4L8ffw5DlGzQPytup1Bbdd8/FNrc42HL5D/mP00ZQZGtP9M4mXu4Wrg/VZlQN/Gw7j+1hivzIQHjP3jZHg/rE6M/CdV1bia69T+O/NO0uPTqv8SY7QAmKpY/nzwEH1TX3D8b+eA7Pcv3v1QRD23599Y/8JCeCWmBeL/J+UUXtpjwP225Y4oEcNc/LswIb+df9L8dInojbR+GP7QMIoukcfE/xOUtshmj8L8pMqeCn+GKP1AeV1+/h/w/iJQF5lkU1r98rCtVgW3Nv7flWGnF/O8/GCVFYdHEpz9CJROkR0j7P9jVul2ZlPw/JhkQ6yLP2D/168uoPE7lPynUF7bxqPY/X6SHhmh07r93wERuOlbXv1CCDXDw1PW/zTHwJhxI1T84NeGieoCQvyxaL786sdY/f3Nd8aLp4L+JDWtHsB/uP5WfNvei/+I/6IiLYkdz8D+woeSErrDlP16aWoB7J9g/h3NIrY5N8r8LNWaYYJaKv8jqPgMybuQ/o7+mxK9ryD+Cx+sQE2IAwC8VxM0j0tO/xpw5yD8EyD/rZnNPIDXhvwXS++yCOOY/EE4AK0nA47/vvgci7n/GPz5QewB7he6/QwzjprBI8D+AKmPw4muqv6EQplRo+TU/beVVyx+d+b8YHBgsIbL3v86lFTwJkNU/8OH/atxB4z9+4YGaVq/RP1ncPl9efMw/kMLLLjPErz/fZ5oykDvuP8KkzLrZRdg/YBdgQbqq9D+U191oTvvzP+Ho7fdwhs4/XWawDCPr/b937AlKNhzqv+sZ+mvYIea/WMjGZ4Zjw789TricyFKYPwGZkNWSDcC/kEwuT6gYyT83PTUuz3Xfv1Q6n/SgYe4/EZrXg2ou4T8Tr1Zdy3a2Pwz6iGmMEaW/c691jJvBwr+8mU+X1ObNv7C5S0CoMek/kXuOT8ZF8b9Jf3H1oDr4v3Pz6SH7AL6/TuH1vmVF7j+Z5kSN8zHvv4Ja3OA+xu4/swamsXJ+57+FfCj07/fSP7gNMXY10PM/mHx9/fWD7b/adwtEkZ7XP1vIleMznrK/Ch1la6S/2L9jrX0m43jhPw5neiv+MNS/yOuxkZot5z9iBn004jvvP6IXxeGlVru/BP06l1NPx79uLOeAvB6cPxOXtoH9sse/g8KQa/i37r9DQRdV++f3vx28WpdrnuY/xKqqAC0n6j+WD2jegvznP2Mww5PSNeg/VV90vBRO+L/TipRmA6jhv0pIvZk0qdS/cUrl7tsD6j/s1xCaFkqsv/vl3IB/NuE/jogg6HH79j8WJfljn7Olv7ofj5qQr3Y/OQtsomHz+j8C0igWaqDlPxIRSb91U/a/UlkFK3oP4T8VgZsT3h7tvxvLqo9EXuE/J7P9Z/AD1z81aOX5uD68PwLygxYzNNk/03NmP9v+7b9e3lhYOmDxP3iZ40Igavq/SicsmrUCw78juT+bUfcAwNC7iKsGMPU/WHyH1DL7tz9OTm5BmAL3vzlPygcqzNm/obVhWdzI8T/0ZkovGFX7v9WyfC4z5ts/mDTln83r5D+JdutFq/HPP/rtYquoZuY/dK/L4pCu6z8y5TSbTyvfv0UXglHS7Nq/6QGBqb207b+z+ftJ5pbyP/8nTuu+jMa/3jj9m/sH+j/e1prX4tCoP8QdrSh0Zd0/eq6NExIF1T9vq2CJeVzzv9fxo1e4AJe/b+c3WfVD7j+WBaXxAfz0P0CUfNvyOca/1ZA0Z2gAqj/FovMpApH3P483BFZBSeE/TFFOIDBU1j92MrcieI74v8UnMZqAxvy/Q8SXIRl0zb/o/K4VbTPsv3OOfDOLkuE/Rbn0hpW0w78AWznkoybUP/tWNPEyO+q/Hs2JmbqR378xbvHyBcWjv0XINe+29sw/FoTM5FtTtz/B/QCo0+vkv1AQDm6QNck/KVPPBnJmsr9op70Utdbyv3lfcibJ2Pg/+1BuspE/1j8i7gkV1CLVvys8gAK9hfg/g3l7QWtl5D/StJbMd2sAQOzEP3eaAOg/hb8BeyD3279CYkzfF5XSvyOtZCcfLss/Blp0yHSm8L/1OAQH9J/YP8F4JzsrBMo/NouqQ34U5L+FaFIPZYL5PzYDfQY3jMU/arJmDwNn4L9XhrIeTm3yP0AxvNAF06E/uK653YPzvL/WEF+k51/Lv9RmP4rGasY/8AQdoB3TtL9IEd7A66nsvw4l14MHN+I/h+gsi9jK4D/FD8Fy1tf4P9c0v70r67E/67AGAFKx078IgQ7vgHbbv/y+XgDZ9fW/tg1SV6rj/b/vAjSWQP2APze80Cw2Aeu/tkA6bU0t6T9s3I0PlXbNv1ZOHWVs/IA/MvbBWqCwuz/NBYeB6ukAwAKQsiZ/lYC/XsTIwUif8T/v0jjdtwj8PxqQbeQzMOe/RpMdUvOQ8j8505xty7PmPwnECgZ0BsC/TAwNO3PsvD+dWkgVrs+qP8+uxdWW3uA/90tkQ9GXuj9C/hFbtxHpvzteV5MuSeg/+ribf7jQqT/mInxPOb3Nv/aRZ+wJld+/mmMaszOTzz8ln/wWHR/1P6PSLqYBPcG/p2swrJns7D9NgtJcXgf2PzCPAwYwnNu/bO0bfkugtj+kUEmowFDJP/WBWByvyPE/xR2nx7r88T8CVylXEgjrP3Vf6rAuEPO/9BfjSZxF879oxVc8ZSrJvwnkpDl3/+a/FgTFwKjFsL9t6S703KW2P1mY0d5hK+a/KI4MMjfw0D+DqLQOIH/Nv6CGaziLHra/9QSzvzse9z8bLvsBzfH3P9mp9Msuar+/eGOX9LWqtb+c5G4HrQjFP6DLYqfnZvY/Ms7v0SwDmr/VVkcV1dj4v/xbkV3UceI/KqLF2V6k1D8Y/XQBtm7tv5gYX+5A1+Q/fdOMcmeA+D8egUJVuMncP4D8yRaRYOk/FUSolSJg5j+59pDc5zr3PyYjOpqebdI/ARFd9zjpyL+chHe/kEDAPzRhEDowdPs/UTqIC/YrzT8JjcKMZAz6vw84oPT7DvC/rrS7b4H65z+90BobUbP1P5p0ov5vV/y/M+neSo1FuD+MlhqFT3NYPw5RUmSGh+6/iEBAEFU0p79lvSgbgGj2P7Y6CEZ1aeO/VhbQXkuE27+Lr0R1ubyVvwg5SK5knMQ/hIvPA+1Esb85CjJs9EjuvyGqPwDluPW/fjssBW3u1b/JX2MKpTXXv/KJZprc2Os/H5VUOu4O9D/EHv3dvuPqPxVPMDQI0YE/Y44LGkI/0D8R/G7+m2HjP5YmyLIL4ee/kjEJeSU17b8QlBGnaV74vx4EsXooSeQ/uAQWIS76jL+zGdHmEhf2vyg6mFAtd7s/6rbvj4AT/D9Mv+/l+ZPSv8AEHAmbCfm/5baRbUgywT9PcKhhS2vBv2gCB2ySGeQ/iAb1l5hX3j/2QRVkWO7mP2i/kQc46+c/16zWQgMVub9pYcrMWdzbP6E4HG+OdPW/tq30MoRosj+gBmhAz/zOP3EYq6Ak/vi/TFp7Q3NKnz9AO7H7lun1Pw8MSLVrnO4/8CzvGEWi3r/Dwl8n4+z7v8vpye8fBMS/zq96a7oA279mdDglS4/DPwcK6TVCBfW/eeTMRbbl/j8PMMRewQrMP49qTIcdncW/zp/JcLtW8L98vz7dOv7iP6Iiajx05+8/D3MOBDzA3r8pqY9XrJfQv4t88X6B38o/+QRXA03dtT+UKm/GsjT3v8n63S6II9i/y2FiuL/G3T8eGIS82VPpP9RI14T1lvO/H/FuulVdkj85a9OtV67WvzSGsMgKbOU/o/T6XWVJ5T/Q6tkMBarVP+sJnEL3l/E/U7uEEAvx2z/0hhsIINX5v4sCP1Q9gMS/Q3p/UdLcqz8AOsWHUx7vP8U9okBlqts/s+CweizO6L8meUDDMn2/P1+y6Xr6KNq/ucypQrBv9z+JAiGgJmzyvyhICSjnbwBAfxtxydFk+L/cgdwGhBDKv53kDbNkdec/GoBz4dm3xb/6126VcV/zP1iQQKNKTWw/9zzs378n0T9KF05m9+8AQFBHiNFhAFW/K4Qh4HCV+D85jjEJRD+yP7yZjO6e0+0/RITQYCkM5D/LhVBkRTjgv795S4yesPQ/qtyPGpxQtr8yPrHP2F/9v9P6lTlkjHw/8wCFJPzOwb8OK1aGuVqUPweuyQYy54o/s8hMTLhD8j8BXbB3rqzdPziAKx7tFLY/drmsxTKH1j8OzWycdsv3P8uF1YtIc+8/jP8JY9bf1L8v24R48szwP+VSNMpC6PM/EIHmODJx4r9l3TPR0yDgPxrcW2Shy+E/k4hkQaMs0L/pz0a9WrPuP6MkE8bFQ/I/rHZz8BKW3j+3IjgOG9nxv1eM9ijhcO2/8E139UZR6b+r9YfCGvTVv4Of0QUBnfi/xgNnS2HP078SXVTaeHjSv/aqz+XWjfO/fuiAJGjXwj9Csqt95zu2P+zdjq1zgfi/2pYsnhhC0r8aKxnDW+b5vxnCeTmLK/U/eRc9niWf7z+PJn427vPRP+XTJej24dk/oVNxtVWK1T9zD50w7kfxP+knlMsjs7w/LgzCsIHq778vJCh1Myz2v5+RloapQum/7O4ca0rT4L9u9u1kLQn4P6N98I+nLfW/Qpt8sLRY8z+GkUyXFmbIP7AS7X6WtqI/kCz+Jjl54T/MqM+qasqhP+p9+iHPsfQ/R4kmWp5i5r82b+nvVi7AP2nIREP8eAHAiXuYxEKGu786MfOQS8/gv1pVzVsDIds/AiqWf3Pq3z9wBURgewrqv3Rex1bLlOs/Yfipaq8G6b9sHCuAX03QP39D4Mt1xu2/Q1EDXOCw6z/hY/NLJ4J4v1353BQFufu/Ivy6e2uTzD8pVJ+1rK3Nv1jUVjF48qK/zwxrxTuDcT+jcaIrd9DSP/virb1zBOC/5wNTaw6p5r/joODqdtPHv6g2QRO/tfi/fferWrh1+D9VmSjCWAzkv3ZNPwQ8Bb8/vQl/jtv80b863xz4Qimjvz+O56JsDua/MCVHPruzyD8jMe9rsjfCPzLyNw1kPeu/X3j4TprLzb8YDX3LMmvUv5jl2lubCf0/3WAIpoGd479XNDHHjxa7v1r4cu2BFM2/BWp+oad24r9zSym1vVfjP+gfoXsN7bS/CH09VEHapr+kRIx+8+fwvyeuiBBu2vK/shXpuGsp979XHAKXMoHzPz9kDdqfZ98/pk1f5IDL8z/ZZwCTtFizv9TfF7K139I/jZ9kzScs6z+BVw4LMNP1v9+DKyK2mfU/ls6gmKTzwb/++QgT/HH2Py+yj7Q63ME/pxqU0gdM579DvwVQ8Cy4P744QpSxS9w/JUk9VIIbrD8XkqAv33/pvwc5iKezvvG/dy1p8Lpimb9xuUhGxnHBv2vOG8Ouz+M/pvT9tuFn2L+w2VLqrg7lP8u+kHwgCuM/TqgIgNas0j/tcVeGO4+/P+6GkJOBue8/l6ga9f8t/L+4B+bDfNzEP8Z4zTjss/W/GSwp/l+l7b+AXev0dqvgv1V05TXnMbq/m4knIl+dx79HxjZu/X3Lv8s77+F6Wc8/S0jZETbi+j/bPTlYKYrwv0ul39spyqW/OLPTcUqk4b/9FM7pOmHZP7GjUf40u+O/SFxPcrRJ4b/Z1ci86GvmvxQtbzDO/vK/V+QAt7la37/Yq1NBlrzgv6EBM6Zn+dq/EiGRaBcYqL/jrxmTXHnwP+K1RS4MKuQ/zzYuFenA+r+umYNrBP7tP9u94uPgQvA/Nw07ehEnwz8Cl8Ow8z73v1Z31cMuYse/1EUYULLG7r9ClgLGV3Ldv+zsshATTci/jjrUKEgnlb9+8l/TTDrnP05rPt1DIwHAwp3DbxdL7T8caUEyj+30v4sODCVIMto/pdPLJtfG6L+5Ny9W9bakvzHpLXYpBZ+/8Lb2xcvtlL9Ahko6q6avvwFCEF4BWeC/Vy14BVALsb+Cj0sY3dPdvz4P1Tu+dei/dhZQSN318r/JzsBj1hnkvxk/DegIKec/TiMxlAzw0b/YbEATZLPxvx6lGM+YNfI/98lbP+PhvL/7UWar8p3gP9W0FdNg1vA/eoZCacXVxr+tN3tMtBvhvyR8KThsZtG/rfG2soxpvj8Ly6rvZSS5v1e12Xjtf+8/wFQgC9Lv5z9LNZRV7RD0PyyhkZ69KK0/5q15RQGDy79WEbT5vxT5P7D7z3CUkO2/UZZo21VBrb+luXucMIfTP8fTaOLF+gDALCK219qnt7859utosNP2v3lpdbxhLOQ/JKmijvo4tz+QwdmaU6vJv39f0xDogvC/+lmOO7dp+7+A/+zMcr/7P5+3G9aKbpQ/bSRXCKNM578Rrsq6Kn/kvzqyXQErbr4/Jx0vBndK8z//1W53sxT2P18A7PEs/Nk/Am0AVdpO+r+0AXHCMEO1PxmbTzi5MMs/UCJjaefw0L9wzGDNuTL3P5bkALcmUfE/Ez7GABJw77/kxJFy65/iP4t9OJp1fMA/qXNLtn4K978ej/bsHUnyP+sT5jXyVvG/KJew1jXqsj/6fnWVPshvPxmETpV5t9y/6rIAbkBI2j8M2Si3RzOoP6718egXH8Q/THomZOuZzL+8Q33RYcJwv+d82atBTeA/mjlAov7U37/22OXoUZDdP29UHqr/n+q/CUN/F5vHnL8Sl44H+RPzvwTqVafdy+c/vNVWqfJC0r+zRJZoMnLzPy5a5M2mL5g/ow9Ycun+2j/V6EP1hXj/P/GoJLa6iOs/u3C10fs1zL9NTPW6d330P4r1y60jgKW/4nG0JM44oT/GbUXiDLHWv7m9Sm8UqvS/vO+dew9lyD+3OMb+HL7rP4+oj4iTmOG/nAIymqk94D8YyGzd61XVPxJg8R3OP/G/No+T6Pqkvj8Ecfg5uWf5PzHyPVnp5sO/wEhdi/y09D9oCgEB2BHcP0+Xc9gOus6/mcq6liLB47/rlXE9BL/8v+3aVcFSb9y/HuyNCf6zt79gC4FyATvgv33K65ncWvU/8rHIqLvm679KMB7JE//fPxMsF+pdZOA/EjVJ+4855j+t13qY/63evwKfY+58acU/tlhQHqgbtr+Q4yaJ+Hy2P1MGpT3NzOM/zIkGvy4X1z+WRB9BP6nHPyh4P8CQqeU/X9TE2xm68r8NNWlePJ3wP1niyPMM7eq/uST9Gs8L8D/dfUhBltzyvy7WGUplWvW/YBXSZ+vT8L9bLypWelTiv4GjLYC5i+O/xwD1kHstxb8LWzWvWeShP+kPz77fr5o/2kaEPcPc9L+TbpCwRPXtP+7XsFqb8cq/C2QVNiOYqT/IE7bTChPwP9fy3WrdbsO/KL1dXxUr+j/cE9fvgYv6Pyq1N4HwM9C/FeG8TUS27D8hMQST9jXRP8JpbkouK/u/jRZGObQC6z+UGh4Zp+jgv1QPS47Ye9I/pAB7AhC5uD+n2nucsK8AwPg/yxuIMtm/BTGkWW9l0j923YeivV/Uv/LQcBh9Mf2/LwdzDKep+b/02l47HLDyvxucUJ8KP9Y/aL3p7cmO8z+Ta8vFKqHTvxBqEMsI65W/K+HcpRBt5z+V44d7qMndP1+Y2xcPaMo/u/c8ezINAMBTIYcNDRj+P9P90l9+Ubs/kWZ1+Qg0uD+QlxgaFOj2v7PF1doCdMo/qejjzT2M6r+ekgwLuhivv91i2CV9VLw/M6/1bWQN3T8QpfwrJMbpvxHVvBEiuLm/c3utIM7r87/Lme5hAT7sP8XBTs/ogv2/UMwAPz6j/7+yf1HEtAu+P8hZJHNhzeO/zG9ZwLW7wr/zloBsmNLyP4kjFjupP+E/8l9xWCUk3D+HLMujvhj1v96/CrgLCZw/W5azv4SEzT8uOEcGf8WUv/2gUgehA94/av01sSUs278XFP9GAYrVP4LpuKqpPvM//7/dp4VSuD9efX/+WdDhvy0bOXzc77Y/nMGlCt3k/D9EuuR8pBvwP28fcCUCUeg/rBti+UXAuz/UUu2vwgTYPxIcTkJY/fm/e9yNbPwrr7/ndjwFC2yFPw+B2hLsUf+/po4AH9Ct5j/PCbTLXVX6P49F9ZpcRcq/CLnV+HeBxL+q/UXUWS3aP5Lw1s1Mlu0/9w28JXHHoj+YJ2Aj+aXQP3urh4SJuaa/BW7SaBEV+D/k9cTYBCvtv14xaNLF0cg/DGuBPv+y6L+pMndPpTfkP0r/sfe7tfI/eIjl4mAjkb+YThsgMFrSv1tzZBavEsE/irbO8+LL779/dFkaorzbv/QHR8TaZva/SaV6MWiLzz8TkX2ccr+xP0uyG4cPAug/b7UNQBVDtb9o3uf272PhvzkwsxjN+/e/QTLZI9fC3L8FjTNdXhj3vwRR/YflT9O/H3Jpu9NC9j+bfTg68cv2P3FssED8yfU/jemvwXdCwD/Qmq52HOHLP+fhzN+9W5g/33S2PcSJvr+yyhqT2xT/Py1xIwHhEOe/fu/ydwdt3j8fj+MX0i2+P7D2Py35EOS/tJOoFiz8wj/fB4dfo6vTP2sDJUJCKdi/4CSzjNzz2b9D5ZDwsGEAwO+I3JbbZMG/g4NDqZms7j/qcAurbgbcP6J4e1PsYtA/GdjdJGxk9z/juEZFU8q6P8/5m94sHv0/FnF2PIrm4r8KEhNzKJTwv1wd70ADdc0/dWmFJXSs5T8u+yUD4J7wv4H8IbQ3nfW/gz75Jm+ag7/mvIxeukvyPyJ9+vJci/W/qIBYtLZu178nnWQyAWXPv5w5b+R+6uS/tv5okfxZ+r/Th41h1VjXP83QHgK44QDAWy2QOSD7tr80PqUeKRHav+SI36ZiwvI/yp0jCQoDmr/U8BbQ8FL8PyaYn0To3+a/R/lVumkUuj+PIxKBKMS1vxf5LUr86bU//x93bbIQ6D8bBzz9c7jTP5xCtLQbQL4/RxxnMcbIkr+v9kDMm1THP9hlfWdp0d+/JdOp5zZP1D9N/1o7fAvbPzFPjjyb5c2/A5ExOcPv3b/wH92fR0HlPx26D9B6Mds/u/FQ3uaVcb+pwXIX12jdv8itDjDghea/V7gkUvEh7L9fIHdwjTPRP04eySmfXbU/0rlACmMl3r/ozRGOBJnLPzKC0+cGZuE/MS7CNvMHxj99aZh6FwXpv0z0onlCgO2/Pv1JF69pvD/VQOxCi6f8v5DnyPTV97E/VWtLwufK3b9HkmHZypH2vzniGIzyUZc/8gZwmY1jAEBTJE1cTPrVPxW/xfsg5ew/biFa93OHkz/C+A3j3UD2P7LrI49Ulfq/UQXrm8xNwj+tR3Nk/WrEP1E7HzVnlrQ/oG+WIU5i8L/eJc9nfgizP/1yPKGc+LC/3rkwCNgfyj/xrzHMfOSzv4R3ANf4TPC/zSUQjiO16b8iivpkpiGqP3otUfOE7+C/AHIhUERdwL+Dovz5LnrjP6mjkQ36xtK/xM7tCsrQ4T8wCTR1Td7UPyKVR6Lm1s2/0Tw2UGt33795BzamMLThP8BKC/UlafW/jGFX26Tcxj/2+ZlqGfjjPzHBD2UVhNo/GHl50n1z6r9k1dSuNLPGP3AxMN6TS/S/5Af+MhoK3D9SNt6h45Tyv9CXxk2XnPu/LDdwEaJBub+qwSbM6j7jPwFd8UGqOvS/aoMwVYfs9r/PDH1kklGiv+6Ue1DiR9u/TgQ7kcZg1L/XoE2GY07tv7Uvkng8cfE/tnwuImZhx79zgVoPqPi1P//s3afCOtS/OV694ltgzT+n+zs3FhW6P+FyliqjiOy/lZks+xrh9b8hzhVm+UpjP5beUG3bkPm/0O8iNSyD0j+WCoDthlfMv8LbGhmn7di/cf/vdz2K6j8k6D+JmUPcvymLMvpv2QBAVwZ0pq85v7/A0mDSbh4AwJU/WWNvXfU/7Dj8g0B557+cCJdYCyDQP0/XQ7IVc/a/WqGmz+Xr5z+hU9E7iVXTv6CO4ldRS4a/5jPiBXDA9b996DHSSkH6v+usz3/3Yau/4kOxdmys6z82fHxUX0X4v7yn7Z/vuOE/GkdFFb3+yb8k89xayU/2PwzrF4ng0v0/PJJ2GfRgzT8cNcKm+mrOv7xRMu9Knd6/iYH6RTjjvz92hiWPBtihP5IY5oDigcs/KwdubLOwsL/AZaaWVLS1v1+qGi3/lP0/tVAWAlPzv7/a++MarOf6v7xE718dldu/NPKv/aFqtj+CBzsyxyLfv2qWlOC4rfS/nVzWMG/fpL+PBUk39xrov3EcQkfyYvY/uYgvwJOazL8k9KnzjX3pPwsdEfhTydu/dTfgwvGXzT+v+p9fqEWKPz4rxuX+7oG/qTZmwhKY+79dhG0yKVzlvzr5q/aAcdg/7MHZWJMn5z+p4EX9iwsAQIB+EsGOkcW/1H33J77WEL8KvEyhNrr1v3nsS0ACy8A/FfO0RCYEwr+Mh5YVF1bxP/mG2XrXXOY/oz6vQbeP+r+Z3ZtJI132v11BAavWaoQ/G5oePJyWyL/NzU7L5Nf4P0yFN1vikr4/SvoqPGrvmj81CaYBAqbyP7mQfi7iueW/Hz785fQ2cT+kmGfZCb/bP2H9AmHVNOC/6yLvKCI0AEDqc5li2cr3v5yNgcqvM9g/SH5LSUC45D/fubZa5hbQP81BEEHgcfG/Vvv3aifL279bQEqe1lnBv/YkY5/cz76/TLEnN9nC3r+z8IuTABrXv8O7TZmadsY/K8X2ZW9aeb9pIvSOlg7FP4JkSmCA+/u/ysEJIA67lj8J5e7yw/n7P0KcaplWJ/I/udCuRkib8D+3IX/500L3v4k9HPgg7fk/mWURhJhX8D/IntqaqD9kP/1PA6Vtdbw/B+EjvcdT4r9xj1uTm9fVP1TAj6Vcbrm/nojH12ycyr/qDSsg4A+1P6xL8qut4OG/g4XjONoEtb9Vu6w8NfC7v5fC6dLECrK/EqXgBSZqmj/mqJqrmljwP6j2zqzBq+K/kZ26cosC57+Jh8GRl3rvv+gJbIE/2eg/6FnvVqr9sr9OrggVXiH8v5gCeNGg2eU/UqIsAE4i878cgWHe0SL2v8Z8TGIWAuM/RJCSa9hR7z9W/9sY6xjKP4sAQUJ5YLU/UU7VvKew8T8l8yQDIqmhP/TUMWQaYNW/5Xwaepzb1j9daJE0wpnsP/BfJXlaJLK/AFKtbXWX9L+rRz4scZ3XP3ogUCg1Tcg/IKuOEk/T7b+UyQ2wuun5vyb91veRg/c/hoO4gMaOxL+8/NszzermP0IkNm8EQsU/bCE0aKbryr96fNa1khztv7AbMCmuu8O/hV3JMfzP5L/9d7j8x4fpPwctfaVk+tW/dqKE9HFV4D+xFRnGS1/1P73dl+2OTLK/lrzjWmRF6D9TtE/xHivhP3Z0JzyiQaU/z8OVyAjQ0T/LGyrhdpLQP1BbirzI9O8/7IRjRCcX9D/y+G/ofz3yPwZArRGul/S/jwe+VA1G2b+mJKjxzensP4OPiQiuyfW/hXTjgjfi4T9oJD0s21D8P+zRxTx4+Oc/LVr2W7TI3j96AfmTOquyP940yTT/Zei/EahoNl472b8A9dXf+MbxP0v+2mVfVe4/cIzjCqUt+D9Lq0u2sUTkPyiumgHcxKa/VVrjePLk8r/U0qFe8BG5v9pY7zFyQb8/Oqvr1SGD8T9S/XmniK/bv9IEKuFKvuo/oAJWnIdM4r99QnGq+mjdP5SKGZHtN9c/TEBxdPW6/L8uX3FpMNLwvzmVhOT87vA/S5FwlIMV4r8/efTtRiC2v9dnEW6UA54/ytm2Lkea279LL/jXa+rdP7G/nGf3YcQ/rSxob5i/zT+RhQEuJKnGP5rcEX8fOLw/mWqO9Gblwb88uWdTPWrzP8LGcgIlrKq/gewzh7YC5T+5RJMdFGL5P8nIvWNsDrc/0ze8tJwr7b9w4gnY5cn3v8ifLgKZ1qI/1dEcUhgW2T+TOczxDMbnv1K6eB/+R94/rorUxXSU9z8WE7LE/ePyvxx37b2wNPU/QUoBnbcVsT/GdNeLaerTv7f5ld29qNQ/J1b1fClUxr+uLMevC9W9P9nMFgded7C//q0xheHJjT/+8AzcwY3xP6pxh3kmeO+/Otu/08fBtT/6B3IZ1zH5v6yR0eW8hZs/plxTu/+z5T9I1zXXOybPv3fJ8HbV1fK/Q5tsaz6unj/fVv3dbGXGP5Ecx74BNvO/yeRF4pOQ9D9t2vq4IsjAv594bkOB4fA/b55HvLU40L81QFjQzC3RvykdJZbBHADA5Wax1dz9yD90Cps3hSTvP96U9gyhcfk/LHM4BB6ksb9yGyh/7uDjv/di3MvaL9+/5h7wMXKC678erwS4xfzyP9X2dLS/6NG/ADa6ooBC6T80S2HwwKH5v6DxlV7cYMC/h8eo4lBu2D+HD8OMKifuPy9p3ioStbY/XNGi/G7/3j87/dVF8fTDP+zOL3ebxrU/EE0Mg6KxyT+R7gNRrc3EP5PMmMset3W/IGUgiE2A3z82GKTeMVL3Pz9pWegSibo/gpqfhrz157+aR0QX9wyyv2NmINBYS/o/H/yd2ZU33L9uixqtOS7TP7Mrc78Imue/NTIFNIXX9j/K5Lw95Aj3v+hEeSXfSsO/K+BVFa23AMBMsBcJ4ef5PwzMbxDOw7C/4y3GTeGU+r8BgidmP3vfPx+n2YMDp8e/OifctDng0b/OXFn3OXrkPxR58t76XtS/KVeIdKHht7/cbaaLn1XZP6OTf1rM2rM/ubdkXj0G8z+DATT0uTzYP2pbADUfeMM/RVRG45hOxj/EIzKNujrWvzDAsLgMF/S/kSIJFLeu9b99Wext+mfWv5DqmyqUgO6/72+jfImr478c7HbRCLjlP8n46p+8jPC/hA8TEhSM9D/lLjwG8Vrxv6zJqldB7+A/McIO68j41b8NUSdjtmPcP2nWf9htluw/J5ZB9EAJ5T/uYHJ7rBHzPxr0C9YrDfE/1TO2/FDj4D+lfOOcuXjxP3qTeA9yEfc/4NlIFkZh9j+sZQ85ToX3v6cQOa9OdgBANqHUvCW48z8jHenZvRTlv802A3rmHP2//Q6PV2pN+7/QCCWX2zrEP2z7QkfLsdA/JhcIQWKu5b91l3PWmH+2vz/PAtLUQek/btWUgsHC/D/VB4RfI0+Wv+HwC2KWi9y/gvZRk8vL8T9fukL0KsD2P5oO8rdfjcM/B/U8fHlI07+n/x7upSvQP5JyX2gzTNA/lEwgk0iO3L8K/ZNHVAn6P5WBLNFEWPU/kHYXjm8B8b8l5iILLuDov080DgYEnK+/KWwhArwZ6j+bzxfZoDjyvzxg7Kcz5eY/wy2zPoLw+L9YZ1uUr+GoP6/Jgg5LzOS/zdZOibkQ2r/MCR2pZqXIP6LmOo9D8fE/FD6H3vF88L8Q76et38b1Px8UKpu/4tY/mZQxAil77z+XqXk8k6Tjv/yPcqhyXNG/J83vw02U3T9cqnPK03jfP5bGe+/rcuy/viToN7x2x7/DQUF8ixXnv/dMke1PZtu/kSJpML4LAsBxpd4XQ8oAQPn/CBxI0++/xSL8mYwYuj9xapDZvoDtv0riHj+PZuo/T+59WdKdwj+GFoXrhMOUP/M1eYr+dra/Y8ee1Vtzvz+TwsNjHYLqvzHSN6xFJsq/o0s04G575L9Lq8wxgsTJv1BrL91Hm/O/6Lcg/JaRyz9L5btyzgLiP9CN5+MHmsW/CB6pbMQR878aqdTaoM3Sv4Aka1LExu0/ZCCbswqatj8oQc6nR4GRv2QMzDDIA+I/MUP0VyOL07/J9OtmsBr7P1y7rtj6Mfq/ddlVeSNq2T+5KjYy6GbpP7CiFHh847c/udjL8VRu+T9xDC7GPQjcv2Wu2vAg+dG/1AW+/Tkrvj+MxvjfUn7yP74GGKFr5+i/qBMpRsLX4b8u1lBWZkjIP1hp86Tc5tq/hIcU2Ctr/r/DpkhGIMjZPz/N8d9iFpa//AaYvtk/8L+76NdRsx3yP10UK/mswuM/whvzBTLY7z9o4peBTxvMP7SGklPR7d8/qZu8OjimxT89rwNqbR/8v07aaJB1hNm/BHAlefR39L9PTk020N/8P95nvm4VvfI/T+JylKZpsj+k+Zh3enjwv6odSva1rbS/tepTKTrqv79grr5xnxfjP0ngm8rlmKe/OWB0VtJi0j9u3oF+geD0P6wdxvubDbc/gVC55S6R9z9Zr8kZbAzzv/Yfll0Ps7y/RIKgPQzk8r81JKrfsJbvP9rlNjZXouG/GpMLmaap5T9prjqZUeDyP9SSQQxWz5O/Qumzws5rZ7+4unrM3uf8vzOS+8GEbLw/iwk8Kv2z6L8CO3NPr2Hgv7D2qDQk/+K/wml/LiJK6j8OMYe/qOm5v3h6XRWyw9o/Fn9S+opV5r/dMW9nr/z0v9pdYxqK+fk/+ltfvOuz8T8oaf5pQnrwv/kZRfAPBLG/3npXD/WT6b8knLvT2y7GPzoWYGRXWHa/VakhssPp2T/BQ7E94J6fPxBJ9OH3+wBAnJ9ETqin9T8xiUCdtW3YP4TJwQwBS6s/OMiBOe5J4j9iwAhcOWSdP6+xfq82DeC/UiB6J7IIw79AS6UGE9ytP0/akYPFaOC/JL614MTiVT+AoFt8ltfQv8UbosYwsO+/RdFXNDaewz9QKYFTnWr6vxWF5Q52y/Y/2sCk+vtN3j/oy7lBjnnxP32+9cjzxbG/5ilQMhPl878IROALIG3UP+uoGCP0UJy/yt0LzwbZpz8r7ZGyiOXjPxgUc0D9vvy/irchW0eG9r+HIU2uCTnSv4kv1zGMEjC//9NCNs/53r8aYG9jSQS4P4Tj1jxZC/m/LPr+EkYU8j8oDNf8k8vVvwIyQbDXW/A/ccUPPkng5j9U/KKmAYmdv3zIxwmxsfe/g2DNnbpT7b/ycs43dhfaP4OKwhT8mOc/Udbc4FWDgz90PAcxXSDhP6JkiV0rM7w/7UzTGTyJ3b9909uwiBP1vwHlNVQJE/K/MorccKup5D85irX5WsPZP8NIh1gVEb4/ZPBDm9Rzuj+GudnY4QpZP82jICZScL0/FMB1R17f8z8qEFnbo9r0v8vjWyscGfa/eqc5L02u6T/EmDW0H671v+2R0j2wntI/6PMBO/jJ8z9/LVhFneWsv0rqvhOsdgBAzsrGM+FR4L+tk/LbiKzpP8Bu3DF/PLW/YtIwk592wL9O8anyYlPev6ZTJc6dWOS/H3+kxErP9L8BQBX3KMD7v4WHu2S+2fm/HIXxGsA1oD8+3yEWAhrTPzxLHaZdCuW/YE02npEU8b/PFSYoKin0v2P/56/bxaO/DVZfeFDAo796zpA8IkD1P6JxVdqsbPU/FB6mxBOf27+KMnWixhrwv3bYxsZ4kNc/Xp+Vw7XTzD+J+pubF2qjPwN8MbSNzu8/JvmDymHVwz9Xc9v3UmwAwLIGyCdVa76/PnRE2SO79L/E1aIA6jLYv9kGTGYSRPc/jWXSOJ+y77+NyQe/PX3rP8TLGpNFxP8/idbbRCkS4L+CRO0Tc5HiP+OH7q6yIf6/IOjK+SkL5L/P1sP5U5DRv11JOwOWErc/FWP6CWXiqj+qoNhsPWnIPyWG+8m79vE/2fHz0laEpT+KHivMvejXP0oYhhREdvU/DuwAkgHX2L//0PRFSNXoP6LQSbn2Fvo/Sb5yzoy/wT8Z6R4hxN/RP4rD8u9A8rQ/lB1iWuRz0r+lIEmigrreP0O4q705heM/gmlLQL+Jqb8klx8kquW4v9IqihKKu+O/qivx/jdU9r+MBH6sZcq9P8vQFkvYJq0/toUMRpAW4z/4HfLW5TzAv6FrFKOZs9e/mfSQinWl9D+8FpO/X7/1PzE5/q3CJuk/CBH8KoEL9j/zLsC9eMPIP6cT7mdw998/Ctwpo4Cp2r8lLNWa49zXv6S+sOelEvg/36dsJDEM2j/P6KALVr/iPxMZTpHVXuY/ywho7Ogeh7/L/MDIaP+dPx5zBBZmBPq/JcrnB4+Z8z9RX/3ggvvVv5+Mh1mC8PI/5IOwSm0qtj/23+oCSbTSv0vnnSqcK/M/M4Ofqc0BeD8Pu8MCZsvHP6FuBmgxH1O/FJ5a3EyNoT9XgRoIKYvRP0Y48lz5tfW/B77wu2kj5D8/nF4+oVn5vx3bnvxVLfe/sEVDx2tTwz/LSb08eD7aPzLCTYrlndw/9SkAlh2jyD/Q8osdPtGYP6yv0U/nq7C/Ltv9xeYi+r9lzf4+Qtm4P1heUWbs9Ng/0jpLM1UEu7/igvFkilj3Pzg9VUzwRuC/BLv+JN0Fzz8J9PHLeP7fv4HbVZqjS9u/Wbds3m3njb+xXQ1RoAHXP15slE8S9Pw/OJDS5jGWnz8zGLNn1xTUv/NJx4q3geW/r/v4YK727b85ToavoVP0P7KrkMdbS+u/ihINo5MO+b9m+cxPbZDJP8xyOFr2ofe/GNa0kwCp5j8zRm65INv0P7TbP0ljMt+/0AhEYPeU+T+IKmY8uyTfP5GpTogev+A/7CNe54Nl5D+4DCIX9b+GP85XytnOQOS/HeG+qLrQ4D/u8SJJ9DDiv4VtWhCrlO+/sgPikPD0wD8oSd4a0d7rP2AjnKVlMOm/ebqvWgqT8r+RsR9CckzsvyEngVZn2KE/fFJKarylwL9NN3dfuLfyP5tuGy04Fcw/TKSHrMLHsz+4gD5i55vrP0XJiIZhP7I/RNg6QfsH8r/TS91ByELLP9LugfyAoPA/6tlROlvA8r9jkSRRE2V6P+CvgpfsbM+/3x3frZY1lD9altvPwc52v96M2tC5+86/6uvgbbkc8T9yXepZ2kqYPyhvU8JWqOU/UR9s7b7a8r/F+a/Ro63jvwtjqOXI3vk/hTrxfGHo8z/bzEVdVjfDP5hGGc/NVsK/bo0ngXf4xT8NnFo48r3Pv60lC1sczve/RRzI2wt54j9EjgNThXDBP7h/qTsHZLM/zJGDT/VJ2r+QdMVEjbyPPw93osVjzN4/C0v8a3UcpT/5o/nadtOqPzO1ZDM7q9m/rPrD0l3G8j/1ZUwTAd7Tv72SCd62nds/X5xvpyNZxD/nLd5G8b/4v16ZVzEjwvq/dRw+cfUW9L+F/6YqUILdv+TmvvESE8Q/WGMjh6gb4z9N1JX7pXPhv0B9gbePpPW/BrMKL/yf0L8FwVwDwxLhP7rYTK9jVdq/LZl1BYjo/r+JePe5vILWPxJa6CmPk/a/lCAEXtDY97+ORKgsUgD3v6svY8RZHPc/OqQvIRwitj+X53c3yNb0P6XSiRXU0vC/2Ota3aPj4b9C9w0jlCnWv5A/8fbwo9U/X59wbFx08b+RS2BnytHRvywtlzSubNa/No9YhLip5L8RJwWhLEXwP0cXsIo0ALg/0fMFGNcy0L+PN5iXZHzrv+MwbsZUSsw/8jj6CB4F8D9IfR1hJ9niPxIH5Yy34co/UBbdGV+Y8T/b75vRu2P1v7C1oawOmLI/nkY7T+a4jz+/pcjwrwT8v2x+axK43vM/xr8XG4bg5z9AsSZjAFLZPxvOD0EqAvC/9ta9x8JF1L8aqZx+XGL7P2cdmdTdRKc/Z1LhP3plyL+UVbSa1t3wvxQJZ4yWN+W/hfEeRGYo9r9rDfpOdgj/P/K7/P1dHvU/ihw82Szmwj+YnL8bKCLtv6zUyfM7wdC/3F+2wVXStD9NaHCSu3bZvxCS2omPaPk/3pRqNVSd1D/iLR4xDGKKv5cEAiHx7Mu/VFZYpJavgL+FRMIoEzHYPzTFra77ZPU/sVjukKyD8D8+afibfAStPwhu2D4HDNA/uOYQPkBn17/x+GVvYfvZvyFNc2UMToU/NP04BFVu2z9n1WtJGdraPx0YFFT8XdS/vZp91mpZ3b848aam06/iP0CH3IUVP/G/oPY0V0qPzz8baQdzinOvvyW65BaP9dA/OWFJnaau4b+THKWOUlW/Px9dKJopaNC/lU/b0TaQ9D8BoXkTJH/gv6IUzUVwIvm/Ci66VKDu4j/P9kJGJ771P27YrNN8Ac8/Xy3htfxq+r/4xGNKdC/Pv2S6oNRdouU/ruEFud3muL/QS+ASiHXZP59bX6bJgee/lccs0ZY5379T6B6QncnJP7GT4w2HmPU/AUDIcYzK3z/TMq8h/MLlP1pZGi2CCrO/oAMZSYMhkD+lY9unn8bDv/SaKRsPqeW/auwGZzps0b9ahOf9zSHHv9tAUYjEiPQ/p8hy8gnJn78Wbd1Xw8iuv1OxmAGq3eA/yWXkxSMc1T/2EEe/fRbDPxOakiuLI9O/hzQCKcFF9b8vo/d49gGovyYfeCc1SaI/zcNNxd+P+j9a88Heok6hv2zzfw5ka8M/N1AYsZnQ9b9lIMIFkIitvxnDdtxcXrC/KBtR5uJP5j8r+jdryhbmv9GGvbw9UvM/uxERFw4x17+OQlAv9IXrP9CwxuYDoNs/1ah1/BC64z9KCCcW//XLP0rctfm4z9i/WB53OHtd9r/Afhe3yEbWv1uf6+1KT8u/LWoI1RQ28z8AWvpjfn/SvwGwwodbHKe/SzTny/E07b/emBi6sLP0vy3ehOs5x/O/0vON6qUqs795XZ/Z17Dav118P+w2pt6/rBo330l937/UMszZMSf5PyRBIpiWfLk/KC8uBk5B8D+CrsVCv5nCv/PJ1FQestM/U05Y16Gu4D+4cmOpSBfZP7NKzRAPfOk/mjsC59nzwL95brNsWYjXP9Q/tF/8k8u/lx3sOUlaub9piN0q9q3sP11lLx9CyK4/uNzGw1gft78nu0fUg7LqPy4YZ6FK9+M/DgnfLkAP4z8/pxtvwmTXv+7CEiaR5vK/o1M6mNrH2z8eIGOMaJv0v0tSjluA5vM/Gb1troiXyT9JG73s5g/NP8wa+j36Buk/MzMe8ViWqb9qtnVGRaPTPwSxpvANZL+/vKPZs8g4/D8nG1U1HIoAwP42Ot5YDe0/B7q1A5dk5b/gmWnjVpzUP3AjRxMape4/lVP97TKS6j+3s4N1KKr8v86AJCAcqMA/eEu1gSNm5L99Umn+S/3EvzXhPdFu/P4/tnYUkifUAED0+BZ16KLrvwO+JdcDv/y/PFFaXuOPmr9DI0srFp3evyaFQcWcBMG/aUT188vFAMALOevEGKTDv3Yv0zRbS/U/VJn8G+LYxr+0avuDfrCyP2rc6EOgoOq/VZjRCnQ/s79hGFpSBnjBP2b6KoHXuO+/N4P1qpz1uj9ljW7f8BHtvwalFc6c6xq/YPn1UULk9T+Z/pKTb5Hwv4N5gdlNH7W/jyLlZ1aEmD9+bVusDMz0P6N1VLInruQ/ZH3fgQaqtr90yEGk3jXuv2wPnYccHai/ihVhvp5h0D8266GLePrmP+0CWFL2w/m/rjNdjPpY7z8K9Qn+aofPvxzI4j0Hd9c/fj21xHBH47+aEZ0qC6/Wv+TO1WZHs6U/T/5L0ER62786c0M8ihLuPyKwAmUTrvM/Cdbs5WzN4j+AMMGthVbrP1SndifK78I/RaABhtdn+L+voPAq1/fxvy2zZpRRlry/5aVKpgcO8b8Dwi2p3wv3P0wK4qH7Acy/8f7puu6A0L9mddsX+bL+Pw5lelll4fe/gEnw3lew1b9RDV26WuDkP4cSA+4fRve/RF77n74Q479Zj0bV1Cj8P9FL/n5p3/K/pTRWKjQ35T997zfjWR72P/OZ19yQqOu/MOa8Fkux4D+nqHfhCT7jv4aENBD7vfO/7K6fP4IR1r8EhQzD9DvLP1ctE6ooYdK/K/HiDepUvL8wcJnXynX1v/iWNt/ur+w/+KQAYDpw8T8uHsiFm47lPwGu1uxJ/fY/d46ryZW11D9KahswFAj1P7L/jx9xFfU/4krFJ4zE57+LlYY40Py4P6g2NPJo3s6/S+C0sL01zr8J3ASpCdTAPxulSZlJur4/8ykCHCwqfr83PdiRWb3cPybVeKmrZjA/Fe83N82B6D/FG9Ty0yDLv5vTAYoIXPG/R9OfpZL48T+HrI2tfZfwvwOQFJMwIvY/iP70ODng5L+fEYv+TX2vP/wYG+7lEd8/FM5sg2JQ8r8YahJzm3rfP5ONHrwaf7c/TJ/jPEri5z+ukEx/uV+gPxbwIPWzFqa/kt1BjAKegb+xDgVjxtKYPwlk+U2R7+S/WShNLrXo9T+BF2DIoO+3v6Vi3Cy4vuo/Y3mLa4osoL88FoSXAuLtv1nQtd04lqK/Sggn9Yfp9z/Yhwv0N+fMv988FEEA+e+/RcGcZP+Lw79AOKEVQDnjP7pGlT/RSfm/uXZAQAML0r+BMcVO3lSWvzCAN7ZV2PU/p2HdmKPr9L/EIUNFsqvdP0dknncYntG/Kz7XUdXs6D+/7q0Ig6jyP4qLqWcL1uU//eujV/W69z9s1iZ3MBbav2fsXa4gK+k/54BHbx6b4T+nTR4RhimWv/O7MZgtDOc/D05vHR934j+7EOA8thXvP7wxMKlMS+i/UsXggUlqwz8RnhEw/BG4v/5iGw025cQ/Mu+u+Hte9L9KXHV5zhXaP1PHA/e4e8M/sCdyXmjF0T+qe194eu/yP8VzYHvRqvG/dN5okBJcuL9BFKoFP8LlPx9f5rg3ROo/52wiZL6St78OehE7cbLnP13rgyhXLcW/pITnNGD2lL9otD5WbcPmP3YugcQfhe0/jEPHnwfk37+k4OW0jabov14nIe1XF+K/1SbGiw5J0L9pTTZXdBbav5Ii1ehMXJW/MVl3Da9S5z8G2Wt/517kPxeEeagsf8A/XLevPwWL8j9fLDy2y6PuP9L3NnZdq/G/YQEuFAHE2T/Y4fpgdvLoP6Au0LSyaJm/Lu0bqqz/5j/aU4GoC5Guv9xvujLCT/A/xOnPULSi97+W8gk3ROjFPx992HvnN/Y/hA+/xpVS6T+8Xmgj0+fjP50C/qtucN2/syNBNIeu2T9VYpk2ODfzP3YlU5Q0usQ/+bf5FAvN9r/Iys29r7lmv1Bjqfr/c/Q/7tjOvSmfuj8YoFl1KC7bPzd8RYNRbOW/geBjHOqz1L/kzkYEWXrOv1hDfcYHTbS/CNrpXkmc5T/+i420qrX+PzeYBJQ4eOc/+txXBEq7sT9YblquVfPkP7zxO+I7jrW/snlujp6Lyr+x1j7raj35PynuifOLGOO/Ea5Vv0Cw8b+jzIGx4dGnP55ENbrMf8i/3QErKL9ryT8YOGfGgu3hv6Pyp8u8/Pa/SIanYcuWpj/TX5j89rWLP9HZXxbiEPG/ODXSxXt/878BVCGPgXX4vxNm8IgG9vE/0GPE763YsL+31V1lz578Px3uh7WxTbU/KMW1Z0Eep78lI8NPea3hvwaceVQq9eu/DJKr8LmO8z9F+Et9eJP7vxjDjSy5ptc/Io06m2B+5j/k4UeXOqLjP+C7AuynnPi/un9gciut8b8vZkleoUT4vxrqppUSOM6/qRRXC+mR1T/Ohqys+JnXvxCROZd4d/4/FuYL5DkH5b+hvoIGDODGP0B1ghgefOA/79dDFcnQ4j91gkZ00RzSP6miPtOAXvO/yK918wmf1z/GiNf+UbLvvxUtWCxWHPu/cdhwWNVCtb8sAVe8xiPIP1ZrlhuH7Ks/wuamkXs24T9VdWmYg+vYP7Qv5hdtocu/xR5sQIAz9b/XWrBzkPL0vzvobBK088u/L6H7JMRcpD//4l34aLD1v4nguIYDM/g/hfDFbNBw+b/x/ElI/aH5P2mxqRoRFpo/FdDWYISjzj9itpWlAdjMv19YMWOfX+Q/Zwl2HPwHsz9wj6zb3Jz4v+WGFOreL+6/YkMxRMsQ3D9q7ofRpL7BPwD4Lbz0wADA1B9BBFYZ4b/4WT2w7Rjdv0dJAxCEC+o/8hJVBc6y2r+obXJgrU7/P4AjuoxIY9Q/HcDinsSY8j/JPV4SciLev4KsVKFwz/U/ymlDUCTM8z8QZyCfaIjlP1YnMfkz2vK/kdf4EBNL+r9oSpGp7Xn6v76tIVf6CALAK6hzDWvR6b9z4XOd2hT8vw9a617IbeC/cI/25Vc4wz+ZxBxuIyaJP9Nf1TAEjrw/DpSprDXEyz8mELdKkPP4P1UNJEOiybg/BcrKRqZovz+nnUGIYIfzv6Zax1V7wfG/rX5M01PsAEAd49wiuqzDv96t6l2a5/k/4xDh0sRu7z++MvzWQDT+P/YiMcuK7qM/2qxu7Atg4T/g57vuCIj8P4cLj7lNXvw/cOpiwbny7L9wawRMl8DLP6o+8yqRF/a/wDrbqNnZ+7/Ic3m3XUzzv1xDHgvkOeY/BULtgowr1r/pP6Y92Jv5P106VEhVPuQ/3YuY0dbq8j9KrGrFixzNv/N4I0795cE/P0rmieELsD8qRTjnfG7wP8clJAVjNdC/WZFoPtVp2z9k7Ohe5tLhPxwAigT/r8g/cE7gkSX80b9V8B1N0jbcP1bufSA2avM/xDRCQbronr/TRm9xAR3Yv89tw6VPtOQ/mOydt6Ke7L9Y2mXWGvi4P0DRHIMu8uq/LZX+E5P48r8jQaOzaKXUP0yW2g8sEOk/s47JwjCWsr9iiN+nV0Gxv9uLhh8RNeQ/0pMziiTxij8Qw3euhL/2Px9brvYS3PS/WC1q6IaDtj8UJc+/KVvEv/kAaUFCTrk/aC7ACXTK5b8QMvPUe0buvy59O/SbS2I/Z4IHvTS5/b9imkDN0pDxP+UInjhJEtc/UBAJp0nx4r9GPKWXpCPWv+WrR+fFTug/IJqMz3F4gj8/bVkcJ9zwP3Lijv39PeQ/2C62P9Cd3T9AVKnUDsrrPzS9AnbG1bi/zgegVz9TuD+jxj4gUYK7P2D4+ZdfLfu/AI7SMulU6D+/bRVXh7eaP4OdW89w8dO/HLQ78AN08T8bc8jvx37Qv2BLRN8A5NS/3sHmiPoj9b9NuUs6c//5v5DCc5W/ZOo/ytLhXx4Hzb/OHNr7lPHhP0OK6dK/fLy/paqwfa93+L88zC1HhlHxP4cI5lZ7cPm/I8RX2cVp3z/eG46xbg7uvxKmHo0eseu/VLcX5MTG9T+MCHN7YKrHPzVbFn0Jhbi/JHaFgB2n7z9A1OWcoxHiP/rSjhRei+Q/6vwOakzwyL8KZvZlhITYv25MaVdcRem/KKmXlLil4T9NewSF/vTzv/BJYNPgzLe/FqnYVy5M27/c5XynrGvavyqnT4RI656/o2Jlt6xT5D9y4CJN6ebyvwROx3QSvfs/YKXvT8H86D92n7eb8WjHvxwF5TqDlti/RdFb9ZaMvz8pQDmEXhf5P50vbE11Td6/T2c83NO48j8/tcSvUO63P/K2BNlnhuC/MjQ2sKEO9D+haFdV21buP/q3TRWHGPi/dPRle+Lz3L+H6OTfoF7iP0Y9R9an39G/jcDAjti64r+vvDnSpZ7vPzvYUhHwZdY/UUGOAQa4+L80kcoXt5bdv82lvStaudc/6scK576w3z9SqQl/YDXlv9VskEmFV+4/3qTdpuoD4L95Q4gJRYzzv1WQmzNFgcM/xOV1VngJ7z+Keb5Lmxj5Pw5N2NoibcU/vb6+FD5s2T/eglNc13H9P2y32RBWAtE/pDQozapE2T+y1u0PGMTZvzLhvm22t+4/rxLnXfY8vb+xd5HsJdv5P1Oy9LC0XKu/AxAYgbr95r+fS6JHPeb7P0IY7qDqU/E/qQw2SYjc0j+AU4QV7VGAP0DgdhZSjKE/eHdE8uRs9j/U6QEqDa/GPzt1I3JBurC/BZ1TgLt28z/f0XXG2wj6Pz+a4NsbLPI/Ys3DqveFzz9Bg6ovfAr1v6Wj+ob4SvA/AgqJ76b60b/It4bOL66qP3n6nJwc1as/WyqJqoNP5j8FObhjN/jWP5AZ6/Ct1PM/R443xfGK47927V1QUnL8Px4SR5tDvfM/3Wdh72vS0j8NGX92xCn6v6yXxKYPwei/KC0bZw16vD+D7YsFRSLkP0X9jJ5Yz7c/o/zhQauMrb8BPGXXf/j2P7/IqPROguo/d3Dlz8iR2b9aNRWelsyrv1jxZhZ0cLq/S1dsH5ZG1b9JL73IKEfrP4O2wPA5Jt6/xX5r7KDksz+R1ID46M31v4j91UXkKPC/DeaPJcNGzj/EHWTtxjncPxXRntJzzug/oercmbrsvj8Iek1iQmPnv9MFaHrxVce/1z55IFx24T+yu7yHcwu/P0Gg4NlflvU/gouCNdW/tj9V32ZF7ejWvyV5P2vIiuq/Xy3qJKWz4z+cIjDIymL9P98gGaRbWuu/rn/osBbt2z9a1F9X21jqP+OcAPCDg+g/tKKc1WkP4T+BTQx1jEfYvzweVsU6+N2/RcnnemtB57/q4c+9KBHgv3yNeMEl0Yo/3Yz7UiVgAMDBzKI8T7+zPxP/x2NqzOO/yN9C86Db6T+PWac/QLLXv1re6lgMwbo/Xr4CXNUb9L9+J7G43/bgPx4nIV8iB+a/sZXvmoGWsz9ka5/ROVnZv25e2MYRees/HlwqCEDrxT+pEVXnrHq4P5F4nC9O2Ho/ZkK2lgGn4z/2yjNkkrf1vwJ1NBp+cvk/PHDzAzKi/7+dDDUuZQD1v4Wmw/eSzOC/yStTdBHetL/INBW63UvkPyDTbtiZHeS/gHAIywM6+D/ocRwcCTqpPxW39UigO+U/pKoMbtQ5nj9rdTqaa0Lfv38IMpC2lOa/CpScXoaS0L/7qCQZ98T3P0TnK5REn7G/bxY+DOP92z/1cJC4rIbYv5NpVTaTdOC/AsonjaD4/7+clm+iqzvFP+6QKCVcXfI/+WsxrR2N8D/x1LID4abhv6yL8dAqk/I/NpuE7UzncL/r99TCHED2vyJ3j6+vj/E/HQwKpeU+0j8wsL+/djLnv7cR2jqbLsc/QE3P2BFi3z+aHZCmVn3pPxMdTAOT4te//gb2Ej678T99lmvBXoiqv6JOR02Ez+o/LTif30Lbtb8FQevw9bvLP2L1t2z+Ccg/v7Pq4QEz4T8QEwKLCDTwv7NKbqiRwPC/vHQRrrMc8T8jz7KAefnXP286vBcVw7c/gPvgQCrd67+oOQUymgz1vxwc5+Q3a+G/jRQ+qwGe978xaBKpyJj4v/B1XhhDz9u/NZ5h9FwDuL/9S7NMfQj0P69JlZmIAtk/KvBpJa5Z37/fm8LEEdTKP7v1hxsSceE/7pAyct8U8r+BNRC44xjPv+etbCX+urE/0h5cqVZi9b9L/nSZpIXov95idhj1ANK/9OEmdUWSpj9Flh8BLtK4PwTp/wyWV/M/4hIVVMyD0L9+qUXs9cHcv8FixXS9fPa/vdPl/peb4r9grm5+173MPxq+tvHFzLC/VtSfAhGAxr+SSckH4CXYv4rGcCyGYN6/Hv1tjnFbtz+s/XNROFXiv1lu7P9aUfe/ASwBv1kiwL8EnVmTgFb8P4GZ22THLMg/TQ+cMgxL078cp1FzSYntv1IoxGWSP8M/75njO97zxT+ROt91TxHqv3a9eGk4zNG/voSgKD1P+b9K7oBMhHG/v2N8BF9LDN+/Uq2xTrZB1D/em11ttNTjP8vo9C24g/U/S54eFTdelD+fL/GGE515v8EZFrq1iPW/my9ONcSpwj9qg4WWd7HJv5uPn8wAAKM/OFBF5TU08D9uN1K53Oa6v+/U9U3Eb9u/Mvk9Z5334D/6O8KQ4xvsP8HlTYVSveI/gt2AAB9z7b8zjceQhd/qv7MIBgDQ79q/vt2TFyQusL/Xv7lu1QDzv/NXcldUtPc/dKM0cO6z879SBFPVJ8zJP4jD0vXgZ8c/8ZU7DnHo9L+L5wuMe4PzP2oih9eKZeY/Hh1219Z60T8vBFQdGe3VP33Uhn5YUds/fI6hwdC/1z+n9qhidcnkPwkqmRXTQtq/at0svs0V478mojQV/RLKv6Z1bZtpefO/jfrYDJoCfb+viuGtP4Xovwjd/timJuS/o2tKjGEg57972TuYdqcAwHdt5w6o8sQ/Owgocgs4AMBPZsMCR0D5v92YE+ap9qw/RJ4pb1TG6z84HggV8nHFP9jlsKttgdI/Kb2Aoda/6D+5qGkHG8ztv40gHBM5T9K/g340vdtk+z8PSnA6cY+mP5iji9FI4dG/P56CqGTQ1r+VvdMlPivtv/NPs9Bo5ty/36itN+5b9j/rZJmYoxH8v7ln7eSL3OQ/zKiOLuXQ3j98uNoSqBb1v7EkcUd5CsC/vHTBuCMY8r+Xgs0CEfL5v+ngUDrsnN0/bLBpYPkc4T8Vk2/mEaSsP/iirsAv3L+/3Z73IgO38r8aN9X2fA/Bv8S+bQhNR9q/qtT1W9g47T+6yIP/vRCVv2YFeY11sey/9jU/Gekk5D+BKzsLa0b4v0j1qW8mOsi/xWzqOCYH+T/pvRfPkc/YP02wAo7SG/I/GKMSLOBgsL9LRQluZc+kPzORyrjWL5U/768btulvy7/5vTbfwErgP1x03bEYheq/t2WQq8Oq1j/t9mLSTaPyP2tjhB50jLO/EOABaCGY7b9KwG8H2cKwv15PS+cR2Pq/G+HBRN1w9L+9Nac26tbhvyCRMan2TZo/++ds6Ai/0r8oQ6Hh4rXWvzvHzATZ8fO/XZN2z14Q5z+B3fgkYbC1P8qUmxtut+a/gq6UD4IY1z+8pnhf4AW5v/tt5o7eH+m/ibu1nuXgpD9I3IaGNOmyvz2HBcaYEOC/6fGgIxUA579vrEyzb+/wP3yQJyPr1b2/Zg2MV5Df5D/CknX2N7zNv9s2wSecrNk/1xCqeYnD4T8+aV4/K0qwP6JzNUdQ9dw/L8GmSk0s5z8qiDkMnOu0P1RYzMwhufK/J8DjnWxydT8rxQyt6gWvP0aOpExmZNW/n3eQcWUB7z8r2uS/9vCfvzYtK6NToL0/BezMeMucqT/ETEr/lV7Zv1Y58hu8e+c/CSl0RHXB0j93VVUZJk6ov3P87FsjNf4/XA8yx5FL9z9N7x6ro+XRP9EjGH3YC8i/IYXhtDiu/b/FVFe4Wgjqv0RY0ancR84/K2b/5OH03L8TJUmaPPTxvyZ3KkWNYMQ/qmIdz7tX7z9gFnhLP5Dcv0XYZVLJ9PI/j9xPSu6S2j/qGOgjFSjrPwuYj3MiKNO/JxxFFiaY9r/lTg+/24HDP0wM3eGvdvO/9PDlYHVA9T/YTVX3cMjTvw+lp/C2NNI/5LYBQI4F/b/QNEskPzT8P2BijQhTRPM/JXYoPS+x1D++NPxp5Q73P6r7dqiG9s2/pdhEqw60wr9Z0mekT9Fqv/NVkfpNwdq/MEqjzZ4J8D/OBhMpMon2P0nRvUvRg6U/gRhlXJ0P8T/oOr5zFl36vw8SVH0ACuE/vs7eIZdB4T/2hmtjMNDGP/0oRpsMdL8/JCxhrif8/7/+ELT8G8fQvz8l1lcq/+O/zEvBTAg+8r+7r/j+PcvVvwmzbfyjsvw/OShppEl6iL8lXnXsSKbYP8FEtCBQ+tQ/I2sc87CWxb/8EAZwN6DtP8LXvT264+6/9qncSG180T/OJvpKVS7HvzQYB1UTS/e/x+CNX7/iwj89jGLZAeDwP5WL6pVHAOo/raYPYZ9h8j/Pct5HZKC3PyanQMCHXfI/36X0My8l8j9r/+vGf4bSv2qejO7CUbK/cquw8dNQ1T/xzOgNPJvovxbcL0M+9uy/tcqv2ZSs6r/f6Up6yBv6P3L8xckEkMy/leWhD3Sf9b8vymEeUszYP9sa1mSU7rs/4tAA8UZfwr+AwzTswuXXv2ElugkKSZu/w67wijWB9z+yewAj3dX1v1nnD0IX1/q/FdcTOGHU97+9igGPAEDyv+0ni3AYheU/e0zl/99Hsj9+IAb0BUK4P0k4lPKa4OY/vRt0+HfSyb8i6UoIvnfeP/NeUCRk1+C/uMzQNzSa0D9F+pXOeDK+PwFC/JeOJNq/e0i6g6PG4D8jZHhDmzLcP75yAHiqH8i/7qVSEMY58j9Ez/mXHZCevwO27zo9oOK/UOKgQ5j++D9Ms3vXULTRv5gQ2IZYjPa/Pj3Puprg9b9tHbMXUOryv2g4AyCO9No/vMgM0SQW5z83MLGTU43zv4Rd4//Cgu4/QxRdKyKL8L+HpyUZnqHivyOsrhJtjrQ/oVKk/XXO8r+7+WUKfzWkvyPuorrO19W/O8otYonR4L8dEI1eqpK1v2f0o2IBiPO/DHnU892E+L/A3S3JjKzCP0QiALyoDfe/d5cMlL1y7L/FRBC64MfbvwOSiRQU0s8/hT+/6IFQ/b8TIDmzzFv2vxIADuQNE9o/lqAaWZ//2D/c7URQOMv4PzWyrUfRvPo/0ID5DVjxmT+HW3EMK17Bv7K1eCApGvW/3T1BbSp56L/48ONEAF/xP55PFUnsWcS/vsxDV2rz7b/j5Q+yNYLhvwhhAgHYD8a/8AwxRdKg3r+0OcCM7qjUP0wJ8MctTuc/zWy/V+nE9r99X0lYLLsAwJqPSwGG0t0/m+kmnNE4+b8HR/MnPc7BvzgVnmlCW+w/JpzOahdo078MCht7CifPP3jUkRM6Nqw/vu7YNwIhvT+4HWYrVwH2v8DJzzcORcu/eWK2kbYa0L/W60wweVzkP3iMoRBGjNo/uxzgklTF/j+yOO2A7Y38P1Q4TGEGz7Y/fZlaFKJz2r/0XBjOZlF4P5DUSE6grsK/89PawHRn9r/eQ69kHmZqP+CG8nrFeqo/NFEaIN+a4D/9hMKUG8r1P0qHHTgWDYM/EhVI0ZcvsD/Ngz07ONj/PyskY+hMz88/UVksDsPV/j+EoQlJk3unP5ySBuKuHag/qPL2D8Dik7+JaZTMpFL4v2TGEStIje8/3uyDMULG9j8O98bEUivEv1Gm2BiOhuu/b+FNVahA87/LMpozuj7CPxAJUpo+29s/bRo8L+Vh8L86Zh0DpNiPvwIwcTj3C+y/JSnppB3F8r8CuN3JbH62P7ZtLlyA7ue/r+fWx99t0j+2wnWI+HL0vzAsOor1GfO/6FbdvZL37z+3dnsYnpzFP0NpLDZrtbE/vbI3RwN00z8/dzAgB6vavw37S1tqKJk/ji8BoRvPor9GGLVu4dgAwNGLMc6WSvW/oN+93XzgQj9ugdjFIkTyP9gOV7CA+9C/tJJwh5uF2D9QiWI1qxHUv8ittG8COcO/6ikOXBtyAEBzaSVvnbDhP0Y+bMZ8SNu/8/It3wLT9b94luu/QkHnv48/M6IKCeE/9X7HJwD2xb8CO+LjN+7YP7raXiBTRfU/xt9zEhnQ6r8gG9JPaMH9vwBcfWCEu+6/0bdxR0cm0D9gvy+yZHPDP2U5zEdV7PW/oyhTzh/gzL8rIix1tbT0P0CEkpQ+drc/VGC0dvfV9T89PukIydbzvwlMXzA/cPc/McACLSO5578YYMQ3U2isPwweAh9EZoy/CfK0OIuH9z/pA2EEz3zjv+zibmNLgMI/SerpN5mf3D8w96f9lXSyP085qDjD2PU/jVnqlKYj9T+nGXPpZ3Kkv0qt0NlINKG/i+WmJUVa4b/6BByII/vFv5VDxUwHqvS/YI41K7Df278MOtyRXU/1P7gXTYlHW7k/zOfnVQ8aur9shi6QGYy6v5poYXKWAL0/vaXYiCbB2r+DzXa+Wrilv48UKJpHEK+/sHSw0D+t/r++4vWL4V/mv0cGvJsvV7s/waef7gFhvz8n9QCJ0LPmP2Jcoq20caC/w6XmQ3j0pD9lQSmS8OnjPymd8bOQa+a/BDTcrRsHsT/7G8h4E2DlP99hUJAdRck/ycKkPV+QiD/zeYXiXorQP1pEnTTRgLg/eMiG8pUA8b/VGV6HgWHvv9/4OLXxg9q/LviXPE5M4z9YuMgTsGeqP9+KG3ODFt6/oR75P9JX+b+p8OWxH0/Fv1EW2yanLOk/S25pHlI9y79vsSq/a8L3vysLJRkt5fw/4U0nqCzrk7/vpkVGR9nHPzGqCVYYvOs/KnW1BGgEzT/hBupxicb8v9JnsaFz07q/PWR7MKQx9z8H4bYUYjbuv4a3ZENHAdk/R0uBp9tO6L/LVHZXOHzTv+MgULMEF/I/j/Rog8eV1D8/kG3Rcj30v3VaUlCfOuw/VV6nGquGuz9M52Jvr63wP8Ufrj1y7oS/OeZfAcPwAMDe3B0/+UTvPzOHi417XLm/a2YJw2g6yD9CDvVlOrLMv8tzRaJ8eZI/PY8cK3cD/T+r1X3aPQbIP9ReBBblYtO/K3PKA/c95L9q/gpSD0/aP5EO3yMdheG/wjh4ezm0nj/JaDs7Qib4v0eWvgBAIqw/ikyfZ8+V+L+oiKS7FRrlv5vYzu37nNe//885dI0/AECDxzu2Bl/2v3t461MKq/c/FMRlew8/hD8G1KNCwKCzP10sPOBO3Oq/H9Z1PXlH0j/hCf1cSG7Rv5P3Oxq42Po/CYJ8r7GLsL+vd3jchxzCv82monSkrOu//uloQ3Y0+D+MHRFNmLz1v0bGcRtTt/m/DYZESuYjAEDZ0zbSBt72PxxlrsKLHeW/Q/8cZ+a6+7+aLydwGxP7v3jlcOqxbPc/72jpZnuX8b8KHcHEX4+wv8nVhls/P5a/0qPK0xxX+T+L3Bz+jh/8PxU8zFqsFLG/QJzx3Jdd2L9vpXWG67v0P7LcYnzjTfM/KqVz3NJG5b9nzAhp6brYv82Lt9vOyOk/yBfzbdVk5L/P/YIh3RHtv3DBnD9xgsC/vCQH3sVy6D99E2cD40jTv50qjUZd9+u//4kZkrlS078XKLIVZRjzv9kQ2QXxEPc/QKLofEVuj79rF9TslofEv979Nfxxntw/D1q3iKpI0T8oyTXaloa/PzEJhrarE+E/5LFgFerf3j/M0vuHzOjqP8hhwd1QNLo/xP6WbWxNAcBlVsx9Fvb1v39yAeucRd0/mrbiXixP2L/ieYxkfdnHPxzHWQiLyeC/KctjvHIw5j8tlc4z5G7FvzCwkJZRAe6/j5QriQ1+6z+3nDz+RLTav1t9FcHjA+Q/CS1845XB57/BHqQdlqnwPwcXPA7KhyW/jT44PWJcwj+L+7kktUTjv1KoFi3Jbu6/Tkew1pmz7b/ckC4rD9KSv9DEfycIOfa/YE6xYCH+7b9PRsBihsbQv5cNTeXHhdM/xM+oBFa1+r/uLHl2LL7mP47xXrlbidK/BVojXDt34T/VAkoE78nNv5rDBCAIc/K/vobA1zF79D/w8IyLkkzuPwH46udAYPG/csbqlrE8+T9VtHOZdGnLPxRRDMGHqPQ/DMNsHQDD6D/p9oW9eeb1v5XUA55Rssu/lBtvIl43W79dhc33NzPSPz1WMKerUNC/ki+8A2V8AECZ990PMDP1P6QJ5GM16Oy/5oxDrSaN1j9aUqon91SoPz8iMPPF/dC/I0v3ZuZE4j8aT6lMs0D0P+y7ltRke9S/KHr04aGu0T9qkCZ8z0UAwBv9ui+MOdY/Zigyqzzy7j8aw1AMKr2KPwS8tqDuucY/gXnZReMG/L+OejErbN3zP00k5eG5Nsk/NbfVpfOs5D86BTHrUI7xP17HapE/ruq/c7TEQZd+5D/rDjC+ZS2pP7BO6vDwJva/bl5ftCe92b+g5/YV2CXxv0wHy7IJegHADthoT2AAhb+RBcuLzKHlPx74HA4QjO2/VdL5c3rN1z+3fjYLgYXnv+9ZJDp88OS//xILaXcssb9Rd5JhoRrAv7tVPqwc178/eT21ioOxpr81hTp7KbLrPyH85HZc9es/IFT8foPe9r9Ezw7jBqjRv5rfFQ6sZO+/tva3v6+KsD+kZ3gOzIvAv15bCMeQN/A/ESRwFAjd878CxmchuoDqv6POIZjmZuO/dFgEk7K/7L+PQ/vEtw+pv4yC4YNyHu4/WlFmd3GhdL846l6U0ZnUvyb4ZLEUu/k/wSIJ7pEFuD9qYcNx+bbwP/QDh1JpT9a/4Q+V2g7w1b8wgMGH5d21P3oZ8BDb0dg/QVwqTtj+3D/MXsJ/zm7jP1NjsI85Eti/8HisaS8+xT+gBCHRu32+vyjq9Z7XWvi/Il9P+TCr4L81VVN8qBviv0s21CT1x6e/k3zxkb4z7j9QIYue/1PSP5ZjiXBw5PU/CmK3dNlI6D8kcWj/AxCqvwwcVPxjgcK/QRuQT0KV6L9bnEW53GzxPxaRL8bF7/A/yaL6roXvxb9yM9BV6JXmv28PX0ztD8C/5hkRPIdIcj+DDSuNGIXcv6TMEwSCTf8//GAGy33u0b8KhkVHqCn0v/mIvC474ug/eqAt+GFtzT9/OSBpWy74Py/qYiW+0da/braoVXqKkL9r0c1iHlrXvyqbWrECK9C/gFqvBogv3792WfmTdUzqP6+QpYu8k7A/ne/3XgxZ4D9wlItoX6Dlv345LH/px8m/TI+C5wOaxb956KvRrXnmP5FpLhCXhNa/cagFkiypo7+KLYqY1J76v6RHn6W6M6e/z8vKNRAjz78acp89eGPxP2+qAypKK/Q/FJ0fuoRb4b9QrTEtk7KwPwX0ujfmZvG/fqM2heq3lj/gnXI9iQbivwl4SYtIYfC/7jnA4CVa4T9TLuTTEpf1PzqSRRI7Ru8/z7mI1pbN7L9OUoNF4izxv3zuQFsxedg/0mQ78cAlwL9irW06qlqyv9GcpMdd9/I/LlRgpkDT5b9gYFCrlAvMv8Il+2aed7w/OOAKqQzk5r/sGQ8V2AD3vyaXnhl3FKa/Vfg4q5Peyj/dpKfbAQv2P1AxZs7MtJK/TASmkuwi5r++GmXiRp7bv8Yz8kgTWfW/SHx6BE4+s7/4btVG4fX2v7Fnc6xG/us/cixZDrsI0T8UJpHQPIDwP5wJOjVyhuO/6dsAEncY5T9AfofACjPkP4rGSLOzl9o/uqmRKp7U8z8vw5ggPkn1v970SoLmQcW/TGvsSPulob+MzTbvnY70v56d5Ps+dPA/9aN++OKl7z//CCRZiablv5pZP6RkAeU/jyl3xcSq4r/cIS/cWinBv6msS5pra7W/3t/PeABx4T87ikPAEcb0P59OKXl0CvQ/H0cubVqS4T+nQP8pacTBv2iJpNq+Qd6/5ic+9NnB2r+R7q4lDhnYP1Ptx3apObk/z/TTEf3B9b+13QfcSFzgP3k6+GyaJPU/WBLq0dm8vb8Zmlcz6SyuP1dWak/tW88/XkYGv7y56T/OY+IGkvX/vxfPOCIuYbM/i8UQHjC1yL8G8vOOnW/sPyeYDXV7csS/sbduiiiSzT9lGq7pHd0AwNEskxHKJLK/Sjs8FFzv4D/SpJ2wkSj4P0/tH2huqfU/apljqiJx9b974aZFmqbyv0cuaJoam/Q/bWzri8vj8b959DRrlrTQv5aKEj3vl/o/FGNAXhBqyj/+qRy0U6f/PyKuslA4Bnm/uUiLOiaT/b+zR9QltRPvv/uHU4BhC/E/+JJpHXvxvT/GsoTBhqXxP/Ew0wbR56Q/sLaMHH9wsL9T8v6Ows7CP984sxyRUee/NQ7kItom+b9/TAaEvm71v702XZNA0++/VwEw3zOOyD9EburVCRj9P5WFq9VZHL0/ADDcR8dGpL8E1U+fUkHwPwz95jNVp90/b3mQDTtp4b/XZEG3f9n6v0xovTmiuuC/om2z372T9b9wbBwssGfxvyubM7R9cPE/tjjdO/Yf6b/WqPWoIvnvP8YhnEmDT+8/2vK4lLD18r9mYBrvgw+NP92BMt9P4Pg/2lKd9uoF2b/0+bVe+vrxvxKEJQycSNg/2kcOVvL+zD+eSVFdIQ7rP/UaF0LnBq0/oLsFKbPz479Ry0baCxfgPxDI0Et08r2/VE+ZFplHgz8WG/75GbcBQAic3o6rOuo/GxWQio3cqD9Pg48SwebMv+gX1yG8ovU/AIZZtsuFwr92cmUnqfnzPzxGB1O/Zo+/4K/0M23F5D/NCK+WRy21v0NyIvsh+N2/43HstBWFoD/pJd9dUo/BPyX1YdBnIt0/GGch0yeSx78WfaKcJ0zzv1rbkBLzcuU/5UcMtN9G9b+BeJo/u4Txv1r11gwScei/22HwrKxJ9b8zWVogDMPUPx7JVVay+OQ/HvIpn77onz/TvYsJs8TUP197/FrROfw/nA0Prh/+479ugVVaV2rCP9sDqbdthvO/y/bfxXPFuz8lhR2yK8KUvzTVv2uV/vK/lWv6S50Vm79L2aPg3jT0v7jO4mUg4VW/VCMBgIlThz95uJixdyPkv6rQrtTorvG/DyQfGEy1tr9Kg2+7RWLcvyNFRIfkY/W/Pr3Ogc1e0b9Wpuznrl3oP5lW6j+sn/a/9EQOgR5Fwr8k0vPDNB36v2yi7+7rYtI/Gq5rn3lb1L9/e4R3OffUvxN60kR3YuM/D5gyjYpV3r+UNufmsdWDP4PcwcERE+u/E/Hnw5pasD+S5Bkf+JerP1NryXZgEuQ/bRPoe2l67T9pYetAIxTov/4H2nrGL7s/bcgE8X9y+D8AXApM/pS8vxiGsRWsHtM/Mrvo9so01z/4YlM2hcHFPzT4lnnAMPQ/FIpZa1B14T96c1dz4sLiv2BocGLA5t+/zK0MVc6eyT+1sXnkrGriP2UgxXNcVPs/ySb2XzHb8b9mGLOMlT/sP8Zz5AKeMce/G/WQ//hp4j9SfgfWco+sv8w+LKMC9cK/uY7gTYOi1b9frlbcogG0P2xZZjlkbgHAZgvuW+d2+L+N9PCbdRT3v0V9w+wqxuO/AJg47oQz97+LgAQ3EGCcv3U0H29EfNw/I4TviTXd8D9mllCkSL3zP5zPiNQL7Zi/fagJVUTf7b/8TPZaoEOcPwXLS0QffLc/9oneQksY47/LVfnf1tPkv8x7pp51Wq8/iIKPeDTE9z/N0YaWi6vJP7Dd0+gtc96/ZPR+u3ch878MDO0CLHoAwDInklmWkvU/6MYgriMf4z//YBuc+vPwv+kIvPJLuNC/AYjUaB4//D+6udVhDWP3P/y0P0NRp9K/yiyat4nupz9xf9XA+g3DP1hoEGhG+N2/ERzAwiqR6D/5IgMpV7LSvybCQfudoNQ/ViCRupjn7z+T9frNVLjQv+D5U4V12vI/C5UWlimL6T/UHd4+n/raP1Qsie9UvfC/+oeuarOZxr/O6WjlspLUv0AupKETgu4/ulfDN2bk9L9doC92ciXwP47F6X57z3m/i1/nWoU51b9Ezm50peThPxjBV4eng62/o0myo0Ncqb/uR7FGfBHiv7LC0GQpN/E/ZT5D9Lisyz+Gs5ZPTwfbvxSKuwbLo+4/XNyLpdKGrb/4K3TLZ4T0v9D/F3ofMPq/zK4ZHHax+b8b4QAvDV6iP1kUISJBHfQ/F+zus0nK8z8zFMB4jaLCP3bPsc5uwPS/M/xzf9GZ479aSIAV0CK9vwKxHNErbeA/X4gjqJku0z/3YABU0DvxP1/xV0d3Su4/cmDfBPvp2L/NZ5qvRaLpP37xWahI//u//+2apV/a9j8YNYi0firDP4+L8AnOkuU/YMZiEyu79b93CSWrvxiiv8JVsVyDLOE/GjLfJSel2r/Hd8U7X4DiP2tONbGwruU/tkRwwzyQ2z/4Vhejtu7Wv6PNojG3xvA/ektEQivU7T8hng5qwAH+PzcFrlo9eNM/5DvqOTzo0T+uXU1insy0P8ZuZYWaJvS/yiCA2iIltL+eYX9V6LGqv8SmYu1AlPQ/gopVQkUDwT/GWh+owbzzP/V9o4cfa8Q/NW54mqAm7r9u/AzgnQ32vzpzua0t8+4/9IFMrRcV979qNZm8K8zQv5UqhCcvJ+U/GfYHbUtz0D/ZLaRpz3ntP256Koe/hoE/4V5l0ejP/r/ww9hmbP/Vv2lBiKXRwtO/mRH2toQ76L+tcttN+53Jv5fIIcD1AeE/S8icwZ+C1j/Mc7oyxXvSv3IF6KEnu+e/XXm+n2TG5j+lFZEAguXnv35oGfkaLOE/H2x6Q8zs4b+nrK7enmnYP08wtqb30tY/TdKLf5YM9j/J225KeenCvyr2LbLf6Oc/4GTqYoZW2T+YZ7A3MBPyv4eqZSEI6tM/p1jHYoNpuL9mtQFR5N6sPyxc5fperM0/GVKSf3YdxD/V9eFl3P/mv9CYVVJnvfm/u8Xbz+ddhD80R+UI6GK+P/jMhVsbIvS/WZXqEYzF8z/JiDIJ+nbqP4OkWvoo2/m/bVTqU9ZXdD/npIhMuLKlvzZxXNDijdO/vT5H8phe+D+iQXDBpNSAP7sgOUDa7OQ/N+2nmuY6xL/Rl6E0wP7xP8101a3/r4u/Gjgxq3f/wz+qaCPrspryv9+XSstMzvm/kpVwE7R8/r+WKKDqvTPEP6yleAT8cd2/0yHiQ/A+17/w+lCeRgHLP+bHw92eIca/aluuZ1eKzb8rZfTTZU7bP37y/X3wVrk/K8rlLhZB2L9BZizmyN/mv42clc6qnrQ/IBat/WpL0D9zLU5DuLS3v1SjxPxIGrG/RDU0/KJI479gT58BRRDfP/59NQFslfA/jxH64/pb9r9pK2V1rJrjPzYfOBOa2eo/yYMoYOCG1j8vDj2PPAEAwO4hcxIiVey/q5fjKyzJ8D+ziLON38HSPxiqJlNgHPO/250676Ld7z/fE2WUPjnZP65KCJrLoKW/Ogfwh8KztT8Lqj46e7KNvzdIj3ygXMu/rKsK46OF67/QTtVKx47nP4U4x6x/Duy/OZTW1fvfxr/ykwB3f9vbv2a9dt/V8eo/j7ZgOM8m9r8p/PQNRXzfP33gzYkun72/WzO5MQHZ9L8dD+CTpQXyP7YfdgfNAdi/20QxBGY9vz9kg1QVoS7YvzFaRU3eLvM/JpGVpcUo8r+/+eoQtRziP2XiUXv83Mk/72pYFRt55j9m2OhPD3jrP5WhAg5fBIU/YM+10LY5xr9hfRu3LmStP2rF7JnZcMu/nIoAbBmosL9MbijUqQ/Bv+oDR0CM7ek/phF0enST478O1XWJEMDRv7KzxTmW6uI/Ei+fRMiQtr8Y7Fp1a5v0v4Hs5n1eleC/1pnVg1UgAMCWxPIDHQj3vwCQx0rI4P8/4vkmqNPq5T/ZfWL5F5Hnv0WcGfrG0tw/oALLpBYF0D/syFOt+K32P+emqXJBvcI/tNi2et4R4L9k1KZD7tXrv4g+QfYmWO0/hdoqbzEtqz8fF6KORsLOvwjedET54eO/anjxRwtnxL+kdITPpXrxP3JpYX0w3dE/VsbTRFYVAMCyoc2TrWv6vy+iFC1bx/K/YzWu3enz6z8ifEvGAhDWP0E6c+BaYLo/cFLBewRwzT9d/fniSlnAP6Uro0GlbPG/M6esAhEH9L8ViKrgWXz1P3XNBP1sevI/tglMZnod1r+0mJ+mxmz6v9FOeDaavsg/s2gu1Lz/0b9HzkAP4yj4PzmkSndt+fQ/kFdcxElF2D9WjXYL9Lf2v1YYkOKblci/iqVIPBGd/r+Jlb8kVW72P9hm9bYBIuc/VOavv7u4ur94zDyeoIDJP3+B1mjyNu4/7xRe467Hxz8Mi+KBHzWpP36VlxCoI8A/0jd6pU7G07/jnwzY3Q74v9+3CaGCcL0/1t0uzO7/r7896g4MXWLpPxePnzF95fy/3R7WpJBj479NMyMWsMIAQA7mktZqyOc/vRthpPni878jqzN3Fn+6vyMiEQDd5M8/hYBYYCN9xb9t7E46yLTVP606OP08BfK/mIEY8fOZ5T9lo1qMAnHFv2hE1946COi/r+VgPGzYsT9OtjruDfnsv8YkIVQexLQ/EuWxeFiX4r9XsYzRfFezv7HI6p3/WO2/QqQ52XTcoD+KBDRozUzMP2GY1vkZvcC/PspuwJ3Rzj88UgK0vFHlP9g/CqikW/G/e2I9MTnL8r/yNYU3TATlP4gSp6H66LQ/3vU4GvRP9T89NyUWRFf+Pz8SIxmRjf+/XYKCjDfh2T/KbloME9rcP89FDPFoG+W/0RE7JuZ+xT9XYTQ8iefzP9XbboEHKvK/B4EoSXKx4z92fIlu13r3P83RIlUvEuw/d9FcdACQ6L+QWvg59wt7v4Nh31ZFn7Q/ChlbrwJW6r9OkLGiaGSrPwkakqpLFNW/YV4rUyV18r/Gcq4q6cvbv41jIWcgr9K/8cCUfkud/L+RtWjP4Pjpv8f/lNu8YeA/13/yqPfLsz+XFeG/9Bi9P5n6iuuV+vC/rE5ZxG+u6z/9rghLLwEAQB4kPFqOw+I/K2ymoITl379iVni5FGm8v6yJA2i+Ou2/H0yaGiipsj/pjGLje3bOP184ojJTy/I/ND/8M0v67L+WiHvxnIr7v7XlMFPRCdY/vruM8kys6j+18MrOfPzPv1GrdJljbKK/hJoPxtjivT8oeiUF+wWHPxgJYrVvdvG/wLE/f+/q7T/SdiURo1zxvw2qb7djmuQ/fHs8Y6Fl4j/JDOxAF2bmP0iS38varJY/dvHE1SZ47L/kraxlG73iP8+GjunFjPa/QEUEe60j8L8Dftcjm7j1PzbfGAkLMfC/m0XSE3nLtj+B709zLizSP8AuS8l3FPo/A4BV9G+H8D+frVxk4e/NP0VE4sHrD9Q/DUK2frOq7D93Gu8zU4XLP5+l3n9AH/u/RbTqk4+46D/iZYPaxLbhPxk1NNN3uem/CG3rsVS+9L+vPbbfVKqavxsgV/LuUOU/xrM2l3QvtT+ocdC+fLiuPwjtiSWICdW/s2FyiDGVzr86VNyd5FDpPx/OTgX8p9M/43raSBfzu794ChlqRAi+P9c26wrFsLk/kXomsB0a3D8pPBmp3DLLvzOpDyY5KJg/6h+vQxTi9L+EBr551zf1PwUohicuOOe/K66X6scB5j/RTlZGII/ivwyt5BYbLdo/CQxdjPVDxr9YFW3E7pDmvwd9z+8lnt4/Ea0urdTeyT+qCdrC7GXCP7lOvRORjfO/BIbmpR0Zpz9hTwuweJn+P/jC/iuKd/0/eswTm4Dj4j/C52Y5ymu/P9Yt8ooersC//9urLsRPxz8Ak8bXr4TOv8+/Cxt6gOQ/bgDWF2ev5z9mmUqxQ47Jv1DA3YKCvNq/Ov3ZoyAM178aExztAL7JP9X7FLD0hPm/bZIMlsgd/b/AtNa6iqHxvwjbAyVUUaE/ykVUI7qI6L8Gqby1lQDnP98FNDhQJ6+/RJ34SyHx0b+03WXNVdLsP4Vd74jBRtW/S4bRCEBn4r/BbnKVjhbzvyX8ikpaFO8/Sd+d8gm1xb/cY6XqUjzFP8pFdTEzYuw/uDBsTv4Fuj/iYUDlPqS1vx2J3zTpJ/M/nO6sb3Oi778enh6TA1ryP7tsZ7vJGNm/deapAaxz0j8eZcabrKbpPzd6WyAzhaE/7WHoGXqumb/4rrLa2ZLlvxlOjRzdTt+/ilvg4WY797/x+n3VcmbkP4fQqkjECfG//WZBhiPA0j9zQhOWEP/1P5hIumrB9q8/mPE8DxCZzj93NN4Hvavwv+T+sHhglf2/WXDFgFlh8D8lxR9k+NTgv71alFd5kN6/U1GhcxW34r8hP1NOvGPxP+bxePQdCec/s8gEnegj4j8Kws0Oww3yv7YIPvJieM4/Z5QF5ihyvj/qodk9q5juv6t1HbU+Ge0/B3txc+f51b8o7JjUNN74v1oqkDbdu+S/XXVoJ8yr8r90XmwuBhjRPwwpONIfx/E/FKUQNmIayL8u21Gt0yncv2W9uxvHnJO/WVyWoRzv3z+LdQyNWMDXv4HIlqXR79k/nSSyR7ID2L/OL0a7QeTvP1LSxtSLs7g/q469lISP579/lHB2zxruP4mcAwi4ctc/XKBgPjeGlb+eX/P0CWLyv6KSy0fn+LM/mpOtV5+w6T+/qOTRxwjivyBFFhYmgZU/qXNzvxQjkj8+3eeKcIH6v91DrgWi59s/6oU6FjPS8b9Qdz5Jcebwv3sJ0AVi7fK/dceoTu1zib9Nzml7UXTKP6ZEAkMxUfw/s1myMZsPwL8R6Ss54fH1v5kbqN95qIy/jFmy8p/a4r+4fitmh1H3v5m5UjVnYLM/FHVwpvvIwz8s3XvKp82Rv8hBvcXE4/K/48z9rE+Goz8dcrPbI4TWP1HRSuiGcfA/n5PJt9LMgT8uyJfzaI30v8fr9/6hO/A/4Kpz5Drt47/eYN6AWNXiPz6EcD+D0+I/TOTUly2huj/AidgDd5/5v2waH4eP5MI/yIaXUHc5vL+PELHtNernv1Z3WeLXxqo/8h+5x2ss9T8C2li5IC/VP53DkwjD9fY/GigrDNvZ8L9Zj3LzdlTyv8b2EDdpV9S/bPWqtyPx2b8mFYF/Rcicv2TITJCOuca/icrnrERx779zJEDE1Q+Xv/QjyPFOYPe/usQQ5zQhsT9CxErNSqLAP9KiIbsD3cI/bCqTFQZm8b+HZ6SeMK/kP0Zd9HkdZNG/k5Jfqapexj+RhsJ5hUL2P925v+4zZfA/xPllvm38yL8CLxyWKp37P6IrA3cfsLy/qEplggRp7L++Y/S0lUXXv3bkTQl5xPo/H+URUwdY7z+ayEA9vVv1P7e1cYBynPo/Sc0IKt18xT8TIPjamJexvxrFjqBcT/8/92bC20L56T8OhSggwvz0Pw7wWxrJw+I/fnmvH7kKAUBIjywtuVv1P2k0Padg1+q/O8ZSbbEG279pUGAOdMTNP7FYNmvgS8o/P29CM9U28b98R85DeMTuvyQDufJ0b/A/Gh7aGuqw1r9m6L40NJW4Pz0i5nltjPa/2SWtE3ZM5j9Dqh8U8T/yP6ytN+18z/k/bOikwZC1+r/Ag0G1cEnxP0D5ZWIYEPA/WtrKknwU/79zCkKLiLmpv6+B23rNY78/sqATcbl/4D+5FTUqMHjTvwNlPHM/N+u/pvLZxSbYy7/MPWjehjn6P3StLLAhyfE/qwRQidN77L+fX/KBSvPGP9huWb/3CtO/EcUxtFJzob+SsTfVru7rv45AvA9bFwHAYtogemgB778iXbWR840AwP+ceCxYeKC/m3tVDxcz+b/Uv7JOBPn6v7M4BVte7du/y2smHDp54T/ybB/lXgfkP3iZyOzCXeg/cygXgSkw9T8OxvBzc/v3v0s8SLFD0ee/XSwG68mm9D/0E0zVan7zv0sJjxtSq/c/vqeF7iM41r93vXG5d6jkPxOUsqGn6+S/YEOxrxjW/L8A1saJ69Xev8psZs0wUe2/RwpfZhowxb9FbM9bV7n4v90FEO7WJey/rao1zERWsb+D9QKwKWLVP6r/8wWQ7Nq/maWZkg9i07/KdUgBvZDyP1ST6B8Pp/C/ZVD8aoUf4T999oWEsCTkP45BFdHESsG/LAW4PrbUxb+fqGmGoJf1PxmdX+2SkLi//849h8T1uz/A9t5CboT6Pwvn4sdirdu/KNgGk9idwL8ZN5MJh4TMv31GQ4mTxOI/Y8DOV7a93T8lhZm308PpP99EqPcQUrk/FHHvzHZzrT/KNtyXfKbePzGH6Jfordq/MKdjz1P+8b+856JRdjrYP8u6916UebM/IEUdiByO5L8zl5yjzzK2PzF0a+8YtcM/ghEF2o5u8T8MjFuLtQXtv8nrdVK/PdU/8WUqNQPI4T/MYReopjf1v54DFajSYqo/mC5rLr+q8b+BR8t+cEuZP4XQ6fmlvOq/HMVEdY+n1b9ETSwRFyvpv04nbgYjv7a/nUINmVyA6T8arNAT12Hsv7eL47IAwbc/LI+8U3lEjb8yZhyqJxuEv75N/hqNaMm/BhsH5CYj9z8EbUgQ4Qu5v2ly0yMUF/S/mrq3Qqd6yT8ym4yGa3nrvzjk3qZOZdq/zu0/+odP8z801uXOvGzWP9j6BVtqBvg/n++vuQtimj+TX2irgOXtv3e/VjTehNG/Z9psXdjP6r+GKKnRKIz9P3opdseYSNU/smhovwOT9b+qLBwxejvDP65pTNxHRf6/st/o1/9U6j9SPo8dKNXwP6BMqU4jzd6/LrU0VB3O5D86H8X44+rlv0OUdogIa4O//kzr8olW1T/ZlKgTD0PrP9tL5lvSPfk/L7V9+bemAMDcNm+g9fLwv2GeKd1tjdA/orFMsSJt6j9RGHBArdv5vz6MU9N9QOu/kKhp2drT+79W6e5R3P7iP0kN2sQtSro/ONwSt1rf1T/k+jrKATXzv91EXteHFcq/y0LlEYN43r+ZDYJczIrrP1hLEV9isa8/zntUOG7E1b9w0zkEdFf+vyxL5Fqm/rK/lTUOAOWz6D92R9Npjav5v79Okz+buKE/xAzJWgHE4L/CCPN1YT2gPxyff449l+K/FJdmwmr57T8S8Pz3fALjP7hGmTkMs8C/VihyWKUFzT9J7k2SP+D2P9TgmyuIaPa/Q+KXiY7l9j9Dh0IHllvuPwi5mdXnjvc/C5RqPFUg8r+Mr/emqh7QPzSjYTV3ht6/6cKImpC4xr/2xcCwNMa9v41c9bzu7+m/6uCEqCRwlr9tllJSPDLVv9m1SH0MNPe/XVnsgjdowL++b0KmAeTEv4dY+SyadvK/5ZplhGgN4L8F5BF/Vk/HvwThP4EyXPm/B9KDQYEi078lL/A87RL7PxXgBlTSSOE/l3n9N5H75D8P8c2KUiHpP9chNEXh99m/nPUlSein9L9/FMT4ea7WvwcK6TooQem/Y1FZkNu6uL+3pBZJnGO1PwHZPxEWq+e/9MSMSUVc4L9HbI9WNhLlPwvvHk252vk/xk9qstft3T90FBrOVUrHP0kFlICtDO2/o1KLsb+l079Gm2/Xup7SPzg6ppPQl9w/I5gt/FxB8z+rL5rk6OfGPwiiVcU5EPm/Duv7wzc6iL+Pgk1jAenoP0rxCK+V1+c/K8QNHeqsxz9umFds1LXePzSLXYr2Fug/STkitZRB+L9yCaNrM4PnP0J6Z4/+er0/s3froQCV2b8Z6WFO4in7P6jXuOux3LE/39+6fmwV87+yDNHzDTzyv1lcq93AI6k/MaA0Q2Tl9j+K//3avSjtv7HeYcql69u/+f6lsvA+67/1h7kMED70Py4PDL5VI9u/gH/3LhbC+7+/X8vfbcDzv7JRmNMjm/A/x2TCKhFB679Ybi+qKd3avxtf3Xz5PPY/3apHikBz9j/rFfP0WkvEP/vnoNF/XPA/6ooIZvfFwD8qu69gK++8v1/fAafuBPo/erwIGNzG4z9QTRu37ajBP3R1jwRjhtW/0f6J5jSU3j83Rs8V27fxv+bHENGVhNC/paqjxj/W2L9nFfyQMb7/v/V85NNKQ+A/hFLQc5p15r/QJicbI9nYPxAc5ClPtOA/hdom+WQ7xT+NWCbVlMPLP0Y8h4QQmvG/dnZQdhQd0j9oxK/5uZbov8ZsWq8i/tq/wEot5bH0079oSeleP7rlv6r6601Hzem/U5+qBrW58L/ArPJ/wlf2Pybj+IRLhbo/Bygr+fc1tz+1tqSkwN/RP09lVptBv1u/cV6JRS5g8D9J7Zw0mEzuvwrTmuZAKfI/iRqReYNj3z+/3uvL/xjPPzvGKRHruLM/OQrxj+Dx/T8hvxKx9Oz5P92TIbJxdfg/BajoWfL9/r+O7JSJUNbov1+wuwvDwdg/lhSDXTHKcD/9YWqTxq6jv8uGsgV42+I/aIDaxhcq9T+dZNlHPlG9PzrSPR/oDdg/+rdbKAK85D9JMGP7FxLEP/PDBb12osg/GUbC8EV36L9UEyCygX73vziYHZtEasU/vpXhyUKD5D9mvIrVY8ryv/u0LMThxNE/YTjMKNyz9T+Z5NgUG4fEP0h7xGl15OE/dyFJdZCZ4D9HYiZBG52+v+FWyp5jA7w/cK1YF42s9L/8L5OE32rxP0yeq97e0Pe/H7AzjmizhT+rQNrXtsbwP+XhRLFTOKA/moEPfr+h9j/NTGtYiFbEP3J9ap5KDd0/99dCRpa/hr81R0pG0qnxP6A80mHarNw/lRzIYXZMxr8mKtf+sAzeP0XWo54219E/xfLILjO/w7+ekSBzzzjev7rJWD9oPNS/4VVup0Wyw79BeGdkPPnLvwJY0eNceM4/yS4lznYxxT/HesqTbuTyP2OD8KPSxOw/eTMU/ugl979soIB6feHZPz6BmQof59+/HXmGjyR/6r9C8SG/0oPIP8OMLmNGz+E/W1OdUI1z6L9QKA1RX0HzP0pxKuQ00vi/mUe5lUfZ7j+CctimWBzkP+bOvdppe/G/X0FhtSFx8r+OJzVCQCTmPx2J1taHpPU/hj2Xw86q97+e3fry9tXYP99uacOrM/K/P09qgeDO9T8vfnL0lgvHv6w+sjUc+98/r0XEpaBh378UUgZtrGP6v8eDSnVbNdM/KXoG4lTA4T9I2fwSFjDMP4UgAeEVaMc/YKPj0eRL9D+v6r3hEWbhP8WV+TIioN+/bMzkjDULtL/atKq2irS8v/W28Hvgtru/Vxpc2xb94T910IkORhLdP3FU11436/m/4aXSdNuD2T+iRUjfXtXhvzJod5xKkLa/M/ctCmYl/D8M376aKcrfvxmAzcDbz/4/kguVyL+k1L+e1E2SU0n0P5h1FCDrmO4/E2AZVQKByb9h6XascDLTv5I1rW4rDMC/T4/jfYNFAEAaImUYuvfnP1hwMC1NieI/FIcWILQ7rL8bFBB5RZfzPxorWJvueOs/HJd6PCgowr+d9+P8D5jAv5Yx6hsfG4s/ALns39NN9T+2ycN4aLfhP/E75YSjg6u/mtAeqj7T0L+XLMY7cQzyP0ZxPyTKwum/nWwzr85F6b9r21iMUiq7v3yLZ7OQUMg/e8MBW6O09b/LMXUgEWP3PwjwAfpWlb4/VI1f4JA6xT9oqFpEBR7Xv2SS8d5fG8o/lBiOp52a5D8GKd/U2FGNP/1Q4Xp87eU/x8JnsbVu9L9ePLuNM6PoP2gFj+0g3Nk/scxGW3oGt79NpUnfIMfsvz7RoHjzKd8/Lc/HtL359D893XZt/QvZP5oty/l5A+g/yEczuh7g9r808oogKw3gv35efg3GLea/4UEpbx233T/tPV3tqDzVP1Bop0hH1/Q/Udsv95ZH0z9jJtOTg/rePz+Lubktjsk/aF4hBRZQ0z/aI8fdyYPlv43DoPAsx/e/v54X7L7247+T6X845TqyPzTnwPLOz/U/LzTyEk5Brr/FYXW6PTf9P9EGWrUH09y/9hxYHxxG+L+BFEgZPZ/1v/4UbEqlMv8/DjlUx3B55D8q+7UOVfmtv3T1FUrtvX8/nYQre7U5vr85zHZk/sfjv7/DMPrkivS/y6P9W9iVuj+o2vKrUcD5v/qw79RRWYS/UGNFcM4w378xtT/WsOKtv3XoU1XlYc0/R7W48nGaxT8DnCjE4XPUv5TYYFiKOJ4/eIhyFTIY8b8rWjIa7SLiP0u540oZ9u0/h8ZQE+UX9r+ZN+0MLWbxP6tIb7NtRNm/X7tvCNvmuL+Kp2jp7BH1v+8Vo78bgdE/xRua5gkd6z8bIWqWuWLyvweAMpnZhG8/Fxo/RB9S0D+6RRRQXlvmv3+h6lsQdOK/esK3OZ6/0r9oxI+/x9L6P2eLnF92drQ/Hl2vR6k+8b9n5awSKUn7v13mutWwFom/AzFcTpC3+j8r/pSV2/j0P6hkdt1NQtc/c+kYQjlI3z87LgggrzjfvxNR3DQBxfY/aXtERJMEw79C7lyXmesAwBje6ZibQPI/iikzlLHqtD8A2B3yBZ3vv1E8fMt+3PC/7GlIGTQs079ZVcIL3PnXv0nmRRtJaOo/CSQf8fPkzr9VOgK3B+q4vwgR53EjV+0/fN4LmwSSuD8YNXbxUKnsv8SrkQAkj3Q/UaLdj5Cs6T/g5dQcYt19vxPjy0afdfW/gPknPZsD4b95MgVJKpr0P59bu2mg3dW/L008drNUdD9sUUnSciS/P2kyqsaa8/w/8O0yD7wF8j/cvTabRaHov9VTDX4lYNi/arkT32sf8z9NTptrMGTJv1yH9sEkdfK/uYxIk9TVxT+Sepo4D9y+P6SCcXQ0odE/6bxoFEOd9D+Lfcqxidr0P/PuBEn6Uec/k+imOkSZ8T+b4+UCB7R7P7bykVX3vPQ/krUEhtnR6z/cNkX/TX74v55D88YbmtA/zkHPoWYR47/S//LVb9i9P8/8bSE+238/uG4vVR6hpL8OvIQUj2vwv1nXNggTqNo/KZ7YLLYfub8SLZmAOn/svzGNsJ1TSt8/tvPZQZa+/D9+AmxZ3ivcv8PgUhsqX6U/5D1H03YI/L+qE1MIP8LlPz0QiwLT3P4/fSNs/utU8j9U/IcEu5bSv/Oa1mTn/cM/Zb23/SwA3b8cYi721irbP+wt8iMcVMm/LyPhh9698b8PB17/9KHNv3MxcO0U9/W/7AbzhrMp9L9qJZaqDcCMv3B9J//O29M/xjSKmkyR2b8lVqEJZqbSv370P+xE3fO/wIFU+J1fuT854xwBtlHsP5aDbvPwVJg/qcRCVDNJ9b/kTSsly/foP/TFSeMqq+w/iG77Z2vzwD8z0+ckO4qzP1Er+hfVUdQ/WejU+3qo2D/LvcpIT9miv9wH/XwgZ/G/9y+GFMmp8L9aKIh3GKb4vz72g2aZz+Y/Jm+X/rc+/r+xr1lgYZDhv/jiHVA3sug/BcpZdwin6j9Axr9d0bzwP9XiT/LBL9K/ptlvcyTb2j/pfKw2w5/Lv41nw+Dwm/G/WxVOAxPI3T+AWUnEtq/Dv+SwG73tQ9+/+LD7fMLi8b9+CxwJCtbkv47xXwR/n/m/K0kWZ4ot1L8T5LC8wd+qP7BbEID61/e/EIkesrl5v78OuQvj4LXyvyYK26QD6fo/ZEuWdEXB6L9dTCoL3+OZP+/TcA6O4PG/FfwGcRjsfD+wZncUnAP6v6mRD9CWof0/E/EMVIb4AEBbz5A7VB/lv9mO6ty03Z4/VSDwM2CE6b9XBEIUK4Hyvz8PG94YXtU/eyst64B9+79cFhYLF97+v1Uu257wq+M/dXaw466g5T9DFis8Z8zYP44tPL6zEPK/7PY3t1EmcL9pTKmh7Bq6vzhKuHG2u+E/bbmGvEQfx7+lHKFtPpTqv1gcw2dGZ+k/o2arzhA2vj9npOtW9+zZPwj6rldW4fS/xTZPMXF+8z/WkhzeEyDZP6/aAlqOF4u/5qspZWj5+r+VyVhNLu3yvxuq467sA7Q/0oEF53/b5j9+sfGCkkr1vzRvmA3uSKQ/8ETDDJge9L8w6bo55zrWvzw9Fvh4A9k/q6zzc58c9r+wUtmwwoXAv/tWGGvWfYo/2WKjiQF4zT/5hIb+6EjtPy4F3l7yiae/lhumo6IY+7/GbzB8pYLwv6KSfSh9WL8/KYjlQU1cwL8tXdpJN8jxP5lHh/BwQ8s/QmHzkpgK3j/9Cu7JdmruP/84QaoWpv4/6/2MfJGXzb+MNDPLOQvwv6jM93FpwvA/jSl2s6Rq0b/hKj46RWfPv6r1dkKsF8M/OsC5zmDd9T9l9qTjr7aYP/p7kF84v9S/vpgmBKU24T+lW9GYtICnv9xq6MchOPW/0UXgGgY/1T9RlA9ON5LjPzCDwxnKcv6/3mK7CqGz8L/LlVTZn1nGv7+IuIfHBeY/bqkZ1OBY4z9/M/pJjX3yP+hNtyy8cO6/ohWdPfuysb/5cooWjM/hP+X7bDLCefO/mgQiTWIH0j8wzTl38ILwP456ffl3md2/JLMqL/jqub/D6bkx2w/3v2NAcKGxzPe/0Vihh70S/L9lZF0s3BbiP4jTPCpUPOO/A4ywpKDH97+eF3QeGFXkP3kiVOvA8OQ/cKUd6gB4zD96J233RLvYP4ULLQmM8PW/xYpF7e4N8b+M7SdSmDT8P42eOdJfK9O/mRX320DN2D9PFRhORs0AQNGdIZISGtm/wvNfijIV/j9gHJJzoSvgv4noYB+xisg/PTxxRqqb9r/JAlLiOpDbv1WBGgq+Cu2/BWFUf1jw9795p2KsHQb5Pxuyujwc3uM/xkDzvhTb+T/kSrC4X2P3Pw2s4CS/RbW/Hrskw2tswr+qLiYxY8Wuvwp7k/OzLta/79COUgBU4j+g3oa/hwOfv57KSrZacvq/VOXzgQXr9L/kOB6eRNfzPymOHOTNjOk/9GxgxaV04T+KgdWmFy7tv7HUo00Uw+s/1INJ2FVQhr9lSd2r8fLzP7z7GSY0G/I/Owbb2IgNAMDvY0WmP2nBP4UZzzURIuw/amwWH+Gqdr9zJ8ykwIyVvzGbS5uR3Ny/S97fkAb82b8AbJZxDFOxv2BanCuET7A/qQCArQC+1j9KuVp0WEntPxqoAIX1C/U/wISQpQy+xb+FsQiYLxTsv7e+TJJnHve/RcDBLpPJ579W1cIALKPtv00pLMKjONE/wTEJtFOe5D8f3HNlHkm7v5r/b4kqO/A/NbSg/ngU7r9qHYU0G/Ojv62+rj/2A90/BIHRjRgLl7+ywG2DRCbzP220UG9OHvi/I+Poe4sqjL8/oRixG97xvxuA8IaBL/M/mMqGfc8o8j+WXPfElxPbP7Q62IhYIIU/gywPBy419L8FGjeycIHqPw8W4Nbt5M4/ZqJpGy8iAECson0tksSXP65aDnaeDAHA9NN/TPo7wL8uQo4Pp1f3P7DBtEvW/tG/coj0N26EyD9hBQq2RFFbPxGy/Nbg4Pk/FUe0HJ5txD9k59LZWiPbP4/S1vgIqdY/80jOLizHAMAwk0AC5Db0P8GdoVbORdS/Lz4swKjj3b/3OhKR8bf+v093jok8yfa/kvvncBYQ1r/BGdGn6gPiv4CD7OE/IrA/vw2kLiiat7+1npxCne6xP6tpWdwzmQDAtL5+4/I257+EpWUrExH1v0dKmh+RK/O/eXgacSy90r96CVhGODG9v4yuZLVsR+C/Oe1pSQNA9b+Sb+z6RkPnP+t6S8TFh9A/bJ3JF01QcT9INsRaf+XhP1fFvYa4+3K/GTHR1MyC5j+QuD0w1BHTP5tjWnnMOa2/G+6jxZoS/r8Gb1TtNoDWPz1dcOulUZA/jbvpCBQh3z+g9K9DJ/2GP2pZcxmvqcE/+kNRjqyn+r+4qSppL4b2P2/lfmT9YMc/sg3u/fZT+D8QItDjwtmjP8OU2zFbaPC/BdeatJ157D8OjEvqZtLqv+PNnFm2+uA/v/qPagCl4r9pPUdM47nUv+W4Ayj0kM+/jMW8o58g9L/yrjm8F4/gv1yGtti+gb6/YQtZ42kH97+Sz1zawdSrPzr26GAOjMA/hQJgxsPKwb89hcP7SAflPzdZwJ5lJta/19/5MmZZ9j8eoKTYNOnjP1hfYYhoaf0/X/vFO9pSwz+19ZA0ef+4vw5xZ5J/bfu/z1LNWpA/+b+iv4hgJcLkv5Iele+l/co/GCl7j6ywxr8PiaJXONXTP5xjZwJ2NNa/Rjwfrhu2vD+sZAhLURzsvz9QxaN8kt4/SLjgzwMc1z/RDhzBWuzYP800k4RU1OM/q8om3Xlzvz9WHhWVy8OdPzTvjCCZ/Ow/iQYDlXc0+D81TS6RiM73v6/zKf0Ke9S/lECoGQqd8T8jVpsKp/LgPxfiEXJ64ry/awNrbMqUhL+ixfAsEY7PPyA5aSXlObU/TAoCl0tv/7+H+UN5KO2pP0J9Bmo/HMk/HkIAm7OVoj9CHJbC+lbsP/Fxd/LxOdQ/M/5wQFx7xL/64JygCC2qv2KyemB6F8E/MhXVLOzV/T+xo//G6ojMP29Y+LBSqe2/v2deUDVcAEBSstg35snIP9iwz/NzI6w/x8nfNmszyb9bFj78NFDuv+xf7GVZ5d6/ZJa7IZeQ4D/MEeN+zuL+v70IufoX1NY/KtzGWHtU17/Cjm3VgwScP/sOw1KphOA/Xjd4kZx+lb9dBJjuwsHZvw6oahW8Rr6/+5G9/7s34j/N43I+0kbkP65esfDl0fE/o8H4RhQOor8/LF2dwlSGP9lmoLozUM8/XkK0Vt0m/L+vGuEaFVJQPzz6AYkNqvo/g4idKUtZ9j/xwbsP8XHfPy5Hw8HFy+M/ZAmqZHqY5D+64k8YmlbGv9unzZUURvU/Y4lMoP1l4z+Gcyx61BbTv5JmF350hcG/O1rHZgZIxb+ZyTqyDQvpPzvfrnpgAtm/WW0tv4eo/D/fdg5+pUPgv3KqktLmCMW/p5RKQEsj4r/rZiwDbZbQv3RHJtiGSOE/OjRK43HW8j/Dp38cVUfDPxV7NqdQuuI/TuhLZWuL8T+ZeLLsVq/VPwM+eZ8iS9M/JbdRvEQw9j8LAvPtoVLIv5CvR5DjrPK/gvcONw4Z8b95csOIoS+1P8bfCKVA4NY/4FEVmiU63j8TD+SXQQW7P0A9QF+/hfM/irmXU3pA5T/Kfz+Ryv/lv2ffRDl3ccK/S68X3PtO9z8OVCRQpbWhv6bDtAJS3uw/RXW3H0Vqpj9BKiKVfkW4P+ZYCWEXWOO/WhGqIGXr7j/4zMLDdEOcv+gObfDTC6g/zkSvlUyZ8D9yPMLn/Q3pvzMtosx5z/C/23AzepJ2/D/exvkx+bv0Pwx9yxbSDfS/fyvPZFz+2j9odbBnVafFv7qSVw3Wbf2/lir5k/se0L/VyOLI0ArjP5+UtbYlD/Q/pVWu63XD/j8mZxDL8BOlv6N8ILFp86K/9cDUTYxK6D+oNoekFDTwvzAWXGZeWmc/PAnk9hzR5T+LmGG1PSe5P5F2wkPCyPC/5gbZDq+38L+UGpcOJ6jqv9MV3C+YE+M/KMoqdIsq4T/2vnjWf9LjP6mSoztD/Lc/4B2ro+pTej8B3RT2BdWnPznJY7nLROU/6kt47/5U5z8iFtX98YzjvzltbKE3gfS/zrEGYv7s1r/U0vJxexazP/m62lUIILs//QTZOpfc2b9HOsmhc0TLP+903uhSm9I/bu8PeHsB9T89Z9zLgMqpv6rUuWxqDvq/LPgGEwe35L9FxoMjJNTiP8/R7w3rvck/sIXjCsKI+b97DR1/84T5v8uBZkcwS96/G8YjW9Sn278dexRDenfUP4Ie23Wft+6/XTgQAP4T8T/zG56DsSe3P0EIZol9uvK/P3JnMFOl9z+a+yHl/CPsP0NXBfQa7fE/gjlu5OPB+L/x1IfsDwGqP7dGUm0ht8U/M0MnwYMKw79IcNuCPijtv84wHNfiEau/QrvmcGY8+b/KdjgUMGvZP6cS3Ic3o+2/jEkkcjBovr/gAtkIlofnv+zCY+OeEsQ/NBZaKt6F7T8fYblH8+38P3c+gag8QsQ/0KHCP8p0yz8BM2cEzRWtP2JZHwB6MPW/Bh88YP+tuL+U3Y5+WWD0P9Ylx1s8ueC/l+L9BShR6z+lSfsO+av0v57T4hMyCOE/8SVoVzVh0z8rYSPvUnXtvzIyKHRib8s/IR73w0k1xz8DTsXAegrzPyUHCqsYVu4/wO9Z8Jczw78CmsDbuJOUP35I93LjtLW/IxkBSQh+sj9A4F1SyFy9Px8emIa9kfg/Igc7rcIgaT9/IzwOsNv4P++1u5aAivO/o4vvpHEY4D/iXruotqzevxpcOOSksfM//kbCL1yl8j9BuOLMfw/bP0csJ1P0Dfi/V+9yF2wSx783j1qGVE/Sv3Aq9kE3pe0/6OJZobMZ8b9KZ4LEOVjwP9Gg4dSBTPi/8C9dGZBZzL9uXe19BmK7v9fLWmW4beY/z9dKoirU4b8UUfGyL4zIv9rhHE/A/ui/EXSoJnHk2j/S8o/osBnyv61qK359Ff0/v8zepFOdyD+Unz95MVTBv/zACQXLUdE/yKD+k0hA9j8SAjTygL+GPxhGg5lvVMs/N42y1vQ++L+b0Wc6p863P9VOefNrAvQ/Qc9we84MGz8SgJcsltL0PwetZfjLsfw/04U305CC6b93HyPQ4P7pv097SkuJs9I/ok52Sd6Z8b//+BFdDPrzP5i2Gi6Pv+s/bm+DI77I0T/YBWqHzAaNvwpgYVpJW70/FaBMVUWM9r8y+I1lcrXWv6ZTCFflje6/2aN1it1F8b9o7wTlKtDrv4ul0jJ+Mfi/QTDdUbMKxT9sXimYOtLgP6l7j3jxRsw/448W6DEt5r9aCfemRYHkP78HwooI4fc/NKyhM8IC4D+CBX2NVXjvP0fezo4PWoc/vohMAzR5+T+5jkCu8dX1P+9Kd4nE+9C/09nESsWIk7+s+1V4z9z5Pxw2otFk5O8/F+9a5Daf+L8O4DIgViPEP7OXCYTRAtc/HIe4fq7W5b/8q/d251rBPxDgnjCNm/w/WOwsY1UTjz/5BG80hLH4P0sn3etWl92/8eqkCaMF+L/7+NhNJ536vwXdDVsMo+I/PqgnYPI/sb9QpTHk1kv0v6BIJUp9/fk/Dg7yHqis5D/IyHFup2V4vyt30vBMHvi/+gc1oaQU+T+sTPigaKewv5Lt7qKqF/c/kSDLvOBZkz9d5Qd4hVrnv3D78ILK8O8/lTS3Z78F07+OFX7FNzPjvxlGHG+NN9G/1q+IAgoL6D/bx2qI+8zSvw6+0eezmts/MGCPwmdQ378JPLkBD9fev72+WjGVhKw/DTy22w9atz8nML+6ysDhP1rkO0tW7cs/V1JHsfO+9r9hsdOCypzQP8CE3WA0D/S/k0Z6/KCEnr8LMhRGwVFlP+MrGUmqEfK/J1jZWKkT1b+QI95zkFPsvxKssbpU9sw/5y+Cyj0vvT/pB1sM4H3xvzk5Tr8x97w/gipkkydepD/Vn09l8DPpv2jzEkXL29A/X8S7wbJC/b9XXaACus7UP+BmAOqkX9U/Ag/ZVyjC5z+ukFlTQi73v/Qn/o7Rg86/6iFrnRmPwb8l2g6c6i7Jv+d5nQfb2sY/2sQ3swhk0791R++S68n6v/xkEoFe+PI/Dtb6jrdC37+m9aY4oV33P5sSKcCYavI//wcVpWtc8r/NroRlX3XzP+mUDd8Ri+q/v6HwD/Yk7r+nkqGH79LvvxvaQg8T1/A/3VJNr6Re7z9O68ts8fDhPy0sOscV0NW/f+a9fvYA7L8c/pPMcTLzP2UxmM8rft+/OGy8ohYl0L+wozxJEtDYv5fqbLp5c9o//m4w+POB4j/XGygBcx7TP0OVQmDHGOA/EIm0pAdbqD+UqsnfKZXpP+wIUSNlgtC/HzQK75T57j9X67LsPQDlP/4se/CzxvW/bue3PAKu8z8h4jlsjDLzPzhnhGh67O2/yfnEzR5b4D+LqwXNZSn3P9NVIbe8TMg/JFTUHglIy78NOQrgLbrDP2Rf5S+ZA+Q/jxesKjBFY7+/ooX+/ZzpP8rfsgOAlMm/w9BeTOXk/79KqnM1BebKPxtTUujhHdc//+Gq6dCP8D/Yeh5QAuvgPwKD44VkleQ//nyRf1hZ7r8slLKTIPrwv1k/GWN2EAHAvpWxzMjn2L9Vlt2UtQX0P7JKVbjoIOQ/zHQh1oAt3b+bp65ijyryv5aNCFHPCfs/FMmjoFXRuz/r6fmEjGq5P4YUBF2Ru++/u5OidbNu6D8duAbchZjSvzv/8T4cKus/cF94WGcx5j+Y+BFq/Oz1v9bkPnqgNJc/MJlyxZf5rr8v2oc8xHG2vy/P61AVAuu/hiVg9ERcwr8QgUzmLdSQv7M7zGM8HOc/Olnbd8+yqj9n/KnMAJG1P/5Z4ZSJ/PS/hNieN7mM4j9ViNklydbov/6lEMw2IO+/CEuaLxsE9j8v0lcuAXizP7pFi+rt2um/n5CxaU416j8ZrJfxITnyP9F0yJciGNi/vTx+Ys0ikj8nIzT5vQXzP/gmx9cG594/oMntmug+yz8mBKAP2wn2v3NBSZBwDNS/lyfQ1kYj0D+7KJMuQRTPP2ScVeilkOc/PHc4PtEG2D+rjFzQQOi8P1DtaRlWhNY/2PlFQNuBxj/QTZcyefDjv6zsQQYAtfW/IJZYGcXN3z+i1z4FZ/6wP4YJZfvRkNm/M9owrjeF8L/th9fFJ2z0v/CK9wXGxsY//hVTbuOB2z/8552tq0ngP73kH2mKjvc/3dF6hNdRwr8tWocso0vOvxAzcaplK9y/VtQaMvYX7z84jAEx0tKzP7RW42CJc8o/DdQ+fJ6+1z+366y/pGpmv8kzMmjeS9Y/3h6WyAYEpT8Y0on9QR2sP1O67V1tcpC/kX/4bzSo4z+hs/dMc9jwPy6PwhsOIsg/xliA3Rhn8z9yyKk1N3TIPxwYtpi4mLU/jZIamV6w47/xuRA8EJDeP8bjV16Kn/U/NQS1gpm2yL90s3RPRC7iv5Vcw3IIob4/Dk4CnPn8lr92AxZ/ka7BP4If+98ROtC/6+wy3BtPwz8wnYuPTZKxP5Fj6zFZd+M/SF3Nf4r7ij8FWENn5WnwP2TE+YglsMi/De5TDcMJ8798GgOqqwbqP/PTIhESv+C/DuQa1neu/T/7zUA452Hxv/eukPM1Osa/bVMUPS/hxz/IRJQmzBncPw5NOnUAKfI/AWKQTslJ3b+VKfhE3US7Pz4VOa/i7b0/w2173VeC8r/8N99JVtj2v3wmM7hcjeA/31cBe1kt4z9cBQWXNkCAPycRPaikS/e/VvwNdlcAuT/X4xsZ31DRvw9XRjxl97u/U+rOSiYHuD9pV2gDdH3dv8i1o+fZU+Y/6mmP+E7F7r+SzNRysZLEP9WAdEhPXco/6CRFb0SQ8D9wVr7FSmp5v7puTWjbRLK/6aYRdEG1p78sR4yREtTxv+jeDlLJXMI/TNf1LCof3j9CP9zMmoDfv2At9dbjAry/A9pEyqKj7z+twz2nz2HjP3X7a9XEc8S/zklrAlL53z944NSrGA/WP5igYNCk4eg/FQN5AaKi7b9K7qlEuv7iP97Ri8b7+vC/fPJyHSzayD/WcmKY0K/VP0YeVuBDIdY/eKsXXAo84D8S5TjMrm6uv3FeFWGcwvI/+W9m0Bpu9z8mycIH6OG4P08Qc7ljtPE/TGyfl3o99j+lAJRX2ATrv8LLBbAvCPC/6q4KK7+t0j/TVeLSVeD7PzeUveRRJ/a/H3S0kgt4rD/2MVH+4Ajbv0akKaR/fsQ/k63c7gvb5r/2PMokuKbfv57dV2ov2fI/Ps3t8IGjwb/WCxZx7XrCP6uaxXu816y/98aScNXU27+bNkDWeQ7Rv6gNG4eUEes/QNNhnHrd/T/407qzcWvBv1Rstoz9o/y/0w0bKIGY+D80NeoJ4JPSv+2eHBxtROC/JaGYUt2C8D+cyZdQw1vwvwFkneKou8E/9MrGjgnSpT/NXj4dfs75v+4NCc39N/K/Zcw5NBCWwz8rfkdsrJq3P5jx8LIqtuu/vZVSQvvFrD98y9nyjtrGP4+pQrFUm/I/URIcDGvG6j92IHrkU+K9v8eEUN1/0ag/KrvxnVPi57/pxGTkKyP0P2JLZp6qUPo/xgzVVAg4+L+P/LHJFgLlP9l8hkLZmNc/ew1rzcv05z+MTaT0FkvSv1qFccHZwAFAqvknMVPy8L/WtSdoERvov50IdPMdjoU/PXKjyhqK57/8fW5cl6XyvxQjLsed8vS/6vUj98W5sD8je5szhevqP8d4WnliY8e//opk5fpMqL8lump/+KDMP29WARt/Vqa/PiwIWkyA5D+mKD8xjy77P+5u+jTS8cA/szDmavty+7+lPYsMryj4P+50bBnZ0mG/yMuvPKVu8b/zs9uXNA7Wv+lxcxIxEvU/0Oi2jCoe5z82w7fuERD0v9Jg1MJdIOo/838TvDQB5j9/xQvcje7wv6oAzpRbrem/u16kxwf0zD/MxVeVvVLJP3mvbs9QY96/V0TUa/X14z+SJD/SWzOjvzDuxEg4+66/XZPiF7f487+oZCYJ9qLQP+eBzIu+pbM/0mQ+Km5Lsr/VTyHin8f0vx962vS99ug/il3I8Rkb4r/5aRRFCLjSv8Yf7vQkweM/GBpRwRPU0j908F9PsHjmv7yhVqDpsfQ/jyHDKchUsb8bKPQMkJjLv2NN3kJ1wKE/4gYW/JyF1b+Zu3EIDtTSP2tOoZrc2/G/YTbUxtUF5r+VjSYa4vTrv73l1lGw8uI/9snGumRwyD+eukMYbnrSP9r1aymEIf8/rulGyPTF5T+xEaIJhezJP6c08m07x82/C7hMnt5Isr9BEDN+cSf5v7WZACoO+MA/iTCI6YlCpz+Mx1DfGRMBwECLsZUqjPG/T5Xrn+US/D98ofhfHqvkvx+yjMBF26A/Z0tbcFTB3T+HgRYfK6fiv9tjguO6s8U/cFQyxq8a7j+u4GT4BB7lPzJqEtIVf+Y/Uuilg0W927/Pvca17S7zP3IKIHrTydc/YVN+T3Pk8T+m+nHa1HHPP8epPvKU5Mi/k3R6WH1N+j8vfot6Xcfcv5VEy5M/FLI/apnTd4d33z+VCOrMdODsv8CPd/1hPbG/u7GNfrPxtT8I7JQ53jbwv8t6JNoZ3tY/rRJVlbYz/D+kaQsFUbbVPwS9qeSgrso/zAbhZx/J0L+pwZEUhir4P+RivWosfP+/2I5Jp9bVc78KzATCdCL3PyiAjYywO9a/BiI57My29T+YOnI7eLrvv9iY2FHhVnE/m6+QHoLyxD+Jx9jXhWTpP4Mf3SrZNcw/wrLrr4aK8D/Rjo/F+C7FPwRHFYmzNuM/A6w/Zuoohj+DiU4LUvHxPw2yzjoQVdK/X+1aLYvO2D+Zx3lxVX33vwss4kuv17W/D8hSD75l6L9yK1LzFUXLv/mjf4jzEve/BxhPnAZ23D/2RELF5iXVPxRbRGpdDfk/louDpVmvxj9hfztD4XLjP4E6pJTPRvW/YL35UlVBoD8T6Q3nlYzAPwi7LsRiJLm/0MdJDkxF5b9Rs6mP+bfsv5CMCJdNz/M/mySIFK6aqL9ZEZbC25qrP5kUIiswkNM/ZQQYXGz/+r81bLbg5wD0PxL43c1Tx/c/rmIdb2QZzL+7TP//RkOtP0Zydw2q4vC/jX2xQBLD8b+m2HVwBObCv6Hn9hGKC9+/2ZGskBodib8c4aqr18DXP9+GPCmU5t2/H+AbgjFOlT+6PrXsP/Hrv2b0WLqN8PW/++h84Ie4xL9CRGzCQd7ev0hqRlMQP9a/ppd2fneZ9z/xGiU9zEPpv5zZplSq2fA/bKCMrQWF2z8EVWuENufIP0T6Ft5vUuw/3zQrqRxf179YmSrHAxHYv5I7tkcxxt6/ewutXBCB679r8Jj2sTffPw3bXVCTW/g/gWtIgeve3D/JvC5fZyjVP1oFQdC13/Q/IhJ9w3Onwr95yfOUcv2wPxB0tdax4+4/ZGXMvMN8zj9a0Msmswvxv+gP6fIjvP0/lsFFCs750j/BpKN6u0fgvyytRbDsxuS/dZiMxwC93L9VXuBswtjnv7zlsEA0Y80/Eb0VJWbl3L/BeLhEmJzmv/isMLOVRKK/p/ryXcE1/j+agK2dR872v0hBpMtpW+G/xD/l47d417/q6wCQ2fX9vwz/ekNgOvO/bWes0wpk9j+aq+tsJJjGv5h9ztFnkO4/TgVLv7UT2z92Xzg1MhrpP0MF6A1U0dG/WqgI2eqc+T9pKWj3YGT9Px3n2SOcods/1GRsJNHY1j+n5dRPsonbP84097yMd/q/+hx4Eoa24T/cLAGuuoTXv00+oSzC4u4/0Vv02nmYoL9G9CLdtzvwPzcn/nQMJ8E/+Oi0hcLB1r+o+wrINMbYvxqA6DAQkZO/WO4aROSy778FbZl22wLAvzeegjjUr72/p15j94L76L84ERqgbS/0Px2ngSkbOO4/7K8Bfub2v7+8VbMUFBCdv8xi3dN9CN2/JuVDA7am1L80mkiribe4v/X4dylpLPS/2O5LzRa30z+GTFQWHYmeP2Hh4rv3Ee8/+1tsY2y3vz810FfTH5fePz70W7ydu+E/cOgk/fm72b96d9h4UEr4v0yzxu4v7PA/oJziX6LX878lbZX0dv6tPzi+GvcQo+Y/mYDGFTSsnj/1e8fwbML6P8ljzrAh0ZY/dlwmO+EY8T8AMVo0jIfjv851bpjgcfq/ZzbVrpdH0j/uhXOyX9zqP4Vbv+ZRedo/plGEL6p95L9r7s5zXLnsvycM44cCGPQ/rv5GZoOb+D9r+kxeKoqBPwDP+ppbm+c/AnDg5Vdx0j8MNfQ9xsXWv8QJ8o9CavY/yeaic6GK8b+hbSW0oxqyv9caDsJVLMM/fa18KXeS3j/bvdjUfX3xv81D+gf8gL8/8F2OsR9k+D/guTC9ZNPVP1w0E2AX68E/DDAyVfIl9r8pdbM7/3b1P2Fj1T8M/9s/iJ0h1eR/8D8lFPT2RJfSv17JZa3qYeW/Gd+mXtWg979B1PG41mXpv0Zf3k8pv9K/v4Y6WFzM5r8VzW299rGAvzYQNMwoHOA/o1UxrUiNpD9/SGk2fMf0P/uN2MZ5ltg/mdhG4UKw5L/4DtyoWoT2P79wsvO0hOy/X+Be4gSfvz/msKlvlDnov1pqcmJYhfI/GCKuWrVj0T9Wc6gMRN/3P3c2Da7iUPQ/HqJNpVC7vL/eaAFLTLXiv8FePHqoLfS/6V1q/wn6yr/B7d9Qqu/Zv9wY76h+oOs/ce2bvJUA1D/n749gxfnUv8Nh8zoAUO8/6V4zf2dh9L++eDv9tibKP/qZqPWtSsq/7eLp3MGrOj8rPpaWMwTwPzohwnKABOe/KHgDsGTP8L/nhorjDPLwPwrV/qn/Xf6/HLtZ45Q34L/jeSOQ04vsv4AqB6M82ui/m4dQKT3l9T+e8UwmEXftv+RgjzNEGeM/LNMYhdkp+b8nKbTiAkHoP1ih0qi/RMI/L4xyMqdc9D+OmsGIkX3Rvxib5NJI4/m/h1ZT8/ix6L/ETTqtkODhP3sw8pBjZe6/wfVxYtJ0579FhsMyya+yvyv/dw86a9a/wf28xeOV3T87bXJKMDXLv4IYDxpsD/S/IMkWs/Nk4r/9U15xR1/yv6AsnxPdW9s/hcGgGQaS3D9cHj4PVb34v868Ebd+MqU/9RCzzhYJpD9bZGbib7rbvx4t9iFXy/M/4/1uFIU83L/CdjnTSlfuP9D63P66YuW/lOqWF5ek8z8cGbBu+DTQvwon3Ueb5Ne/n0E7ALC35z98WJh8+xnLv7CYED/E8rS/vK+bfYsf9b8UCM6BctrRP9bFdTMzHvk/r5DpbbMH3r8z/g4RlDn0P1QgYA3kY5C/AYdRUqNG9r8Gj7EYsfukP0eklsqHBL+/eS4jViBAtr8eGzCGXJXlvwn24YVyIKM/FWq/mpeJ97/KPQaZpzj1P6uDs2FvhuS/3c35Y+S1tj/qpQsQpZimPxomfYryHuE/gz6mbSn64z9l7+ULMwbAv48Rv7pAm7y/4f6XqcnH879jCk33c2mkP7A1wv4Gh86/upOs63rHxD+fdMxPIYHsP4oT7fDXdMs/3SiZWyIr7r/FXwZ1463Yvze0ZmKui7g/+tZV1Frrkj+BRb2xLoL3v7kwM19DRgLAU9r09iPrwr/eeSjKeJTUP0ixyGBEFce/xBn6swKi9D+TyokpzR7qPztLrgiM98O/EdHER4XD1j/DQiwB30vQP27Rcc5Fnfk/q1w1wj8c+7/RE6wN6UTCPxRgKztRitg/jZfFSTQ1wT/WFsNCfpjzP/MKmhKmAdI/4Ob73ldH6D85PieW/FtOv+hQWsb6dtG/oY8QeeQGtr/lIM8XwOrkP+XgWX2N4ve/D/WsLRyI5D/ue1OGjiTpvyrAZG0nZOE/rzhFUv965j+h/r7R5b/zPwdlp4DN++A/XZXy5xnMAEBAwJZ7Q6Txv4iLvLwKQbQ/yyrSbynMtL9psaacE7nLPygfuey0stG/5WjLHE9K+L9ApoyDsPDrP8g5jdg1fuq/XOxXG+uP6D9DbjPRB7vKP+QEMbivRtm/IJYnAo4W8T++I3LNHuzyP6ZIPSKvu9k/bYBGShF14T+6jNIfmtbiPyH37FSnIu+/fCos+U6w1L/VVI/9kZRcP+hi318A9so/SsPHzQ5a9L8l3sm1udfZv4Lgv6MGe/q/72EtUhVCAEA+s8sJpAHmv4DpAgbHDt2/BKbfbDqhqT9Sfxlfrjbqv5Z0XPPyj9E/E54pEibv1L9RRGfudib5v1xzDIBsVsy/JUJqeUdtoT/0YoKuwDnxvyGLhgOV34W/cWtYSXi38z9A4V5P8DW3v/EN++y+dMO/cuz2/RZY17+I27aNG4vTv9HxB8O5PO6/+AfwkmVg6D/ZOHTk0gbcv47EGND7l9E/RxbvN0qS0z9z0d7C8nnRPzNir1TizcY/7RGBe/8K3z+vNAC+xd/PP9UZ3Dawi+C/0diRbKyr9L+1FXJ8D9XjP3D+WGMrbee/4gjbAzwq4L/4tIv9YjHyvyiA/nt0qtm/0M/pNpZ84j9Hd+rPrX+uv8RMhA9tbus/PdH4C72Z1b/9V5vBkJv2P3tE0I7Yvr2/nMjnQ/PuuL+BKqjMQjPgP9po1nocbqy/udAojRoHkz/ieZNpsJL2P8E1c59Dqd6/tIdbrXZEuj+KNB2YRpDIv0q7SgbxfLW/pqnhFeZNwj8ril+1WqHkPxk4u1DHNb4/s5zWmmEK7z/Cpe7cz8jgv/cxaal2ztY/ZjT4jhdd7T+TYFSstXm2v8apyQDmwdq/pIAtq6Cvob/3jXmHlAPlP9IDT80w+qy/NIvbRz7C7j+SvXagior4v+QP3k36EtY/3vhUwxeewL9W9q4iKJ3mP8wf7sQ2jOA/TUU8XeKJ1L+YCkzZNjuzP/j/PZk28Kw/PogsgNfjuj9f7g/dCGXsP3qSum6YDPu/tv3vahy/67/GVja36sAAwHN3icd/7+2/5n3WPL/09z8iB6swWuj0P4wzGjCLkNE/HI6107y/w7/JdMtDSYqhP/v41G1r/Pu/vYV1i1Cuvr8joisNrUXbvx2ipmUYB/Y/LVEGpITo67+s28L3rrHKP0/P9VLvpeU/2uCPdRIW+L/zMNt/ugcAQIl0MldfCtI/nVGIupKF2b9krBoceJjfvyfnORpHwOu/eVm4wZoo+b+hz0+aMGfCv/Ze0kt5Hes/v1XWBtpj8T8Jlzspuqb5PzNUCVoEvrS/hNKOVsIGsj/ZIq/kHRDUP7F0TJpogv6/kGlQqRogvL+/P6z1UMriP2Wrk8V13vm/QBDJp6WZzL8BpUQfGlpzP8Y0gFdmp8S/3Jv06OpPwT8qKVD4p+4AQFteZ3E9PPS/YK+yX/aS7L8yW90BQKPUv/g8OIvN/QHAHrJ70Wib+D8eec6d8xQBwFuKbyz08PC/odpAO2zv4T8X2eNp1zKqP2ojOuUqk/A/I1HUXykH7b+sd1m1BIHuv5RRABc8p/a/AnUVUbNy7z+vCCGUTUXbP4F5WJPFTvc/k8oPgu9E2L/ajj4MATD0vwxz7VXoZve/f8rTmj26x78NhiMNZQW3vzdyGFn1vrM/yScNIlSDmj8bc8KBM5fTvwQkam2Hbfs/6zhVrBdy3L/k6tLOKhT2P3PuQBS94rU/efSH1o2H7b+yD5i9Ig/DPzZOLgyp99a/n+90YM8l0r9nuRBwXez0P2OIsgVqxeq/x4dIWvjn8L9KBn8k9zPVv1JtrXASNfO/npBT82Xy1z84AVxc8+LzPx/AViCYJ/k/K/hskcm/97+x68CXCbvnPwxb/xG7dOc/9kVvWJ4V7b9Fij0Ssibkv8aeD4IAXPu/qcK13/e067+EYRaZWD7mP44fJtx9mABAOZI59Cp7wj9fEoqFB0n0P4WtDqzswvo/VjkDHDnbmD+sD+8iQD7wP7OEVr4cYto/2/KgYQxc4j+cObJx6MbXPx5fgXK2I/Y/X7Ulj9oo9b9IwF264RLvPyFZvlo2j+K/FfKXXsHA4b/1R+LaeWKjv0SYrKW8A9O/r11pf4Ex7T8XxpEaXyDGPwpAcQ+lSLU/NsYun0/z4r/qVjl/PczOv0zcmUAVCci/DkAnkety6D+4ijNKGcDAv8RaIGuiN5g/VdRL+qY0zT+ht5u0SlFav6gQdEA6yPq/NsHlfPe76z9hU+hrcDT0P46v5albH+A/jJ3o96Hx2j+mCl/cpMj+vz7Sobq3Ccg/vF0NTOLa0D9PTW/WhmfWvwxfNkaPcdg/wtRoKw0e/r+gPItVYvviP2TXF1WlaKO/NSpS+Xiq6r+ZsPwyL9rxP218Drmsn9A/ke8b3pX0679UR/2RXmfGP5k5c5lBUr4/hOSQR9h9/L8wwDILc6qmv+1jPsGvyO6/u61/gsYy5j9SK1T9NPWqP3urrVNvDfe/0/UKdDAK07/vdPEr3mqkPz+3kO2Tr/Y/sYKhPXYNy7/YKH3Wgvvcv+Df0bVM1eE/dG6P/dus+78jxvveP233PzyipOkM0+Q/olEJlhob679xJ4iZSTTmv9xvWo0nTvU/OmahA+jmzj9tKmyuv5vHPyE4cIqwQNS/GeDykCHMzL+zHXu873ShP12JxH1vAto/RwtNHpjA4L8hVIHcTXG0P+ImZvISrwDAk+RkZg3A8T/Et6lwfADdvzO6WK3ckEK/hSoH0gXpuD/CZya1psr3v2QKsWMh6OC/mg0evXAV57+anKH2GhXgP2jgmUXJRPg/S00+w/H10r/IA+nhMcWyv4C8/mJOAO4/ZCiA9UQGvb/iJXtcxS2Qv7zeMHo5q+G/ph5G6UCi4r9qJY+0wHLEv8VzqICYTPe/SlihKqow9j8wBUdoWqfav+Kf7AKqKs2/eVPGkwdZ77/67/XevwD+vzVZ/uYtS86/v3mfNNaT2r+OCFBrrlvCP7D4rcoHpqk/vKmSdVwfo78vejM4E8H6P0z7iuSqWMQ/8X+W0U4O678ZVMessTu5P59Sot9qosm/aawNAIMrvD9aSKI1kQL5PzgsreiiSbU/96ZoWNR6978o4r0Kv/nMP3Oq0HibeuG/dVatYuz+9j+QCAxH3vSyvxKM0A2X472/rq5efB96u78E45Eb1Ib0v5sXKdGJLfo/1iDmx/9b9j+WXanFzMb7P2mDg5YEQ/O/IyDKMNKb8D9dl8Xb5VrUP3m4UFgtWNs/ES8cCEge9z8og7vP/oT2v9ARMJbgDeA/fnvMdBP3t78KjRVzUuH8v5iFlZS8iOU/TiZCnp0GzD+TRnfWjHTZv9eRqCyj2/e/vtg2PDt0/L9CsH2KLgTlPz03MifVM/A/E19U127v1z/aN41Nb+rePwXxJGbXWty/FNF6DLm47j/2iAAv3rfTv2R9ORfFZew/9IZS4cTw8j/+WHv/VSnsP3GFOFUk7ui/LYefLqnI1z8khQqSp330P6NUPL2t1tK/9RhZMGS5wD/g5HtgbMP3Pz9kAgIxVua/3Z0LmJvW8L8ptLG6yfy0P3Xso4EcKvE/4BEARW2E9b8dbEfP5xC8vyOv2rrmP/u/l+F1Qp3Q1z+LvIS6GLi9v+2WuG0ha92/Arkg40ul2b9x8/66cNWCP/U5pOgHtaA/6ytNk2bv4D8crW5Wpsz/P2ygleuGt9a/Pe/PyTaJfr+yeerWGYntP5CgcDXhlvY/RaS3s1cj1r8kHgYe9Bnav09lCmqk8M0/dBdztcqp2T8M+tmeMX/vPz4G+7eu0Na/YJ9g3JGYvj/v/O4Qx5nkP6rJZCeZesM/fYmDKF4HoT8pdzsdvk7Gv3SzEIbLYdc/PgnIZ8mw2D9VWBdw5TnjP6EBzCjtotK/WpF/jvIR5T8ELUzr64pPP5S+4Mgu0+i/kaNRXD5osr8Gzfb/3YT0v9LyA2K7C3I/97POyyP72L/kDazg/Xnuv/a+iXoo8PS/iLopOGwA5j/BDpGOtenMv3ZLanikocE/kIe87kBW+7+3X/tx8YetP+ebD9kCZvO/nuxDbPtp1j+KvdmLSNjRvwd26Vto7d4/ZXpfQOvKxj+0A1cbwAAAQIlVx7O+2s8/fhls8S9ewr/z43wSzqahP+3Ctzwuidk/RLhVIkMw0D8a4CmVTpjjP+EtKDtcv8g/UHT8Y+5X4j/TqUNL36ryP2D+sl391fM/IGZ3M218AEBkAwbZTfbgv8wcrrTKivY/TMlekHDI8b+nk8O2dr/FP6tBfF4+Q9q/YD5cdDJX9L9Sj+UpyunFv65D9EEuQvM//GC9wy+e5b8h8vAO5yn5P/o2DAQ94+I//d767/Fj2z+SCCoKcWLLP0p/gqaR0fO/NVI7PFs64z8kXc2fdu3wv36ST/hT2PW/hu+EW3EF+b9PMwoHm5zcv/derG50DaG/GEVROMb4or9YDm2XZx3qv/8JjNZiT8s/QNGrwRnCrT+JOFZjoUfSvxX3Ax6u39o/uPHscqla3b/yK1jhU5XjP2tAFZBBvvM/7iKQ75Ty4b8dM17286y8v1336IetS8y/8tQuZEQ98L/98RnBsvPhP+xu6gQml0K/yC4pJQZv7D+aP+8buazkP44xZ/BHy72/RQGscs4i0T/du2dKlOnmP9DvU28UOfO/mnTg3CnP+L+EyDTEpi3lPxkTqCOtYNG/MimmNDOj978HVCwDJAr0v280UHAB6tk/eqI/NCymgL8POR/CsQbdP6jByxj2UvS/8Xnmj0YE0L/WuOYJ0+3hP5GPRRtBwvO/NDIwM/VQ87/+f5THxqfQv+ZQ3jVJerG/Py7EVLoq9r/jJJ6VaRn1v4WnEMHOl/g/tQunfW3x978UC4PL1UT0P+Ea0ple/fe/SI5sTFq+ur9mrU7ohQrSv1ZPCAdmKtK/cLfacnMO9r/ezx7LKZCWv6mvsgkRv/I/4NMyq2yUAMCvyqkZnhS2P7Ld0lNiD/Y/tfVuffeF8r+Wjn+EbvD/v/mxSgjvKuY/tjsvSknG4j8jaua3LP3Nv2ZLVe3VKbS/OKNBbV4u678lrXUy3g3gv0q4fWJCQuY/Wq7qGYIMtb/pDXZIrN3rP23FyxmLyOE/hJzhpHh+4T9DTz9nNi3UP8Rw90EVqOo/dbk/+1ds57/ZTd78XNnavxG57uiGwPI/a0vIdGaf+L/tkvwbikzTv0ESyFXxQ+W/rY2GFxGwwT+MAiyrDDzdP6l2mWzMT+I/q8ydH2kk57/Kh7WKzI/DP6NKjfchQr8/yiOCL6uv+j+rtz3t+pG/P0sVktPvD2k/1+NuFgBbyL8oDS+1JevjP79MGwdofPI/ogSXiXjMxT/4CuerEu/SP6iuj/V3M/M/obFgdHr+ur+V2MhOKTG+P67OE1W5jfG/N5dsB9BNqj86EYbHUuPNv6jp9guwTe0/CGZ/fwec0D9FNarU7Vapv1E4JjO/PfU/5zUOpCgNwD/XK4Mvl+2uv/mH3WVsqdS/92AOPkhG5L/Ibe00ojnTv/g2GZS9KPe/8w1vpIv/2b8M82J2F3Lgv0w7l9RAC+W/LfXOF7ak8z+rBNNq3dr0v6I21s8yecs/1HMarImZ5L+ziqlGRWiGP20dIIbeIPc/Yl7xhvPL17/h17SrhaDbPxk1jSewxuG/tYHCDyT4yr+RjKQ4t5T7v78d3AueMec/Eo83L0Z69j/cGJNhgSWkv5QnQdxgg+Y/u5P00Vmg4b9i/+dTp234Pyps8ioUa7o/+toCdVYzwT/bGS8oU5nxP9DCMwKvWdu/duq7IDor/z8Mz9wIF73Yv7csJNTzs9Q/rA8qCNzO1z/rm7/DvB7wv5yMYXA6BP+/C048jAz5ur9hxrJ4FxLqP/kunrU2uO8/O07VCivp7b+IIeJZzgvgPxh/+iv3ifE/As5bTA/57r/yC0nZ7UXSvwN8fXPtfbA/DhuzObYqsj9MFfoaZSTcP6A8YAS5eNm/4ak/6CFR578xoa04KBjCP21pkwi+G/i/82TtW8vn7b+eZhtDV7z3P4x1+li3CuE/sD/Dc/Uwcj9fgQJwN7KXP7bkekM8D7O/LSUBLwOH6b/7EJIAJLnJPyysdW52E+O/DE1NQVd4+T+lLV+Y+Z7iv4sbCQs27vm/PnqSso5usT8vr3CTB/vSP1OqhOchpNQ/hpgw7vOusT8FznmEVbXSvzbMw42PcNC/eFXKb9HDyT+8Mi9OXU+8v94Tlr6hHtC/8R2HZc8+9r9MWOy2+j3iP86r+jSXjs0/MxCmkuRN+L+9OsYnYcPPv8BRcUjGMbe/czG4wb8Z878XdNPpOczyv4kig4h3OfG/BEMnCGS07r8nUiVOtfl7P2ODLU9wDNg/q8NWRvyVnT8e5uOflLH2v0EPuyKoEcu/owWaPaqM87/FyPtREQ7QP+rDcVTiLfQ/ZXBckRLb7z+fDNdBOZLbP8JbH28RfuQ/XWe1LzRXk7/PkVwTiOvhv8K30f//9Oy/6ooguSEV4D+jZuuNg1/xP07RBVJx4M2/XPSzWtIj8b8bxvaZ4znKvwr8pJq19OI/ai1GOyBP9L8PNtSO7vrmP+oyDkz6/9A/7OsGrubo8b9r5tKjiDz9vx9WHBMUyPK/uFCAcKYe0L/nSpmg6ummv/iMnS3FjvK/OXaZDQYH77++/Ug/u8GyP2GiyU7wSLq/3+UCIf/20b9exbf8oyqqPzbJPcP9wOK/824MjINN9b/OQp+rqgHYP7WetGKlFNg/oLltJ/nq8T+H9T6b6Oj7PzwQqVKZHABASkiU5mIN+r+gh3rRxdTvPy6Ud71Sp6c/teCU5LY/AcBNM8xuJp33vxznFq/n8Pq/rQZIFkvL4D9sOXUI6h8AQIegwEVe79s/nJjco+y99j8oowJ+w8X8P0SCXlKZlvA/UuAOKPd5tz+Lo5bmYVfdP6weHHqJnfA/PQukzCE+3j8jmRpjSbjtv96Ll/zcDck/EP+P+eXRzz/J2qMw5KL3v2mTBg+XpvQ/s9GGMAcc8T+eyFFom8buP0L7ZbPMmu8/74eKH8Pk078="
         },
         "z": {
          "dtype": "f8",
          "bdata": "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"
         },
         "type": "scatter3d"
        }
       ],
       "layout": {
        "template": {
         "data": {
          "histogram2dcontour": [
           {
            "type": "histogram2dcontour",
            "colorbar": {
             "outlinewidth": 0,
             "ticks": ""
            },
            "colorscale": [
             [
              0.0,
              "#0d0887"
             ],
             [
              0.1111111111111111,
              "#46039f"
             ],
             [
              0.2222222222222222,
              "#7201a8"
             ],
             [
              0.3333333333333333,
              "#9c179e"
             ],
             [
              0.4444444444444444,
              "#bd3786"
             ],
             [
              0.5555555555555556,
              "#d8576b"
             ],
             [
              0.6666666666666666,
              "#ed7953"
             ],
             [
              0.7777777777777778,
              "#fb9f3a"
             ],
             [
              0.8888888888888888,
              "#fdca26"
             ],
             [
              1.0,
              "#f0f921"
             ]
            ]
           }
          ],
          "choropleth": [
           {
            "type": "choropleth",
            "colorbar": {
             "outlinewidth": 0,
             "ticks": ""
            }
           }
          ],
          "histogram2d": [
           {
            "type": "histogram2d",
            "colorbar": {
             "outlinewidth": 0,
             "ticks": ""
            },
            "colorscale": [
             [
              0.0,
              "#0d0887"
             ],
             [
              0.1111111111111111,
              "#46039f"
             ],
             [
              0.2222222222222222,
              "#7201a8"
             ],
             [
              0.3333333333333333,
              "#9c179e"
             ],
             [
              0.4444444444444444,
              "#bd3786"
             ],
             [
              0.5555555555555556,
              "#d8576b"
             ],
             [
              0.6666666666666666,
              "#ed7953"
             ],
             [
              0.7777777777777778,
              "#fb9f3a"
             ],
             [
              0.8888888888888888,
              "#fdca26"
             ],
             [
              1.0,
              "#f0f921"
             ]
            ]
           }
          ],
          "heatmap": [
           {
            "type": "heatmap",
            "colorbar": {
             "outlinewidth": 0,
             "ticks": ""
            },
            "colorscale": [
             [
              0.0,
              "#0d0887"
             ],
             [
              0.1111111111111111,
              "#46039f"
             ],
             [
              0.2222222222222222,
              "#7201a8"
             ],
             [
              0.3333333333333333,
              "#9c179e"
             ],
             [
              0.4444444444444444,
              "#bd3786"
             ],
             [
              0.5555555555555556,
              "#d8576b"
             ],
             [
              0.6666666666666666,
              "#ed7953"
             ],
             [
              0.7777777777777778,
              "#fb9f3a"
             ],
             [
              0.8888888888888888,
              "#fdca26"
             ],
             [
              1.0,
              "#f0f921"
             ]
            ]
           }
          ],
          "contourcarpet": [
           {
            "type": "contourcarpet",
            "colorbar": {
             "outlinewidth": 0,
             "ticks": ""
            }
           }
          ],
          "contour": [
           {
            "type": "contour",
            "colorbar": {
             "outlinewidth": 0,
             "ticks": ""
            },
            "colorscale": [
             [
              0.0,
              "#0d0887"
             ],
             [
              0.1111111111111111,
              "#46039f"
             ],
             [
              0.2222222222222222,
              "#7201a8"
             ],
             [
              0.3333333333333333,
              "#9c179e"
             ],
             [
              0.4444444444444444,
              "#bd3786"
             ],
             [
              0.5555555555555556,
              "#d8576b"
             ],
             [
              0.6666666666666666,
              "#ed7953"
             ],
             [
              0.7777777777777778,
              "#fb9f3a"
             ],
             [
              0.8888888888888888,
              "#fdca26"
             ],
             [
              1.0,
              "#f0f921"
             ]
            ]
           }
          ],
          "surface": [
           {
            "type": "surface",
            "colorbar": {
             "outlinewidth": 0,
             "ticks": ""
            },
            "colorscale": [
             [
              0.0,
              "#0d0887"
             ],
             [
              0.1111111111111111,
              "#46039f"
             ],
             [
              0.2222222222222222,
              "#7201a8"
             ],
             [
              0.3333333333333333,
              "#9c179e"
             ],
             [
              0.4444444444444444,
              "#bd3786"
             ],
             [
              0.5555555555555556,
              "#d8576b"
             ],
             [
              0.6666666666666666,
              "#ed7953"
             ],
             [
              0.7777777777777778,
              "#fb9f3a"
             ],
             [
              0.8888888888888888,
              "#fdca26"
             ],
             [
              1.0,
              "#f0f921"
             ]
            ]
           }
          ],
          "mesh3d": [
           {
            "type": "mesh3d",
            "colorbar": {
             "outlinewidth": 0,
             "ticks": ""
            }
           }
          ],
          "scatter": [
           {
            "marker": {
             "line": {
              "color": "#283442"
             }
            },
            "type": "scatter"
           }
          ],
          "parcoords": [
           {
            "type": "parcoords",
            "line": {
             "colorbar": {
              "outlinewidth": 0,
              "ticks": ""
             }
            }
           }
          ],
          "scatterpolargl": [
           {
            "type": "scatterpolargl",
            "marker": {
             "colorbar": {
              "outlinewidth": 0,
              "ticks": ""
             }
            }
           }
          ],
          "bar": [
           {
            "error_x": {
             "color": "#f2f5fa"
            },
            "error_y": {
             "color": "#f2f5fa"
            },
            "marker": {
             "line": {
              "color": "rgb(17,17,17)",
              "width": 0.5
             },
             "pattern": {
              "fillmode": "overlay",
              "size": 10,
              "solidity": 0.2
             }
            },
            "type": "bar"
           }
          ],
          "scattergeo": [
           {
            "type": "scattergeo",
            "marker": {
             "colorbar": {
              "outlinewidth": 0,
              "ticks": ""
             }
            }
           }
          ],
          "scatterpolar": [
           {
            "type": "scatterpolar",
            "marker": {
             "colorbar": {
              "outlinewidth": 0,
              "ticks": ""
             }
            }
           }
          ],
          "histogram": [
           {
            "marker": {
             "pattern": {
              "fillmode": "overlay",
              "size": 10,
              "solidity": 0.2
             }
            },
            "type": "histogram"
           }
          ],
          "scattergl": [
           {
            "marker": {
             "line": {
              "color": "#283442"
             }
            },
            "type": "scattergl"
           }
          ],
          "scatter3d": [
           {
            "type": "scatter3d",
            "line": {
             "colorbar": {
              "outlinewidth": 0,
              "ticks": ""
             }
            },
            "marker": {
             "colorbar": {
              "outlinewidth": 0,
              "ticks": ""
             }
            }
           }
          ],
          "scattermap": [
           {
            "type": "scattermap",
            "marker": {
             "colorbar": {
              "outlinewidth": 0,
              "ticks": ""
             }
            }
           }
          ],
          "scattermapbox": [
           {
            "type": "scattermapbox",
            "marker": {
             "colorbar": {
              "outlinewidth": 0,
              "ticks": ""
             }
            }
           }
          ],
          "scatterternary": [
           {
            "type": "scatterternary",
            "marker": {
             "colorbar": {
              "outlinewidth": 0,
              "ticks": ""
             }
            }
           }
          ],
          "scattercarpet": [
           {
            "type": "scattercarpet",
            "marker": {
             "colorbar": {
              "outlinewidth": 0,
              "ticks": ""
             }
            }
           }
          ],
          "carpet": [
           {
            "aaxis": {
             "endlinecolor": "#A2B1C6",
             "gridcolor": "#506784",
             "linecolor": "#506784",
             "minorgridcolor": "#506784",
             "startlinecolor": "#A2B1C6"
            },
            "baxis": {
             "endlinecolor": "#A2B1C6",
             "gridcolor": "#506784",
             "linecolor": "#506784",
             "minorgridcolor": "#506784",
             "startlinecolor": "#A2B1C6"
            },
            "type": "carpet"
           }
          ],
          "table": [
           {
            "cells": {
             "fill": {
              "color": "#506784"
             },
             "line": {
              "color": "rgb(17,17,17)"
             }
            },
            "header": {
             "fill": {
              "color": "#2a3f5f"
             },
             "line": {
              "color": "rgb(17,17,17)"
             }
            },
            "type": "table"
           }
          ],
          "barpolar": [
           {
            "marker": {
             "line": {
              "color": "rgb(17,17,17)",
              "width": 0.5
             },
             "pattern": {
              "fillmode": "overlay",
              "size": 10,
              "solidity": 0.2
             }
            },
            "type": "barpolar"
           }
          ],
          "pie": [
           {
            "automargin": true,
            "type": "pie"
           }
          ]
         },
         "layout": {
          "autotypenumbers": "strict",
          "colorway": [
           "#636efa",
           "#EF553B",
           "#00cc96",
           "#ab63fa",
           "#FFA15A",
           "#19d3f3",
           "#FF6692",
           "#B6E880",
           "#FF97FF",
           "#FECB52"
          ],
          "font": {
           "color": "#f2f5fa"
          },
          "hovermode": "closest",
          "hoverlabel": {
           "align": "left"
          },
          "paper_bgcolor": "rgb(17,17,17)",
          "plot_bgcolor": "rgb(17,17,17)",
          "polar": {
           "bgcolor": "rgb(17,17,17)",
           "angularaxis": {
            "gridcolor": "#506784",
            "linecolor": "#506784",
            "ticks": ""
           },
           "radialaxis": {
            "gridcolor": "#506784",
            "linecolor": "#506784",
            "ticks": ""
           }
          },
          "ternary": {
           "bgcolor": "rgb(17,17,17)",
           "aaxis": {
            "gridcolor": "#506784",
            "linecolor": "#506784",
            "ticks": ""
           },
           "baxis": {
            "gridcolor": "#506784",
            "linecolor": "#506784",
            "ticks": ""
           },
           "caxis": {
            "gridcolor": "#506784",
            "linecolor": "#506784",
            "ticks": ""
           }
          },
          "coloraxis": {
           "colorbar": {
            "outlinewidth": 0,
            "ticks": ""
           }
          },
          "colorscale": {
           "sequential": [
            [
             0.0,
             "#0d0887"
            ],
            [
             0.1111111111111111,
             "#46039f"
            ],
            [
             0.2222222222222222,
             "#7201a8"
            ],
            [
             0.3333333333333333,
             "#9c179e"
            ],
            [
             0.4444444444444444,
             "#bd3786"
            ],
            [
             0.5555555555555556,
             "#d8576b"
            ],
            [
             0.6666666666666666,
             "#ed7953"
            ],
            [
             0.7777777777777778,
             "#fb9f3a"
            ],
            [
             0.8888888888888888,
             "#fdca26"
            ],
            [
             1.0,
             "#f0f921"
            ]
           ],
           "sequentialminus": [
            [
             0.0,
             "#0d0887"
            ],
            [
             0.1111111111111111,
             "#46039f"
            ],
            [
             0.2222222222222222,
             "#7201a8"
            ],
            [
             0.3333333333333333,
             "#9c179e"
            ],
            [
             0.4444444444444444,
             "#bd3786"
            ],
            [
             0.5555555555555556,
             "#d8576b"
            ],
            [
             0.6666666666666666,
             "#ed7953"
            ],
            [
             0.7777777777777778,
             "#fb9f3a"
            ],
            [
             0.8888888888888888,
             "#fdca26"
            ],
            [
             1.0,
             "#f0f921"
            ]
           ],
           "diverging": [
            [
             0,
             "#8e0152"
            ],
            [
             0.1,
             "#c51b7d"
            ],
            [
             0.2,
             "#de77ae"
            ],
            [
             0.3,
             "#f1b6da"
            ],
            [
             0.4,
             "#fde0ef"
            ],
            [
             0.5,
             "#f7f7f7"
            ],
            [
             0.6,
             "#e6f5d0"
            ],
            [
             0.7,
             "#b8e186"
            ],
            [
             0.8,
             "#7fbc41"
            ],
            [
             0.9,
             "#4d9221"
            ],
            [
             1,
             "#276419"
            ]
           ]
          },
          "xaxis": {
           "gridcolor": "#283442",
           "linecolor": "#506784",
           "ticks": "",
           "title": {
            "standoff": 15
           },
           "zerolinecolor": "#283442",
           "automargin": true,
           "zerolinewidth": 2
          },
          "yaxis": {
           "gridcolor": "#283442",
           "linecolor": "#506784",
           "ticks": "",
           "title": {
            "standoff": 15
           },
           "zerolinecolor": "#283442",
           "automargin": true,
           "zerolinewidth": 2
          },
          "scene": {
           "xaxis": {
            "backgroundcolor": "rgb(17,17,17)",
            "gridcolor": "#506784",
            "linecolor": "#506784",
            "showbackground": true,
            "ticks": "",
            "zerolinecolor": "#C8D4E3",
            "gridwidth": 2
           },
           "yaxis": {
            "backgroundcolor": "rgb(17,17,17)",
            "gridcolor": "#506784",
            "linecolor": "#506784",
            "showbackground": true,
            "ticks": "",
            "zerolinecolor": "#C8D4E3",
            "gridwidth": 2
           },
           "zaxis": {
            "backgroundcolor": "rgb(17,17,17)",
            "gridcolor": "#506784",
            "linecolor": "#506784",
            "showbackground": true,
            "ticks": "",
            "zerolinecolor": "#C8D4E3",
            "gridwidth": 2
           }
          },
          "shapedefaults": {
           "line": {
            "color": "#f2f5fa"
           }
          },
          "annotationdefaults": {
           "arrowcolor": "#f2f5fa",
           "arrowhead": 0,
           "arrowwidth": 1
          },
          "geo": {
           "bgcolor": "rgb(17,17,17)",
           "landcolor": "rgb(17,17,17)",
           "subunitcolor": "#506784",
           "showland": true,
           "showlakes": true,
           "lakecolor": "rgb(17,17,17)"
          },
          "title": {
           "x": 0.05
          },
          "updatemenudefaults": {
           "bgcolor": "#506784",
           "borderwidth": 0
          },
          "sliderdefaults": {
           "bgcolor": "#C8D4E3",
           "borderwidth": 1,
           "bordercolor": "rgb(17,17,17)",
           "tickwidth": 0
          },
          "mapbox": {
           "style": "dark"
          }
         }
        },
        "scene": {
         "domain": {
          "x": [
           0.0,
           1.0
          ],
          "y": [
           0.0,
           1.0
          ]
         },
         "xaxis": {
          "title": {
           "text": "x"
          }
         },
         "yaxis": {
          "title": {
           "text": "y"
          }
         },
         "zaxis": {
          "title": {
           "text": "z"
          }
         }
        },
        "coloraxis": {
         "colorbar": {
          "title": {
           "text": "color"
          }
         },
         "colorscale": [
          [
           0.0,
           "#0d0887"
          ],
          [
           0.1111111111111111,
           "#46039f"
          ],
          [
           0.2222222222222222,
           "#7201a8"
          ],
          [
           0.3333333333333333,
           "#9c179e"
          ],
          [
           0.4444444444444444,
           "#bd3786"
          ],
          [
           0.5555555555555556,
           "#d8576b"
          ],
          [
           0.6666666666666666,
           "#ed7953"
          ],
          [
           0.7777777777777778,
           "#fb9f3a"
          ],
          [
           0.8888888888888888,
           "#fdca26"
          ],
          [
           1.0,
           "#f0f921"
          ]
         ]
        },
        "legend": {
         "tracegroupgap": 0
        },
        "title": {
         "text": "Data with 3d PCA"
        }
       },
       "config": {
        "plotlyServerURL": "https://plot.ly"
       }
      }
     },
     "metadata": {},
     "output_type": "display_data",
     "jetTransient": {
      "display_id": null
     }
    }
   ],
   "execution_count": 6
  },
  {
   "metadata": {},
   "cell_type": "markdown",
   "source": "The data are still a mess and are not linearly dividable, so we need more advanced tools.",
   "id": "76c9fb02d24407"
  },
  {
   "metadata": {
    "ExecuteTime": {
     "end_time": "2025-10-24T14:58:28.156618Z",
     "start_time": "2025-10-24T14:42:46.963726Z"
    }
   },
   "cell_type": "code",
   "source": "data_pca, dimension, eigenvectors = my_kpca(data, dim=3, kernel_type='rbf', kernel_param=0.5)",
   "id": "3da817fa7a09d1ea",
   "outputs": [
    {
     "name": "stdout",
     "output_type": "stream",
     "text": [
      "0\n",
      "1\n",
      "2\n",
      "3\n",
      "4\n",
      "5\n",
      "6\n"
     ]
    }
   ],
   "execution_count": 7
  },
  {
   "metadata": {
    "ExecuteTime": {
     "end_time": "2025-10-24T14:58:29.073881Z",
     "start_time": "2025-10-24T14:58:28.825829Z"
    }
   },
   "cell_type": "code",
   "source": [
    "data_pca = pd.DataFrame(data_pca)\n",
    "fig = px.scatter_3d(x=data_pca.iloc[:, 0], y=data_pca.iloc[:, 1], z=data_pca.iloc[:, 2], color=labels.iloc[:, 0],  title=f\"Data with {dimension}d PCA\")\n",
    "fig.update_traces(marker=dict(size=1)).show()"
   ],
   "id": "f70a35ee5139c57",
   "outputs": [
    {
     "data": {
      "application/vnd.plotly.v1+json": {
       "data": [
        {
         "hovertemplate": "x=%{x}<br>y=%{y}<br>z=%{z}<br>color=%{marker.color}<extra></extra>",
         "legendgroup": "",
         "marker": {
          "color": {
           "dtype": "i1",
           "bdata": "AAAAAAABAAAAAQABAAEAAAAAAAAAAAAAAQABAQAAAAEBAAAAAQAAAQAAAQEBAQAAAAAAAAAAAQAAAQAAAAABAAABAQAAAAEBAAAAAQAAAAABAAEBAQAAAAAAAAAAAAAAAAAAAAAAAAAAAAAAAAEAAAABAQAAAAAAAAAAAAAAAAABAAABAAEAAAAAAAAAAAAAAQAAAAAAAQAAAAAAAAAAAAAAAAAAAQAAAAAAAAEAAAAAAAAAAAAAAAABAQABAAAAAAAAAQEAAAAAAAEAAAAAAAAAAQAAAAEAAAAAAQAAAAABAQAAAAAAAAEBAAABAAAAAQAAAAAAAAEBAAAAAAAAAAAAAAAAAAEBAAEAAAAAAAEAAAABAAAAAAAAAAABAQAAAAAAAAAAAQAAAAABAQEAAAABAAAAAAAAAAABAAABAAAAAAAAAQAAAQAAAAAAAAABAAAAAAAAAAAAAAAAAQAAAAAAAAAAAAEAAAAAAAAAAQAAAAEBAAAAAAAAAAABAQEAAAEBAAAAAAABAAAAAAAAAAEAAAABAAAAAQAAAQABAQAAAAAAAAAAAAAAAAABAQAAAQAAAAEAAAEAAQABAAAAAQAAAAAAAAEBAAAAAAAAAAAAAAAAAQEAAAAAAAAAAAAAAQABAAEAAQEBAAAAAQEBAAABAAAAAAABAQAAAQAAAQAAAAEBAAAAAAEAAAAAAAAAAAEAAAEAAQAAAQAAAAAAAAAAAAAAAAABAAAAAQAAAAABAAEBAAAAAQAAAAAAAAAAAAABAAAAAAEAAAEAAQAAAAAAAAAAAAABAAEBAAABAAABAQAAAAEAAAAAAQAAAAAAAAEBAAEAAAAAAAAAAAAAAAAAAAAAAAAAAAAAAQAAAQEAAAABAAEAAQEAAAEAAAAAAAEAAAAAAAAAAAAAAAAAAAAAAAABAQAAAAAAAAAAAAABAAABAAEAAAAAAQABAAEAAAABAAAAAAEAAQEAAAAAAAAAAAAAAAABAQABAAAAAAAAAAABAQAAAAABAAEAAAAAAAEAAAAAAAAAAAAAAAAAAQEBAAAAAAAAAAABAAAAAQAAAAABAAEAAAAAAQAAAQAAAAEAAAEBAAAAAAAAAQAAAAAAAAAAAAAAAAAAAAAAAAAAAQABAAABAQEAAAAAAAAAAAABAQAAAAEAAAAAAQAAAAAAAQAAAQEAAAAAAAAAAAAAAQAAAAAAAAEBAAEAAQAAAQAAAAAAAQAAAQAAAAAAAAAAAAAAAAABAAAAAQAAAAAAAAAAAAAAAQEAAAAAAAAAAAEAAAEAAAAAAAEAAAAAAAAAAAABAAEAAAABAAAAAQAAAAABAAAAAQAAAAEAAQAAAAAAAQAAAAEAAAEAAQAAAQEBAAAAAQEBAAABAQAAAAAAAAABAAEBAAEAAAABAAAAAAAAAAEAAAEAAAAAAAAAAQAAAQEBAAEAAAEAAAEBAQAAAAAAAAAAAQAAAQAAAAAAAAEBAAEAAAAAAAAAAAAAAAAAAAAAAAAAAAAAAAABAQEAAQAAAAAAAQAAAAABAAEAAQAAAQEAAQAAAQAAAAABAAAAAQAAAAAAAAABAAAAAQEAAQAAAAAAAAABAAABAQAAAAEAAQAAAAAAAAAAAAAAAAAAAQAAAQABAAAAAAEAAAAAAAAAAAEAAAAAAAEAAAAAAAAAAQEAAAAAAAABAAAAAAEAAQABAAAAAAEAAAAAAAAAAAABAQAAAAAAAAABAAABAAAAAAAAAAAAAAAAAAAAAAEAAAABAAEAAQAAAAEBAAABAAAAAAAAAAAAAQAAAAAAAQAAAAAAAQAAAAABAAAAAAABAAAAAAEAAAAAAAAAAAEAAAABAAAAAAEAAAAAAAEAAAAAAAEAAQAAAAEAAAAAAAABAQAAAAAAAAABAAEAAAAAAAEAAAAAAAAAAQABAAAAAAEAAAAAAAABAAAAAQAAAAABAAAAAAABAAAAAAAAAAEAAAAAAAEAAQEBAAAAAAABAAAAAAABAAAAAAAAAAAAAQAAAQABAAAAAAAAAQAAAAABAAAAAAEBAAAAAAEAAAEBAQEAAAAAAAAAAAABAAAAAAAAAAAAAAAAAAAAAQAAAAEAAQEBAQAAAQABAAABAAABAAAAAAEAAAAAAAAAAAAAAAAAAAABAAEAAQAAAQEBAAABAAEAAAEBAAEAAAEAAAAAAQEAAAABAAAAAQABAAEAAQABAQAAAAAAAAEBAQEBAAABAQAAAAAAAAAAAQAAAAEAAAAAAAEAAAAAAAEAAAAAAQEAAQEAAAAAAQAAAQAAAAAAAAABAQAAAAEAAAEBAQEAAAABAQAAAAEBAAABAAEAAAAAAAEAAAEAAAAAAAEBAAAAAQAAAAEAAAAAAAAAAAAAAAAAAQAAAAABAAABAAAAAQAAAAEAAAAAAAAAAAAAAAAAAQAAAAABAAEBAAAAAAABAQAAAQAAAQEAAAAAAAABAAABAAABAAAAAAAAAAAAAAABAAAAAQAAAAAAAAAAAQEAAAAAAAAAAAAAAAAAAQAAAAABAAAAAAAAAAAAAAAAAAEAAAABAAAAAAAAAAABAAAAAAAAAAEAAAAAAAABAAABAAAAAAEBAAAAAQAAAAEAAQAAAAAAAAABAAAAAAABAAAAAAEAAAAAAAAAAAAAAQAAAAEAAAAAAAAAAAAAAQEAAAAAAQAAAAAAAAEAAAAAAAAAAAEBAAAAAAAAAAEAAAAAAAAAAQABAQEAAAEAAAAAAAAAAAEAAAEBAQAAAAAAAAAAAAAAAAAAAAAAAAEAAQABAAEAAAAAAAABAAAAAAEBAQEAAQAAAAEBAAEBAAAAAAAAAAAAAQABAAAAAAAAAAAAAAABAAEBAAABAAAAAAEAAQEAAAABAQAAAAAAAAAAAAABAAEAAAABAQAAAQEBAAABAAAAAAAAAAAAAAAAAAEAAAABAAEAAAAAAAAAAAAAAAAAAAABAQAAAAAAAAAAAAAAAQAAAQAAAQAAAAAAAAEAAQAAAAEAAAAAAAABAAAAAAAAAQEBAAEAAAAAAAABAAAAAAAAAAAAAAAAAQAAAAAAAAAAAQAAAQAAAAAAAAEBAQAAAQABAAAAAAAAAQABAAABAAAAAAABAAEBAAAAAAAAAAAAAAABAAAAAAAAAAAAAAAAAAAAAAABAAEAAAABAQABAAEAAAEAAQABAQAAAAAAAAAAAAAAAAAAAAAAAAAAAAAAAQAAAAAAAAABAQEBAAABAQAAAAAAAQAAAAABAAABAAABAAAAAAAAAAEAAQAAAAAAAAEAAAAAAAAAAAABAAEAAAAAAQAAAAEAAAAAAAAAAAAAAAEBAAAAAAAAAQEAAAABAAEBAAEAAAAAAAAAAAAAAAEAAQABAQEBAAAAAAABAAAAAAEAAAABAQEAAAAAAQEAAAABAAABAAAAAAABAAAAAQABAAEAAQEAAAAAAAAAAAEAAAAAAAAAAAAAAAAAAQABAAABAQEAAAAAAAAAAAAAAAAAAAAAAAAAAAAAAQAAAQABAAAAAAAAAAAAAAEAAAAAAAABAAAAAQABAAEAAQAAAAEAAAABAAAAAAABAAEAAAEAAAEAAAAAAAEBAAABAAEBAAEAAQEAAQABAAEAAAAAAAEAAAAAAAEAAAAAAAEAAAAAAAAAAAAAAAEAAAAAAAEAAAEBAAABAAAAAAABAAAAAAEAAQAAAAAAAAAAAQAAAAEAAAABAAEAAAAAAAAAAAAAAAEAAAAAAQEAAQEBAAABAAAAAAEAAAAAAAAAAAEAAAEAAQAAAQAAAAAAAQEAAQAAAQABAAAAAAAAAAAAAAAAAAAAAAAAAAAAAAAAAQEAAAAAAQEAAAABAAAAAAAAAQAAAAABAAAAAQABAAAAAAAAAAAAAAABAAAAAAAAAQAAAAEAAAAAAAAAAAAAAAAAAAAAAQABAAEAAQAAAAAAAAAAAQABAQEAAAABAAEAAAAAAAAAAAEAAQAAAAEAAAAAAAAAAAAAAAABAAABAQAAAQEAAAEAAQAAAAAAAAAAAAEAAAAAAAAAAAAAAAEAAAAAAQAAAQEAAAAAAAABAAAAAAEAAAEBAAABAAAAAAEAAQAAAAAAAAAAAAAAAAAAAQABAAAAAQEBAQAAAAAAAAAAAQEAAQEAAAAAAAABAAAAAAABAQABAAAAAAAAAQAAAAAAAQABAAAAAAAAAAABAAAAAAEAAAAAAAAAAAAAAQEBAAEBAQEBAAAAAAEAAAAAAAAAAAABAAEAAAAAAAEAAAEAAAEAAAAAAQABAAEAAAAAAAAAAAAAAAAAAQAAAAAAAAAAAAAAAAAAAAEBAAABAAAAAAAAAAAAAAEAAAAAAAAAAAAAAAAAAAABAAEAAAAAAAAAAAEBAAABAAAAAQAAAAEAAAEAAQEBAAAAAQAAAAEAAAAAAAAAAAAAAAAAAAEAAAAAAAAAAAEAAAABAAABAQAAAAABAQAAAAAAAAEAAAAAAQABAAAAAAAAAAEBAAEAAAABAAEAAAEBAAABAAAAAQEBAAABAAAAAAAAAAAAAAAAAAEAAAAAAAAAAQEAAAEAAQEAAQEAAAEAAAEBAAAAAQABAAEBAAEAAAAAAAEAAAEAAAEAAAEAAQAAAAAAAQAAAQEAAAAAAAEAAQAAAAEAAAAAAAABAAABAAAAAAEAAAABAAABAAEAAAABAAABAAAAAAEAAAABAQAAAAAAAAAAAAEBAAAAAQAAAAAAAAAAAAAAAAABAQAAAAAAAAAAAQABAAAAAAEBAAAAAAABAAAAAQAAAAABAAABAAEAAAAAAAAAAAAAAQEAAAAAAQEAAAAAAAABAAAAAAABAAAAAAABAAABAAAAAAAAAAEAAAAAAAAAAAABAAAAAAAAAQAAAAAAAAAAAAEAAQAAAAAAAAAAAAEAAAAAAAAAAAEAAAABAAAAAQAAAAEAAAAAAAAAAQEAAAEAAAAAAAABAQAAAQABAQABAAAAAAAAAAAAAQAAAAAAAAAAAAAAAQAAAAABAAABAAAAAAEAAAAAAQAAAAAAAAEAAAABAAEAAAAAAQAAAAEAAAAAAAAAAAAAAAAAAAAAAAABAAAAAAEAAAABAQEAAAAAAAABAQAAAAEAAQABAAAAAAAAAQAAAAAAAAABAAABAAABAAAAAAAAAAEAAQAAAAAAAAAAAAAAAAAAAAAAAAAAAAEAAAEBAAAAAAABAAABAQAAAAABAQAAAAEAAAEAAAABAAAAAAAAAQAAAAAAAAAAAQAAAAABAAAAAQAAAAAAAAABAAEAAQABAAEAAAAAAAAAAAEBAQABAQEAAAABAAABAAAAAAAAAAAAAAEAAAAAAQEAAAAAAAABAQABAAABAAABAQAAAAEAAAAAAQAAAAAAAAABAQAAAAAAAAAAAAAAAAAAAQAAAAAAAAEBAAAAAAAAAAEAAQEAAAABAAAAAQABAAEAAAABAQAAAAEAAQAAAAAAAAEBAAAAAAAAAQEAAAAAAQEBAQEAAAAAAQEAAQABAAAAAQAAAAAAAAABAAAAAAAAAAAAAQABAAAAAAAAAQAAAAABAAEAAAEBAAAAAAEAAQEAAQAAAAAAAAAAAQAAAAAAAAAAAAEAAAAAAAAAAAAAAAAAAAAAAAEBAAEAAQAAAAAAAAAAAAAAAAAAAAEBAAEAAQABAAEAAAAAAQAAAAAAAQABAQAAAAAAAAAAAQEAAAAAAAEAAAAAAAEAAAAAAAAAAAABAAAAAAABAQEAAAAAAAAAAAABAAAAAAAAAAAAAQABAAABAAABAQAAAQAAAAAAAAEAAQEAAAEBAAAAAQEBAAAAAAAAAQAAAAABAAAAAQABAAAAAAAAAQEAAAABAAABAAABAAAAAAAAAAAAAAEAAQEAAAEBAQAAAAEAAQAAAAABAAEAAAAAAAAAAAAAAQAAAQAAAAAAAAAAAAEBAAABAQAAAAAAAAABAAAAAAAAAAAAAAABAAAAAAEAAAABAQAAAAAAAAAAAAEAAQAAAAABAAEAAAEAAAEAAQABAQEAAAEAAAAAAQAAAAAAAQAAAAAAAQAAAAAAAAAAAAABAAAAAAEBAQEAAAABAAEAAQAAAAAAAAABAAAAAAAAAAAAAAEAAQAAAAEAAAAAAAAAAAAAAQAAAAAAAQABAAEAAAAAAAABAAAAAQAAAAABAAABAAABAAABAAEAAAABAAAAAQAAAAAAAAEAAAEAAQABAAAAAAABAQEAAAEAAAAAAAEAAAAAAAAAAAEAAQEBAAABAAABAAAAAAABAAEAAQABAAEAAQAAAAAAAQAAAAAAAAEAAQABAQEAAAAAAAAAAAABAAAAAAAAAAAAAAABAAEAAAAAAAEAAAAAAAABAQAAAAEAAAEAAAABAQAAAAABAAAAAAEBAQAAAAAAAQABAAEAAAEAAQAAAAAAAAABAQAAAAAAAAABAAEBAAEAAAAAAAAAAAAAAAEBAAAAAAABAAAAAAAAAAAAAAABAAEBAAEAAAABAQEBAAABAQABAAABAAAAAAAAAQAAAAAAAQAAAAAAAAAAAAAAAQEAAAABAAEAAAEAAQAAAQAAAAAAAAABAAAAAQAAAAAAAAEAAAABAQEAAAAAAAEBAAAAAQAAAAAAAAEAAAAAAAEAAAEAAAAAAAABAQAAAQAAAAAAAAEAAAAAAAAAAAAAAQAAAAAAAAAAAAEAAQAAAAAAAQAAAAAAAQAAAAAAAQEAAAEBAAAAAAEBAAAAAAEAAQAAAAEAAAAAAAAAAAAAAAAAAAAAAQAAAAAAAQEAAQEBAAAAAAEAAAEAAAABAAEBAQAAAAEAAAEAAAAAAQAAAAAAAQAAAAAAAAABAQAAAQAAAAAAAAAAAQABAAEBAAEAAAABAAAAAAAAAAAAAAAAAQAAAAAAAAABAAAAAAAAAQAAAAAAAAEAAAABAAAAAAAAAAABAAAAAQABAAAAAAAAAQAAAAAAAAABAAAAAQAAAAAAAAAAAAEBAAAAAQEAAAAAAAABAAAAAAAAAAAAAAAAAQAAAQABAAEAAQEAAQAAAAABAQEBAAAAAAABAAAAAAAAAAAAAAAAAAABAAAAAAAAAQABAAAAAAAAAQABAAAAAQEAAAEAAAAAAAEAAAAAAAAAAAABAAAAAAEAAAEBAAABAAAAAAAAAAEAAAAAAAEBAAAAAAABAAAAAAEAAAEAAAEBAAABAAAAAAAAAAEAAAAAAQAAAQAAAAAAAAEAAAEAAAEAAAAAAAAAAAEBAAABAQEBAQABAAEAAAABAAEAAAAAAAAAAAABAAABAAAAAAABAAEAAQAAAQAAAAABAAABAAEAAQAAAAAAAQAAAAAAAQEAAAAAAAAAAAAAAAAAAAEBAQAAAAAAAAABAAAAAAAAAAAAAQAAAQAAAAEAAAEAAAEAAAABAAABAQEBAQABAAAAAAEAAAABAQAAAAAAAAAAAQAAAAABAAAAAAAAAQAAAAAAAAAAAQEAAAAAAQABAAEAAAAAAQABAAAAAQEBAAABAAABAAEAAAABAAAAAAEAAQEBAAAAAAAAAAABAAABAAEAAAAAAAAAAAAAAAEAAAABAAEAAAAAAAAAAAEAAAAAAAABAAAAAQAAAQABAQAAAAEAAQAAAAABAAAAAAAAAAEAAAABAAABAAAAAAEAAAABAAAAAAAAAAAAAAEAAAABAAEAAAAAAAAAAQAAAAEAAAABAAAAAAAAAQEAAAAAAAABAAABAAAAAAAAAAAAAAEBAAAAAAAAAAAAAQEBAAEAAAAAAAABAAAAAAABAAEAAAABAAAAAQAAAAAAAAEBAAABAQABAAAAAAEAAQABAAEBAAABAAEAAQAAAAAAAAAAAAAAAQAAAQEBAAABAQAAAQAAAAAAAAAAAQEAAQAAAAEAAQAAAQABAAAAAAABAAAAAAAAAAAAAAAAAQABAAAAAAAAAAEAAQAAAAEAAQEBAAABAQAAAAAAAAAAAQAAAAAAAAABAQAAAAEAAAAAAAAAAAABAAABAAABAAAAAAAAAAEBAAAAAAABAAAAAAABAAEBAAEAAAAAAAABAQAAAAEAAQAAAAABAAAAAAEAAAABAAEBAAABAAAAAQAAAAEBAAAAAAAAAAEAAQEAAAABAAAAAQEAAAAAAAABAAAAAAAAAQABAAAAAAAAAAAAAQAAAQABAAAAAQAAAAAAAAAAAAAAAAAAAAAAAQABAAAAAAEBAAAAAAAAAAEAAAAAAAEAAQAAAQEAAQABAAEAAQABAAEAAAEAAAAAAAAAAAABAAEAAQAAAAAAAQEAAAABAAAAAQABAAAAAQAAAAAAAQAAAAEBAAAAAQAAAAABAQAAAAEAAQABAAAAAQAAAAAAAQAAAAAAAAAAAAAAAAABAAABAQAAAAAAAQEAAAEAAAAAAAAAAQAAAQAAAAAAAAAAAAEBAQAAAQAAAAEAAAEAAAAAAAAAAAAAAQEAAAAAAAAAAQAAAQABAAAAAAAAAAAAAAABAQABAAAAAAAAAAAAAAAAAAAAAAAAAAAAAAEAAAABAAAAAAAAAAAAAQAAAAAAAAAAAAABAQAAAAABAAEAAQABAAEAAAAAAAEBAQAAAAAAAAABAQEBAAABAAABAAAAAAABAQAAAAEBAAEAAAAAAAAAAAAAAAAAAQAAAAABAAABAAAAAAEAAAEAAQAAAAAAAAEAAAABAAEBAAAAAAAAAAAAAAAAAQEAAQEBAAAAAAABAAAAAQAAAQAAAAEAAQAAAAAAAAAAAQAAAAAAAAEAAAAAAQAAAAABAAABAAAAAQAAAAAAAAAAAAAAAAAAAQAAAAAAAQABAAEAAQAAAQAAAAABAQEAAAAAAAAAAAAAAQEAAAEBAQABAAABAAAAAAAAAAAAAAABAAABAAAAAAEAAAABAQAAAQ=="
          },
          "coloraxis": "coloraxis",
          "symbol": "circle",
          "size": 1
         },
         "mode": "markers",
         "name": "",
         "scene": "scene",
         "showlegend": false,
         "x": {
          "dtype": "f8",
          "bdata": "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"
         },
         "y": {
          "dtype": "f8",
          "bdata": "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"
         },
         "z": {
          "dtype": "f8",
          "bdata": "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"
         },
         "type": "scatter3d"
        }
       ],
       "layout": {
        "template": {
         "data": {
          "histogram2dcontour": [
           {
            "type": "histogram2dcontour",
            "colorbar": {
             "outlinewidth": 0,
             "ticks": ""
            },
            "colorscale": [
             [
              0.0,
              "#0d0887"
             ],
             [
              0.1111111111111111,
              "#46039f"
             ],
             [
              0.2222222222222222,
              "#7201a8"
             ],
             [
              0.3333333333333333,
              "#9c179e"
             ],
             [
              0.4444444444444444,
              "#bd3786"
             ],
             [
              0.5555555555555556,
              "#d8576b"
             ],
             [
              0.6666666666666666,
              "#ed7953"
             ],
             [
              0.7777777777777778,
              "#fb9f3a"
             ],
             [
              0.8888888888888888,
              "#fdca26"
             ],
             [
              1.0,
              "#f0f921"
             ]
            ]
           }
          ],
          "choropleth": [
           {
            "type": "choropleth",
            "colorbar": {
             "outlinewidth": 0,
             "ticks": ""
            }
           }
          ],
          "histogram2d": [
           {
            "type": "histogram2d",
            "colorbar": {
             "outlinewidth": 0,
             "ticks": ""
            },
            "colorscale": [
             [
              0.0,
              "#0d0887"
             ],
             [
              0.1111111111111111,
              "#46039f"
             ],
             [
              0.2222222222222222,
              "#7201a8"
             ],
             [
              0.3333333333333333,
              "#9c179e"
             ],
             [
              0.4444444444444444,
              "#bd3786"
             ],
             [
              0.5555555555555556,
              "#d8576b"
             ],
             [
              0.6666666666666666,
              "#ed7953"
             ],
             [
              0.7777777777777778,
              "#fb9f3a"
             ],
             [
              0.8888888888888888,
              "#fdca26"
             ],
             [
              1.0,
              "#f0f921"
             ]
            ]
           }
          ],
          "heatmap": [
           {
            "type": "heatmap",
            "colorbar": {
             "outlinewidth": 0,
             "ticks": ""
            },
            "colorscale": [
             [
              0.0,
              "#0d0887"
             ],
             [
              0.1111111111111111,
              "#46039f"
             ],
             [
              0.2222222222222222,
              "#7201a8"
             ],
             [
              0.3333333333333333,
              "#9c179e"
             ],
             [
              0.4444444444444444,
              "#bd3786"
             ],
             [
              0.5555555555555556,
              "#d8576b"
             ],
             [
              0.6666666666666666,
              "#ed7953"
             ],
             [
              0.7777777777777778,
              "#fb9f3a"
             ],
             [
              0.8888888888888888,
              "#fdca26"
             ],
             [
              1.0,
              "#f0f921"
             ]
            ]
           }
          ],
          "contourcarpet": [
           {
            "type": "contourcarpet",
            "colorbar": {
             "outlinewidth": 0,
             "ticks": ""
            }
           }
          ],
          "contour": [
           {
            "type": "contour",
            "colorbar": {
             "outlinewidth": 0,
             "ticks": ""
            },
            "colorscale": [
             [
              0.0,
              "#0d0887"
             ],
             [
              0.1111111111111111,
              "#46039f"
             ],
             [
              0.2222222222222222,
              "#7201a8"
             ],
             [
              0.3333333333333333,
              "#9c179e"
             ],
             [
              0.4444444444444444,
              "#bd3786"
             ],
             [
              0.5555555555555556,
              "#d8576b"
             ],
             [
              0.6666666666666666,
              "#ed7953"
             ],
             [
              0.7777777777777778,
              "#fb9f3a"
             ],
             [
              0.8888888888888888,
              "#fdca26"
             ],
             [
              1.0,
              "#f0f921"
             ]
            ]
           }
          ],
          "surface": [
           {
            "type": "surface",
            "colorbar": {
             "outlinewidth": 0,
             "ticks": ""
            },
            "colorscale": [
             [
              0.0,
              "#0d0887"
             ],
             [
              0.1111111111111111,
              "#46039f"
             ],
             [
              0.2222222222222222,
              "#7201a8"
             ],
             [
              0.3333333333333333,
              "#9c179e"
             ],
             [
              0.4444444444444444,
              "#bd3786"
             ],
             [
              0.5555555555555556,
              "#d8576b"
             ],
             [
              0.6666666666666666,
              "#ed7953"
             ],
             [
              0.7777777777777778,
              "#fb9f3a"
             ],
             [
              0.8888888888888888,
              "#fdca26"
             ],
             [
              1.0,
              "#f0f921"
             ]
            ]
           }
          ],
          "mesh3d": [
           {
            "type": "mesh3d",
            "colorbar": {
             "outlinewidth": 0,
             "ticks": ""
            }
           }
          ],
          "scatter": [
           {
            "marker": {
             "line": {
              "color": "#283442"
             }
            },
            "type": "scatter"
           }
          ],
          "parcoords": [
           {
            "type": "parcoords",
            "line": {
             "colorbar": {
              "outlinewidth": 0,
              "ticks": ""
             }
            }
           }
          ],
          "scatterpolargl": [
           {
            "type": "scatterpolargl",
            "marker": {
             "colorbar": {
              "outlinewidth": 0,
              "ticks": ""
             }
            }
           }
          ],
          "bar": [
           {
            "error_x": {
             "color": "#f2f5fa"
            },
            "error_y": {
             "color": "#f2f5fa"
            },
            "marker": {
             "line": {
              "color": "rgb(17,17,17)",
              "width": 0.5
             },
             "pattern": {
              "fillmode": "overlay",
              "size": 10,
              "solidity": 0.2
             }
            },
            "type": "bar"
           }
          ],
          "scattergeo": [
           {
            "type": "scattergeo",
            "marker": {
             "colorbar": {
              "outlinewidth": 0,
              "ticks": ""
             }
            }
           }
          ],
          "scatterpolar": [
           {
            "type": "scatterpolar",
            "marker": {
             "colorbar": {
              "outlinewidth": 0,
              "ticks": ""
             }
            }
           }
          ],
          "histogram": [
           {
            "marker": {
             "pattern": {
              "fillmode": "overlay",
              "size": 10,
              "solidity": 0.2
             }
            },
            "type": "histogram"
           }
          ],
          "scattergl": [
           {
            "marker": {
             "line": {
              "color": "#283442"
             }
            },
            "type": "scattergl"
           }
          ],
          "scatter3d": [
           {
            "type": "scatter3d",
            "line": {
             "colorbar": {
              "outlinewidth": 0,
              "ticks": ""
             }
            },
            "marker": {
             "colorbar": {
              "outlinewidth": 0,
              "ticks": ""
             }
            }
           }
          ],
          "scattermap": [
           {
            "type": "scattermap",
            "marker": {
             "colorbar": {
              "outlinewidth": 0,
              "ticks": ""
             }
            }
           }
          ],
          "scattermapbox": [
           {
            "type": "scattermapbox",
            "marker": {
             "colorbar": {
              "outlinewidth": 0,
              "ticks": ""
             }
            }
           }
          ],
          "scatterternary": [
           {
            "type": "scatterternary",
            "marker": {
             "colorbar": {
              "outlinewidth": 0,
              "ticks": ""
             }
            }
           }
          ],
          "scattercarpet": [
           {
            "type": "scattercarpet",
            "marker": {
             "colorbar": {
              "outlinewidth": 0,
              "ticks": ""
             }
            }
           }
          ],
          "carpet": [
           {
            "aaxis": {
             "endlinecolor": "#A2B1C6",
             "gridcolor": "#506784",
             "linecolor": "#506784",
             "minorgridcolor": "#506784",
             "startlinecolor": "#A2B1C6"
            },
            "baxis": {
             "endlinecolor": "#A2B1C6",
             "gridcolor": "#506784",
             "linecolor": "#506784",
             "minorgridcolor": "#506784",
             "startlinecolor": "#A2B1C6"
            },
            "type": "carpet"
           }
          ],
          "table": [
           {
            "cells": {
             "fill": {
              "color": "#506784"
             },
             "line": {
              "color": "rgb(17,17,17)"
             }
            },
            "header": {
             "fill": {
              "color": "#2a3f5f"
             },
             "line": {
              "color": "rgb(17,17,17)"
             }
            },
            "type": "table"
           }
          ],
          "barpolar": [
           {
            "marker": {
             "line": {
              "color": "rgb(17,17,17)",
              "width": 0.5
             },
             "pattern": {
              "fillmode": "overlay",
              "size": 10,
              "solidity": 0.2
             }
            },
            "type": "barpolar"
           }
          ],
          "pie": [
           {
            "automargin": true,
            "type": "pie"
           }
          ]
         },
         "layout": {
          "autotypenumbers": "strict",
          "colorway": [
           "#636efa",
           "#EF553B",
           "#00cc96",
           "#ab63fa",
           "#FFA15A",
           "#19d3f3",
           "#FF6692",
           "#B6E880",
           "#FF97FF",
           "#FECB52"
          ],
          "font": {
           "color": "#f2f5fa"
          },
          "hovermode": "closest",
          "hoverlabel": {
           "align": "left"
          },
          "paper_bgcolor": "rgb(17,17,17)",
          "plot_bgcolor": "rgb(17,17,17)",
          "polar": {
           "bgcolor": "rgb(17,17,17)",
           "angularaxis": {
            "gridcolor": "#506784",
            "linecolor": "#506784",
            "ticks": ""
           },
           "radialaxis": {
            "gridcolor": "#506784",
            "linecolor": "#506784",
            "ticks": ""
           }
          },
          "ternary": {
           "bgcolor": "rgb(17,17,17)",
           "aaxis": {
            "gridcolor": "#506784",
            "linecolor": "#506784",
            "ticks": ""
           },
           "baxis": {
            "gridcolor": "#506784",
            "linecolor": "#506784",
            "ticks": ""
           },
           "caxis": {
            "gridcolor": "#506784",
            "linecolor": "#506784",
            "ticks": ""
           }
          },
          "coloraxis": {
           "colorbar": {
            "outlinewidth": 0,
            "ticks": ""
           }
          },
          "colorscale": {
           "sequential": [
            [
             0.0,
             "#0d0887"
            ],
            [
             0.1111111111111111,
             "#46039f"
            ],
            [
             0.2222222222222222,
             "#7201a8"
            ],
            [
             0.3333333333333333,
             "#9c179e"
            ],
            [
             0.4444444444444444,
             "#bd3786"
            ],
            [
             0.5555555555555556,
             "#d8576b"
            ],
            [
             0.6666666666666666,
             "#ed7953"
            ],
            [
             0.7777777777777778,
             "#fb9f3a"
            ],
            [
             0.8888888888888888,
             "#fdca26"
            ],
            [
             1.0,
             "#f0f921"
            ]
           ],
           "sequentialminus": [
            [
             0.0,
             "#0d0887"
            ],
            [
             0.1111111111111111,
             "#46039f"
            ],
            [
             0.2222222222222222,
             "#7201a8"
            ],
            [
             0.3333333333333333,
             "#9c179e"
            ],
            [
             0.4444444444444444,
             "#bd3786"
            ],
            [
             0.5555555555555556,
             "#d8576b"
            ],
            [
             0.6666666666666666,
             "#ed7953"
            ],
            [
             0.7777777777777778,
             "#fb9f3a"
            ],
            [
             0.8888888888888888,
             "#fdca26"
            ],
            [
             1.0,
             "#f0f921"
            ]
           ],
           "diverging": [
            [
             0,
             "#8e0152"
            ],
            [
             0.1,
             "#c51b7d"
            ],
            [
             0.2,
             "#de77ae"
            ],
            [
             0.3,
             "#f1b6da"
            ],
            [
             0.4,
             "#fde0ef"
            ],
            [
             0.5,
             "#f7f7f7"
            ],
            [
             0.6,
             "#e6f5d0"
            ],
            [
             0.7,
             "#b8e186"
            ],
            [
             0.8,
             "#7fbc41"
            ],
            [
             0.9,
             "#4d9221"
            ],
            [
             1,
             "#276419"
            ]
           ]
          },
          "xaxis": {
           "gridcolor": "#283442",
           "linecolor": "#506784",
           "ticks": "",
           "title": {
            "standoff": 15
           },
           "zerolinecolor": "#283442",
           "automargin": true,
           "zerolinewidth": 2
          },
          "yaxis": {
           "gridcolor": "#283442",
           "linecolor": "#506784",
           "ticks": "",
           "title": {
            "standoff": 15
           },
           "zerolinecolor": "#283442",
           "automargin": true,
           "zerolinewidth": 2
          },
          "scene": {
           "xaxis": {
            "backgroundcolor": "rgb(17,17,17)",
            "gridcolor": "#506784",
            "linecolor": "#506784",
            "showbackground": true,
            "ticks": "",
            "zerolinecolor": "#C8D4E3",
            "gridwidth": 2
           },
           "yaxis": {
            "backgroundcolor": "rgb(17,17,17)",
            "gridcolor": "#506784",
            "linecolor": "#506784",
            "showbackground": true,
            "ticks": "",
            "zerolinecolor": "#C8D4E3",
            "gridwidth": 2
           },
           "zaxis": {
            "backgroundcolor": "rgb(17,17,17)",
            "gridcolor": "#506784",
            "linecolor": "#506784",
            "showbackground": true,
            "ticks": "",
            "zerolinecolor": "#C8D4E3",
            "gridwidth": 2
           }
          },
          "shapedefaults": {
           "line": {
            "color": "#f2f5fa"
           }
          },
          "annotationdefaults": {
           "arrowcolor": "#f2f5fa",
           "arrowhead": 0,
           "arrowwidth": 1
          },
          "geo": {
           "bgcolor": "rgb(17,17,17)",
           "landcolor": "rgb(17,17,17)",
           "subunitcolor": "#506784",
           "showland": true,
           "showlakes": true,
           "lakecolor": "rgb(17,17,17)"
          },
          "title": {
           "x": 0.05
          },
          "updatemenudefaults": {
           "bgcolor": "#506784",
           "borderwidth": 0
          },
          "sliderdefaults": {
           "bgcolor": "#C8D4E3",
           "borderwidth": 1,
           "bordercolor": "rgb(17,17,17)",
           "tickwidth": 0
          },
          "mapbox": {
           "style": "dark"
          }
         }
        },
        "scene": {
         "domain": {
          "x": [
           0.0,
           1.0
          ],
          "y": [
           0.0,
           1.0
          ]
         },
         "xaxis": {
          "title": {
           "text": "x"
          }
         },
         "yaxis": {
          "title": {
           "text": "y"
          }
         },
         "zaxis": {
          "title": {
           "text": "z"
          }
         }
        },
        "coloraxis": {
         "colorbar": {
          "title": {
           "text": "color"
          }
         },
         "colorscale": [
          [
           0.0,
           "#0d0887"
          ],
          [
           0.1111111111111111,
           "#46039f"
          ],
          [
           0.2222222222222222,
           "#7201a8"
          ],
          [
           0.3333333333333333,
           "#9c179e"
          ],
          [
           0.4444444444444444,
           "#bd3786"
          ],
          [
           0.5555555555555556,
           "#d8576b"
          ],
          [
           0.6666666666666666,
           "#ed7953"
          ],
          [
           0.7777777777777778,
           "#fb9f3a"
          ],
          [
           0.8888888888888888,
           "#fdca26"
          ],
          [
           1.0,
           "#f0f921"
          ]
         ]
        },
        "legend": {
         "tracegroupgap": 0
        },
        "title": {
         "text": "Data with 3d PCA"
        }
       },
       "config": {
        "plotlyServerURL": "https://plot.ly"
       }
      }
     },
     "metadata": {},
     "output_type": "display_data",
     "jetTransient": {
      "display_id": null
     }
    }
   ],
   "execution_count": 8
  }
 ],
 "metadata": {
  "kernelspec": {
   "display_name": "Python 3",
   "language": "python",
   "name": "python3"
  },
  "language_info": {
   "codemirror_mode": {
    "name": "ipython",
    "version": 2
   },
   "file_extension": ".py",
   "mimetype": "text/x-python",
   "name": "python",
   "nbconvert_exporter": "python",
   "pygments_lexer": "ipython2",
   "version": "2.7.6"
  }
 },
 "nbformat": 4,
 "nbformat_minor": 5
}
